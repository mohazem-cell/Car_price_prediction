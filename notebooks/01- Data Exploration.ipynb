{
 "cells": [
  {
   "cell_type": "code",
   "execution_count": 1,
   "id": "cbb147f7",
   "metadata": {},
   "outputs": [
    {
     "data": {
      "text/html": [
       "\n",
       "            <div>\n",
       "                <ins><a href=\"https://ydata.ai/register\">Upgrade to ydata-sdk</a></ins>\n",
       "                <p>\n",
       "                    Improve your data and profiling with ydata-sdk, featuring data quality scoring, redundancy detection, outlier identification, text validation, and synthetic data generation.\n",
       "                </p>\n",
       "            </div>\n",
       "            "
      ],
      "text/plain": [
       "<IPython.core.display.HTML object>"
      ]
     },
     "metadata": {},
     "output_type": "display_data"
    }
   ],
   "source": [
    "import pandas as pd\n",
    "import numpy as np\n",
    "import matplotlib.pyplot as plt\n",
    "%matplotlib inline\n",
    "import seaborn as sns\n",
    "import plotly.express as px\n",
    "import missingno as msno\n",
    "import os\n",
    "import sys\n",
    "import warnings\n",
    "from ydata_profiling import ProfileReport\n",
    "\n",
    "\n",
    "warnings.filterwarnings('ignore')\n"
   ]
  },
  {
   "cell_type": "code",
   "execution_count": 2,
   "id": "a2a5fcfc",
   "metadata": {},
   "outputs": [
    {
     "data": {
      "text/html": [
       "<div>\n",
       "<style scoped>\n",
       "    .dataframe tbody tr th:only-of-type {\n",
       "        vertical-align: middle;\n",
       "    }\n",
       "\n",
       "    .dataframe tbody tr th {\n",
       "        vertical-align: top;\n",
       "    }\n",
       "\n",
       "    .dataframe thead th {\n",
       "        text-align: right;\n",
       "    }\n",
       "</style>\n",
       "<table border=\"1\" class=\"dataframe\">\n",
       "  <thead>\n",
       "    <tr style=\"text-align: right;\">\n",
       "      <th></th>\n",
       "      <th>Unnamed: 0</th>\n",
       "      <th>Name</th>\n",
       "      <th>Location</th>\n",
       "      <th>Year</th>\n",
       "      <th>Kilometers_Driven</th>\n",
       "      <th>Fuel_Type</th>\n",
       "      <th>Transmission</th>\n",
       "      <th>Owner_Type</th>\n",
       "      <th>Mileage</th>\n",
       "      <th>Engine</th>\n",
       "      <th>Power</th>\n",
       "      <th>Seats</th>\n",
       "      <th>New_Price</th>\n",
       "      <th>Price</th>\n",
       "    </tr>\n",
       "  </thead>\n",
       "  <tbody>\n",
       "    <tr>\n",
       "      <th>0</th>\n",
       "      <td>0</td>\n",
       "      <td>Maruti Wagon R LXI CNG</td>\n",
       "      <td>Mumbai</td>\n",
       "      <td>2010</td>\n",
       "      <td>72000</td>\n",
       "      <td>CNG</td>\n",
       "      <td>Manual</td>\n",
       "      <td>First</td>\n",
       "      <td>26.6 km/kg</td>\n",
       "      <td>998 CC</td>\n",
       "      <td>58.16 bhp</td>\n",
       "      <td>5.0</td>\n",
       "      <td>NaN</td>\n",
       "      <td>1.75</td>\n",
       "    </tr>\n",
       "    <tr>\n",
       "      <th>1</th>\n",
       "      <td>1</td>\n",
       "      <td>Hyundai Creta 1.6 CRDi SX Option</td>\n",
       "      <td>Pune</td>\n",
       "      <td>2015</td>\n",
       "      <td>41000</td>\n",
       "      <td>Diesel</td>\n",
       "      <td>Manual</td>\n",
       "      <td>First</td>\n",
       "      <td>19.67 kmpl</td>\n",
       "      <td>1582 CC</td>\n",
       "      <td>126.2 bhp</td>\n",
       "      <td>5.0</td>\n",
       "      <td>NaN</td>\n",
       "      <td>12.50</td>\n",
       "    </tr>\n",
       "    <tr>\n",
       "      <th>2</th>\n",
       "      <td>2</td>\n",
       "      <td>Honda Jazz V</td>\n",
       "      <td>Chennai</td>\n",
       "      <td>2011</td>\n",
       "      <td>46000</td>\n",
       "      <td>Petrol</td>\n",
       "      <td>Manual</td>\n",
       "      <td>First</td>\n",
       "      <td>18.2 kmpl</td>\n",
       "      <td>1199 CC</td>\n",
       "      <td>88.7 bhp</td>\n",
       "      <td>5.0</td>\n",
       "      <td>8.61 Lakh</td>\n",
       "      <td>4.50</td>\n",
       "    </tr>\n",
       "    <tr>\n",
       "      <th>3</th>\n",
       "      <td>3</td>\n",
       "      <td>Maruti Ertiga VDI</td>\n",
       "      <td>Chennai</td>\n",
       "      <td>2012</td>\n",
       "      <td>87000</td>\n",
       "      <td>Diesel</td>\n",
       "      <td>Manual</td>\n",
       "      <td>First</td>\n",
       "      <td>20.77 kmpl</td>\n",
       "      <td>1248 CC</td>\n",
       "      <td>88.76 bhp</td>\n",
       "      <td>7.0</td>\n",
       "      <td>NaN</td>\n",
       "      <td>6.00</td>\n",
       "    </tr>\n",
       "    <tr>\n",
       "      <th>4</th>\n",
       "      <td>4</td>\n",
       "      <td>Audi A4 New 2.0 TDI Multitronic</td>\n",
       "      <td>Coimbatore</td>\n",
       "      <td>2013</td>\n",
       "      <td>40670</td>\n",
       "      <td>Diesel</td>\n",
       "      <td>Automatic</td>\n",
       "      <td>Second</td>\n",
       "      <td>15.2 kmpl</td>\n",
       "      <td>1968 CC</td>\n",
       "      <td>140.8 bhp</td>\n",
       "      <td>5.0</td>\n",
       "      <td>NaN</td>\n",
       "      <td>17.74</td>\n",
       "    </tr>\n",
       "    <tr>\n",
       "      <th>5</th>\n",
       "      <td>5</td>\n",
       "      <td>Hyundai EON LPG Era Plus Option</td>\n",
       "      <td>Hyderabad</td>\n",
       "      <td>2012</td>\n",
       "      <td>75000</td>\n",
       "      <td>LPG</td>\n",
       "      <td>Manual</td>\n",
       "      <td>First</td>\n",
       "      <td>21.1 km/kg</td>\n",
       "      <td>814 CC</td>\n",
       "      <td>55.2 bhp</td>\n",
       "      <td>5.0</td>\n",
       "      <td>NaN</td>\n",
       "      <td>2.35</td>\n",
       "    </tr>\n",
       "    <tr>\n",
       "      <th>6</th>\n",
       "      <td>6</td>\n",
       "      <td>Nissan Micra Diesel XV</td>\n",
       "      <td>Jaipur</td>\n",
       "      <td>2013</td>\n",
       "      <td>86999</td>\n",
       "      <td>Diesel</td>\n",
       "      <td>Manual</td>\n",
       "      <td>First</td>\n",
       "      <td>23.08 kmpl</td>\n",
       "      <td>1461 CC</td>\n",
       "      <td>63.1 bhp</td>\n",
       "      <td>5.0</td>\n",
       "      <td>NaN</td>\n",
       "      <td>3.50</td>\n",
       "    </tr>\n",
       "    <tr>\n",
       "      <th>7</th>\n",
       "      <td>7</td>\n",
       "      <td>Toyota Innova Crysta 2.8 GX AT 8S</td>\n",
       "      <td>Mumbai</td>\n",
       "      <td>2016</td>\n",
       "      <td>36000</td>\n",
       "      <td>Diesel</td>\n",
       "      <td>Automatic</td>\n",
       "      <td>First</td>\n",
       "      <td>11.36 kmpl</td>\n",
       "      <td>2755 CC</td>\n",
       "      <td>171.5 bhp</td>\n",
       "      <td>8.0</td>\n",
       "      <td>21 Lakh</td>\n",
       "      <td>17.50</td>\n",
       "    </tr>\n",
       "    <tr>\n",
       "      <th>8</th>\n",
       "      <td>8</td>\n",
       "      <td>Volkswagen Vento Diesel Comfortline</td>\n",
       "      <td>Pune</td>\n",
       "      <td>2013</td>\n",
       "      <td>64430</td>\n",
       "      <td>Diesel</td>\n",
       "      <td>Manual</td>\n",
       "      <td>First</td>\n",
       "      <td>20.54 kmpl</td>\n",
       "      <td>1598 CC</td>\n",
       "      <td>103.6 bhp</td>\n",
       "      <td>5.0</td>\n",
       "      <td>NaN</td>\n",
       "      <td>5.20</td>\n",
       "    </tr>\n",
       "    <tr>\n",
       "      <th>9</th>\n",
       "      <td>9</td>\n",
       "      <td>Tata Indica Vista Quadrajet LS</td>\n",
       "      <td>Chennai</td>\n",
       "      <td>2012</td>\n",
       "      <td>65932</td>\n",
       "      <td>Diesel</td>\n",
       "      <td>Manual</td>\n",
       "      <td>Second</td>\n",
       "      <td>22.3 kmpl</td>\n",
       "      <td>1248 CC</td>\n",
       "      <td>74 bhp</td>\n",
       "      <td>5.0</td>\n",
       "      <td>NaN</td>\n",
       "      <td>1.95</td>\n",
       "    </tr>\n",
       "    <tr>\n",
       "      <th>10</th>\n",
       "      <td>10</td>\n",
       "      <td>Maruti Ciaz Zeta</td>\n",
       "      <td>Kochi</td>\n",
       "      <td>2018</td>\n",
       "      <td>25692</td>\n",
       "      <td>Petrol</td>\n",
       "      <td>Manual</td>\n",
       "      <td>First</td>\n",
       "      <td>21.56 kmpl</td>\n",
       "      <td>1462 CC</td>\n",
       "      <td>103.25 bhp</td>\n",
       "      <td>5.0</td>\n",
       "      <td>10.65 Lakh</td>\n",
       "      <td>9.95</td>\n",
       "    </tr>\n",
       "    <tr>\n",
       "      <th>11</th>\n",
       "      <td>11</td>\n",
       "      <td>Honda City 1.5 V AT Sunroof</td>\n",
       "      <td>Kolkata</td>\n",
       "      <td>2012</td>\n",
       "      <td>60000</td>\n",
       "      <td>Petrol</td>\n",
       "      <td>Automatic</td>\n",
       "      <td>First</td>\n",
       "      <td>16.8 kmpl</td>\n",
       "      <td>1497 CC</td>\n",
       "      <td>116.3 bhp</td>\n",
       "      <td>5.0</td>\n",
       "      <td>NaN</td>\n",
       "      <td>4.49</td>\n",
       "    </tr>\n",
       "    <tr>\n",
       "      <th>12</th>\n",
       "      <td>12</td>\n",
       "      <td>Maruti Swift VDI BSIV</td>\n",
       "      <td>Jaipur</td>\n",
       "      <td>2015</td>\n",
       "      <td>64424</td>\n",
       "      <td>Diesel</td>\n",
       "      <td>Manual</td>\n",
       "      <td>First</td>\n",
       "      <td>25.2 kmpl</td>\n",
       "      <td>1248 CC</td>\n",
       "      <td>74 bhp</td>\n",
       "      <td>5.0</td>\n",
       "      <td>NaN</td>\n",
       "      <td>5.60</td>\n",
       "    </tr>\n",
       "    <tr>\n",
       "      <th>13</th>\n",
       "      <td>13</td>\n",
       "      <td>Land Rover Range Rover 2.2L Pure</td>\n",
       "      <td>Delhi</td>\n",
       "      <td>2014</td>\n",
       "      <td>72000</td>\n",
       "      <td>Diesel</td>\n",
       "      <td>Automatic</td>\n",
       "      <td>First</td>\n",
       "      <td>12.7 kmpl</td>\n",
       "      <td>2179 CC</td>\n",
       "      <td>187.7 bhp</td>\n",
       "      <td>5.0</td>\n",
       "      <td>NaN</td>\n",
       "      <td>27.00</td>\n",
       "    </tr>\n",
       "    <tr>\n",
       "      <th>14</th>\n",
       "      <td>14</td>\n",
       "      <td>Land Rover Freelander 2 TD4 SE</td>\n",
       "      <td>Pune</td>\n",
       "      <td>2012</td>\n",
       "      <td>85000</td>\n",
       "      <td>Diesel</td>\n",
       "      <td>Automatic</td>\n",
       "      <td>Second</td>\n",
       "      <td>0.0 kmpl</td>\n",
       "      <td>2179 CC</td>\n",
       "      <td>115 bhp</td>\n",
       "      <td>5.0</td>\n",
       "      <td>NaN</td>\n",
       "      <td>17.50</td>\n",
       "    </tr>\n",
       "  </tbody>\n",
       "</table>\n",
       "</div>"
      ],
      "text/plain": [
       "    Unnamed: 0                                 Name    Location  Year  \\\n",
       "0            0               Maruti Wagon R LXI CNG      Mumbai  2010   \n",
       "1            1     Hyundai Creta 1.6 CRDi SX Option        Pune  2015   \n",
       "2            2                         Honda Jazz V     Chennai  2011   \n",
       "3            3                    Maruti Ertiga VDI     Chennai  2012   \n",
       "4            4      Audi A4 New 2.0 TDI Multitronic  Coimbatore  2013   \n",
       "5            5      Hyundai EON LPG Era Plus Option   Hyderabad  2012   \n",
       "6            6               Nissan Micra Diesel XV      Jaipur  2013   \n",
       "7            7    Toyota Innova Crysta 2.8 GX AT 8S      Mumbai  2016   \n",
       "8            8  Volkswagen Vento Diesel Comfortline        Pune  2013   \n",
       "9            9       Tata Indica Vista Quadrajet LS     Chennai  2012   \n",
       "10          10                     Maruti Ciaz Zeta       Kochi  2018   \n",
       "11          11          Honda City 1.5 V AT Sunroof     Kolkata  2012   \n",
       "12          12                Maruti Swift VDI BSIV      Jaipur  2015   \n",
       "13          13     Land Rover Range Rover 2.2L Pure       Delhi  2014   \n",
       "14          14       Land Rover Freelander 2 TD4 SE        Pune  2012   \n",
       "\n",
       "    Kilometers_Driven Fuel_Type Transmission Owner_Type     Mileage   Engine  \\\n",
       "0               72000       CNG       Manual      First  26.6 km/kg   998 CC   \n",
       "1               41000    Diesel       Manual      First  19.67 kmpl  1582 CC   \n",
       "2               46000    Petrol       Manual      First   18.2 kmpl  1199 CC   \n",
       "3               87000    Diesel       Manual      First  20.77 kmpl  1248 CC   \n",
       "4               40670    Diesel    Automatic     Second   15.2 kmpl  1968 CC   \n",
       "5               75000       LPG       Manual      First  21.1 km/kg   814 CC   \n",
       "6               86999    Diesel       Manual      First  23.08 kmpl  1461 CC   \n",
       "7               36000    Diesel    Automatic      First  11.36 kmpl  2755 CC   \n",
       "8               64430    Diesel       Manual      First  20.54 kmpl  1598 CC   \n",
       "9               65932    Diesel       Manual     Second   22.3 kmpl  1248 CC   \n",
       "10              25692    Petrol       Manual      First  21.56 kmpl  1462 CC   \n",
       "11              60000    Petrol    Automatic      First   16.8 kmpl  1497 CC   \n",
       "12              64424    Diesel       Manual      First   25.2 kmpl  1248 CC   \n",
       "13              72000    Diesel    Automatic      First   12.7 kmpl  2179 CC   \n",
       "14              85000    Diesel    Automatic     Second    0.0 kmpl  2179 CC   \n",
       "\n",
       "         Power  Seats   New_Price  Price  \n",
       "0    58.16 bhp    5.0         NaN   1.75  \n",
       "1    126.2 bhp    5.0         NaN  12.50  \n",
       "2     88.7 bhp    5.0   8.61 Lakh   4.50  \n",
       "3    88.76 bhp    7.0         NaN   6.00  \n",
       "4    140.8 bhp    5.0         NaN  17.74  \n",
       "5     55.2 bhp    5.0         NaN   2.35  \n",
       "6     63.1 bhp    5.0         NaN   3.50  \n",
       "7    171.5 bhp    8.0     21 Lakh  17.50  \n",
       "8    103.6 bhp    5.0         NaN   5.20  \n",
       "9       74 bhp    5.0         NaN   1.95  \n",
       "10  103.25 bhp    5.0  10.65 Lakh   9.95  \n",
       "11   116.3 bhp    5.0         NaN   4.49  \n",
       "12      74 bhp    5.0         NaN   5.60  \n",
       "13   187.7 bhp    5.0         NaN  27.00  \n",
       "14     115 bhp    5.0         NaN  17.50  "
      ]
     },
     "execution_count": 2,
     "metadata": {},
     "output_type": "execute_result"
    }
   ],
   "source": [
    "df=pd.read_csv(\"../data/train-data.csv\")\n",
    "df.head(15)"
   ]
  },
  {
   "cell_type": "code",
   "execution_count": 3,
   "id": "b10d647c",
   "metadata": {},
   "outputs": [
    {
     "name": "stdout",
     "output_type": "stream",
     "text": [
      "<class 'pandas.core.frame.DataFrame'>\n",
      "RangeIndex: 6019 entries, 0 to 6018\n",
      "Data columns (total 14 columns):\n",
      " #   Column             Non-Null Count  Dtype  \n",
      "---  ------             --------------  -----  \n",
      " 0   Unnamed: 0         6019 non-null   int64  \n",
      " 1   Name               6019 non-null   object \n",
      " 2   Location           6019 non-null   object \n",
      " 3   Year               6019 non-null   int64  \n",
      " 4   Kilometers_Driven  6019 non-null   int64  \n",
      " 5   Fuel_Type          6019 non-null   object \n",
      " 6   Transmission       6019 non-null   object \n",
      " 7   Owner_Type         6019 non-null   object \n",
      " 8   Mileage            6017 non-null   object \n",
      " 9   Engine             5983 non-null   object \n",
      " 10  Power              5983 non-null   object \n",
      " 11  Seats              5977 non-null   float64\n",
      " 12  New_Price          824 non-null    object \n",
      " 13  Price              6019 non-null   float64\n",
      "dtypes: float64(2), int64(3), object(9)\n",
      "memory usage: 658.5+ KB\n"
     ]
    }
   ],
   "source": [
    "df.info()"
   ]
  },
  {
   "cell_type": "code",
   "execution_count": 4,
   "id": "6d9c2154",
   "metadata": {},
   "outputs": [
    {
     "data": {
      "text/html": [
       "<div>\n",
       "<style scoped>\n",
       "    .dataframe tbody tr th:only-of-type {\n",
       "        vertical-align: middle;\n",
       "    }\n",
       "\n",
       "    .dataframe tbody tr th {\n",
       "        vertical-align: top;\n",
       "    }\n",
       "\n",
       "    .dataframe thead th {\n",
       "        text-align: right;\n",
       "    }\n",
       "</style>\n",
       "<table border=\"1\" class=\"dataframe\">\n",
       "  <thead>\n",
       "    <tr style=\"text-align: right;\">\n",
       "      <th></th>\n",
       "      <th>Unnamed: 0</th>\n",
       "      <th>Year</th>\n",
       "      <th>Kilometers_Driven</th>\n",
       "      <th>Seats</th>\n",
       "      <th>Price</th>\n",
       "    </tr>\n",
       "  </thead>\n",
       "  <tbody>\n",
       "    <tr>\n",
       "      <th>count</th>\n",
       "      <td>6,019.0</td>\n",
       "      <td>6,019.0</td>\n",
       "      <td>6,019.0</td>\n",
       "      <td>5,977.0</td>\n",
       "      <td>6,019.0</td>\n",
       "    </tr>\n",
       "    <tr>\n",
       "      <th>mean</th>\n",
       "      <td>3,009.0</td>\n",
       "      <td>2,013.4</td>\n",
       "      <td>58,738.4</td>\n",
       "      <td>5.3</td>\n",
       "      <td>9.5</td>\n",
       "    </tr>\n",
       "    <tr>\n",
       "      <th>std</th>\n",
       "      <td>1,737.7</td>\n",
       "      <td>3.3</td>\n",
       "      <td>91,268.8</td>\n",
       "      <td>0.8</td>\n",
       "      <td>11.2</td>\n",
       "    </tr>\n",
       "    <tr>\n",
       "      <th>min</th>\n",
       "      <td>0.0</td>\n",
       "      <td>1,998.0</td>\n",
       "      <td>171.0</td>\n",
       "      <td>0.0</td>\n",
       "      <td>0.4</td>\n",
       "    </tr>\n",
       "    <tr>\n",
       "      <th>25%</th>\n",
       "      <td>1,504.5</td>\n",
       "      <td>2,011.0</td>\n",
       "      <td>34,000.0</td>\n",
       "      <td>5.0</td>\n",
       "      <td>3.5</td>\n",
       "    </tr>\n",
       "    <tr>\n",
       "      <th>50%</th>\n",
       "      <td>3,009.0</td>\n",
       "      <td>2,014.0</td>\n",
       "      <td>53,000.0</td>\n",
       "      <td>5.0</td>\n",
       "      <td>5.6</td>\n",
       "    </tr>\n",
       "    <tr>\n",
       "      <th>75%</th>\n",
       "      <td>4,513.5</td>\n",
       "      <td>2,016.0</td>\n",
       "      <td>73,000.0</td>\n",
       "      <td>5.0</td>\n",
       "      <td>9.9</td>\n",
       "    </tr>\n",
       "    <tr>\n",
       "      <th>max</th>\n",
       "      <td>6,018.0</td>\n",
       "      <td>2,019.0</td>\n",
       "      <td>6,500,000.0</td>\n",
       "      <td>10.0</td>\n",
       "      <td>160.0</td>\n",
       "    </tr>\n",
       "  </tbody>\n",
       "</table>\n",
       "</div>"
      ],
      "text/plain": [
       "       Unnamed: 0    Year  Kilometers_Driven   Seats   Price\n",
       "count     6,019.0 6,019.0            6,019.0 5,977.0 6,019.0\n",
       "mean      3,009.0 2,013.4           58,738.4     5.3     9.5\n",
       "std       1,737.7     3.3           91,268.8     0.8    11.2\n",
       "min           0.0 1,998.0              171.0     0.0     0.4\n",
       "25%       1,504.5 2,011.0           34,000.0     5.0     3.5\n",
       "50%       3,009.0 2,014.0           53,000.0     5.0     5.6\n",
       "75%       4,513.5 2,016.0           73,000.0     5.0     9.9\n",
       "max       6,018.0 2,019.0        6,500,000.0    10.0   160.0"
      ]
     },
     "execution_count": 4,
     "metadata": {},
     "output_type": "execute_result"
    }
   ],
   "source": [
    "pd.options.display.float_format = '{:,.1f}'.format\n",
    "df.describe()"
   ]
  },
  {
   "cell_type": "code",
   "execution_count": 5,
   "id": "800b3e58",
   "metadata": {},
   "outputs": [
    {
     "data": {
      "text/html": [
       "<div>\n",
       "<style scoped>\n",
       "    .dataframe tbody tr th:only-of-type {\n",
       "        vertical-align: middle;\n",
       "    }\n",
       "\n",
       "    .dataframe tbody tr th {\n",
       "        vertical-align: top;\n",
       "    }\n",
       "\n",
       "    .dataframe thead th {\n",
       "        text-align: right;\n",
       "    }\n",
       "</style>\n",
       "<table border=\"1\" class=\"dataframe\">\n",
       "  <thead>\n",
       "    <tr style=\"text-align: right;\">\n",
       "      <th></th>\n",
       "      <th>Name</th>\n",
       "      <th>Location</th>\n",
       "      <th>Fuel_Type</th>\n",
       "      <th>Transmission</th>\n",
       "      <th>Owner_Type</th>\n",
       "      <th>Mileage</th>\n",
       "      <th>Engine</th>\n",
       "      <th>Power</th>\n",
       "      <th>New_Price</th>\n",
       "    </tr>\n",
       "  </thead>\n",
       "  <tbody>\n",
       "    <tr>\n",
       "      <th>count</th>\n",
       "      <td>6019</td>\n",
       "      <td>6019</td>\n",
       "      <td>6019</td>\n",
       "      <td>6019</td>\n",
       "      <td>6019</td>\n",
       "      <td>6017</td>\n",
       "      <td>5983</td>\n",
       "      <td>5983</td>\n",
       "      <td>824</td>\n",
       "    </tr>\n",
       "    <tr>\n",
       "      <th>unique</th>\n",
       "      <td>1876</td>\n",
       "      <td>11</td>\n",
       "      <td>5</td>\n",
       "      <td>2</td>\n",
       "      <td>4</td>\n",
       "      <td>442</td>\n",
       "      <td>146</td>\n",
       "      <td>372</td>\n",
       "      <td>540</td>\n",
       "    </tr>\n",
       "    <tr>\n",
       "      <th>top</th>\n",
       "      <td>Mahindra XUV500 W8 2WD</td>\n",
       "      <td>Mumbai</td>\n",
       "      <td>Diesel</td>\n",
       "      <td>Manual</td>\n",
       "      <td>First</td>\n",
       "      <td>18.9 kmpl</td>\n",
       "      <td>1197 CC</td>\n",
       "      <td>74 bhp</td>\n",
       "      <td>95.13 Lakh</td>\n",
       "    </tr>\n",
       "    <tr>\n",
       "      <th>freq</th>\n",
       "      <td>49</td>\n",
       "      <td>790</td>\n",
       "      <td>3205</td>\n",
       "      <td>4299</td>\n",
       "      <td>4929</td>\n",
       "      <td>172</td>\n",
       "      <td>606</td>\n",
       "      <td>235</td>\n",
       "      <td>6</td>\n",
       "    </tr>\n",
       "  </tbody>\n",
       "</table>\n",
       "</div>"
      ],
      "text/plain": [
       "                          Name Location Fuel_Type Transmission Owner_Type  \\\n",
       "count                     6019     6019      6019         6019       6019   \n",
       "unique                    1876       11         5            2          4   \n",
       "top     Mahindra XUV500 W8 2WD   Mumbai    Diesel       Manual      First   \n",
       "freq                        49      790      3205         4299       4929   \n",
       "\n",
       "          Mileage   Engine   Power   New_Price  \n",
       "count        6017     5983    5983         824  \n",
       "unique        442      146     372         540  \n",
       "top     18.9 kmpl  1197 CC  74 bhp  95.13 Lakh  \n",
       "freq          172      606     235           6  "
      ]
     },
     "execution_count": 5,
     "metadata": {},
     "output_type": "execute_result"
    }
   ],
   "source": [
    "df.describe(include='O') # Describs of the String info"
   ]
  },
  {
   "cell_type": "code",
   "execution_count": 6,
   "id": "d4713794",
   "metadata": {},
   "outputs": [
    {
     "data": {
      "application/vnd.jupyter.widget-view+json": {
       "model_id": "6cfe029f0fb448ba84b385e608d06f27",
       "version_major": 2,
       "version_minor": 0
      },
      "text/plain": [
       "Summarize dataset:   0%|          | 0/5 [00:00<?, ?it/s]"
      ]
     },
     "metadata": {},
     "output_type": "display_data"
    },
    {
     "name": "stderr",
     "output_type": "stream",
     "text": [
      "100%|██████████| 14/14 [00:00<00:00, 29.33it/s]\n"
     ]
    },
    {
     "data": {
      "application/vnd.jupyter.widget-view+json": {
       "model_id": "486d22439e08471198fbbd58b8312139",
       "version_major": 2,
       "version_minor": 0
      },
      "text/plain": [
       "Generate report structure:   0%|          | 0/1 [00:00<?, ?it/s]"
      ]
     },
     "metadata": {},
     "output_type": "display_data"
    },
    {
     "data": {
      "application/vnd.jupyter.widget-view+json": {
       "model_id": "4ae8d3e4f4c04174827f26ee7781f859",
       "version_major": 2,
       "version_minor": 0
      },
      "text/plain": [
       "Render HTML:   0%|          | 0/1 [00:00<?, ?it/s]"
      ]
     },
     "metadata": {},
     "output_type": "display_data"
    },
    {
     "data": {
      "application/vnd.jupyter.widget-view+json": {
       "model_id": "90a7f65e7802452090a10f6c45a763a6",
       "version_major": 2,
       "version_minor": 0
      },
      "text/plain": [
       "Export report to file:   0%|          | 0/1 [00:00<?, ?it/s]"
      ]
     },
     "metadata": {},
     "output_type": "display_data"
    }
   ],
   "source": [
    "\n",
    "# Create reports directory if it doesn't exist\n",
    "os.makedirs(\"../reports\", exist_ok=True)\n",
    "\n",
    "profile = ProfileReport(df, title=\"Pandas Profiling Report\")\n",
    "profile.to_file(\"../reports/first-exploration.html\")"
   ]
  },
  {
   "cell_type": "code",
   "execution_count": 7,
   "id": "9b8dc8a0",
   "metadata": {},
   "outputs": [
    {
     "data": {
      "text/plain": [
       "np.int64(0)"
      ]
     },
     "execution_count": 7,
     "metadata": {},
     "output_type": "execute_result"
    }
   ],
   "source": [
    "df.duplicated().sum()"
   ]
  },
  {
   "cell_type": "code",
   "execution_count": 8,
   "id": "5153d34d",
   "metadata": {},
   "outputs": [
    {
     "data": {
      "text/plain": [
       "Unnamed: 0           0.000\n",
       "Name                 0.000\n",
       "Location             0.000\n",
       "Year                 0.000\n",
       "Kilometers_Driven    0.000\n",
       "Fuel_Type            0.000\n",
       "Transmission         0.000\n",
       "Owner_Type           0.000\n",
       "Mileage              0.033\n",
       "Engine               0.598\n",
       "Power                0.598\n",
       "Seats                0.698\n",
       "New_Price           86.310\n",
       "Price                0.000\n",
       "dtype: float64"
      ]
     },
     "execution_count": 8,
     "metadata": {},
     "output_type": "execute_result"
    }
   ],
   "source": [
    "pd.options.display.float_format = '{:,.3f}'.format\n",
    "df.isnull().mean() *100 # It finds the number of null values in each column then it divides by the total number of rows and multiplies by 100 to get the percentage"
   ]
  },
  {
   "cell_type": "code",
   "execution_count": 9,
   "id": "b62c7745",
   "metadata": {},
   "outputs": [
    {
     "data": {
      "image/png": "[encoded data removed]",
      "text/plain": [
       "<Figure size 2500x1000 with 2 Axes>"
      ]
     },
     "metadata": {},
     "output_type": "display_data"
    }
   ],
   "source": [
    "msno.matrix(df)\n",
    "plt.show()"
   ]
  },
  {
   "cell_type": "code",
   "execution_count": 10,
   "id": "23272c8a",
   "metadata": {},
   "outputs": [
    {
     "data": {
      "text/plain": [
       "<Axes: >"
      ]
     },
     "execution_count": 10,
     "metadata": {},
     "output_type": "execute_result"
    },
    {
     "data": {
      "image/png": "[encoded data removed]",
      "text/plain": [
       "<Figure size 2000x1200 with 2 Axes>"
      ]
     },
     "metadata": {},
     "output_type": "display_data"
    }
   ],
   "source": [
    "msno.heatmap(df)"
   ]
  },
  {
   "cell_type": "code",
   "execution_count": 11,
   "id": "39e96199",
   "metadata": {},
   "outputs": [
    {
     "data": {
      "text/html": [
       "<div>\n",
       "<style scoped>\n",
       "    .dataframe tbody tr th:only-of-type {\n",
       "        vertical-align: middle;\n",
       "    }\n",
       "\n",
       "    .dataframe tbody tr th {\n",
       "        vertical-align: top;\n",
       "    }\n",
       "\n",
       "    .dataframe thead th {\n",
       "        text-align: right;\n",
       "    }\n",
       "</style>\n",
       "<table border=\"1\" class=\"dataframe\">\n",
       "  <thead>\n",
       "    <tr style=\"text-align: right;\">\n",
       "      <th></th>\n",
       "      <th>Unnamed: 0</th>\n",
       "      <th>Name</th>\n",
       "      <th>Location</th>\n",
       "      <th>Year</th>\n",
       "      <th>Kilometers_Driven</th>\n",
       "      <th>Fuel_Type</th>\n",
       "      <th>Transmission</th>\n",
       "      <th>Owner_Type</th>\n",
       "      <th>Mileage</th>\n",
       "      <th>Engine</th>\n",
       "      <th>Power</th>\n",
       "      <th>Seats</th>\n",
       "      <th>New_Price</th>\n",
       "      <th>Price</th>\n",
       "    </tr>\n",
       "  </thead>\n",
       "  <tbody>\n",
       "    <tr>\n",
       "      <th>0</th>\n",
       "      <td>0</td>\n",
       "      <td>Maruti Wagon R LXI CNG</td>\n",
       "      <td>Mumbai</td>\n",
       "      <td>2010</td>\n",
       "      <td>72000</td>\n",
       "      <td>CNG</td>\n",
       "      <td>Manual</td>\n",
       "      <td>First</td>\n",
       "      <td>26.6 km/kg</td>\n",
       "      <td>998 CC</td>\n",
       "      <td>58.16 bhp</td>\n",
       "      <td>5.000</td>\n",
       "      <td>NaN</td>\n",
       "      <td>1.750</td>\n",
       "    </tr>\n",
       "    <tr>\n",
       "      <th>1</th>\n",
       "      <td>1</td>\n",
       "      <td>Hyundai Creta 1.6 CRDi SX Option</td>\n",
       "      <td>Pune</td>\n",
       "      <td>2015</td>\n",
       "      <td>41000</td>\n",
       "      <td>Diesel</td>\n",
       "      <td>Manual</td>\n",
       "      <td>First</td>\n",
       "      <td>19.67 kmpl</td>\n",
       "      <td>1582 CC</td>\n",
       "      <td>126.2 bhp</td>\n",
       "      <td>5.000</td>\n",
       "      <td>NaN</td>\n",
       "      <td>12.500</td>\n",
       "    </tr>\n",
       "    <tr>\n",
       "      <th>2</th>\n",
       "      <td>2</td>\n",
       "      <td>Honda Jazz V</td>\n",
       "      <td>Chennai</td>\n",
       "      <td>2011</td>\n",
       "      <td>46000</td>\n",
       "      <td>Petrol</td>\n",
       "      <td>Manual</td>\n",
       "      <td>First</td>\n",
       "      <td>18.2 kmpl</td>\n",
       "      <td>1199 CC</td>\n",
       "      <td>88.7 bhp</td>\n",
       "      <td>5.000</td>\n",
       "      <td>8.61 Lakh</td>\n",
       "      <td>4.500</td>\n",
       "    </tr>\n",
       "    <tr>\n",
       "      <th>3</th>\n",
       "      <td>3</td>\n",
       "      <td>Maruti Ertiga VDI</td>\n",
       "      <td>Chennai</td>\n",
       "      <td>2012</td>\n",
       "      <td>87000</td>\n",
       "      <td>Diesel</td>\n",
       "      <td>Manual</td>\n",
       "      <td>First</td>\n",
       "      <td>20.77 kmpl</td>\n",
       "      <td>1248 CC</td>\n",
       "      <td>88.76 bhp</td>\n",
       "      <td>7.000</td>\n",
       "      <td>NaN</td>\n",
       "      <td>6.000</td>\n",
       "    </tr>\n",
       "    <tr>\n",
       "      <th>4</th>\n",
       "      <td>4</td>\n",
       "      <td>Audi A4 New 2.0 TDI Multitronic</td>\n",
       "      <td>Coimbatore</td>\n",
       "      <td>2013</td>\n",
       "      <td>40670</td>\n",
       "      <td>Diesel</td>\n",
       "      <td>Automatic</td>\n",
       "      <td>Second</td>\n",
       "      <td>15.2 kmpl</td>\n",
       "      <td>1968 CC</td>\n",
       "      <td>140.8 bhp</td>\n",
       "      <td>5.000</td>\n",
       "      <td>NaN</td>\n",
       "      <td>17.740</td>\n",
       "    </tr>\n",
       "  </tbody>\n",
       "</table>\n",
       "</div>"
      ],
      "text/plain": [
       "   Unnamed: 0                              Name    Location  Year  \\\n",
       "0           0            Maruti Wagon R LXI CNG      Mumbai  2010   \n",
       "1           1  Hyundai Creta 1.6 CRDi SX Option        Pune  2015   \n",
       "2           2                      Honda Jazz V     Chennai  2011   \n",
       "3           3                 Maruti Ertiga VDI     Chennai  2012   \n",
       "4           4   Audi A4 New 2.0 TDI Multitronic  Coimbatore  2013   \n",
       "\n",
       "   Kilometers_Driven Fuel_Type Transmission Owner_Type     Mileage   Engine  \\\n",
       "0              72000       CNG       Manual      First  26.6 km/kg   998 CC   \n",
       "1              41000    Diesel       Manual      First  19.67 kmpl  1582 CC   \n",
       "2              46000    Petrol       Manual      First   18.2 kmpl  1199 CC   \n",
       "3              87000    Diesel       Manual      First  20.77 kmpl  1248 CC   \n",
       "4              40670    Diesel    Automatic     Second   15.2 kmpl  1968 CC   \n",
       "\n",
       "       Power  Seats  New_Price  Price  \n",
       "0  58.16 bhp  5.000        NaN  1.750  \n",
       "1  126.2 bhp  5.000        NaN 12.500  \n",
       "2   88.7 bhp  5.000  8.61 Lakh  4.500  \n",
       "3  88.76 bhp  7.000        NaN  6.000  \n",
       "4  140.8 bhp  5.000        NaN 17.740  "
      ]
     },
     "execution_count": 11,
     "metadata": {},
     "output_type": "execute_result"
    }
   ],
   "source": [
    "df.head(5)"
   ]
  },
  {
   "cell_type": "code",
   "execution_count": 12,
   "id": "73df098d",
   "metadata": {},
   "outputs": [],
   "source": [
    "# Now needed to drop the useless columns like Unnamed: 0 \n",
    "df.drop(columns=['Unnamed: 0'], inplace=True)\n",
    "# df.head(5)"
   ]
  },
  {
   "cell_type": "code",
   "execution_count": 13,
   "id": "ef582d5f",
   "metadata": {},
   "outputs": [
    {
     "name": "stdout",
     "output_type": "stream",
     "text": [
      "The percentage of missing values in New_price column 86.31001827546105\n"
     ]
    }
   ],
   "source": [
    "# Find the number of null values in the New_Price column\n",
    "# df['New_Price'].isnull().sum()\n",
    "print(f\"The percentage of missing values in New_price column {df['New_Price'].isnull().sum()/df.shape[0] *100}\")\n"
   ]
  },
  {
   "cell_type": "code",
   "execution_count": 14,
   "id": "acc23fc1",
   "metadata": {},
   "outputs": [
    {
     "data": {
      "text/html": [
       "<div>\n",
       "<style scoped>\n",
       "    .dataframe tbody tr th:only-of-type {\n",
       "        vertical-align: middle;\n",
       "    }\n",
       "\n",
       "    .dataframe tbody tr th {\n",
       "        vertical-align: top;\n",
       "    }\n",
       "\n",
       "    .dataframe thead th {\n",
       "        text-align: right;\n",
       "    }\n",
       "</style>\n",
       "<table border=\"1\" class=\"dataframe\">\n",
       "  <thead>\n",
       "    <tr style=\"text-align: right;\">\n",
       "      <th></th>\n",
       "      <th>Name</th>\n",
       "      <th>Location</th>\n",
       "      <th>Year</th>\n",
       "      <th>Kilometers_Driven</th>\n",
       "      <th>Fuel_Type</th>\n",
       "      <th>Transmission</th>\n",
       "      <th>Owner_Type</th>\n",
       "      <th>Mileage</th>\n",
       "      <th>Engine</th>\n",
       "      <th>Power</th>\n",
       "      <th>Seats</th>\n",
       "      <th>Price</th>\n",
       "    </tr>\n",
       "  </thead>\n",
       "  <tbody>\n",
       "    <tr>\n",
       "      <th>0</th>\n",
       "      <td>Maruti Wagon R LXI CNG</td>\n",
       "      <td>Mumbai</td>\n",
       "      <td>2010</td>\n",
       "      <td>72000</td>\n",
       "      <td>CNG</td>\n",
       "      <td>Manual</td>\n",
       "      <td>First</td>\n",
       "      <td>26.6 km/kg</td>\n",
       "      <td>998 CC</td>\n",
       "      <td>58.16 bhp</td>\n",
       "      <td>5.000</td>\n",
       "      <td>1.750</td>\n",
       "    </tr>\n",
       "    <tr>\n",
       "      <th>1</th>\n",
       "      <td>Hyundai Creta 1.6 CRDi SX Option</td>\n",
       "      <td>Pune</td>\n",
       "      <td>2015</td>\n",
       "      <td>41000</td>\n",
       "      <td>Diesel</td>\n",
       "      <td>Manual</td>\n",
       "      <td>First</td>\n",
       "      <td>19.67 kmpl</td>\n",
       "      <td>1582 CC</td>\n",
       "      <td>126.2 bhp</td>\n",
       "      <td>5.000</td>\n",
       "      <td>12.500</td>\n",
       "    </tr>\n",
       "    <tr>\n",
       "      <th>2</th>\n",
       "      <td>Honda Jazz V</td>\n",
       "      <td>Chennai</td>\n",
       "      <td>2011</td>\n",
       "      <td>46000</td>\n",
       "      <td>Petrol</td>\n",
       "      <td>Manual</td>\n",
       "      <td>First</td>\n",
       "      <td>18.2 kmpl</td>\n",
       "      <td>1199 CC</td>\n",
       "      <td>88.7 bhp</td>\n",
       "      <td>5.000</td>\n",
       "      <td>4.500</td>\n",
       "    </tr>\n",
       "    <tr>\n",
       "      <th>3</th>\n",
       "      <td>Maruti Ertiga VDI</td>\n",
       "      <td>Chennai</td>\n",
       "      <td>2012</td>\n",
       "      <td>87000</td>\n",
       "      <td>Diesel</td>\n",
       "      <td>Manual</td>\n",
       "      <td>First</td>\n",
       "      <td>20.77 kmpl</td>\n",
       "      <td>1248 CC</td>\n",
       "      <td>88.76 bhp</td>\n",
       "      <td>7.000</td>\n",
       "      <td>6.000</td>\n",
       "    </tr>\n",
       "    <tr>\n",
       "      <th>4</th>\n",
       "      <td>Audi A4 New 2.0 TDI Multitronic</td>\n",
       "      <td>Coimbatore</td>\n",
       "      <td>2013</td>\n",
       "      <td>40670</td>\n",
       "      <td>Diesel</td>\n",
       "      <td>Automatic</td>\n",
       "      <td>Second</td>\n",
       "      <td>15.2 kmpl</td>\n",
       "      <td>1968 CC</td>\n",
       "      <td>140.8 bhp</td>\n",
       "      <td>5.000</td>\n",
       "      <td>17.740</td>\n",
       "    </tr>\n",
       "  </tbody>\n",
       "</table>\n",
       "</div>"
      ],
      "text/plain": [
       "                               Name    Location  Year  Kilometers_Driven  \\\n",
       "0            Maruti Wagon R LXI CNG      Mumbai  2010              72000   \n",
       "1  Hyundai Creta 1.6 CRDi SX Option        Pune  2015              41000   \n",
       "2                      Honda Jazz V     Chennai  2011              46000   \n",
       "3                 Maruti Ertiga VDI     Chennai  2012              87000   \n",
       "4   Audi A4 New 2.0 TDI Multitronic  Coimbatore  2013              40670   \n",
       "\n",
       "  Fuel_Type Transmission Owner_Type     Mileage   Engine      Power  Seats  \\\n",
       "0       CNG       Manual      First  26.6 km/kg   998 CC  58.16 bhp  5.000   \n",
       "1    Diesel       Manual      First  19.67 kmpl  1582 CC  126.2 bhp  5.000   \n",
       "2    Petrol       Manual      First   18.2 kmpl  1199 CC   88.7 bhp  5.000   \n",
       "3    Diesel       Manual      First  20.77 kmpl  1248 CC  88.76 bhp  7.000   \n",
       "4    Diesel    Automatic     Second   15.2 kmpl  1968 CC  140.8 bhp  5.000   \n",
       "\n",
       "   Price  \n",
       "0  1.750  \n",
       "1 12.500  \n",
       "2  4.500  \n",
       "3  6.000  \n",
       "4 17.740  "
      ]
     },
     "execution_count": 14,
     "metadata": {},
     "output_type": "execute_result"
    }
   ],
   "source": [
    "df.drop(columns=['New_Price'], inplace=True) # Drop the New_Price column because it has 55% null values\n",
    "df.head(5)"
   ]
  },
  {
   "cell_type": "code",
   "execution_count": 15,
   "id": "e763dc24",
   "metadata": {},
   "outputs": [],
   "source": [
    "numerical_cols = df.select_dtypes(include=['int64', 'float64']).columns\n",
    "categorical_cols = df.select_dtypes(include=['object']).columns"
   ]
  },
  {
   "cell_type": "code",
   "execution_count": 16,
   "id": "371f70cf",
   "metadata": {},
   "outputs": [
    {
     "data": {
      "image/png": "[encoded data removed]",
      "text/plain": [
       "<Figure size 1000x400 with 1 Axes>"
      ]
     },
     "metadata": {},
     "output_type": "display_data"
    },
    {
     "data": {
      "application/vnd.plotly.v1+json": {
       "config": {
        "plotlyServerURL": "https://plot.ly"
       },
       "data": [
        {
         "bingroup": "x",
         "hovertemplate": "Year=%{x}<br>count=%{y}<extra></extra>",
         "legendgroup": "",
         "marker": {
          "color": "#636efa",
          "pattern": {
           "shape": ""
          }
         },
         "name": "",
         "orientation": "v",
         "showlegend": false,
         "type": "histogram",
         "x": {
          "bdata": "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",
          "dtype": "i2"
         },
         "xaxis": "x",
         "yaxis": "y"
        }
       ],
       "layout": {
        "barmode": "relative",
        "legend": {
         "tracegroupgap": 0
        },
        "template": {
         "data": {
          "bar": [
           {
            "error_x": {
             "color": "#2a3f5f"
            },
            "error_y": {
             "color": "#2a3f5f"
            },
            "marker": {
             "line": {
              "color": "#E5ECF6",
              "width": 0.5
             },
             "pattern": {
              "fillmode": "overlay",
              "size": 10,
              "solidity": 0.2
             }
            },
            "type": "bar"
           }
          ],
          "barpolar": [
           {
            "marker": {
             "line": {
              "color": "#E5ECF6",
              "width": 0.5
             },
             "pattern": {
              "fillmode": "overlay",
              "size": 10,
              "solidity": 0.2
             }
            },
            "type": "barpolar"
           }
          ],
          "carpet": [
           {
            "aaxis": {
             "endlinecolor": "#2a3f5f",
             "gridcolor": "white",
             "linecolor": "white",
             "minorgridcolor": "white",
             "startlinecolor": "#2a3f5f"
            },
            "baxis": {
             "endlinecolor": "#2a3f5f",
             "gridcolor": "white",
             "linecolor": "white",
             "minorgridcolor": "white",
             "startlinecolor": "#2a3f5f"
            },
            "type": "carpet"
           }
          ],
          "choropleth": [
           {
            "colorbar": {
             "outlinewidth": 0,
             "ticks": ""
            },
            "type": "choropleth"
           }
          ],
          "contour": [
           {
            "colorbar": {
             "outlinewidth": 0,
             "ticks": ""
            },
            "colorscale": [
             [
              0,
              "#0d0887"
             ],
             [
              0.1111111111111111,
              "#46039f"
             ],
             [
              0.2222222222222222,
              "#7201a8"
             ],
             [
              0.3333333333333333,
              "#9c179e"
             ],
             [
              0.4444444444444444,
              "#bd3786"
             ],
             [
              0.5555555555555556,
              "#d8576b"
             ],
             [
              0.6666666666666666,
              "#ed7953"
             ],
             [
              0.7777777777777778,
              "#fb9f3a"
             ],
             [
              0.8888888888888888,
              "#fdca26"
             ],
             [
              1,
              "#f0f921"
             ]
            ],
            "type": "contour"
           }
          ],
          "contourcarpet": [
           {
            "colorbar": {
             "outlinewidth": 0,
             "ticks": ""
            },
            "type": "contourcarpet"
           }
          ],
          "heatmap": [
           {
            "colorbar": {
             "outlinewidth": 0,
             "ticks": ""
            },
            "colorscale": [
             [
              0,
              "#0d0887"
             ],
             [
              0.1111111111111111,
              "#46039f"
             ],
             [
              0.2222222222222222,
              "#7201a8"
             ],
             [
              0.3333333333333333,
              "#9c179e"
             ],
             [
              0.4444444444444444,
              "#bd3786"
             ],
             [
              0.5555555555555556,
              "#d8576b"
             ],
             [
              0.6666666666666666,
              "#ed7953"
             ],
             [
              0.7777777777777778,
              "#fb9f3a"
             ],
             [
              0.8888888888888888,
              "#fdca26"
             ],
             [
              1,
              "#f0f921"
             ]
            ],
            "type": "heatmap"
           }
          ],
          "histogram": [
           {
            "marker": {
             "pattern": {
              "fillmode": "overlay",
              "size": 10,
              "solidity": 0.2
             }
            },
            "type": "histogram"
           }
          ],
          "histogram2d": [
           {
            "colorbar": {
             "outlinewidth": 0,
             "ticks": ""
            },
            "colorscale": [
             [
              0,
              "#0d0887"
             ],
             [
              0.1111111111111111,
              "#46039f"
             ],
             [
              0.2222222222222222,
              "#7201a8"
             ],
             [
              0.3333333333333333,
              "#9c179e"
             ],
             [
              0.4444444444444444,
              "#bd3786"
             ],
             [
              0.5555555555555556,
              "#d8576b"
             ],
             [
              0.6666666666666666,
              "#ed7953"
             ],
             [
              0.7777777777777778,
              "#fb9f3a"
             ],
             [
              0.8888888888888888,
              "#fdca26"
             ],
             [
              1,
              "#f0f921"
             ]
            ],
            "type": "histogram2d"
           }
          ],
          "histogram2dcontour": [
           {
            "colorbar": {
             "outlinewidth": 0,
             "ticks": ""
            },
            "colorscale": [
             [
              0,
              "#0d0887"
             ],
             [
              0.1111111111111111,
              "#46039f"
             ],
             [
              0.2222222222222222,
              "#7201a8"
             ],
             [
              0.3333333333333333,
              "#9c179e"
             ],
             [
              0.4444444444444444,
              "#bd3786"
             ],
             [
              0.5555555555555556,
              "#d8576b"
             ],
             [
              0.6666666666666666,
              "#ed7953"
             ],
             [
              0.7777777777777778,
              "#fb9f3a"
             ],
             [
              0.8888888888888888,
              "#fdca26"
             ],
             [
              1,
              "#f0f921"
             ]
            ],
            "type": "histogram2dcontour"
           }
          ],
          "mesh3d": [
           {
            "colorbar": {
             "outlinewidth": 0,
             "ticks": ""
            },
            "type": "mesh3d"
           }
          ],
          "parcoords": [
           {
            "line": {
             "colorbar": {
              "outlinewidth": 0,
              "ticks": ""
             }
            },
            "type": "parcoords"
           }
          ],
          "pie": [
           {
            "automargin": true,
            "type": "pie"
           }
          ],
          "scatter": [
           {
            "fillpattern": {
             "fillmode": "overlay",
             "size": 10,
             "solidity": 0.2
            },
            "type": "scatter"
           }
          ],
          "scatter3d": [
           {
            "line": {
             "colorbar": {
              "outlinewidth": 0,
              "ticks": ""
             }
            },
            "marker": {
             "colorbar": {
              "outlinewidth": 0,
              "ticks": ""
             }
            },
            "type": "scatter3d"
           }
          ],
          "scattercarpet": [
           {
            "marker": {
             "colorbar": {
              "outlinewidth": 0,
              "ticks": ""
             }
            },
            "type": "scattercarpet"
           }
          ],
          "scattergeo": [
           {
            "marker": {
             "colorbar": {
              "outlinewidth": 0,
              "ticks": ""
             }
            },
            "type": "scattergeo"
           }
          ],
          "scattergl": [
           {
            "marker": {
             "colorbar": {
              "outlinewidth": 0,
              "ticks": ""
             }
            },
            "type": "scattergl"
           }
          ],
          "scattermap": [
           {
            "marker": {
             "colorbar": {
              "outlinewidth": 0,
              "ticks": ""
             }
            },
            "type": "scattermap"
           }
          ],
          "scattermapbox": [
           {
            "marker": {
             "colorbar": {
              "outlinewidth": 0,
              "ticks": ""
             }
            },
            "type": "scattermapbox"
           }
          ],
          "scatterpolar": [
           {
            "marker": {
             "colorbar": {
              "outlinewidth": 0,
              "ticks": ""
             }
            },
            "type": "scatterpolar"
           }
          ],
          "scatterpolargl": [
           {
            "marker": {
             "colorbar": {
              "outlinewidth": 0,
              "ticks": ""
             }
            },
            "type": "scatterpolargl"
           }
          ],
          "scatterternary": [
           {
            "marker": {
             "colorbar": {
              "outlinewidth": 0,
              "ticks": ""
             }
            },
            "type": "scatterternary"
           }
          ],
          "surface": [
           {
            "colorbar": {
             "outlinewidth": 0,
             "ticks": ""
            },
            "colorscale": [
             [
              0,
              "#0d0887"
             ],
             [
              0.1111111111111111,
              "#46039f"
             ],
             [
              0.2222222222222222,
              "#7201a8"
             ],
             [
              0.3333333333333333,
              "#9c179e"
             ],
             [
              0.4444444444444444,
              "#bd3786"
             ],
             [
              0.5555555555555556,
              "#d8576b"
             ],
             [
              0.6666666666666666,
              "#ed7953"
             ],
             [
              0.7777777777777778,
              "#fb9f3a"
             ],
             [
              0.8888888888888888,
              "#fdca26"
             ],
             [
              1,
              "#f0f921"
             ]
            ],
            "type": "surface"
           }
          ],
          "table": [
           {
            "cells": {
             "fill": {
              "color": "#EBF0F8"
             },
             "line": {
              "color": "white"
             }
            },
            "header": {
             "fill": {
              "color": "#C8D4E3"
             },
             "line": {
              "color": "white"
             }
            },
            "type": "table"
           }
          ]
         },
         "layout": {
          "annotationdefaults": {
           "arrowcolor": "#2a3f5f",
           "arrowhead": 0,
           "arrowwidth": 1
          },
          "autotypenumbers": "strict",
          "coloraxis": {
           "colorbar": {
            "outlinewidth": 0,
            "ticks": ""
           }
          },
          "colorscale": {
           "diverging": [
            [
             0,
             "#8e0152"
            ],
            [
             0.1,
             "#c51b7d"
            ],
            [
             0.2,
             "#de77ae"
            ],
            [
             0.3,
             "#f1b6da"
            ],
            [
             0.4,
             "#fde0ef"
            ],
            [
             0.5,
             "#f7f7f7"
            ],
            [
             0.6,
             "#e6f5d0"
            ],
            [
             0.7,
             "#b8e186"
            ],
            [
             0.8,
             "#7fbc41"
            ],
            [
             0.9,
             "#4d9221"
            ],
            [
             1,
             "#276419"
            ]
           ],
           "sequential": [
            [
             0,
             "#0d0887"
            ],
            [
             0.1111111111111111,
             "#46039f"
            ],
            [
             0.2222222222222222,
             "#7201a8"
            ],
            [
             0.3333333333333333,
             "#9c179e"
            ],
            [
             0.4444444444444444,
             "#bd3786"
            ],
            [
             0.5555555555555556,
             "#d8576b"
            ],
            [
             0.6666666666666666,
             "#ed7953"
            ],
            [
             0.7777777777777778,
             "#fb9f3a"
            ],
            [
             0.8888888888888888,
             "#fdca26"
            ],
            [
             1,
             "#f0f921"
            ]
           ],
           "sequentialminus": [
            [
             0,
             "#0d0887"
            ],
            [
             0.1111111111111111,
             "#46039f"
            ],
            [
             0.2222222222222222,
             "#7201a8"
            ],
            [
             0.3333333333333333,
             "#9c179e"
            ],
            [
             0.4444444444444444,
             "#bd3786"
            ],
            [
             0.5555555555555556,
             "#d8576b"
            ],
            [
             0.6666666666666666,
             "#ed7953"
            ],
            [
             0.7777777777777778,
             "#fb9f3a"
            ],
            [
             0.8888888888888888,
             "#fdca26"
            ],
            [
             1,
             "#f0f921"
            ]
           ]
          },
          "colorway": [
           "#636efa",
           "#EF553B",
           "#00cc96",
           "#ab63fa",
           "#FFA15A",
           "#19d3f3",
           "#FF6692",
           "#B6E880",
           "#FF97FF",
           "#FECB52"
          ],
          "font": {
           "color": "#2a3f5f"
          },
          "geo": {
           "bgcolor": "white",
           "lakecolor": "white",
           "landcolor": "#E5ECF6",
           "showlakes": true,
           "showland": true,
           "subunitcolor": "white"
          },
          "hoverlabel": {
           "align": "left"
          },
          "hovermode": "closest",
          "mapbox": {
           "style": "light"
          },
          "paper_bgcolor": "white",
          "plot_bgcolor": "#E5ECF6",
          "polar": {
           "angularaxis": {
            "gridcolor": "white",
            "linecolor": "white",
            "ticks": ""
           },
           "bgcolor": "#E5ECF6",
           "radialaxis": {
            "gridcolor": "white",
            "linecolor": "white",
            "ticks": ""
           }
          },
          "scene": {
           "xaxis": {
            "backgroundcolor": "#E5ECF6",
            "gridcolor": "white",
            "gridwidth": 2,
            "linecolor": "white",
            "showbackground": true,
            "ticks": "",
            "zerolinecolor": "white"
           },
           "yaxis": {
            "backgroundcolor": "#E5ECF6",
            "gridcolor": "white",
            "gridwidth": 2,
            "linecolor": "white",
            "showbackground": true,
            "ticks": "",
            "zerolinecolor": "white"
           },
           "zaxis": {
            "backgroundcolor": "#E5ECF6",
            "gridcolor": "white",
            "gridwidth": 2,
            "linecolor": "white",
            "showbackground": true,
            "ticks": "",
            "zerolinecolor": "white"
           }
          },
          "shapedefaults": {
           "line": {
            "color": "#2a3f5f"
           }
          },
          "ternary": {
           "aaxis": {
            "gridcolor": "white",
            "linecolor": "white",
            "ticks": ""
           },
           "baxis": {
            "gridcolor": "white",
            "linecolor": "white",
            "ticks": ""
           },
           "bgcolor": "#E5ECF6",
           "caxis": {
            "gridcolor": "white",
            "linecolor": "white",
            "ticks": ""
           }
          },
          "title": {
           "x": 0.05
          },
          "xaxis": {
           "automargin": true,
           "gridcolor": "white",
           "linecolor": "white",
           "ticks": "",
           "title": {
            "standoff": 15
           },
           "zerolinecolor": "white",
           "zerolinewidth": 2
          },
          "yaxis": {
           "automargin": true,
           "gridcolor": "white",
           "linecolor": "white",
           "ticks": "",
           "title": {
            "standoff": 15
           },
           "zerolinecolor": "white",
           "zerolinewidth": 2
          }
         }
        },
        "title": {
         "text": "Distribution of Year"
        },
        "xaxis": {
         "anchor": "y",
         "domain": [
          0,
          1
         ],
         "title": {
          "text": "Year"
         }
        },
        "yaxis": {
         "anchor": "x",
         "domain": [
          0,
          1
         ],
         "title": {
          "text": "count"
         }
        }
       }
      }
     },
     "metadata": {},
     "output_type": "display_data"
    },
    {
     "data": {
      "image/png": "[encoded data removed]",
      "text/plain": [
       "<Figure size 1000x400 with 1 Axes>"
      ]
     },
     "metadata": {},
     "output_type": "display_data"
    },
    {
     "data": {
      "application/vnd.plotly.v1+json": {
       "config": {
        "plotlyServerURL": "https://plot.ly"
       },
       "data": [
        {
         "bingroup": "x",
         "hovertemplate": "Kilometers_Driven=%{x}<br>count=%{y}<extra></extra>",
         "legendgroup": "",
         "marker": {
          "color": "#636efa",
          "pattern": {
           "shape": ""
          }
         },
         "name": "",
         "orientation": "v",
         "showlegend": false,
         "type": "histogram",
         "x": {
          "bdata": "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",
          "dtype": "i4"
         },
         "xaxis": "x",
         "yaxis": "y"
        }
       ],
       "layout": {
        "barmode": "relative",
        "legend": {
         "tracegroupgap": 0
        },
        "template": {
         "data": {
          "bar": [
           {
            "error_x": {
             "color": "#2a3f5f"
            },
            "error_y": {
             "color": "#2a3f5f"
            },
            "marker": {
             "line": {
              "color": "#E5ECF6",
              "width": 0.5
             },
             "pattern": {
              "fillmode": "overlay",
              "size": 10,
              "solidity": 0.2
             }
            },
            "type": "bar"
           }
          ],
          "barpolar": [
           {
            "marker": {
             "line": {
              "color": "#E5ECF6",
              "width": 0.5
             },
             "pattern": {
              "fillmode": "overlay",
              "size": 10,
              "solidity": 0.2
             }
            },
            "type": "barpolar"
           }
          ],
          "carpet": [
           {
            "aaxis": {
             "endlinecolor": "#2a3f5f",
             "gridcolor": "white",
             "linecolor": "white",
             "minorgridcolor": "white",
             "startlinecolor": "#2a3f5f"
            },
            "baxis": {
             "endlinecolor": "#2a3f5f",
             "gridcolor": "white",
             "linecolor": "white",
             "minorgridcolor": "white",
             "startlinecolor": "#2a3f5f"
            },
            "type": "carpet"
           }
          ],
          "choropleth": [
           {
            "colorbar": {
             "outlinewidth": 0,
             "ticks": ""
            },
            "type": "choropleth"
           }
          ],
          "contour": [
           {
            "colorbar": {
             "outlinewidth": 0,
             "ticks": ""
            },
            "colorscale": [
             [
              0,
              "#0d0887"
             ],
             [
              0.1111111111111111,
              "#46039f"
             ],
             [
              0.2222222222222222,
              "#7201a8"
             ],
             [
              0.3333333333333333,
              "#9c179e"
             ],
             [
              0.4444444444444444,
              "#bd3786"
             ],
             [
              0.5555555555555556,
              "#d8576b"
             ],
             [
              0.6666666666666666,
              "#ed7953"
             ],
             [
              0.7777777777777778,
              "#fb9f3a"
             ],
             [
              0.8888888888888888,
              "#fdca26"
             ],
             [
              1,
              "#f0f921"
             ]
            ],
            "type": "contour"
           }
          ],
          "contourcarpet": [
           {
            "colorbar": {
             "outlinewidth": 0,
             "ticks": ""
            },
            "type": "contourcarpet"
           }
          ],
          "heatmap": [
           {
            "colorbar": {
             "outlinewidth": 0,
             "ticks": ""
            },
            "colorscale": [
             [
              0,
              "#0d0887"
             ],
             [
              0.1111111111111111,
              "#46039f"
             ],
             [
              0.2222222222222222,
              "#7201a8"
             ],
             [
              0.3333333333333333,
              "#9c179e"
             ],
             [
              0.4444444444444444,
              "#bd3786"
             ],
             [
              0.5555555555555556,
              "#d8576b"
             ],
             [
              0.6666666666666666,
              "#ed7953"
             ],
             [
              0.7777777777777778,
              "#fb9f3a"
             ],
             [
              0.8888888888888888,
              "#fdca26"
             ],
             [
              1,
              "#f0f921"
             ]
            ],
            "type": "heatmap"
           }
          ],
          "histogram": [
           {
            "marker": {
             "pattern": {
              "fillmode": "overlay",
              "size": 10,
              "solidity": 0.2
             }
            },
            "type": "histogram"
           }
          ],
          "histogram2d": [
           {
            "colorbar": {
             "outlinewidth": 0,
             "ticks": ""
            },
            "colorscale": [
             [
              0,
              "#0d0887"
             ],
             [
              0.1111111111111111,
              "#46039f"
             ],
             [
              0.2222222222222222,
              "#7201a8"
             ],
             [
              0.3333333333333333,
              "#9c179e"
             ],
             [
              0.4444444444444444,
              "#bd3786"
             ],
             [
              0.5555555555555556,
              "#d8576b"
             ],
             [
              0.6666666666666666,
              "#ed7953"
             ],
             [
              0.7777777777777778,
              "#fb9f3a"
             ],
             [
              0.8888888888888888,
              "#fdca26"
             ],
             [
              1,
              "#f0f921"
             ]
            ],
            "type": "histogram2d"
           }
          ],
          "histogram2dcontour": [
           {
            "colorbar": {
             "outlinewidth": 0,
             "ticks": ""
            },
            "colorscale": [
             [
              0,
              "#0d0887"
             ],
             [
              0.1111111111111111,
              "#46039f"
             ],
             [
              0.2222222222222222,
              "#7201a8"
             ],
             [
              0.3333333333333333,
              "#9c179e"
             ],
             [
              0.4444444444444444,
              "#bd3786"
             ],
             [
              0.5555555555555556,
              "#d8576b"
             ],
             [
              0.6666666666666666,
              "#ed7953"
             ],
             [
              0.7777777777777778,
              "#fb9f3a"
             ],
             [
              0.8888888888888888,
              "#fdca26"
             ],
             [
              1,
              "#f0f921"
             ]
            ],
            "type": "histogram2dcontour"
           }
          ],
          "mesh3d": [
           {
            "colorbar": {
             "outlinewidth": 0,
             "ticks": ""
            },
            "type": "mesh3d"
           }
          ],
          "parcoords": [
           {
            "line": {
             "colorbar": {
              "outlinewidth": 0,
              "ticks": ""
             }
            },
            "type": "parcoords"
           }
          ],
          "pie": [
           {
            "automargin": true,
            "type": "pie"
           }
          ],
          "scatter": [
           {
            "fillpattern": {
             "fillmode": "overlay",
             "size": 10,
             "solidity": 0.2
            },
            "type": "scatter"
           }
          ],
          "scatter3d": [
           {
            "line": {
             "colorbar": {
              "outlinewidth": 0,
              "ticks": ""
             }
            },
            "marker": {
             "colorbar": {
              "outlinewidth": 0,
              "ticks": ""
             }
            },
            "type": "scatter3d"
           }
          ],
          "scattercarpet": [
           {
            "marker": {
             "colorbar": {
              "outlinewidth": 0,
              "ticks": ""
             }
            },
            "type": "scattercarpet"
           }
          ],
          "scattergeo": [
           {
            "marker": {
             "colorbar": {
              "outlinewidth": 0,
              "ticks": ""
             }
            },
            "type": "scattergeo"
           }
          ],
          "scattergl": [
           {
            "marker": {
             "colorbar": {
              "outlinewidth": 0,
              "ticks": ""
             }
            },
            "type": "scattergl"
           }
          ],
          "scattermap": [
           {
            "marker": {
             "colorbar": {
              "outlinewidth": 0,
              "ticks": ""
             }
            },
            "type": "scattermap"
           }
          ],
          "scattermapbox": [
           {
            "marker": {
             "colorbar": {
              "outlinewidth": 0,
              "ticks": ""
             }
            },
            "type": "scattermapbox"
           }
          ],
          "scatterpolar": [
           {
            "marker": {
             "colorbar": {
              "outlinewidth": 0,
              "ticks": ""
             }
            },
            "type": "scatterpolar"
           }
          ],
          "scatterpolargl": [
           {
            "marker": {
             "colorbar": {
              "outlinewidth": 0,
              "ticks": ""
             }
            },
            "type": "scatterpolargl"
           }
          ],
          "scatterternary": [
           {
            "marker": {
             "colorbar": {
              "outlinewidth": 0,
              "ticks": ""
             }
            },
            "type": "scatterternary"
           }
          ],
          "surface": [
           {
            "colorbar": {
             "outlinewidth": 0,
             "ticks": ""
            },
            "colorscale": [
             [
              0,
              "#0d0887"
             ],
             [
              0.1111111111111111,
              "#46039f"
             ],
             [
              0.2222222222222222,
              "#7201a8"
             ],
             [
              0.3333333333333333,
              "#9c179e"
             ],
             [
              0.4444444444444444,
              "#bd3786"
             ],
             [
              0.5555555555555556,
              "#d8576b"
             ],
             [
              0.6666666666666666,
              "#ed7953"
             ],
             [
              0.7777777777777778,
              "#fb9f3a"
             ],
             [
              0.8888888888888888,
              "#fdca26"
             ],
             [
              1,
              "#f0f921"
             ]
            ],
            "type": "surface"
           }
          ],
          "table": [
           {
            "cells": {
             "fill": {
              "color": "#EBF0F8"
             },
             "line": {
              "color": "white"
             }
            },
            "header": {
             "fill": {
              "color": "#C8D4E3"
             },
             "line": {
              "color": "white"
             }
            },
            "type": "table"
           }
          ]
         },
         "layout": {
          "annotationdefaults": {
           "arrowcolor": "#2a3f5f",
           "arrowhead": 0,
           "arrowwidth": 1
          },
          "autotypenumbers": "strict",
          "coloraxis": {
           "colorbar": {
            "outlinewidth": 0,
            "ticks": ""
           }
          },
          "colorscale": {
           "diverging": [
            [
             0,
             "#8e0152"
            ],
            [
             0.1,
             "#c51b7d"
            ],
            [
             0.2,
             "#de77ae"
            ],
            [
             0.3,
             "#f1b6da"
            ],
            [
             0.4,
             "#fde0ef"
            ],
            [
             0.5,
             "#f7f7f7"
            ],
            [
             0.6,
             "#e6f5d0"
            ],
            [
             0.7,
             "#b8e186"
            ],
            [
             0.8,
             "#7fbc41"
            ],
            [
             0.9,
             "#4d9221"
            ],
            [
             1,
             "#276419"
            ]
           ],
           "sequential": [
            [
             0,
             "#0d0887"
            ],
            [
             0.1111111111111111,
             "#46039f"
            ],
            [
             0.2222222222222222,
             "#7201a8"
            ],
            [
             0.3333333333333333,
             "#9c179e"
            ],
            [
             0.4444444444444444,
             "#bd3786"
            ],
            [
             0.5555555555555556,
             "#d8576b"
            ],
            [
             0.6666666666666666,
             "#ed7953"
            ],
            [
             0.7777777777777778,
             "#fb9f3a"
            ],
            [
             0.8888888888888888,
             "#fdca26"
            ],
            [
             1,
             "#f0f921"
            ]
           ],
           "sequentialminus": [
            [
             0,
             "#0d0887"
            ],
            [
             0.1111111111111111,
             "#46039f"
            ],
            [
             0.2222222222222222,
             "#7201a8"
            ],
            [
             0.3333333333333333,
             "#9c179e"
            ],
            [
             0.4444444444444444,
             "#bd3786"
            ],
            [
             0.5555555555555556,
             "#d8576b"
            ],
            [
             0.6666666666666666,
             "#ed7953"
            ],
            [
             0.7777777777777778,
             "#fb9f3a"
            ],
            [
             0.8888888888888888,
             "#fdca26"
            ],
            [
             1,
             "#f0f921"
            ]
           ]
          },
          "colorway": [
           "#636efa",
           "#EF553B",
           "#00cc96",
           "#ab63fa",
           "#FFA15A",
           "#19d3f3",
           "#FF6692",
           "#B6E880",
           "#FF97FF",
           "#FECB52"
          ],
          "font": {
           "color": "#2a3f5f"
          },
          "geo": {
           "bgcolor": "white",
           "lakecolor": "white",
           "landcolor": "#E5ECF6",
           "showlakes": true,
           "showland": true,
           "subunitcolor": "white"
          },
          "hoverlabel": {
           "align": "left"
          },
          "hovermode": "closest",
          "mapbox": {
           "style": "light"
          },
          "paper_bgcolor": "white",
          "plot_bgcolor": "#E5ECF6",
          "polar": {
           "angularaxis": {
            "gridcolor": "white",
            "linecolor": "white",
            "ticks": ""
           },
           "bgcolor": "#E5ECF6",
           "radialaxis": {
            "gridcolor": "white",
            "linecolor": "white",
            "ticks": ""
           }
          },
          "scene": {
           "xaxis": {
            "backgroundcolor": "#E5ECF6",
            "gridcolor": "white",
            "gridwidth": 2,
            "linecolor": "white",
            "showbackground": true,
            "ticks": "",
            "zerolinecolor": "white"
           },
           "yaxis": {
            "backgroundcolor": "#E5ECF6",
            "gridcolor": "white",
            "gridwidth": 2,
            "linecolor": "white",
            "showbackground": true,
            "ticks": "",
            "zerolinecolor": "white"
           },
           "zaxis": {
            "backgroundcolor": "#E5ECF6",
            "gridcolor": "white",
            "gridwidth": 2,
            "linecolor": "white",
            "showbackground": true,
            "ticks": "",
            "zerolinecolor": "white"
           }
          },
          "shapedefaults": {
           "line": {
            "color": "#2a3f5f"
           }
          },
          "ternary": {
           "aaxis": {
            "gridcolor": "white",
            "linecolor": "white",
            "ticks": ""
           },
           "baxis": {
            "gridcolor": "white",
            "linecolor": "white",
            "ticks": ""
           },
           "bgcolor": "#E5ECF6",
           "caxis": {
            "gridcolor": "white",
            "linecolor": "white",
            "ticks": ""
           }
          },
          "title": {
           "x": 0.05
          },
          "xaxis": {
           "automargin": true,
           "gridcolor": "white",
           "linecolor": "white",
           "ticks": "",
           "title": {
            "standoff": 15
           },
           "zerolinecolor": "white",
           "zerolinewidth": 2
          },
          "yaxis": {
           "automargin": true,
           "gridcolor": "white",
           "linecolor": "white",
           "ticks": "",
           "title": {
            "standoff": 15
           },
           "zerolinecolor": "white",
           "zerolinewidth": 2
          }
         }
        },
        "title": {
         "text": "Distribution of Kilometers_Driven"
        },
        "xaxis": {
         "anchor": "y",
         "domain": [
          0,
          1
         ],
         "title": {
          "text": "Kilometers_Driven"
         }
        },
        "yaxis": {
         "anchor": "x",
         "domain": [
          0,
          1
         ],
         "title": {
          "text": "count"
         }
        }
       }
      }
     },
     "metadata": {},
     "output_type": "display_data"
    },
    {
     "data": {
      "image/png": "[encoded data removed]",
      "text/plain": [
       "<Figure size 1000x400 with 1 Axes>"
      ]
     },
     "metadata": {},
     "output_type": "display_data"
    },
    {
     "data": {
      "application/vnd.plotly.v1+json": {
       "config": {
        "plotlyServerURL": "https://plot.ly"
       },
       "data": [
        {
         "bingroup": "x",
         "hovertemplate": "Seats=%{x}<br>count=%{y}<extra></extra>",
         "legendgroup": "",
         "marker": {
          "color": "#636efa",
          "pattern": {
           "shape": ""
          }
         },
         "name": "",
         "orientation": "v",
         "showlegend": false,
         "type": "histogram",
         "x": {
          "bdata": "AAAAAAAAFEAAAAAAAAAUQAAAAAAAABRAAAAAAAAAHEAAAAAAAAAUQAAAAAAAABRAAAAAAAAAFEAAAAAAAAAgQAAAAAAAABRAAAAAAAAAFEAAAAAAAAAUQAAAAAAAABRAAAAAAAAAFEAAAAAAAAAUQAAAAAAAABRAAAAAAAAAHEAAAAAAAAAUQAAAAAAAABRAAAAAAAAAFEAAAAAAAAAUQAAAAAAAABRAAAAAAAAAFEAAAAAAAAAUQAAAAAAAABRAAAAAAAAAFEAAAAAAAAAUQAAAAAAAABRAAAAAAAAAFEAAAAAAAAAUQAAAAAAAABxAAAAAAAAAFEAAAAAAAAAUQAAAAAAAABxAAAAAAAAAFEAAAAAAAAAUQAAAAAAAABRAAAAAAAAAFEAAAAAAAAAUQAAAAAAAABRAAAAAAAAAFEAAAAAAAAAUQAAAAAAAABBAAAAAAAAAGEAAAAAAAAAUQAAAAAAAABRAAAAAAAAAFEAAAAAAAAAUQAAAAAAAABxAAAAAAAAAFEAAAAAAAAAYQAAAAAAAABRAAAAAAAAAFEAAAAAAAAAUQAAAAAAAABRAAAAAAAAAFEAAAAAAAAAUQAAAAAAAABRAAAAAAAAAFEAAAAAAAAAUQAAAAAAAABRAAAAAAAAAIEAAAAAAAAAUQAAAAAAAABRAAAAAAAAAFEAAAAAAAAAUQAAAAAAAABRAAAAAAAAAFEAAAAAAAAAUQAAAAAAAABxAAAAAAAAAFEAAAAAAAAAUQAAAAAAAABxAAAAAAAAAFEAAAAAAAAAUQAAAAAAAABRAAAAAAAAAFEAAAAAAAAAUQAAAAAAAACBAAAAAAAAAHEAAAAAAAAAUQAAAAAAAABRAAAAAAAAAFEAAAAAAAAAUQAAAAAAAABRAAAAAAAAAFEAAAAAAAAAUQAAAAAAAABRAAAAAAAAAFEAAAAAAAAAUQAAAAAAAABRAAAAAAAAAFEAAAAAAAAAcQAAAAAAAABRAAAAAAAAAFEAAAAAAAAAcQAAAAAAAABRAAAAAAAAAFEAAAAAAAAAUQAAAAAAAABRAAAAAAAAAFEAAAAAAAAAUQAAAAAAAABRAAAAAAAAAHEAAAAAAAAAUQAAAAAAAABRAAAAAAAAAFEAAAAAAAAAUQAAAAAAAABRAAAAAAAAAHEAAAAAAAAAUQAAAAAAAABxAAAAAAAAAFEAAAAAAAAAQQAAAAAAAABRAAAAAAAAAFEAAAAAAAAAcQAAAAAAAABRAAAAAAAAAFEAAAAAAAAAUQAAAAAAAABRAAAAAAAAAFEAAAAAAAAAUQAAAAAAAABRAAAAAAAAAFEAAAAAAAAAQQAAAAAAAACBAAAAAAAAAFEAAAAAAAAAUQAAAAAAAABRAAAAAAAAAFEAAAAAAAAAUQAAAAAAAABxAAAAAAAAAFEAAAAAAAAAUQAAAAAAAAABAAAAAAAAAFEAAAAAAAAAUQAAAAAAAABRAAAAAAAAAFEAAAAAAAAAUQAAAAAAAABRAAAAAAAAAFEAAAAAAAAAUQAAAAAAAABRAAAAAAAAAHEAAAAAAAAAUQAAAAAAAABRAAAAAAAAAFEAAAAAAAAAQQAAAAAAAABRAAAAAAAAAFEAAAAAAAAAUQAAAAAAAABRAAAAAAAAAFEAAAAAAAAAUQAAAAAAAABRAAAAAAAAAFEAAAAAAAAAUQAAAAAAAABRAAAAAAAAAFEAAAAAAAAAUQAAAAAAAABxAAAAAAAAAFEAAAAAAAAAcQAAAAAAAABRAAAAAAAAAHEAAAAAAAAAUQAAAAAAAABRAAAAAAAAAFEAAAAAAAAAUQAAAAAAAABRAAAAAAAAAFEAAAAAAAAAUQAAAAAAAABRAAAAAAAAAFEAAAAAAAAAUQAAAAAAAABRAAAAAAAAAFEAAAAAAAAAUQAAAAAAAABRAAAAAAAAAFEAAAAAAAAAUQAAAAAAAABRAAAAAAAAAFEAAAAAAAAAUQAAAAAAAACBAAAAAAAAAFEAAAAAAAAAUQAAAAAAAABRAAAAAAAAAFEAAAAAAAAAcQAAAAAAAABRAAAAAAAAAFEAAAAAAAAAcQAAAAAAAAPh/AAAAAAAAFEAAAAAAAAAUQAAAAAAAABRAAAAAAAAAFEAAAAAAAAAUQAAAAAAAABxAAAAAAAAAFEAAAAAAAAAUQAAAAAAAABRAAAAAAAAAFEAAAAAAAAAUQAAAAAAAABRAAAAAAAAAFEAAAAAAAAD4fwAAAAAAABRAAAAAAAAAFEAAAAAAAAAUQAAAAAAAABRAAAAAAAAAFEAAAAAAAAAUQAAAAAAAABRAAAAAAAAAFEAAAAAAAAAUQAAAAAAAABRAAAAAAAAAFEAAAAAAAAAUQAAAAAAAABRAAAAAAAAAFEAAAAAAAAAUQAAAAAAAABRAAAAAAAAAFEAAAAAAAAAUQAAAAAAAABRAAAAAAAAAEEAAAAAAAAD4fwAAAAAAABRAAAAAAAAAFEAAAAAAAAAUQAAAAAAAABRAAAAAAAAAFEAAAAAAAAAcQAAAAAAAABxAAAAAAAAAFEAAAAAAAAAUQAAAAAAAABRAAAAAAAAAFEAAAAAAAAAUQAAAAAAAABxAAAAAAAAAHEAAAAAAAAAcQAAAAAAAABRAAAAAAAAAFEAAAAAAAAAUQAAAAAAAABRAAAAAAAAAFEAAAAAAAAAUQAAAAAAAABRAAAAAAAAAFEAAAAAAAAAUQAAAAAAAABRAAAAAAAAAFEAAAAAAAAAcQAAAAAAAABRAAAAAAAAAFEAAAAAAAAAUQAAAAAAAABRAAAAAAAAAFEAAAAAAAAAUQAAAAAAAABRAAAAAAAAAFEAAAAAAAAAUQAAAAAAAABRAAAAAAAAAFEAAAAAAAAAUQAAAAAAAABRAAAAAAAAAFEAAAAAAAAAUQAAAAAAAABRAAAAAAAAAHEAAAAAAAAAUQAAAAAAAABRAAAAAAAAAIEAAAAAAAAAUQAAAAAAAABRAAAAAAAAAFEAAAAAAAAAUQAAAAAAAABRAAAAAAAAAHEAAAAAAAAAUQAAAAAAAABRAAAAAAAAAFEAAAAAAAAAUQAAAAAAAABRAAAAAAAAAFEAAAAAAAAAUQAAAAAAAABRAAAAAAAAAFEAAAAAAAAAUQAAAAAAAABRAAAAAAAAAFEAAAAAAAAAUQAAAAAAAABRAAAAAAAAAFEAAAAAAAAAcQAAAAAAAABRAAAAAAAAAHEAAAAAAAAAUQAAAAAAAABRAAAAAAAAAFEAAAAAAAAAUQAAAAAAAABRAAAAAAAAAFEAAAAAAAAAUQAAAAAAAABRAAAAAAAAAFEAAAAAAAAAUQAAAAAAAABRAAAAAAAAAFEAAAAAAAAAUQAAAAAAAABRAAAAAAAAAHEAAAAAAAAAUQAAAAAAAABRAAAAAAAAAHEAAAAAAAAAUQAAAAAAAABxAAAAAAAAAFEAAAAAAAAAUQAAAAAAAABRAAAAAAAAAFEAAAAAAAAAUQAAAAAAAABBAAAAAAAAAHEAAAAAAAAAUQAAAAAAAABRAAAAAAAAAFEAAAAAAAAAUQAAAAAAAABRAAAAAAAAAFEAAAAAAAAAUQAAAAAAAABRAAAAAAAAAFEAAAAAAAAAUQAAAAAAAABRAAAAAAAAAFEAAAAAAAAAUQAAAAAAAABRAAAAAAAAAFEAAAAAAAAAUQAAAAAAAABRAAAAAAAAAFEAAAAAAAAAUQAAAAAAAABRAAAAAAAAAFEAAAAAAAAAUQAAAAAAAABRAAAAAAAAAFEAAAAAAAAAUQAAAAAAAABRAAAAAAAAAFEAAAAAAAAAUQAAAAAAAABRAAAAAAAAAFEAAAAAAAAAUQAAAAAAAABRAAAAAAAAAFEAAAAAAAAAUQAAAAAAAABRAAAAAAAAAFEAAAAAAAAAUQAAAAAAAABRAAAAAAAAAFEAAAAAAAAAUQAAAAAAAABRAAAAAAAAAFEAAAAAAAAAUQAAAAAAAABRAAAAAAAAAFEAAAAAAAAAcQAAAAAAAABRAAAAAAAAAEEAAAAAAAAAUQAAAAAAAABRAAAAAAAAAFEAAAAAAAAAUQAAAAAAAABxAAAAAAAAAFEAAAAAAAAAUQAAAAAAAABRAAAAAAAAAFEAAAAAAAAAUQAAAAAAAABRAAAAAAAAAFEAAAAAAAAAUQAAAAAAAABRAAAAAAAAAFEAAAAAAAAAQQAAAAAAAABRAAAAAAAAAFEAAAAAAAAAUQAAAAAAAABRAAAAAAAAAFEAAAAAAAAAUQAAAAAAAABRAAAAAAAAAFEAAAAAAAAAcQAAAAAAAABxAAAAAAAAAFEAAAAAAAAAUQAAAAAAAABRAAAAAAAAAFEAAAAAAAAAUQAAAAAAAABRAAAAAAAAAFEAAAAAAAAAUQAAAAAAAABRAAAAAAAAAFEAAAAAAAAAcQAAAAAAAABRAAAAAAAAAHEAAAAAAAAAUQAAAAAAAABRAAAAAAAAAFEAAAAAAAAAUQAAAAAAAABRAAAAAAAAAFEAAAAAAAAAUQAAAAAAAABRAAAAAAAAAFEAAAAAAAAAUQAAAAAAAABRAAAAAAAAAFEAAAAAAAAAQQAAAAAAAABRAAAAAAAAAFEAAAAAAAAAUQAAAAAAAABRAAAAAAAAAFEAAAAAAAAAUQAAAAAAAABRAAAAAAAAAFEAAAAAAAAAUQAAAAAAAABRAAAAAAAAAFEAAAAAAAAAUQAAAAAAAABRAAAAAAAAAIEAAAAAAAAAcQAAAAAAAABRAAAAAAAAAFEAAAAAAAAAUQAAAAAAAABRAAAAAAAAAFEAAAAAAAAAUQAAAAAAAABxAAAAAAAAAFEAAAAAAAAAUQAAAAAAAABRAAAAAAAAAFEAAAAAAAAAcQAAAAAAAABRAAAAAAAAAFEAAAAAAAAAUQAAAAAAAABRAAAAAAAAAHEAAAAAAAAAUQAAAAAAAABRAAAAAAAAAFEAAAAAAAAAUQAAAAAAAABRAAAAAAAAAFEAAAAAAAAAUQAAAAAAAABRAAAAAAAAAFEAAAAAAAAAcQAAAAAAAABRAAAAAAAAAHEAAAAAAAAAUQAAAAAAAABRAAAAAAAAAFEAAAAAAAAAUQAAAAAAAABRAAAAAAAAAFEAAAAAAAAAUQAAAAAAAABRAAAAAAAAAFEAAAAAAAAAUQAAAAAAAABxAAAAAAAAAHEAAAAAAAAAUQAAAAAAAABRAAAAAAAAAFEAAAAAAAAAUQAAAAAAAABRAAAAAAAAAHEAAAAAAAAAUQAAAAAAAABRAAAAAAAAAFEAAAAAAAAAUQAAAAAAAABxAAAAAAAAAFEAAAAAAAAAUQAAAAAAAABRAAAAAAAAAFEAAAAAAAAAUQAAAAAAAABRAAAAAAAAAFEAAAAAAAAAUQAAAAAAAABxAAAAAAAAAFEAAAAAAAAAUQAAAAAAAABRAAAAAAAAAHEAAAAAAAAAUQAAAAAAAABxAAAAAAAAAFEAAAAAAAAAUQAAAAAAAABRAAAAAAAAAHEAAAAAAAAAUQAAAAAAAABRAAAAAAAAAFEAAAAAAAAAUQAAAAAAAABRAAAAAAAAAFEAAAAAAAAAUQAAAAAAAABRAAAAAAAAAFEAAAAAAAAAQQAAAAAAAABRAAAAAAAAAFEAAAAAAAAAUQAAAAAAAABRAAAAAAAAAFEAAAAAAAAAcQAAAAAAAABxAAAAAAAAAFEAAAAAAAAAcQAAAAAAAABRAAAAAAAAAHEAAAAAAAAAUQAAAAAAAABRAAAAAAAAAFEAAAAAAAAAUQAAAAAAAABRAAAAAAAAAHEAAAAAAAAAUQAAAAAAAABRAAAAAAAAAHEAAAAAAAAAUQAAAAAAAABRAAAAAAAAAHEAAAAAAAAAUQAAAAAAAABRAAAAAAAAAFEAAAAAAAAAUQAAAAAAAABRAAAAAAAAAFEAAAAAAAAAcQAAAAAAAABRAAAAAAAAAHEAAAAAAAAAUQAAAAAAAAABAAAAAAAAAFEAAAAAAAAAUQAAAAAAAABRAAAAAAAAAFEAAAAAAAAAcQAAAAAAAABRAAAAAAAAAFEAAAAAAAAAUQAAAAAAAABRAAAAAAAAAFEAAAAAAAAAUQAAAAAAAABRAAAAAAAAAFEAAAAAAAAAUQAAAAAAAABRAAAAAAAAAHEAAAAAAAAAUQAAAAAAAABRAAAAAAAAAFEAAAAAAAAAUQAAAAAAAABRAAAAAAAAAHEAAAAAAAAAUQAAAAAAAABRAAAAAAAAAFEAAAAAAAAAUQAAAAAAAABRAAAAAAAAAHEAAAAAAAAAcQAAAAAAAABxAAAAAAAAAFEAAAAAAAAAUQAAAAAAAABRAAAAAAAAAHEAAAAAAAAAcQAAAAAAAABxAAAAAAAAAFEAAAAAAAAAUQAAAAAAAABRAAAAAAAAAGEAAAAAAAAAUQAAAAAAAABxAAAAAAAAAFEAAAAAAAAAUQAAAAAAAACBAAAAAAAAAFEAAAAAAAAAUQAAAAAAAABxAAAAAAAAAFEAAAAAAAAAUQAAAAAAAABRAAAAAAAAAHEAAAAAAAAAUQAAAAAAAABxAAAAAAAAAFEAAAAAAAAAcQAAAAAAAABRAAAAAAAAAIEAAAAAAAAAUQAAAAAAAABRAAAAAAAAAFEAAAAAAAAAUQAAAAAAAABRAAAAAAAAAFEAAAAAAAAAUQAAAAAAAACBAAAAAAAAAFEAAAAAAAAAUQAAAAAAAABxAAAAAAAAAFEAAAAAAAAAcQAAAAAAAACBAAAAAAAAAFEAAAAAAAAAUQAAAAAAAABRAAAAAAAAAFEAAAAAAAAAUQAAAAAAAABxAAAAAAAAAHEAAAAAAAAAUQAAAAAAAABRAAAAAAAAAFEAAAAAAAAAUQAAAAAAAABRAAAAAAAAAFEAAAAAAAAAUQAAAAAAAABRAAAAAAAAAFEAAAAAAAAAUQAAAAAAAABRAAAAAAAAAFEAAAAAAAAAcQAAAAAAAABRAAAAAAAAAFEAAAAAAAAAUQAAAAAAAABxAAAAAAAAAFEAAAAAAAAAUQAAAAAAAABRAAAAAAAAAHEAAAAAAAAAUQAAAAAAAABRAAAAAAAAAHEAAAAAAAAAUQAAAAAAAABRAAAAAAAAAHEAAAAAAAAAUQAAAAAAAABRAAAAAAAAAHEAAAAAAAAAUQAAAAAAAABRAAAAAAAAAFEAAAAAAAAAUQAAAAAAAABRAAAAAAAAAFEAAAAAAAAAcQAAAAAAAABRAAAAAAAAAFEAAAAAAAAAUQAAAAAAAABRAAAAAAAAAFEAAAAAAAAAUQAAAAAAAABRAAAAAAAAAFEAAAAAAAAAUQAAAAAAAABRAAAAAAAAAFEAAAAAAAAAUQAAAAAAAABRAAAAAAAAAFEAAAAAAAAAUQAAAAAAAABRAAAAAAAAAFEAAAAAAAAAUQAAAAAAAABRAAAAAAAAAAEAAAAAAAAAUQAAAAAAAABRAAAAAAAAAFEAAAAAAAAAcQAAAAAAAABRAAAAAAAAAFEAAAAAAAAAUQAAAAAAAABRAAAAAAAAAFEAAAAAAAAAcQAAAAAAAABRAAAAAAAAAFEAAAAAAAAAUQAAAAAAAABRAAAAAAAAAFEAAAAAAAAAUQAAAAAAAABRAAAAAAAAAFEAAAAAAAAAUQAAAAAAAABRAAAAAAAAAFEAAAAAAAAAQQAAAAAAAABRAAAAAAAAAFEAAAAAAAAAQQAAAAAAAABxAAAAAAAAAFEAAAAAAAAAUQAAAAAAAABRAAAAAAAAAFEAAAAAAAAAUQAAAAAAAABRAAAAAAAAAFEAAAAAAAAAUQAAAAAAAABRAAAAAAAAAFEAAAAAAAAAUQAAAAAAAABRAAAAAAAAAFEAAAAAAAAD4fwAAAAAAABRAAAAAAAAAFEAAAAAAAAAcQAAAAAAAABRAAAAAAAAAFEAAAAAAAAAUQAAAAAAAABBAAAAAAAAAHEAAAAAAAAAUQAAAAAAAABRAAAAAAAAAFEAAAAAAAAAUQAAAAAAAABRAAAAAAAAAFEAAAAAAAAAUQAAAAAAAAPh/AAAAAAAAFEAAAAAAAAAUQAAAAAAAABRAAAAAAAAAFEAAAAAAAAAcQAAAAAAAABRAAAAAAAAAFEAAAAAAAAAUQAAAAAAAABRAAAAAAAAAFEAAAAAAAAAUQAAAAAAAABBAAAAAAAAAFEAAAAAAAAAUQAAAAAAAABRAAAAAAAAAFEAAAAAAAAAUQAAAAAAAABRAAAAAAAAAIEAAAAAAAAAUQAAAAAAAABBAAAAAAAAAIEAAAAAAAAAUQAAAAAAAABRAAAAAAAAAIEAAAAAAAAAcQAAAAAAAABRAAAAAAAAAFEAAAAAAAAAUQAAAAAAAABRAAAAAAAAAFEAAAAAAAAAUQAAAAAAAABRAAAAAAAAAFEAAAAAAAAAUQAAAAAAAABRAAAAAAAAAFEAAAAAAAAAUQAAAAAAAABRAAAAAAAAAHEAAAAAAAAAgQAAAAAAAABRAAAAAAAAAHEAAAAAAAAAUQAAAAAAAABRAAAAAAAAAHEAAAAAAAAAcQAAAAAAAABRAAAAAAAAAAEAAAAAAAAAUQAAAAAAAABxAAAAAAAAAHEAAAAAAAAAUQAAAAAAAABRAAAAAAAAAFEAAAAAAAAAUQAAAAAAAABxAAAAAAAAAFEAAAAAAAAAUQAAAAAAAABRAAAAAAAAAFEAAAAAAAAAcQAAAAAAAABxAAAAAAAAAFEAAAAAAAAAkQAAAAAAAABRAAAAAAAAAFEAAAAAAAAAUQAAAAAAAABRAAAAAAAAAFEAAAAAAAAAUQAAAAAAAABRAAAAAAAAAFEAAAAAAAAAUQAAAAAAAABRAAAAAAAAAFEAAAAAAAAAUQAAAAAAAABRAAAAAAAAAFEAAAAAAAAAUQAAAAAAAABRAAAAAAAAAFEAAAAAAAAAUQAAAAAAAABRAAAAAAAAAFEAAAAAAAAAUQAAAAAAAABRAAAAAAAAAFEAAAAAAAAAcQAAAAAAAABRAAAAAAAAAFEAAAAAAAAAUQAAAAAAAABxAAAAAAAAAFEAAAAAAAAAUQAAAAAAAABRAAAAAAAAAHEAAAAAAAAAUQAAAAAAAABRAAAAAAAAAFEAAAAAAAAAcQAAAAAAAABRAAAAAAAAAFEAAAAAAAAAUQAAAAAAAABRAAAAAAAAAFEAAAAAAAAAUQAAAAAAAABRAAAAAAAAAHEAAAAAAAAAUQAAAAAAAACBAAAAAAAAAFEAAAAAAAAAcQAAAAAAAABRAAAAAAAAAFEAAAAAAAAAUQAAAAAAAABRAAAAAAAAAHEAAAAAAAAAUQAAAAAAAABRAAAAAAAAAFEAAAAAAAAAUQAAAAAAAABRAAAAAAAAAHEAAAAAAAAAUQAAAAAAAABxAAAAAAAAAFEAAAAAAAAAUQAAAAAAAABRAAAAAAAAAFEAAAAAAAAAUQAAAAAAAABxAAAAAAAAAFEAAAAAAAAAUQAAAAAAAABRAAAAAAAAAFEAAAAAAAAAQQAAAAAAAABRAAAAAAAAAFEAAAAAAAAAUQAAAAAAAABRAAAAAAAAAFEAAAAAAAAAUQAAAAAAAABRAAAAAAAAAHEAAAAAAAAAUQAAAAAAAABxAAAAAAAAAFEAAAAAAAAAUQAAAAAAAABRAAAAAAAAAFEAAAAAAAAAUQAAAAAAAABRAAAAAAAAAHEAAAAAAAAAUQAAAAAAAABRAAAAAAAAAFEAAAAAAAAAUQAAAAAAAABRAAAAAAAAAFEAAAAAAAAAUQAAAAAAAABRAAAAAAAAAHEAAAAAAAAAUQAAAAAAAABRAAAAAAAAAAEAAAAAAAAAUQAAAAAAAACRAAAAAAAAAHEAAAAAAAAAUQAAAAAAAABRAAAAAAAAAFEAAAAAAAAAUQAAAAAAAABxAAAAAAAAAFEAAAAAAAAAUQAAAAAAAAABAAAAAAAAAFEAAAAAAAAAUQAAAAAAAABRAAAAAAAAAFEAAAAAAAAAUQAAAAAAAABRAAAAAAAAAFEAAAAAAAAAUQAAAAAAAABRAAAAAAAAAFEAAAAAAAAAUQAAAAAAAABRAAAAAAAAAFEAAAAAAAAAUQAAAAAAAABRAAAAAAAAAFEAAAAAAAAAUQAAAAAAAABRAAAAAAAAAFEAAAAAAAAAcQAAAAAAAABRAAAAAAAAAFEAAAAAAAAAUQAAAAAAAABRAAAAAAAAAGEAAAAAAAAAcQAAAAAAAABRAAAAAAAAAFEAAAAAAAAAUQAAAAAAAABRAAAAAAAAAFEAAAAAAAAAUQAAAAAAAABRAAAAAAAAAFEAAAAAAAAAUQAAAAAAAABRAAAAAAAAAFEAAAAAAAAAUQAAAAAAAACBAAAAAAAAAFEAAAAAAAAAUQAAAAAAAABRAAAAAAAAAFEAAAAAAAAAUQAAAAAAAABRAAAAAAAAAFEAAAAAAAAAUQAAAAAAAABRAAAAAAAAAHEAAAAAAAAAUQAAAAAAAABRAAAAAAAAAFEAAAAAAAAAUQAAAAAAAABRAAAAAAAAAFEAAAAAAAAAUQAAAAAAAABRAAAAAAAAAFEAAAAAAAAAUQAAAAAAAABRAAAAAAAAAFEAAAAAAAAAUQAAAAAAAABRAAAAAAAAAFEAAAAAAAAAUQAAAAAAAABRAAAAAAAAAFEAAAAAAAAAUQAAAAAAAABRAAAAAAAAAFEAAAAAAAAAUQAAAAAAAABRAAAAAAAAAFEAAAAAAAAAUQAAAAAAAABRAAAAAAAAAFEAAAAAAAAAUQAAAAAAAABRAAAAAAAAAFEAAAAAAAAAUQAAAAAAAABRAAAAAAAAAIEAAAAAAAAAUQAAAAAAAABRAAAAAAAAAFEAAAAAAAAAcQAAAAAAAACBAAAAAAAAAFEAAAAAAAAAUQAAAAAAAABxAAAAAAAAAFEAAAAAAAAAUQAAAAAAAABRAAAAAAAAAFEAAAAAAAAAUQAAAAAAAABRAAAAAAAAAFEAAAAAAAAAUQAAAAAAAABRAAAAAAAAAFEAAAAAAAAAcQAAAAAAAABxAAAAAAAAAFEAAAAAAAAAcQAAAAAAAABRAAAAAAAAAFEAAAAAAAAAUQAAAAAAAABRAAAAAAAAAFEAAAAAAAAAUQAAAAAAAABRAAAAAAAAAHEAAAAAAAAAUQAAAAAAAABRAAAAAAAAAFEAAAAAAAAAUQAAAAAAAABRAAAAAAAAAFEAAAAAAAAAUQAAAAAAAACBAAAAAAAAAFEAAAAAAAAAUQAAAAAAAABRAAAAAAAAAFEAAAAAAAAAUQAAAAAAAABRAAAAAAAAAFEAAAAAAAAAUQAAAAAAAABRAAAAAAAAAFEAAAAAAAAAUQAAAAAAAABRAAAAAAAAAFEAAAAAAAAAUQAAAAAAAABxAAAAAAAAAFEAAAAAAAAAcQAAAAAAAABRAAAAAAAAAHEAAAAAAAAAUQAAAAAAAABRAAAAAAAAAFEAAAAAAAAAUQAAAAAAAABRAAAAAAAAAFEAAAAAAAAAcQAAAAAAAABxAAAAAAAAAFEAAAAAAAAAUQAAAAAAAABxAAAAAAAAAFEAAAAAAAAAAQAAAAAAAABRAAAAAAAAAFEAAAAAAAAAUQAAAAAAAABRAAAAAAAAAFEAAAAAAAAAUQAAAAAAAABRAAAAAAAAAFEAAAAAAAAAUQAAAAAAAABRAAAAAAAAAFEAAAAAAAAAUQAAAAAAAABRAAAAAAAAAFEAAAAAAAAAcQAAAAAAAABRAAAAAAAAAFEAAAAAAAAAUQAAAAAAAABRAAAAAAAAAFEAAAAAAAAAUQAAAAAAAABRAAAAAAAAAHEAAAAAAAAAUQAAAAAAAABxAAAAAAAAAHEAAAAAAAAAUQAAAAAAAABRAAAAAAAAAFEAAAAAAAAAUQAAAAAAAABRAAAAAAAAAFEAAAAAAAAAUQAAAAAAAABRAAAAAAAAAFEAAAAAAAAAUQAAAAAAAABRAAAAAAAAAFEAAAAAAAAAUQAAAAAAAABRAAAAAAAAAFEAAAAAAAAAUQAAAAAAAABRAAAAAAAAAFEAAAAAAAAAUQAAAAAAAABRAAAAAAAAAFEAAAAAAAAAUQAAAAAAAABRAAAAAAAAAFEAAAAAAAAAcQAAAAAAAABRAAAAAAAAAFEAAAAAAAAAUQAAAAAAAABRAAAAAAAAAFEAAAAAAAAAUQAAAAAAAABRAAAAAAAAAFEAAAAAAAAAUQAAAAAAAABRAAAAAAAAAHEAAAAAAAAAUQAAAAAAAABRAAAAAAAAAFEAAAAAAAAAUQAAAAAAAABxAAAAAAAAAHEAAAAAAAAAUQAAAAAAAABRAAAAAAAAAFEAAAAAAAAAUQAAAAAAAABRAAAAAAAAAFEAAAAAAAAAUQAAAAAAAABRAAAAAAAAAFEAAAAAAAAAUQAAAAAAAABRAAAAAAAAAFEAAAAAAAAAUQAAAAAAAABRAAAAAAAAAFEAAAAAAAAAUQAAAAAAAABRAAAAAAAAAFEAAAAAAAAAUQAAAAAAAABRAAAAAAAAAFEAAAAAAAAAUQAAAAAAAABRAAAAAAAAAFEAAAAAAAAAUQAAAAAAAABRAAAAAAAAAFEAAAAAAAAAUQAAAAAAAABRAAAAAAAAAFEAAAAAAAAAUQAAAAAAAABRAAAAAAAAAFEAAAAAAAAAUQAAAAAAAACBAAAAAAAAAFEAAAAAAAAAUQAAAAAAAABRAAAAAAAAAFEAAAAAAAAAUQAAAAAAAABRAAAAAAAAAFEAAAAAAAAAUQAAAAAAAABRAAAAAAAAAFEAAAAAAAAAUQAAAAAAAABRAAAAAAAAAFEAAAAAAAAAUQAAAAAAAABRAAAAAAAAAHEAAAAAAAAAUQAAAAAAAABRAAAAAAAAAHEAAAAAAAAAUQAAAAAAAABRAAAAAAAAAFEAAAAAAAAAUQAAAAAAAABRAAAAAAAAAHEAAAAAAAAAcQAAAAAAAABRAAAAAAAAAHEAAAAAAAAAUQAAAAAAAABRAAAAAAAAAFEAAAAAAAAAUQAAAAAAAABRAAAAAAAAAFEAAAAAAAAAUQAAAAAAAABRAAAAAAAAAFEAAAAAAAAAUQAAAAAAAABRAAAAAAAAAFEAAAAAAAAAgQAAAAAAAABRAAAAAAAAAFEAAAAAAAAAQQAAAAAAAABRAAAAAAAAAFEAAAAAAAAAUQAAAAAAAABRAAAAAAAAAFEAAAAAAAAAcQAAAAAAAABRAAAAAAAAAFEAAAAAAAAAUQAAAAAAAABRAAAAAAAAAFEAAAAAAAAAUQAAAAAAAABRAAAAAAAAAFEAAAAAAAAAUQAAAAAAAABRAAAAAAAAAFEAAAAAAAAAcQAAAAAAAABxAAAAAAAAAFEAAAAAAAAAUQAAAAAAAABRAAAAAAAAAHEAAAAAAAAAUQAAAAAAAABRAAAAAAAAAFEAAAAAAAAAUQAAAAAAAABRAAAAAAAAAFEAAAAAAAAAUQAAAAAAAABRAAAAAAAAAHEAAAAAAAAAUQAAAAAAAABRAAAAAAAAAFEAAAAAAAAAUQAAAAAAAABRAAAAAAAAAFEAAAAAAAAAcQAAAAAAAABRAAAAAAAAAFEAAAAAAAAAUQAAAAAAAABRAAAAAAAAAEEAAAAAAAAAUQAAAAAAAABRAAAAAAAAAHEAAAAAAAAAUQAAAAAAAABxAAAAAAAAAFEAAAAAAAAAUQAAAAAAAABRAAAAAAAAAFEAAAAAAAAAUQAAAAAAAABRAAAAAAAAAFEAAAAAAAAAUQAAAAAAAABRAAAAAAAAAFEAAAAAAAAAUQAAAAAAAABRAAAAAAAAAFEAAAAAAAAAAQAAAAAAAABRAAAAAAAAAFEAAAAAAAAAcQAAAAAAAABRAAAAAAAAAFEAAAAAAAAD4fwAAAAAAABRAAAAAAAAAFEAAAAAAAAAUQAAAAAAAABRAAAAAAAAAHEAAAAAAAAAcQAAAAAAAABRAAAAAAAAAFEAAAAAAAAAUQAAAAAAAABRAAAAAAAAAFEAAAAAAAAAUQAAAAAAAABRAAAAAAAAAFEAAAAAAAAAQQAAAAAAAABRAAAAAAAAAFEAAAAAAAAAUQAAAAAAAABRAAAAAAAAAFEAAAAAAAAAUQAAAAAAAABRAAAAAAAAAFEAAAAAAAAAUQAAAAAAAABRAAAAAAAAAFEAAAAAAAAAUQAAAAAAAABBAAAAAAAAAFEAAAAAAAAAUQAAAAAAAABRAAAAAAAAAFEAAAAAAAAD4fwAAAAAAABRAAAAAAAAAFEAAAAAAAAAcQAAAAAAAABRAAAAAAAAAFEAAAAAAAAAUQAAAAAAAABRAAAAAAAAAFEAAAAAAAAAcQAAAAAAAABRAAAAAAAAAFEAAAAAAAAAUQAAAAAAAABRAAAAAAAAAFEAAAAAAAAAUQAAAAAAAABRAAAAAAAAAFEAAAAAAAAAUQAAAAAAAABRAAAAAAAAAIkAAAAAAAAAUQAAAAAAAABRAAAAAAAAAFEAAAAAAAAAUQAAAAAAAABxAAAAAAAAAHEAAAAAAAAAUQAAAAAAAABxAAAAAAAAAFEAAAAAAAAAUQAAAAAAAABRAAAAAAAAAFEAAAAAAAAAUQAAAAAAAABRAAAAAAAAAFEAAAAAAAAAUQAAAAAAAABxAAAAAAAAAFEAAAAAAAAAUQAAAAAAAABRAAAAAAAAAFEAAAAAAAAAUQAAAAAAAABRAAAAAAAAAFEAAAAAAAAAUQAAAAAAAABRAAAAAAAAAFEAAAAAAAAAUQAAAAAAAABRAAAAAAAAAFEAAAAAAAAAUQAAAAAAAABRAAAAAAAAAFEAAAAAAAAAUQAAAAAAAABRAAAAAAAAAFEAAAAAAAAAUQAAAAAAAAPh/AAAAAAAAFEAAAAAAAAAUQAAAAAAAABRAAAAAAAAAFEAAAAAAAAAUQAAAAAAAABRAAAAAAAAAFEAAAAAAAAAUQAAAAAAAABRAAAAAAAAAFEAAAAAAAAAUQAAAAAAAABxAAAAAAAAAFEAAAAAAAAAcQAAAAAAAABRAAAAAAAAAFEAAAAAAAAAUQAAAAAAAABRAAAAAAAAAFEAAAAAAAAAcQAAAAAAAABRAAAAAAAAAHEAAAAAAAAAUQAAAAAAAABRAAAAAAAAAFEAAAAAAAAAUQAAAAAAAABRAAAAAAAAAFEAAAAAAAAAUQAAAAAAAABRAAAAAAAAAFEAAAAAAAAAUQAAAAAAAABRAAAAAAAAAFEAAAAAAAAAUQAAAAAAAABRAAAAAAAAAFEAAAAAAAAAUQAAAAAAAABRAAAAAAAAAFEAAAAAAAAAUQAAAAAAAABxAAAAAAAAAFEAAAAAAAAAQQAAAAAAAABxAAAAAAAAAFEAAAAAAAAAUQAAAAAAAABBAAAAAAAAAFEAAAAAAAAAcQAAAAAAAABRAAAAAAAAAFEAAAAAAAAAUQAAAAAAAABxAAAAAAAAAFEAAAAAAAAAgQAAAAAAAABRAAAAAAAAAFEAAAAAAAAAUQAAAAAAAABRAAAAAAAAAFEAAAAAAAAAUQAAAAAAAABRAAAAAAAAAFEAAAAAAAAAUQAAAAAAAABRAAAAAAAAAFEAAAAAAAAAUQAAAAAAAABRAAAAAAAAAFEAAAAAAAAAUQAAAAAAAABRAAAAAAAAAEEAAAAAAAAAUQAAAAAAAAPh/AAAAAAAAFEAAAAAAAAAUQAAAAAAAABRAAAAAAAAAFEAAAAAAAAAUQAAAAAAAABxAAAAAAAAAFEAAAAAAAAAUQAAAAAAAABRAAAAAAAAAEEAAAAAAAAAUQAAAAAAAABRAAAAAAAAAHEAAAAAAAAAUQAAAAAAAABRAAAAAAAAAFEAAAAAAAAAUQAAAAAAAABRAAAAAAAAAFEAAAAAAAAAUQAAAAAAAACBAAAAAAAAAHEAAAAAAAAAUQAAAAAAAABRAAAAAAAAAHEAAAAAAAAAUQAAAAAAAABRAAAAAAAAAFEAAAAAAAAAUQAAAAAAAABRAAAAAAAAAFEAAAAAAAAAUQAAAAAAAABxAAAAAAAAAFEAAAAAAAAAUQAAAAAAAABRAAAAAAAAAFEAAAAAAAAAUQAAAAAAAABRAAAAAAAAAFEAAAAAAAAAcQAAAAAAAABRAAAAAAAAAFEAAAAAAAAAcQAAAAAAAABRAAAAAAAAAFEAAAAAAAAAUQAAAAAAAABRAAAAAAAAAFEAAAAAAAAAUQAAAAAAAABRAAAAAAAAAFEAAAAAAAAAUQAAAAAAAABRAAAAAAAAAIEAAAAAAAAAcQAAAAAAAABRAAAAAAAAAFEAAAAAAAAAUQAAAAAAAABRAAAAAAAAAIEAAAAAAAAAUQAAAAAAAABRAAAAAAAAAHEAAAAAAAAAUQAAAAAAAABRAAAAAAAAAFEAAAAAAAAAgQAAAAAAAABRAAAAAAAAAFEAAAAAAAAAUQAAAAAAAACBAAAAAAAAAFEAAAAAAAAAUQAAAAAAAABRAAAAAAAAAFEAAAAAAAAAUQAAAAAAAABRAAAAAAAAAFEAAAAAAAAAUQAAAAAAAABxAAAAAAAAAGEAAAAAAAAAUQAAAAAAAABRAAAAAAAAAEEAAAAAAAAAUQAAAAAAAABRAAAAAAAAAFEAAAAAAAAAUQAAAAAAAABRAAAAAAAAAFEAAAAAAAAAcQAAAAAAAABRAAAAAAAAAFEAAAAAAAAAUQAAAAAAAABxAAAAAAAAAFEAAAAAAAAAUQAAAAAAAABRAAAAAAAAAFEAAAAAAAAAUQAAAAAAAABxAAAAAAAAAFEAAAAAAAAAUQAAAAAAAABRAAAAAAAAAFEAAAAAAAAAUQAAAAAAAABxAAAAAAAAAFEAAAAAAAAAUQAAAAAAAABRAAAAAAAAAFEAAAAAAAAAcQAAAAAAAABRAAAAAAAAAFEAAAAAAAAAUQAAAAAAAABRAAAAAAAAAHEAAAAAAAAAUQAAAAAAAABRAAAAAAAAAFEAAAAAAAAAUQAAAAAAAABxAAAAAAAAAHEAAAAAAAAAUQAAAAAAAABRAAAAAAAAAFEAAAAAAAAAUQAAAAAAAABxAAAAAAAAAFEAAAAAAAAAUQAAAAAAAABRAAAAAAAAAFEAAAAAAAAAUQAAAAAAAABRAAAAAAAAAHEAAAAAAAAAUQAAAAAAAABRAAAAAAAAAFEAAAAAAAAAUQAAAAAAAABRAAAAAAAAAEEAAAAAAAAAUQAAAAAAAABxAAAAAAAAAHEAAAAAAAAAUQAAAAAAAABRAAAAAAAAAFEAAAAAAAAAUQAAAAAAAABRAAAAAAAAAHEAAAAAAAAAUQAAAAAAAABRAAAAAAAAAFEAAAAAAAAAUQAAAAAAAABxAAAAAAAAAFEAAAAAAAAAUQAAAAAAAABRAAAAAAAAAFEAAAAAAAAAUQAAAAAAAABRAAAAAAAAAFEAAAAAAAAAUQAAAAAAAABRAAAAAAAAAFEAAAAAAAAAUQAAAAAAAABBAAAAAAAAAFEAAAAAAAAAUQAAAAAAAABRAAAAAAAAAFEAAAAAAAAAUQAAAAAAAABRAAAAAAAAAFEAAAAAAAAAUQAAAAAAAABRAAAAAAAAAFEAAAAAAAAAcQAAAAAAAABxAAAAAAAAAFEAAAAAAAAAUQAAAAAAAABRAAAAAAAAAHEAAAAAAAAAUQAAAAAAAABRAAAAAAAAAFEAAAAAAAAAUQAAAAAAAABRAAAAAAAAAFEAAAAAAAAAUQAAAAAAAABRAAAAAAAAAIEAAAAAAAAAUQAAAAAAAABRAAAAAAAAAEEAAAAAAAAAgQAAAAAAAABRAAAAAAAAAFEAAAAAAAAAUQAAAAAAAABRAAAAAAAAAFEAAAAAAAAAUQAAAAAAAABRAAAAAAAAAFEAAAAAAAAAUQAAAAAAAABRAAAAAAAAAFEAAAAAAAAAUQAAAAAAAABRAAAAAAAAAFEAAAAAAAAAUQAAAAAAAABRAAAAAAAAAFEAAAAAAAAAUQAAAAAAAABRAAAAAAAAAFEAAAAAAAAAgQAAAAAAAABBAAAAAAAAAFEAAAAAAAAAUQAAAAAAAABRAAAAAAAAAFEAAAAAAAAAUQAAAAAAAABRAAAAAAAAAIEAAAAAAAAAcQAAAAAAAABRAAAAAAAAAFEAAAAAAAAAUQAAAAAAAABRAAAAAAAAAFEAAAAAAAAAUQAAAAAAAABRAAAAAAAAAFEAAAAAAAAAgQAAAAAAAABRAAAAAAAAAFEAAAAAAAAAcQAAAAAAAABRAAAAAAAAAHEAAAAAAAAAUQAAAAAAAABxAAAAAAAAAFEAAAAAAAAAUQAAAAAAAABRAAAAAAAAAFEAAAAAAAAAUQAAAAAAAABRAAAAAAAAAFEAAAAAAAAAUQAAAAAAAABRAAAAAAAAAEEAAAAAAAAAUQAAAAAAAABRAAAAAAAAAFEAAAAAAAAAcQAAAAAAAABRAAAAAAAAAFEAAAAAAAAAUQAAAAAAAACBAAAAAAAAAFEAAAAAAAAAUQAAAAAAAABxAAAAAAAAAFEAAAAAAAAAUQAAAAAAAABRAAAAAAAAAFEAAAAAAAAAUQAAAAAAAABRAAAAAAAAAFEAAAAAAAAAUQAAAAAAAABRAAAAAAAAAFEAAAAAAAAAUQAAAAAAAABRAAAAAAAAAFEAAAAAAAAAcQAAAAAAAABRAAAAAAAAAHEAAAAAAAAAQQAAAAAAAABRAAAAAAAAAFEAAAAAAAAAcQAAAAAAAABRAAAAAAAAAFEAAAAAAAAAcQAAAAAAAABRAAAAAAAAAFEAAAAAAAAAUQAAAAAAAABRAAAAAAAAAHEAAAAAAAAAUQAAAAAAAABRAAAAAAAAAFEAAAAAAAAAUQAAAAAAAABRAAAAAAAAAFEAAAAAAAAAUQAAAAAAAABxAAAAAAAAAFEAAAAAAAAAUQAAAAAAAABRAAAAAAAAAFEAAAAAAAAAUQAAAAAAAABRAAAAAAAAAFEAAAAAAAAAUQAAAAAAAABRAAAAAAAAAFEAAAAAAAAAUQAAAAAAAABRAAAAAAAAAFEAAAAAAAAAUQAAAAAAAABRAAAAAAAAAFEAAAAAAAAAUQAAAAAAAABRAAAAAAAAAHEAAAAAAAAAUQAAAAAAAABxAAAAAAAAAFEAAAAAAAAAUQAAAAAAAABRAAAAAAAAAFEAAAAAAAAAUQAAAAAAAABRAAAAAAAAAFEAAAAAAAAAUQAAAAAAAABRAAAAAAAAAHEAAAAAAAAAcQAAAAAAAABRAAAAAAAAAFEAAAAAAAAAUQAAAAAAAABRAAAAAAAAAFEAAAAAAAAAUQAAAAAAAABRAAAAAAAAAFEAAAAAAAAAQQAAAAAAAABRAAAAAAAAAFEAAAAAAAAAUQAAAAAAAABRAAAAAAAAAFEAAAAAAAAAUQAAAAAAAABxAAAAAAAAAFEAAAAAAAAAUQAAAAAAAABRAAAAAAAAAFEAAAAAAAAAUQAAAAAAAABRAAAAAAAAAFEAAAAAAAAAUQAAAAAAAABRAAAAAAAAAFEAAAAAAAAAUQAAAAAAAABRAAAAAAAAAFEAAAAAAAAAUQAAAAAAAABRAAAAAAAAAFEAAAAAAAAAUQAAAAAAAABRAAAAAAAAAHEAAAAAAAAAUQAAAAAAAABRAAAAAAAAAFEAAAAAAAAAUQAAAAAAAABRAAAAAAAAAFEAAAAAAAAAcQAAAAAAAABRAAAAAAAAAFEAAAAAAAAAQQAAAAAAAABRAAAAAAAAAHEAAAAAAAAAUQAAAAAAAABRAAAAAAAAAFEAAAAAAAAAUQAAAAAAAABRAAAAAAAAAFEAAAAAAAAAcQAAAAAAAABRAAAAAAAAAFEAAAAAAAAAUQAAAAAAAABRAAAAAAAAAFEAAAAAAAAAUQAAAAAAAABRAAAAAAAAAFEAAAAAAAAAUQAAAAAAAABRAAAAAAAAAFEAAAAAAAAAUQAAAAAAAABRAAAAAAAAAFEAAAAAAAAAcQAAAAAAAABRAAAAAAAAAFEAAAAAAAAAUQAAAAAAAABRAAAAAAAAAFEAAAAAAAAAUQAAAAAAAABRAAAAAAAAAFEAAAAAAAAAcQAAAAAAAABRAAAAAAAAAHEAAAAAAAAAUQAAAAAAAABRAAAAAAAAAHEAAAAAAAAAUQAAAAAAAABxAAAAAAAAAFEAAAAAAAAAUQAAAAAAAABRAAAAAAAAAIEAAAAAAAAAUQAAAAAAAABRAAAAAAAAAFEAAAAAAAAAcQAAAAAAAABRAAAAAAAAAFEAAAAAAAAAUQAAAAAAAABRAAAAAAAAAFEAAAAAAAAAUQAAAAAAAABRAAAAAAAAAFEAAAAAAAAAUQAAAAAAAABRAAAAAAAAAFEAAAAAAAAAUQAAAAAAAABRAAAAAAAAAFEAAAAAAAAAUQAAAAAAAABxAAAAAAAAAHEAAAAAAAAAUQAAAAAAAABRAAAAAAAAAFEAAAAAAAAAUQAAAAAAAACRAAAAAAAAAFEAAAAAAAAAYQAAAAAAAABRAAAAAAAAAFEAAAAAAAAAgQAAAAAAAABRAAAAAAAAAFEAAAAAAAAAUQAAAAAAAABRAAAAAAAAA+H8AAAAAAAAUQAAAAAAAABRAAAAAAAAAFEAAAAAAAAAcQAAAAAAAABRAAAAAAAAAFEAAAAAAAAAUQAAAAAAAABRAAAAAAAAAFEAAAAAAAAAUQAAAAAAAABRAAAAAAAAAFEAAAAAAAAAUQAAAAAAAABRAAAAAAAAAFEAAAAAAAAAUQAAAAAAAABRAAAAAAAAAHEAAAAAAAAAUQAAAAAAAABRAAAAAAAAAFEAAAAAAAAAcQAAAAAAAABRAAAAAAAAAFEAAAAAAAAAUQAAAAAAAABRAAAAAAAAAHEAAAAAAAAAUQAAAAAAAABRAAAAAAAAAFEAAAAAAAAAUQAAAAAAAABxAAAAAAAAAFEAAAAAAAAAUQAAAAAAAABRAAAAAAAAAFEAAAAAAAAAUQAAAAAAAABRAAAAAAAAAFEAAAAAAAAAcQAAAAAAAABRAAAAAAAAAFEAAAAAAAAAUQAAAAAAAABRAAAAAAAAAHEAAAAAAAAAUQAAAAAAAABRAAAAAAAAAFEAAAAAAAAAUQAAAAAAAABRAAAAAAAAAHEAAAAAAAAAgQAAAAAAAABRAAAAAAAAAFEAAAAAAAAAcQAAAAAAAABRAAAAAAAAAFEAAAAAAAAAUQAAAAAAAABRAAAAAAAAAFEAAAAAAAAAUQAAAAAAAABRAAAAAAAAAFEAAAAAAAAAUQAAAAAAAABRAAAAAAAAAFEAAAAAAAAAUQAAAAAAAABRAAAAAAAAAFEAAAAAAAAAUQAAAAAAAABRAAAAAAAAAFEAAAAAAAAAUQAAAAAAAABRAAAAAAAAAHEAAAAAAAAAUQAAAAAAAABRAAAAAAAAAFEAAAAAAAAAUQAAAAAAAABxAAAAAAAAAFEAAAAAAAAAUQAAAAAAAABRAAAAAAAAAFEAAAAAAAAAcQAAAAAAAABRAAAAAAAAAFEAAAAAAAAAUQAAAAAAAABRAAAAAAAAAFEAAAAAAAAAcQAAAAAAAABRAAAAAAAAAFEAAAAAAAAAUQAAAAAAAABRAAAAAAAAAFEAAAAAAAAAUQAAAAAAAABRAAAAAAAAAFEAAAAAAAAAUQAAAAAAAABRAAAAAAAAAFEAAAAAAAAAUQAAAAAAAABxAAAAAAAAAIEAAAAAAAAAUQAAAAAAAABRAAAAAAAAAHEAAAAAAAAAcQAAAAAAAABRAAAAAAAAAFEAAAAAAAAAUQAAAAAAAABxAAAAAAAAAHEAAAAAAAAAUQAAAAAAAABRAAAAAAAAAFEAAAAAAAAAUQAAAAAAAABRAAAAAAAAAIEAAAAAAAAAUQAAAAAAAABRAAAAAAAAAFEAAAAAAAAAcQAAAAAAAABRAAAAAAAAAFEAAAAAAAAAUQAAAAAAAABRAAAAAAAAAFEAAAAAAAAAUQAAAAAAAABRAAAAAAAAAIEAAAAAAAAAcQAAAAAAAABRAAAAAAAAAFEAAAAAAAAAYQAAAAAAAABRAAAAAAAAAHEAAAAAAAAAUQAAAAAAAABRAAAAAAAAAFEAAAAAAAAAUQAAAAAAAABRAAAAAAAAAFEAAAAAAAAAUQAAAAAAAABRAAAAAAAAAFEAAAAAAAAAUQAAAAAAAABxAAAAAAAAAFEAAAAAAAAAUQAAAAAAAABxAAAAAAAAAFEAAAAAAAAAUQAAAAAAAABRAAAAAAAAAFEAAAAAAAAD4fwAAAAAAABRAAAAAAAAAFEAAAAAAAAAUQAAAAAAAABRAAAAAAAAAFEAAAAAAAAAUQAAAAAAAABRAAAAAAAAAFEAAAAAAAAAUQAAAAAAAABRAAAAAAAAAFEAAAAAAAAAUQAAAAAAAABRAAAAAAAAAFEAAAAAAAAAQQAAAAAAAABRAAAAAAAAAFEAAAAAAAAAUQAAAAAAAABxAAAAAAAAAFEAAAAAAAAAAQAAAAAAAAPh/AAAAAAAAFEAAAAAAAAAUQAAAAAAAABxAAAAAAAAAFEAAAAAAAAAcQAAAAAAAABRAAAAAAAAAGEAAAAAAAAAUQAAAAAAAABRAAAAAAAAAFEAAAAAAAAAUQAAAAAAAABxAAAAAAAAAHEAAAAAAAAAUQAAAAAAAABRAAAAAAAAAFEAAAAAAAAAUQAAAAAAAABRAAAAAAAAAFEAAAAAAAAAUQAAAAAAAABRAAAAAAAAAHEAAAAAAAAAUQAAAAAAAABRAAAAAAAAAFEAAAAAAAAAUQAAAAAAAABRAAAAAAAAAFEAAAAAAAAAUQAAAAAAAACBAAAAAAAAAFEAAAAAAAAAcQAAAAAAAABxAAAAAAAAAFEAAAAAAAAAUQAAAAAAAABRAAAAAAAAAHEAAAAAAAAAcQAAAAAAAABRAAAAAAAAAFEAAAAAAAAAUQAAAAAAAABxAAAAAAAAAFEAAAAAAAAAcQAAAAAAAABRAAAAAAAAAFEAAAAAAAAAUQAAAAAAAABxAAAAAAAAAHEAAAAAAAAAUQAAAAAAAABRAAAAAAAAAFEAAAAAAAAAUQAAAAAAAABxAAAAAAAAAFEAAAAAAAAAUQAAAAAAAABRAAAAAAAAAFEAAAAAAAAAUQAAAAAAAABxAAAAAAAAAFEAAAAAAAAAUQAAAAAAAABxAAAAAAAAAFEAAAAAAAAAUQAAAAAAAABRAAAAAAAAAFEAAAAAAAAAUQAAAAAAAABRAAAAAAAAAFEAAAAAAAAAUQAAAAAAAABRAAAAAAAAAIEAAAAAAAAAUQAAAAAAAABRAAAAAAAAAHEAAAAAAAAAUQAAAAAAAABRAAAAAAAAAFEAAAAAAAAAUQAAAAAAAABRAAAAAAAAAHEAAAAAAAAAUQAAAAAAAABRAAAAAAAAAFEAAAAAAAAAcQAAAAAAAABRAAAAAAAAAFEAAAAAAAAAUQAAAAAAAABRAAAAAAAAAFEAAAAAAAAAUQAAAAAAAABRAAAAAAAAAFEAAAAAAAAAUQAAAAAAAABRAAAAAAAAAFEAAAAAAAAAUQAAAAAAAABRAAAAAAAAAFEAAAAAAAAAUQAAAAAAAABRAAAAAAAAAFEAAAAAAAAAUQAAAAAAAABRAAAAAAAAAFEAAAAAAAAAUQAAAAAAAABxAAAAAAAAAFEAAAAAAAAAUQAAAAAAAABRAAAAAAAAAFEAAAAAAAAAUQAAAAAAAABRAAAAAAAAAFEAAAAAAAAAUQAAAAAAAABRAAAAAAAAAFEAAAAAAAAAUQAAAAAAAABRAAAAAAAAAFEAAAAAAAAAcQAAAAAAAABRAAAAAAAAAFEAAAAAAAAAUQAAAAAAAABRAAAAAAAAAFEAAAAAAAAAUQAAAAAAAABxAAAAAAAAAFEAAAAAAAAAUQAAAAAAAABxAAAAAAAAAFEAAAAAAAAAUQAAAAAAAABRAAAAAAAAAFEAAAAAAAAAcQAAAAAAAABRAAAAAAAAAFEAAAAAAAAAUQAAAAAAAABRAAAAAAAAAFEAAAAAAAAAUQAAAAAAAABRAAAAAAAAAFEAAAAAAAAAcQAAAAAAAABRAAAAAAAAAFEAAAAAAAAAUQAAAAAAAABRAAAAAAAAAFEAAAAAAAAAUQAAAAAAAABRAAAAAAAAAFEAAAAAAAAAUQAAAAAAAABRAAAAAAAAAFEAAAAAAAAAUQAAAAAAAABRAAAAAAAAAFEAAAAAAAAAcQAAAAAAAABRAAAAAAAAAHEAAAAAAAAAUQAAAAAAAABRAAAAAAAAAFEAAAAAAAAAUQAAAAAAAAPh/AAAAAAAAFEAAAAAAAAAcQAAAAAAAACRAAAAAAAAAFEAAAAAAAAAUQAAAAAAAABRAAAAAAAAAFEAAAAAAAAAUQAAAAAAAABRAAAAAAAAAFEAAAAAAAAAUQAAAAAAAABBAAAAAAAAAHEAAAAAAAAAUQAAAAAAAABxAAAAAAAAAFEAAAAAAAAAUQAAAAAAAABRAAAAAAAAAFEAAAAAAAAAUQAAAAAAAABRAAAAAAAAAFEAAAAAAAAAUQAAAAAAAABRAAAAAAAAAFEAAAAAAAAAUQAAAAAAAABRAAAAAAAAAFEAAAAAAAAAQQAAAAAAAABRAAAAAAAAAFEAAAAAAAAAUQAAAAAAAABRAAAAAAAAAFEAAAAAAAAAUQAAAAAAAABxAAAAAAAAAIEAAAAAAAAAUQAAAAAAAABRAAAAAAAAAFEAAAAAAAAAAQAAAAAAAABhAAAAAAAAAFEAAAAAAAAAUQAAAAAAAABRAAAAAAAAAFEAAAAAAAAAUQAAAAAAAACJAAAAAAAAAFEAAAAAAAAAUQAAAAAAAABRAAAAAAAAAFEAAAAAAAAAUQAAAAAAAABxAAAAAAAAAFEAAAAAAAAAUQAAAAAAAABRAAAAAAAAAEEAAAAAAAAAUQAAAAAAAABRAAAAAAAAA+H8AAAAAAAAUQAAAAAAAACBAAAAAAAAAFEAAAAAAAAAUQAAAAAAAABRAAAAAAAAAFEAAAAAAAAAcQAAAAAAAABRAAAAAAAAAHEAAAAAAAAD4fwAAAAAAABRAAAAAAAAAFEAAAAAAAAAUQAAAAAAAABRAAAAAAAAAFEAAAAAAAAAUQAAAAAAAABRAAAAAAAAAFEAAAAAAAAAUQAAAAAAAABRAAAAAAAAAIEAAAAAAAAAUQAAAAAAAABxAAAAAAAAAFEAAAAAAAAAUQAAAAAAAABRAAAAAAAAAFEAAAAAAAAAUQAAAAAAAABRAAAAAAAAAFEAAAAAAAAAUQAAAAAAAABRAAAAAAAAAFEAAAAAAAAAiQAAAAAAAABRAAAAAAAAAFEAAAAAAAAAcQAAAAAAAABRAAAAAAAAAEEAAAAAAAAAUQAAAAAAAABRAAAAAAAAAFEAAAAAAAAAcQAAAAAAAAPh/AAAAAAAAEEAAAAAAAAAUQAAAAAAAABRAAAAAAAAAFEAAAAAAAAAUQAAAAAAAABRAAAAAAAAAFEAAAAAAAAAUQAAAAAAAABxAAAAAAAAAFEAAAAAAAAAUQAAAAAAAABRAAAAAAAAAFEAAAAAAAAAUQAAAAAAAABRAAAAAAAAAFEAAAAAAAAAUQAAAAAAAABxAAAAAAAAAFEAAAAAAAAAcQAAAAAAAABRAAAAAAAAAFEAAAAAAAAAUQAAAAAAAABRAAAAAAAAAFEAAAAAAAAAcQAAAAAAAABRAAAAAAAAAFEAAAAAAAAAUQAAAAAAAABRAAAAAAAAAFEAAAAAAAAAcQAAAAAAAABRAAAAAAAAAFEAAAAAAAAAUQAAAAAAAABRAAAAAAAAAHEAAAAAAAAAUQAAAAAAAABxAAAAAAAAAFEAAAAAAAAAUQAAAAAAAABRAAAAAAAAAFEAAAAAAAAAUQAAAAAAAABRAAAAAAAAAFEAAAAAAAAAUQAAAAAAAABRAAAAAAAAAFEAAAAAAAAAUQAAAAAAAABxAAAAAAAAAFEAAAAAAAAAQQAAAAAAAABRAAAAAAAAAFEAAAAAAAAAUQAAAAAAAABRAAAAAAAAAFEAAAAAAAAAcQAAAAAAAABRAAAAAAAAAFEAAAAAAAAAcQAAAAAAAABRAAAAAAAAAFEAAAAAAAAAUQAAAAAAAABRAAAAAAAAAFEAAAAAAAAAUQAAAAAAAABRAAAAAAAAAFEAAAAAAAAAUQAAAAAAAABRAAAAAAAAAFEAAAAAAAAAUQAAAAAAAABRAAAAAAAAAFEAAAAAAAAAUQAAAAAAAABRAAAAAAAAAFEAAAAAAAAAUQAAAAAAAABRAAAAAAAAAFEAAAAAAAAAUQAAAAAAAABRAAAAAAAAAFEAAAAAAAAAcQAAAAAAAABRAAAAAAAAAFEAAAAAAAAAUQAAAAAAAABRAAAAAAAAAFEAAAAAAAAAUQAAAAAAAABRAAAAAAAAAHEAAAAAAAAAUQAAAAAAAABxAAAAAAAAAFEAAAAAAAAAUQAAAAAAAABRAAAAAAAAAFEAAAAAAAAAUQAAAAAAAABRAAAAAAAAAFEAAAAAAAAAUQAAAAAAAABRAAAAAAAAAHEAAAAAAAAAgQAAAAAAAABRAAAAAAAAAFEAAAAAAAAAUQAAAAAAAABRAAAAAAAAAFEAAAAAAAAAUQAAAAAAAABxAAAAAAAAAFEAAAAAAAAAUQAAAAAAAABRAAAAAAAAAFEAAAAAAAAAcQAAAAAAAABRAAAAAAAAAFEAAAAAAAAAUQAAAAAAAABRAAAAAAAAAFEAAAAAAAAAUQAAAAAAAABRAAAAAAAAAFEAAAAAAAAAUQAAAAAAAABRAAAAAAAAAFEAAAAAAAAAUQAAAAAAAABRAAAAAAAAAFEAAAAAAAAAcQAAAAAAAABRAAAAAAAAAHEAAAAAAAAAUQAAAAAAAABRAAAAAAAAAFEAAAAAAAAAUQAAAAAAAABRAAAAAAAAAFEAAAAAAAAAUQAAAAAAAABRAAAAAAAAAFEAAAAAAAAAQQAAAAAAAABRAAAAAAAAAFEAAAAAAAAAUQAAAAAAAABRAAAAAAAAAFEAAAAAAAAAUQAAAAAAAACBAAAAAAAAAFEAAAAAAAAAUQAAAAAAAABRAAAAAAAAAFEAAAAAAAAAUQAAAAAAAABxAAAAAAAAAFEAAAAAAAAD4fwAAAAAAABRAAAAAAAAAHEAAAAAAAAAUQAAAAAAAABRAAAAAAAAAFEAAAAAAAAAUQAAAAAAAABxAAAAAAAAAFEAAAAAAAAAUQAAAAAAAABRAAAAAAAAAFEAAAAAAAAD4fwAAAAAAABRAAAAAAAAAFEAAAAAAAAAcQAAAAAAAABRAAAAAAAAAFEAAAAAAAAAUQAAAAAAAABRAAAAAAAAAHEAAAAAAAAAUQAAAAAAAABRAAAAAAAAAFEAAAAAAAAAUQAAAAAAAABRAAAAAAAAAIEAAAAAAAAAUQAAAAAAAABRAAAAAAAAAFEAAAAAAAAAYQAAAAAAAABRAAAAAAAAAHEAAAAAAAAAUQAAAAAAAABRAAAAAAAAAFEAAAAAAAAAgQAAAAAAAABRAAAAAAAAAIEAAAAAAAAAcQAAAAAAAACBAAAAAAAAAFEAAAAAAAAAUQAAAAAAAACBAAAAAAAAAFEAAAAAAAAAkQAAAAAAAABxAAAAAAAAAFEAAAAAAAAAUQAAAAAAAABRAAAAAAAAAFEAAAAAAAAAUQAAAAAAAABRAAAAAAAAAFEAAAAAAAAAUQAAAAAAAABRAAAAAAAAAFEAAAAAAAAAUQAAAAAAAABxAAAAAAAAAFEAAAAAAAAAUQAAAAAAAABRAAAAAAAAAFEAAAAAAAAAcQAAAAAAAABRAAAAAAAAAFEAAAAAAAAAUQAAAAAAAABRAAAAAAAAAFEAAAAAAAAAUQAAAAAAAABRAAAAAAAAAFEAAAAAAAAAUQAAAAAAAABRAAAAAAAAAEEAAAAAAAAAQQAAAAAAAABRAAAAAAAAAFEAAAAAAAAAUQAAAAAAAABRAAAAAAAAAFEAAAAAAAAAUQAAAAAAAABRAAAAAAAAAFEAAAAAAAAAUQAAAAAAAABRAAAAAAAAAFEAAAAAAAAAUQAAAAAAAABRAAAAAAAAAFEAAAAAAAAAUQAAAAAAAABRAAAAAAAAAFEAAAAAAAAD4fwAAAAAAABRAAAAAAAAAFEAAAAAAAAAUQAAAAAAAABRAAAAAAAAAFEAAAAAAAAAcQAAAAAAAABRAAAAAAAAAFEAAAAAAAAAUQAAAAAAAABRAAAAAAAAAFEAAAAAAAAAUQAAAAAAAABRAAAAAAAAAFEAAAAAAAAAUQAAAAAAAABRAAAAAAAAAFEAAAAAAAAAUQAAAAAAAABRAAAAAAAAAFEAAAAAAAAAgQAAAAAAAABBAAAAAAAAAFEAAAAAAAAAUQAAAAAAAABxAAAAAAAAAFEAAAAAAAAAUQAAAAAAAABRAAAAAAAAAFEAAAAAAAAAUQAAAAAAAABRAAAAAAAAAFEAAAAAAAAAUQAAAAAAAABRAAAAAAAAAFEAAAAAAAAAQQAAAAAAAABRAAAAAAAAAFEAAAAAAAAAUQAAAAAAAABRAAAAAAAAAHEAAAAAAAAAUQAAAAAAAABRAAAAAAAAAFEAAAAAAAAD4fwAAAAAAABxAAAAAAAAAFEAAAAAAAAAUQAAAAAAAABRAAAAAAAAAFEAAAAAAAAAUQAAAAAAAABRAAAAAAAAAFEAAAAAAAAAUQAAAAAAAABRAAAAAAAAAHEAAAAAAAAAUQAAAAAAAABRAAAAAAAAAFEAAAAAAAAAUQAAAAAAAABRAAAAAAAAAFEAAAAAAAAAUQAAAAAAAABRAAAAAAAAAFEAAAAAAAAAUQAAAAAAAABRAAAAAAAAAFEAAAAAAAAAUQAAAAAAAABRAAAAAAAAAFEAAAAAAAAAUQAAAAAAAABhAAAAAAAAAFEAAAAAAAAAcQAAAAAAAABRAAAAAAAAAFEAAAAAAAAAUQAAAAAAAABRAAAAAAAAAIEAAAAAAAAAcQAAAAAAAABRAAAAAAAAAEEAAAAAAAAAUQAAAAAAAABRAAAAAAAAAFEAAAAAAAAAUQAAAAAAAABBAAAAAAAAAFEAAAAAAAAAUQAAAAAAAABRAAAAAAAAAFEAAAAAAAAAUQAAAAAAAABRAAAAAAAAAFEAAAAAAAAAUQAAAAAAAABRAAAAAAAAAFEAAAAAAAAAUQAAAAAAAABRAAAAAAAAAFEAAAAAAAAAUQAAAAAAAABRAAAAAAAAAFEAAAAAAAAAUQAAAAAAAABRAAAAAAAAAFEAAAAAAAAAUQAAAAAAAABRAAAAAAAAAFEAAAAAAAAAUQAAAAAAAABRAAAAAAAAAFEAAAAAAAAD4fwAAAAAAABRAAAAAAAAAFEAAAAAAAAAUQAAAAAAAABRAAAAAAAAAFEAAAAAAAAAcQAAAAAAAABRAAAAAAAAAFEAAAAAAAAAcQAAAAAAAABRAAAAAAAAAFEAAAAAAAAAUQAAAAAAAABRAAAAAAAAAHEAAAAAAAAAUQAAAAAAAABRAAAAAAAAAFEAAAAAAAAAUQAAAAAAAABRAAAAAAAAAFEAAAAAAAAAUQAAAAAAAABRAAAAAAAAAFEAAAAAAAAAUQAAAAAAAABRAAAAAAAAAIEAAAAAAAAAUQAAAAAAAABRAAAAAAAAAFEAAAAAAAAAUQAAAAAAAABxAAAAAAAAAFEAAAAAAAAAUQAAAAAAAABRAAAAAAAAAFEAAAAAAAAAUQAAAAAAAABRAAAAAAAAAFEAAAAAAAAAUQAAAAAAAABRAAAAAAAAAHEAAAAAAAAAUQAAAAAAAAPh/AAAAAAAAFEAAAAAAAAAUQAAAAAAAABRAAAAAAAAAFEAAAAAAAAAUQAAAAAAAABxAAAAAAAAAFEAAAAAAAAAUQAAAAAAAABRAAAAAAAAAIEAAAAAAAAAUQAAAAAAAABRAAAAAAAAAGEAAAAAAAAAUQAAAAAAAABRAAAAAAAAAFEAAAAAAAAAUQAAAAAAAABxAAAAAAAAAIEAAAAAAAAAUQAAAAAAAABRAAAAAAAAAFEAAAAAAAAAUQAAAAAAAABRAAAAAAAAAFEAAAAAAAAAUQAAAAAAAABRAAAAAAAAAFEAAAAAAAAAUQAAAAAAAABRAAAAAAAAAFEAAAAAAAAAUQAAAAAAAABRAAAAAAAAAFEAAAAAAAAAUQAAAAAAAABxAAAAAAAAAFEAAAAAAAAAUQAAAAAAAABRAAAAAAAAAFEAAAAAAAAAUQAAAAAAAABRAAAAAAAAAFEAAAAAAAAAUQAAAAAAAABRAAAAAAAAAFEAAAAAAAAAUQAAAAAAAABRAAAAAAAAAFEAAAAAAAAAUQAAAAAAAABxAAAAAAAAAFEAAAAAAAAAUQAAAAAAAABRAAAAAAAAAFEAAAAAAAAAUQAAAAAAAABxAAAAAAAAAHEAAAAAAAAAUQAAAAAAAABRAAAAAAAAAHEAAAAAAAAD4fwAAAAAAABRAAAAAAAAAFEAAAAAAAAAUQAAAAAAAABRAAAAAAAAAFEAAAAAAAAAUQAAAAAAAABRAAAAAAAAAFEAAAAAAAAAUQAAAAAAAABRAAAAAAAAAFEAAAAAAAAAgQAAAAAAAABxAAAAAAAAAFEAAAAAAAAAgQAAAAAAAABRAAAAAAAAAFEAAAAAAAAAUQAAAAAAAABRAAAAAAAAAFEAAAAAAAAAUQAAAAAAAABRAAAAAAAAAFEAAAAAAAAAUQAAAAAAAABRAAAAAAAAAFEAAAAAAAAAUQAAAAAAAABRAAAAAAAAAFEAAAAAAAAAUQAAAAAAAABRAAAAAAAAAFEAAAAAAAAAUQAAAAAAAABRAAAAAAAAAFEAAAAAAAAAUQAAAAAAAABRAAAAAAAAAFEAAAAAAAAAUQAAAAAAAABRAAAAAAAAAIEAAAAAAAAAUQAAAAAAAABxAAAAAAAAAFEAAAAAAAAAUQAAAAAAAABRAAAAAAAAAHEAAAAAAAAAUQAAAAAAAABRAAAAAAAAAFEAAAAAAAAAgQAAAAAAAABRAAAAAAAAAFEAAAAAAAAAQQAAAAAAAABRAAAAAAAAAFEAAAAAAAAAcQAAAAAAAABxAAAAAAAAAFEAAAAAAAAAUQAAAAAAAABRAAAAAAAAAFEAAAAAAAAAUQAAAAAAAABRAAAAAAAAAFEAAAAAAAAAUQAAAAAAAABRAAAAAAAAAIEAAAAAAAAAUQAAAAAAAABRAAAAAAAAAFEAAAAAAAAAUQAAAAAAAABRAAAAAAAAAFEAAAAAAAAAUQAAAAAAAABxAAAAAAAAAFEAAAAAAAAAcQAAAAAAAABRAAAAAAAAAFEAAAAAAAAAcQAAAAAAAABRAAAAAAAAAFEAAAAAAAAAUQAAAAAAAABRAAAAAAAAAFEAAAAAAAAAUQAAAAAAAABRAAAAAAAAAFEAAAAAAAAAUQAAAAAAAACBAAAAAAAAAFEAAAAAAAAAUQAAAAAAAABRAAAAAAAAAIEAAAAAAAAAUQAAAAAAAABRAAAAAAAAAFEAAAAAAAAAUQAAAAAAAABRAAAAAAAAAFEAAAAAAAAAUQAAAAAAAABRAAAAAAAAAHEAAAAAAAAAUQAAAAAAAABRAAAAAAAAAFEAAAAAAAAAUQAAAAAAAABRAAAAAAAAAFEAAAAAAAAAUQAAAAAAAABRAAAAAAAAAHEAAAAAAAAAUQAAAAAAAABRAAAAAAAAAFEAAAAAAAAAUQAAAAAAAABRAAAAAAAAAFEAAAAAAAAAUQAAAAAAAABRAAAAAAAAAFEAAAAAAAAAcQAAAAAAAABRAAAAAAAAAFEAAAAAAAAAUQAAAAAAAABRAAAAAAAAAFEAAAAAAAAAUQAAAAAAAABRAAAAAAAAAFEAAAAAAAAAUQAAAAAAAABRAAAAAAAAAFEAAAAAAAAAUQAAAAAAAABBAAAAAAAAAFEAAAAAAAAAUQAAAAAAAABRAAAAAAAAAFEAAAAAAAAAUQAAAAAAAABRAAAAAAAAAFEAAAAAAAAAUQAAAAAAAABRAAAAAAAAAIEAAAAAAAAAUQAAAAAAAABxAAAAAAAAAFEAAAAAAAAAUQAAAAAAAABRAAAAAAAAAFEAAAAAAAAAUQAAAAAAAABRAAAAAAAAAFEAAAAAAAAAUQAAAAAAAABRAAAAAAAAAFEAAAAAAAAAUQAAAAAAAABRAAAAAAAAAFEAAAAAAAAAUQAAAAAAAABxAAAAAAAAAFEAAAAAAAAAUQAAAAAAAABRAAAAAAAAAHEAAAAAAAAAUQAAAAAAAABRAAAAAAAAAFEAAAAAAAAAUQAAAAAAAABRAAAAAAAAAFEAAAAAAAAAcQAAAAAAAABBAAAAAAAAAFEAAAAAAAAAUQAAAAAAAABxAAAAAAAAAFEAAAAAAAAAcQAAAAAAAABRAAAAAAAAAHEAAAAAAAAAUQAAAAAAAABRAAAAAAAAAFEAAAAAAAAAcQAAAAAAAABRAAAAAAAAAFEAAAAAAAAAcQAAAAAAAABRAAAAAAAAAFEAAAAAAAAAcQAAAAAAAABRAAAAAAAAAFEAAAAAAAAAUQAAAAAAAABRAAAAAAAAAFEAAAAAAAAAUQAAAAAAAABxAAAAAAAAAFEAAAAAAAAAUQAAAAAAAABRAAAAAAAAAFEAAAAAAAAAUQAAAAAAAABRAAAAAAAAAFEAAAAAAAAAUQAAAAAAAABRAAAAAAAAAHEAAAAAAAAAUQAAAAAAAABRAAAAAAAAAFEAAAAAAAAAUQAAAAAAAABRAAAAAAAAAFEAAAAAAAAAUQAAAAAAAABRAAAAAAAAAFEAAAAAAAAAUQAAAAAAAABxAAAAAAAAAFEAAAAAAAAAUQAAAAAAAABRAAAAAAAAAFEAAAAAAAAAcQAAAAAAAABRAAAAAAAAAFEAAAAAAAAAUQAAAAAAAABRAAAAAAAAAFEAAAAAAAAAUQAAAAAAAABRAAAAAAAAAFEAAAAAAAAAgQAAAAAAAABRAAAAAAAAAFEAAAAAAAAAcQAAAAAAAABRAAAAAAAAAFEAAAAAAAAAUQAAAAAAAABRAAAAAAAAAIEAAAAAAAAAUQAAAAAAAACBAAAAAAAAAFEAAAAAAAAAUQAAAAAAAABRAAAAAAAAAFEAAAAAAAAAgQAAAAAAAABRAAAAAAAAAFEAAAAAAAAAUQAAAAAAAABRAAAAAAAAAFEAAAAAAAAAUQAAAAAAAABRAAAAAAAAAFEAAAAAAAAAUQAAAAAAAABRAAAAAAAAAFEAAAAAAAAAUQAAAAAAAABRAAAAAAAAAFEAAAAAAAAAUQAAAAAAAABRAAAAAAAAAFEAAAAAAAAAUQAAAAAAAABRAAAAAAAAAFEAAAAAAAAAgQAAAAAAAABRAAAAAAAAAHEAAAAAAAAAcQAAAAAAAABRAAAAAAAAAFEAAAAAAAAAUQAAAAAAAABBAAAAAAAAAFEAAAAAAAAAUQAAAAAAAABRAAAAAAAAAFEAAAAAAAAAcQAAAAAAAABRAAAAAAAAAFEAAAAAAAAAUQAAAAAAAABRAAAAAAAAAFEAAAAAAAAAUQAAAAAAAABxAAAAAAAAAFEAAAAAAAAAUQAAAAAAAABRAAAAAAAAAFEAAAAAAAAAUQAAAAAAAABRAAAAAAAAAFEAAAAAAAAAUQAAAAAAAABRAAAAAAAAAHEAAAAAAAAAUQAAAAAAAABRAAAAAAAAAFEAAAAAAAAAUQAAAAAAAABRAAAAAAAAAFEAAAAAAAAAUQAAAAAAAABxAAAAAAAAAFEAAAAAAAAAUQAAAAAAAABRAAAAAAAAAFEAAAAAAAAAUQAAAAAAAACBAAAAAAAAAFEAAAAAAAAAQQAAAAAAAABRAAAAAAAAAFEAAAAAAAAAUQAAAAAAAABRAAAAAAAAAFEAAAAAAAAAcQAAAAAAAABRAAAAAAAAAFEAAAAAAAAAUQAAAAAAAABRAAAAAAAAAFEAAAAAAAAAUQAAAAAAAABRAAAAAAAAAFEAAAAAAAAAUQAAAAAAAABRAAAAAAAAAFEAAAAAAAAAUQAAAAAAAABRAAAAAAAAAFEAAAAAAAAAUQAAAAAAAABRAAAAAAAAAFEAAAAAAAAAUQAAAAAAAABRAAAAAAAAAFEAAAAAAAAAUQAAAAAAAABRAAAAAAAAAFEAAAAAAAAAUQAAAAAAAABxAAAAAAAAAFEAAAAAAAAAcQAAAAAAAABRAAAAAAAAAFEAAAAAAAAAUQAAAAAAAABBAAAAAAAAAFEAAAAAAAAAcQAAAAAAAABRAAAAAAAAAHEAAAAAAAAAUQAAAAAAAABRAAAAAAAAAFEAAAAAAAAAUQAAAAAAAABRAAAAAAAAAHEAAAAAAAAAUQAAAAAAAABRAAAAAAAAAFEAAAAAAAAAcQAAAAAAAABRAAAAAAAAAFEAAAAAAAAAUQAAAAAAAABxAAAAAAAAAFEAAAAAAAAAUQAAAAAAAABxAAAAAAAAAFEAAAAAAAAAUQAAAAAAAABRAAAAAAAAAFEAAAAAAAAAUQAAAAAAAABRAAAAAAAAAHEAAAAAAAAAUQAAAAAAAABxAAAAAAAAAFEAAAAAAAAAUQAAAAAAAABRAAAAAAAAAEEAAAAAAAAAcQAAAAAAAABRAAAAAAAAAFEAAAAAAAAAUQAAAAAAAABRAAAAAAAAAHEAAAAAAAAAUQAAAAAAAABRAAAAAAAAAFEAAAAAAAAAUQAAAAAAAABRAAAAAAAAAFEAAAAAAAAAUQAAAAAAAABRAAAAAAAAAFEAAAAAAAAAUQAAAAAAAABRAAAAAAAAAFEAAAAAAAAAUQAAAAAAAABRAAAAAAAAAFEAAAAAAAAAUQAAAAAAAABRAAAAAAAAAIEAAAAAAAAAUQAAAAAAAABRAAAAAAAAAFEAAAAAAAAAUQAAAAAAAABRAAAAAAAAAFEAAAAAAAAAUQAAAAAAAABRAAAAAAAAAFEAAAAAAAAAUQAAAAAAAABRAAAAAAAAAIEAAAAAAAAAUQAAAAAAAABBAAAAAAAAAFEAAAAAAAAAUQAAAAAAAABRAAAAAAAAAFEAAAAAAAAAUQAAAAAAAAPh/AAAAAAAAFEAAAAAAAAAUQAAAAAAAABxAAAAAAAAAFEAAAAAAAAAQQAAAAAAAABxAAAAAAAAAFEAAAAAAAAAUQAAAAAAAABRAAAAAAAAAFEAAAAAAAAAUQAAAAAAAABRAAAAAAAAAFEAAAAAAAAAUQAAAAAAAABxAAAAAAAAAFEAAAAAAAAAUQAAAAAAAABRAAAAAAAAAFEAAAAAAAAAUQAAAAAAAABxAAAAAAAAAFEAAAAAAAAAUQAAAAAAAABRAAAAAAAAAFEAAAAAAAAAUQAAAAAAAABxAAAAAAAAAFEAAAAAAAAAcQAAAAAAAABRAAAAAAAAAFEAAAAAAAAAUQAAAAAAAABRAAAAAAAAAFEAAAAAAAAAUQAAAAAAAABRAAAAAAAAAFEAAAAAAAAAUQAAAAAAAABRAAAAAAAAAHEAAAAAAAAAcQAAAAAAAABRAAAAAAAAAHEAAAAAAAAAcQAAAAAAAABxAAAAAAAAAHEAAAAAAAAAUQAAAAAAAABRAAAAAAAAAFEAAAAAAAAAUQAAAAAAAABRAAAAAAAAAFEAAAAAAAAAUQAAAAAAAABRAAAAAAAAAFEAAAAAAAAAUQAAAAAAAABRAAAAAAAAAFEAAAAAAAAAUQAAAAAAAABxAAAAAAAAAFEAAAAAAAAAUQAAAAAAAABRAAAAAAAAAFEAAAAAAAAAUQAAAAAAAABRAAAAAAAAAFEAAAAAAAAAUQAAAAAAAABRAAAAAAAAAFEAAAAAAAAAcQAAAAAAAABRAAAAAAAAAFEAAAAAAAAAUQAAAAAAAABRAAAAAAAAAFEAAAAAAAAAUQAAAAAAAABRAAAAAAAAAFEAAAAAAAAAUQAAAAAAAABRAAAAAAAAAFEAAAAAAAAAUQAAAAAAAABRAAAAAAAAAFEAAAAAAAAAUQAAAAAAAABRAAAAAAAAAFEAAAAAAAAAUQAAAAAAAABRAAAAAAAAAFEAAAAAAAAAUQAAAAAAAABhAAAAAAAAAFEAAAAAAAAAUQAAAAAAAABRAAAAAAAAAFEAAAAAAAAAUQAAAAAAAABRAAAAAAAAAFEAAAAAAAAAUQAAAAAAAABRAAAAAAAAAFEAAAAAAAAAcQAAAAAAAABRAAAAAAAAAFEAAAAAAAAAUQAAAAAAAABRAAAAAAAAAFEAAAAAAAAAcQAAAAAAAABRAAAAAAAAAFEAAAAAAAAAUQAAAAAAAABRAAAAAAAAAFEAAAAAAAAAUQAAAAAAAABRAAAAAAAAAHEAAAAAAAAAUQAAAAAAAABRAAAAAAAAAFEAAAAAAAAAUQAAAAAAAABRAAAAAAAAAFEAAAAAAAAAUQAAAAAAAABRAAAAAAAAAFEAAAAAAAAAUQAAAAAAAABRAAAAAAAAAFEAAAAAAAAAUQAAAAAAAAPh/AAAAAAAAFEAAAAAAAAAUQAAAAAAAABxAAAAAAAAAHEAAAAAAAAAUQAAAAAAAABRAAAAAAAAAFEAAAAAAAAAUQAAAAAAAABRAAAAAAAAAFEAAAAAAAAAUQAAAAAAAABRAAAAAAAAAFEAAAAAAAAAUQAAAAAAAABRAAAAAAAAAFEAAAAAAAAAUQAAAAAAAABRAAAAAAAAAFEAAAAAAAAAUQAAAAAAAABRAAAAAAAAAFEAAAAAAAAAUQAAAAAAAABRAAAAAAAAAFEAAAAAAAAAUQAAAAAAAABRAAAAAAAAAFEAAAAAAAAAYQAAAAAAAABRAAAAAAAAAIEAAAAAAAAAUQAAAAAAAABRAAAAAAAAAFEAAAAAAAAAUQAAAAAAAABRAAAAAAAAAFEAAAAAAAAAUQAAAAAAAACBAAAAAAAAAFEAAAAAAAAAUQAAAAAAAABxAAAAAAAAAFEAAAAAAAAAUQAAAAAAAABRAAAAAAAAAFEAAAAAAAAAUQAAAAAAAABRAAAAAAAAAFEAAAAAAAAAUQAAAAAAAABRAAAAAAAAAFEAAAAAAAAAUQAAAAAAAABRAAAAAAAAAFEAAAAAAAAAUQAAAAAAAABRAAAAAAAAAFEAAAAAAAAAUQAAAAAAAABRAAAAAAAAAFEAAAAAAAAAUQAAAAAAAABRAAAAAAAAAFEAAAAAAAAAUQAAAAAAAABRAAAAAAAAAFEAAAAAAAAAUQAAAAAAAABRAAAAAAAAAFEAAAAAAAAAcQAAAAAAAABRAAAAAAAAAHEAAAAAAAAAUQAAAAAAAABRAAAAAAAAAFEAAAAAAAAAUQAAAAAAAACBAAAAAAAAAFEAAAAAAAAAUQAAAAAAAABRAAAAAAAAAHEAAAAAAAAAUQAAAAAAAABxAAAAAAAAAEEAAAAAAAAAUQAAAAAAAABxAAAAAAAAAFEAAAAAAAAAUQAAAAAAAABRAAAAAAAAAFEAAAAAAAAAcQAAAAAAAABRAAAAAAAAAFEAAAAAAAAAcQAAAAAAAABRAAAAAAAAAFEAAAAAAAAAUQAAAAAAAABhAAAAAAAAAFEAAAAAAAAAUQAAAAAAAABRAAAAAAAAAGEAAAAAAAAAUQAAAAAAAABRAAAAAAAAAFEAAAAAAAAAUQAAAAAAAABRAAAAAAAAAGEAAAAAAAAAUQAAAAAAAABxAAAAAAAAAFEAAAAAAAAAUQAAAAAAAABRAAAAAAAAAFEAAAAAAAAD4fwAAAAAAABRAAAAAAAAA+H8AAAAAAAAQQAAAAAAAABRAAAAAAAAAFEAAAAAAAAAUQAAAAAAAABRAAAAAAAAAHEAAAAAAAAAUQAAAAAAAABRAAAAAAAAAFEAAAAAAAAAUQAAAAAAAABRAAAAAAAAAFEAAAAAAAAAUQAAAAAAAABRAAAAAAAAAFEAAAAAAAAAUQAAAAAAAABRAAAAAAAAAHEAAAAAAAAAUQAAAAAAAABRAAAAAAAAAHEAAAAAAAAAUQAAAAAAAABxAAAAAAAAAIEAAAAAAAAAcQAAAAAAAABxAAAAAAAAAFEAAAAAAAAAUQAAAAAAAABRAAAAAAAAAFEAAAAAAAAAQQAAAAAAAABRAAAAAAAAAHEAAAAAAAAAUQAAAAAAAABRAAAAAAAAAFEAAAAAAAAAcQAAAAAAAABRAAAAAAAAAFEAAAAAAAAAUQAAAAAAAABRAAAAAAAAAFEAAAAAAAAAcQAAAAAAAABRAAAAAAAAAFEAAAAAAAAAUQAAAAAAAABhAAAAAAAAAHEAAAAAAAAAUQAAAAAAAABRAAAAAAAAAFEAAAAAAAAAUQAAAAAAAABRAAAAAAAAAFEAAAAAAAAAUQAAAAAAAABRAAAAAAAAAFEAAAAAAAAAQQAAAAAAAABRAAAAAAAAAFEAAAAAAAAAUQAAAAAAAABRAAAAAAAAAFEAAAAAAAAAUQAAAAAAAABRAAAAAAAAAFEAAAAAAAAAUQAAAAAAAABRAAAAAAAAAHEAAAAAAAAAUQAAAAAAAABRAAAAAAAAAFEAAAAAAAAAUQAAAAAAAABxAAAAAAAAAFEAAAAAAAAAUQAAAAAAAABRAAAAAAAAAFEAAAAAAAAAUQAAAAAAAABRAAAAAAAAAFEAAAAAAAAAUQAAAAAAAABRAAAAAAAAAFEAAAAAAAAAUQAAAAAAAABRAAAAAAAAAFEAAAAAAAAAUQAAAAAAAABRAAAAAAAAAFEAAAAAAAAAUQAAAAAAAABRAAAAAAAAAFEAAAAAAAAAcQAAAAAAAABRAAAAAAAAAFEAAAAAAAAAUQAAAAAAAABRAAAAAAAAAFEAAAAAAAAAcQAAAAAAAABRAAAAAAAAAFEAAAAAAAAAUQAAAAAAAABRAAAAAAAAAFEAAAAAAAAAUQAAAAAAAABRAAAAAAAAAFEAAAAAAAAAUQAAAAAAAABBAAAAAAAAAFEAAAAAAAAAUQAAAAAAAABRAAAAAAAAAFEAAAAAAAAAUQAAAAAAAABRAAAAAAAAAFEAAAAAAAAAcQAAAAAAAABRAAAAAAAAAFEAAAAAAAAAUQAAAAAAAABRAAAAAAAAAFEAAAAAAAAAUQAAAAAAAABRAAAAAAAAAFEAAAAAAAAAUQAAAAAAAABRAAAAAAAAAFEAAAAAAAAAUQAAAAAAAABRAAAAAAAAAFEAAAAAAAAAUQAAAAAAAABRAAAAAAAAAFEAAAAAAAAAUQAAAAAAAABRAAAAAAAAAFEAAAAAAAAAUQAAAAAAAABxAAAAAAAAAFEAAAAAAAAAUQAAAAAAAABBAAAAAAAAAFEAAAAAAAAAcQAAAAAAAABRAAAAAAAAAFEAAAAAAAAAcQAAAAAAAABRAAAAAAAAAHEAAAAAAAAAUQAAAAAAAABxAAAAAAAAAFEAAAAAAAAAUQAAAAAAAABxAAAAAAAAAFEAAAAAAAAAUQAAAAAAAABRAAAAAAAAAFEAAAAAAAAAUQAAAAAAAABRAAAAAAAAAFEAAAAAAAAAUQAAAAAAAABRAAAAAAAAAFEAAAAAAAAAUQAAAAAAAABRAAAAAAAAAFEAAAAAAAAAUQAAAAAAAABRAAAAAAAAAFEAAAAAAAAAUQAAAAAAAABRAAAAAAAAAFEAAAAAAAAAUQAAAAAAAABRAAAAAAAAAFEAAAAAAAAAUQAAAAAAAABRAAAAAAAAAFEAAAAAAAAAUQAAAAAAAABRAAAAAAAAAFEAAAAAAAAAUQAAAAAAAABxAAAAAAAAAFEAAAAAAAAAUQAAAAAAAABRAAAAAAAAAFEAAAAAAAAAUQAAAAAAAABxAAAAAAAAAHEAAAAAAAAAcQAAAAAAAABRAAAAAAAAAFEAAAAAAAAAUQAAAAAAAABRAAAAAAAAAHEAAAAAAAAAUQAAAAAAAABRAAAAAAAAAFEAAAAAAAAAUQAAAAAAAABRAAAAAAAAAFEAAAAAAAAAUQAAAAAAAABxAAAAAAAAAFEAAAAAAAAAUQAAAAAAAABRAAAAAAAAAFEAAAAAAAAAUQAAAAAAAABRAAAAAAAAAFEAAAAAAAAAUQAAAAAAAABRAAAAAAAAAFEAAAAAAAAAUQAAAAAAAABRAAAAAAAAAFEAAAAAAAAAUQAAAAAAAABRAAAAAAAAAFEAAAAAAAAAUQAAAAAAAABxAAAAAAAAAFEAAAAAAAAAUQAAAAAAAABRAAAAAAAAAFEAAAAAAAAAUQAAAAAAAABRAAAAAAAAAFEAAAAAAAAAUQAAAAAAAABRAAAAAAAAAEEAAAAAAAAAUQAAAAAAAABRAAAAAAAAAFEAAAAAAAAAUQAAAAAAAABRAAAAAAAAAFEAAAAAAAAAcQAAAAAAAABxAAAAAAAAAFEAAAAAAAAAUQAAAAAAAABRAAAAAAAAAFEAAAAAAAAAUQAAAAAAAABRAAAAAAAAAFEAAAAAAAAAUQAAAAAAAABRAAAAAAAAAFEAAAAAAAAAUQAAAAAAAABRAAAAAAAAAFEAAAAAAAAAUQAAAAAAAABRAAAAAAAAAHEAAAAAAAAAUQAAAAAAAABxAAAAAAAAAFEAAAAAAAAAcQAAAAAAAABRAAAAAAAAAFEAAAAAAAAAUQAAAAAAAABRAAAAAAAAAFEAAAAAAAAAUQAAAAAAAABRAAAAAAAAAFEAAAAAAAAAUQAAAAAAAABRAAAAAAAAAFEAAAAAAAAAUQAAAAAAAABRAAAAAAAAAFEAAAAAAAAAUQAAAAAAAAPh/AAAAAAAAFEAAAAAAAAAUQAAAAAAAABRAAAAAAAAAFEAAAAAAAAAUQAAAAAAAABRAAAAAAAAAFEAAAAAAAAAcQAAAAAAAABRAAAAAAAAA+H8AAAAAAAAcQAAAAAAAABxAAAAAAAAAFEAAAAAAAAAUQAAAAAAAABRAAAAAAAAAFEAAAAAAAAAUQAAAAAAAABRAAAAAAAAAFEAAAAAAAAAUQAAAAAAAABRAAAAAAAAAFEAAAAAAAAAUQAAAAAAAABRAAAAAAAAAFEAAAAAAAAAUQAAAAAAAABRAAAAAAAAAFEAAAAAAAAAcQAAAAAAAABxAAAAAAAAAFEAAAAAAAAAUQAAAAAAAABRAAAAAAAAAFEAAAAAAAAAUQAAAAAAAABRAAAAAAAAAFEAAAAAAAAAUQAAAAAAAABxAAAAAAAAAFEAAAAAAAAAUQAAAAAAAABxAAAAAAAAAFEAAAAAAAAAUQAAAAAAAABRAAAAAAAAAFEAAAAAAAAAgQAAAAAAAABRAAAAAAAAAFEAAAAAAAAAUQAAAAAAAABRAAAAAAAAAFEAAAAAAAAAUQAAAAAAAABRAAAAAAAAAFEAAAAAAAAAcQAAAAAAAABRAAAAAAAAAFEAAAAAAAAAgQAAAAAAAABRAAAAAAAAAFEAAAAAAAAAcQAAAAAAAABxAAAAAAAAAFEAAAAAAAAAUQAAAAAAAABRAAAAAAAAAFEAAAAAAAAAUQAAAAAAAABBAAAAAAAAAFEAAAAAAAAAUQAAAAAAAABRAAAAAAAAAFEAAAAAAAAAUQAAAAAAAABRAAAAAAAAAFEAAAAAAAAAUQAAAAAAAABxAAAAAAAAAFEAAAAAAAAAUQAAAAAAAABRAAAAAAAAA+H8AAAAAAAAcQAAAAAAAABRAAAAAAAAAFEAAAAAAAAAUQAAAAAAAABRAAAAAAAAAFEAAAAAAAAAUQAAAAAAAABRAAAAAAAAAHEAAAAAAAAAUQAAAAAAAABRAAAAAAAAAHEAAAAAAAAAcQAAAAAAAABRAAAAAAAAAFEAAAAAAAAAUQAAAAAAAABRAAAAAAAAAHEAAAAAAAAAUQAAAAAAAABBAAAAAAAAAFEAAAAAAAAAUQAAAAAAAABRAAAAAAAAAFEAAAAAAAAAgQAAAAAAAABRAAAAAAAAAFEAAAAAAAAAUQAAAAAAAABRAAAAAAAAAFEAAAAAAAAAUQAAAAAAAABRAAAAAAAAAFEAAAAAAAAAcQAAAAAAAABRAAAAAAAAAHEAAAAAAAAAUQAAAAAAAABRAAAAAAAAAFEAAAAAAAAAUQAAAAAAAABRAAAAAAAAAFEAAAAAAAAAcQAAAAAAAABRAAAAAAAAAFEAAAAAAAAAUQAAAAAAAABRAAAAAAAAAFEAAAAAAAAAUQAAAAAAAABRAAAAAAAAAFEAAAAAAAAAUQAAAAAAAABxAAAAAAAAAFEAAAAAAAAAUQAAAAAAAABRAAAAAAAAAFEAAAAAAAAAUQAAAAAAAABRAAAAAAAAAEEAAAAAAAAAUQAAAAAAAABRAAAAAAAAAFEAAAAAAAAAUQAAAAAAAABRAAAAAAAAAFEAAAAAAAAAUQAAAAAAAABRAAAAAAAAAFEAAAAAAAAAUQAAAAAAAABRAAAAAAAAAFEAAAAAAAAAcQAAAAAAAABRAAAAAAAAAFEAAAAAAAAAUQAAAAAAAABRAAAAAAAAAFEAAAAAAAAAUQAAAAAAAABRAAAAAAAAAFEAAAAAAAAAUQAAAAAAAABRAAAAAAAAAHEAAAAAAAAAUQAAAAAAAABRAAAAAAAAAFEAAAAAAAAAUQAAAAAAAABRAAAAAAAAAFEAAAAAAAAAUQAAAAAAAABRAAAAAAAAAFEAAAAAAAAAcQAAAAAAAABRAAAAAAAAAFEAAAAAAAAAUQAAAAAAAABRAAAAAAAAAFEAAAAAAAAAUQAAAAAAAABRAAAAAAAAAFEAAAAAAAAAUQAAAAAAAABRAAAAAAAAAHEAAAAAAAAAUQAAAAAAAABRAAAAAAAAAFEAAAAAAAAAUQAAAAAAAABRAAAAAAAAAFEAAAAAAAAAcQAAAAAAAABRAAAAAAAAAEEAAAAAAAAAUQAAAAAAAACBAAAAAAAAAAAAAAAAAAAAUQAAAAAAAABRAAAAAAAAAFEAAAAAAAAAUQAAAAAAAABRAAAAAAAAAFEAAAAAAAAAUQAAAAAAAABRAAAAAAAAAFEAAAAAAAAAUQAAAAAAAABRAAAAAAAAA+H8AAAAAAAAUQAAAAAAAABxAAAAAAAAAFEAAAAAAAAAUQAAAAAAAABRAAAAAAAAAFEAAAAAAAAAUQAAAAAAAABRAAAAAAAAAFEAAAAAAAAAUQAAAAAAAABRAAAAAAAAAFEAAAAAAAAAUQAAAAAAAABRAAAAAAAAAFEAAAAAAAAAUQAAAAAAAABRAAAAAAAAAFEAAAAAAAAAUQAAAAAAAABRAAAAAAAAAFEAAAAAAAAAUQAAAAAAAABRAAAAAAAAAFEAAAAAAAAAUQAAAAAAAABRAAAAAAAAAHEAAAAAAAAAcQAAAAAAAABRAAAAAAAAAFEAAAAAAAAAUQAAAAAAAABRAAAAAAAAAFEAAAAAAAAAUQAAAAAAAABRAAAAAAAAAFEAAAAAAAAAUQAAAAAAAABRAAAAAAAAAFEAAAAAAAAAUQAAAAAAAABRAAAAAAAAAFEAAAAAAAAAUQAAAAAAAABRAAAAAAAAAFEAAAAAAAAAUQAAAAAAAABRAAAAAAAAAFEAAAAAAAAAUQAAAAAAAABBAAAAAAAAAFEAAAAAAAAAUQAAAAAAAABRAAAAAAAAAFEAAAAAAAAAUQAAAAAAAABRAAAAAAAAAFEAAAAAAAAAUQAAAAAAAABRAAAAAAAAAFEAAAAAAAAAUQAAAAAAAABRAAAAAAAAAHEAAAAAAAAAUQAAAAAAAABRAAAAAAAAAFEAAAAAAAAAUQAAAAAAAABRAAAAAAAAAFEAAAAAAAAAUQAAAAAAAABRAAAAAAAAAFEAAAAAAAAAUQAAAAAAAABRAAAAAAAAAHEAAAAAAAAAUQAAAAAAAABRAAAAAAAAAHEAAAAAAAAAUQAAAAAAAABRAAAAAAAAAFEAAAAAAAAAUQAAAAAAAABRAAAAAAAAAFEAAAAAAAAAUQAAAAAAAABRAAAAAAAAAFEAAAAAAAAAUQAAAAAAAABRAAAAAAAAAFEAAAAAAAAAUQAAAAAAAABRAAAAAAAAAFEAAAAAAAAAUQAAAAAAAABRAAAAAAAAAFEAAAAAAAAAYQAAAAAAAABRAAAAAAAAAFEAAAAAAAAAUQAAAAAAAABRAAAAAAAAAFEAAAAAAAAAUQAAAAAAAABRAAAAAAAAAFEAAAAAAAAAUQAAAAAAAABRAAAAAAAAAFEAAAAAAAAAYQAAAAAAAABRAAAAAAAAAFEAAAAAAAAAUQAAAAAAAABRAAAAAAAAAFEAAAAAAAAAUQAAAAAAAABRAAAAAAAAAFEAAAAAAAAAUQAAAAAAAABRAAAAAAAAAHEAAAAAAAAAUQAAAAAAAABRAAAAAAAAAHEAAAAAAAAAUQAAAAAAAABRAAAAAAAAAFEAAAAAAAAAUQAAAAAAAABRAAAAAAAAAFEAAAAAAAAAUQAAAAAAAABRAAAAAAAAAFEAAAAAAAAAUQAAAAAAAABRAAAAAAAAAFEAAAAAAAAAUQAAAAAAAABRAAAAAAAAAFEAAAAAAAAAUQAAAAAAAACBAAAAAAAAA+H8AAAAAAAAUQAAAAAAAABRAAAAAAAAAHEAAAAAAAAAUQAAAAAAAABxAAAAAAAAAFEAAAAAAAAAUQAAAAAAAABRAAAAAAAAAFEAAAAAAAAAUQAAAAAAAABxAAAAAAAAAFEAAAAAAAAAUQAAAAAAAABxAAAAAAAAAFEAAAAAAAAAgQAAAAAAAABRAAAAAAAAAFEAAAAAAAAAUQAAAAAAAABRAAAAAAAAAFEAAAAAAAAAUQAAAAAAAABRAAAAAAAAAFEAAAAAAAAAUQAAAAAAAABRAAAAAAAAAFEAAAAAAAAAUQAAAAAAAABRAAAAAAAAAFEAAAAAAAAAUQAAAAAAAABRAAAAAAAAAEEAAAAAAAAAUQAAAAAAAABRAAAAAAAAAHEAAAAAAAAAUQAAAAAAAABRAAAAAAAAAFEAAAAAAAAAUQAAAAAAAABRAAAAAAAAAFEAAAAAAAAAUQAAAAAAAACBAAAAAAAAAFEAAAAAAAAAgQAAAAAAAABRAAAAAAAAAGEAAAAAAAAAUQAAAAAAAACBAAAAAAAAAIEAAAAAAAAAUQAAAAAAAABRAAAAAAAAAFEAAAAAAAAAcQAAAAAAAABRAAAAAAAAAFEAAAAAAAAAUQAAAAAAAABRAAAAAAAAAFEAAAAAAAAAUQAAAAAAAABRAAAAAAAAAFEAAAAAAAAAUQAAAAAAAABRAAAAAAAAAFEAAAAAAAAAUQAAAAAAAABRAAAAAAAAAFEAAAAAAAAAUQAAAAAAAABBAAAAAAAAAFEAAAAAAAAAUQAAAAAAAACBAAAAAAAAAHEAAAAAAAAAUQAAAAAAAAPh/AAAAAAAAFEAAAAAAAAAUQAAAAAAAABRAAAAAAAAAFEAAAAAAAAAUQAAAAAAAABRAAAAAAAAAFEAAAAAAAAAUQAAAAAAAABRAAAAAAAAAIEAAAAAAAAAUQAAAAAAAABRAAAAAAAAAFEAAAAAAAAAUQAAAAAAAABxAAAAAAAAAFEAAAAAAAAAgQAAAAAAAABRAAAAAAAAAFEAAAAAAAAAUQAAAAAAAABRAAAAAAAAAFEAAAAAAAAAUQAAAAAAAABRAAAAAAAAAFEAAAAAAAAAUQAAAAAAAABRAAAAAAAAAFEAAAAAAAAAUQAAAAAAAABRAAAAAAAAAFEAAAAAAAAAUQAAAAAAAABRAAAAAAAAAFEAAAAAAAAAUQAAAAAAAABRAAAAAAAAAFEAAAAAAAAAUQAAAAAAAABRAAAAAAAAAFEAAAAAAAAAUQAAAAAAAABRAAAAAAAAAFEAAAAAAAAAUQAAAAAAAACBAAAAAAAAAFEAAAAAAAAAcQAAAAAAAABRAAAAAAAAAIEAAAAAAAAAUQAAAAAAAABRAAAAAAAAAFEAAAAAAAAAcQAAAAAAAABRAAAAAAAAAHEAAAAAAAAAUQAAAAAAAABRAAAAAAAAAFEAAAAAAAAAUQAAAAAAAABRAAAAAAAAAFEAAAAAAAAAUQAAAAAAAABRAAAAAAAAAFEAAAAAAAAAUQAAAAAAAABRAAAAAAAAAFEAAAAAAAAAUQAAAAAAAABxAAAAAAAAAFEAAAAAAAAAUQAAAAAAAABRAAAAAAAAAFEAAAAAAAAAUQAAAAAAAABRAAAAAAAAAFEAAAAAAAAAUQAAAAAAAABxAAAAAAAAAHEAAAAAAAAAcQAAAAAAAABRAAAAAAAAAFEAAAAAAAAAUQAAAAAAAABRAAAAAAAAAFEAAAAAAAAAUQAAAAAAAABRAAAAAAAAAFEAAAAAAAAAcQAAAAAAAABRAAAAAAAAAFEAAAAAAAAAUQAAAAAAAABxAAAAAAAAAFEAAAAAAAAAUQAAAAAAAABRAAAAAAAAAFEAAAAAAAAAUQAAAAAAAABRAAAAAAAAAGEAAAAAAAAAUQAAAAAAAABRAAAAAAAAAFEAAAAAAAAAUQAAAAAAAABRAAAAAAAAAFEAAAAAAAAAUQAAAAAAAABRAAAAAAAAAFEAAAAAAAAAUQAAAAAAAABRAAAAAAAAAEEAAAAAAAAAUQAAAAAAAABRAAAAAAAAAFEAAAAAAAAAcQAAAAAAAABRAAAAAAAAAHEAAAAAAAAAUQAAAAAAAABRAAAAAAAAAIEAAAAAAAAAUQAAAAAAAABRAAAAAAAAAHEAAAAAAAAAUQAAAAAAAABRAAAAAAAAAFEAAAAAAAAAUQAAAAAAAABRAAAAAAAAAHEAAAAAAAAAQQAAAAAAAABRAAAAAAAAAFEAAAAAAAAAUQAAAAAAAABRAAAAAAAAAFEAAAAAAAAAUQAAAAAAAABxAAAAAAAAAFEAAAAAAAAAUQAAAAAAAABRAAAAAAAAAFEAAAAAAAAAUQAAAAAAAABxAAAAAAAAAFEAAAAAAAAAUQAAAAAAAABRAAAAAAAAAFEAAAAAAAAAUQAAAAAAAABRAAAAAAAAAFEAAAAAAAAAgQAAAAAAAABRAAAAAAAAAFEAAAAAAAAAUQAAAAAAAABRAAAAAAAAAFEAAAAAAAAAUQAAAAAAAABxAAAAAAAAAFEAAAAAAAAAUQAAAAAAAABRAAAAAAAAAFEAAAAAAAAAUQAAAAAAAABRAAAAAAAAAFEAAAAAAAAAcQAAAAAAAABRAAAAAAAAAFEAAAAAAAAAUQAAAAAAAABRAAAAAAAAAFEAAAAAAAAAUQAAAAAAAABRAAAAAAAAAFEAAAAAAAAAUQAAAAAAAABRAAAAAAAAAFEAAAAAAAAAUQAAAAAAAABRAAAAAAAAAFEAAAAAAAAAUQAAAAAAAABRAAAAAAAAAFEAAAAAAAAAUQAAAAAAAABRAAAAAAAAAFEAAAAAAAAAUQAAAAAAAABRAAAAAAAAAFEAAAAAAAAAUQAAAAAAAABRAAAAAAAAAFEAAAAAAAAAUQAAAAAAAABRAAAAAAAAAHEAAAAAAAAAUQAAAAAAAABRAAAAAAAAAFEAAAAAAAAAUQAAAAAAAABRAAAAAAAAAFEAAAAAAAAAUQAAAAAAAABRAAAAAAAAAFEAAAAAAAAAUQAAAAAAAABRAAAAAAAAAFEAAAAAAAAAUQAAAAAAAABRAAAAAAAAAFEAAAAAAAAAcQAAAAAAAABRAAAAAAAAAFEAAAAAAAAAUQAAAAAAAABxAAAAAAAAAFEAAAAAAAAAUQAAAAAAAABRAAAAAAAAAFEAAAAAAAAAgQAAAAAAAABBAAAAAAAAAHEAAAAAAAAAUQAAAAAAAABRAAAAAAAAAFEAAAAAAAAAUQAAAAAAAABRAAAAAAAAAGEAAAAAAAAAUQAAAAAAAABRAAAAAAAAAFEAAAAAAAAAUQAAAAAAAABRAAAAAAAAAFEAAAAAAAAAUQAAAAAAAABRAAAAAAAAAFEAAAAAAAAAUQAAAAAAAABRAAAAAAAAAFEAAAAAAAAAUQAAAAAAAABRAAAAAAAAAHEAAAAAAAAAUQAAAAAAAABRAAAAAAAAAHEAAAAAAAAAUQAAAAAAAABRAAAAAAAAAFEAAAAAAAAAUQAAAAAAAABRAAAAAAAAAFEAAAAAAAAAUQAAAAAAAABRAAAAAAAAAFEAAAAAAAAAcQAAAAAAAABRAAAAAAAAAFEAAAAAAAAAUQAAAAAAAABRAAAAAAAAAFEAAAAAAAAAUQAAAAAAAABRAAAAAAAAAFEAAAAAAAAAUQAAAAAAAABxAAAAAAAAAHEAAAAAAAAAUQAAAAAAAABxAAAAAAAAAEEAAAAAAAAAgQAAAAAAAABxAAAAAAAAAFEAAAAAAAAAUQAAAAAAAABRAAAAAAAAAFEAAAAAAAAAUQAAAAAAAABRAAAAAAAAAFEAAAAAAAAAUQAAAAAAAABRAAAAAAAAAFEAAAAAAAAAUQAAAAAAAABRAAAAAAAAAIEAAAAAAAAAcQAAAAAAAABRAAAAAAAAAIEAAAAAAAAAUQAAAAAAAABRAAAAAAAAAFEAAAAAAAAAUQAAAAAAAABxAAAAAAAAAHEAAAAAAAAAcQAAAAAAAACBAAAAAAAAAFEAAAAAAAAAcQAAAAAAAABRAAAAAAAAAHEAAAAAAAAAUQAAAAAAAABRAAAAAAAAAFEAAAAAAAAAUQAAAAAAAABRAAAAAAAAAFEAAAAAAAAAUQAAAAAAAABRAAAAAAAAAFEAAAAAAAAAUQAAAAAAAABRAAAAAAAAAFEAAAAAAAAAUQAAAAAAAABRAAAAAAAAAFEAAAAAAAAAUQAAAAAAAABRAAAAAAAAAFEAAAAAAAAAcQAAAAAAAABRAAAAAAAAAFEAAAAAAAAAUQAAAAAAAABRAAAAAAAAAFEAAAAAAAAAUQAAAAAAAABRAAAAAAAAAFEAAAAAAAAAUQAAAAAAAABxAAAAAAAAAFEAAAAAAAAAQQAAAAAAAABRAAAAAAAAAFEAAAAAAAAAUQAAAAAAAABRAAAAAAAAAFEAAAAAAAAAUQAAAAAAAABRAAAAAAAAAGEAAAAAAAAAUQAAAAAAAABRAAAAAAAAAFEAAAAAAAAAUQAAAAAAAABRAAAAAAAAAFEAAAAAAAAAUQAAAAAAAAPh/AAAAAAAAHEAAAAAAAAAUQAAAAAAAABRAAAAAAAAAFEAAAAAAAAAUQAAAAAAAABRAAAAAAAAAFEAAAAAAAAAUQAAAAAAAABRAAAAAAAAAFEAAAAAAAAAgQAAAAAAAABRAAAAAAAAAFEAAAAAAAAAUQAAAAAAAABRAAAAAAAAAFEAAAAAAAAAUQAAAAAAAABRAAAAAAAAAFEAAAAAAAAAUQAAAAAAAABRAAAAAAAAAHEAAAAAAAAAUQAAAAAAAABRAAAAAAAAAFEAAAAAAAAAUQAAAAAAAAPh/AAAAAAAAFEAAAAAAAAAUQAAAAAAAABRAAAAAAAAAFEAAAAAAAAAUQAAAAAAAABRAAAAAAAAAFEAAAAAAAAAUQAAAAAAAABRAAAAAAAAAFEAAAAAAAAAUQAAAAAAAABRAAAAAAAAAFEAAAAAAAAAUQAAAAAAAABRAAAAAAAAAFEAAAAAAAAAUQAAAAAAAABRAAAAAAAAAFEAAAAAAAAAUQAAAAAAAABRAAAAAAAAAFEAAAAAAAAAQQAAAAAAAABRAAAAAAAAAFEAAAAAAAAAUQAAAAAAAABRAAAAAAAAAFEAAAAAAAAAUQAAAAAAAABRAAAAAAAAAFEAAAAAAAAAUQAAAAAAAABRAAAAAAAAAHEAAAAAAAAAUQAAAAAAAABRAAAAAAAAAFEAAAAAAAAAUQAAAAAAAABxAAAAAAAAAFEAAAAAAAAAUQAAAAAAAABRAAAAAAAAAIEAAAAAAAAAUQAAAAAAAABRAAAAAAAAAFEAAAAAAAAAUQAAAAAAAABRAAAAAAAAAFEAAAAAAAAAcQAAAAAAAABRAAAAAAAAAFEAAAAAAAAAcQAAAAAAAABRAAAAAAAAAFEAAAAAAAAAcQAAAAAAAABRAAAAAAAAAIEAAAAAAAAAUQAAAAAAAABRAAAAAAAAAFEAAAAAAAAAcQAAAAAAAABRAAAAAAAAAFEAAAAAAAAAUQAAAAAAAABxAAAAAAAAAFEAAAAAAAAAUQAAAAAAAABRAAAAAAAAAFEAAAAAAAAAUQAAAAAAAABRAAAAAAAAAFEAAAAAAAAAUQAAAAAAAABRAAAAAAAAAHEAAAAAAAAAUQAAAAAAAABRAAAAAAAAAFEAAAAAAAAAUQAAAAAAAABRAAAAAAAAAFEAAAAAAAAAUQAAAAAAAABRAAAAAAAAAHEAAAAAAAAAUQAAAAAAAAABAAAAAAAAAFEAAAAAAAAAUQAAAAAAAABRAAAAAAAAAFEAAAAAAAAAUQAAAAAAAAPh/AAAAAAAAFEAAAAAAAAAUQAAAAAAAABRAAAAAAAAAFEAAAAAAAAAUQAAAAAAAABRAAAAAAAAAFEAAAAAAAAAUQAAAAAAAABxAAAAAAAAAFEAAAAAAAAAUQAAAAAAAABRAAAAAAAAAFEAAAAAAAAAUQAAAAAAAAPh/AAAAAAAAFEAAAAAAAAAUQAAAAAAAABRAAAAAAAAAFEAAAAAAAAAUQAAAAAAAABRAAAAAAAAAIEAAAAAAAAAUQAAAAAAAABRAAAAAAAAAAEAAAAAAAAAUQAAAAAAAABRAAAAAAAAAFEAAAAAAAAAUQAAAAAAAABxAAAAAAAAAFEAAAAAAAAAUQAAAAAAAABRAAAAAAAAAFEAAAAAAAAAUQAAAAAAAABxAAAAAAAAAFEAAAAAAAAAcQAAAAAAAABRAAAAAAAAAHEAAAAAAAAAUQAAAAAAAABxAAAAAAAAAFEAAAAAAAAAUQAAAAAAAABRAAAAAAAAAFEAAAAAAAAAUQAAAAAAAABRAAAAAAAAAFEAAAAAAAAAUQAAAAAAAABRAAAAAAAAAFEAAAAAAAAAUQAAAAAAAABRAAAAAAAAAFEAAAAAAAAAUQAAAAAAAABRAAAAAAAAAFEAAAAAAAAAUQAAAAAAAABRAAAAAAAAAFEAAAAAAAAAUQAAAAAAAABRAAAAAAAAAFEAAAAAAAAAUQAAAAAAAABRAAAAAAAAAFEAAAAAAAAAcQAAAAAAAABRAAAAAAAAAFEAAAAAAAAAUQAAAAAAAABBAAAAAAAAAFEAAAAAAAAAcQAAAAAAAABRAAAAAAAAAFEAAAAAAAAAgQAAAAAAAABRAAAAAAAAAFEAAAAAAAAAUQAAAAAAAABRAAAAAAAAAFEAAAAAAAAAUQAAAAAAAABRAAAAAAAAAFEAAAAAAAAAUQAAAAAAAABRAAAAAAAAAFEAAAAAAAAAUQAAAAAAAABRAAAAAAAAAFEAAAAAAAAAUQAAAAAAAABRAAAAAAAAAFEAAAAAAAAAcQAAAAAAAABRAAAAAAAAAFEAAAAAAAAAUQAAAAAAAABRAAAAAAAAAFEAAAAAAAAAUQAAAAAAAABRAAAAAAAAAFEAAAAAAAAAUQAAAAAAAABRAAAAAAAAAFEAAAAAAAAAUQAAAAAAAABxAAAAAAAAAIEAAAAAAAAAUQAAAAAAAABRAAAAAAAAAIEAAAAAAAAAUQAAAAAAAABhAAAAAAAAAFEAAAAAAAAAUQAAAAAAAABRAAAAAAAAAFEAAAAAAAAAUQAAAAAAAABRAAAAAAAAAHEAAAAAAAAAUQAAAAAAAABRAAAAAAAAAEEAAAAAAAAAUQAAAAAAAABRAAAAAAAAAHEAAAAAAAAAUQAAAAAAAABRAAAAAAAAAHEAAAAAAAAAUQAAAAAAAABRAAAAAAAAAFEAAAAAAAAAUQAAAAAAAABRAAAAAAAAAFEAAAAAAAAAgQAAAAAAAABRAAAAAAAAAFEAAAAAAAAAUQAAAAAAAABRAAAAAAAAAFEAAAAAAAAAUQAAAAAAAABRAAAAAAAAAFEAAAAAAAAAUQAAAAAAAABRAAAAAAAAAFEAAAAAAAAAUQAAAAAAAABRAAAAAAAAAIEAAAAAAAAAUQAAAAAAAABRAAAAAAAAAFEAAAAAAAAAUQAAAAAAAABRAAAAAAAAAFEAAAAAAAAAUQAAAAAAAABRAAAAAAAAAFEAAAAAAAAAUQAAAAAAAABRAAAAAAAAAFEAAAAAAAAAUQAAAAAAAABRAAAAAAAAAFEAAAAAAAAAUQAAAAAAAABRAAAAAAAAAFEAAAAAAAAAUQAAAAAAAABRAAAAAAAAAHEAAAAAAAAAcQAAAAAAAABxAAAAAAAAAFEAAAAAAAAAUQAAAAAAAABRAAAAAAAAAFEAAAAAAAAAUQAAAAAAAABRAAAAAAAAAFEAAAAAAAAAUQAAAAAAAABRAAAAAAAAAFEAAAAAAAAAcQAAAAAAAABRAAAAAAAAAFEAAAAAAAAAUQAAAAAAAABRAAAAAAAAAFEAAAAAAAAAUQAAAAAAAABRAAAAAAAAAFEAAAAAAAAAUQAAAAAAAABRAAAAAAAAAAEAAAAAAAAAUQAAAAAAAABRAAAAAAAAAFEAAAAAAAAAUQAAAAAAAABRAAAAAAAAAFEAAAAAAAAAUQAAAAAAAABRAAAAAAAAAFEAAAAAAAAAUQAAAAAAAABRAAAAAAAAAFEAAAAAAAAAcQAAAAAAAABRAAAAAAAAAFEAAAAAAAAAUQAAAAAAAABRAAAAAAAAAFEAAAAAAAAAUQAAAAAAAABRAAAAAAAAAFEAAAAAAAAAUQAAAAAAAABRAAAAAAAAAHEAAAAAAAAAUQAAAAAAAABRAAAAAAAAAFEAAAAAAAAAUQAAAAAAAABRAAAAAAAAAFEAAAAAAAAAUQAAAAAAAABRAAAAAAAAAFEAAAAAAAAAUQAAAAAAAABRAAAAAAAAAFEAAAAAAAAAUQAAAAAAAABxAAAAAAAAAFEAAAAAAAAAUQAAAAAAAABRAAAAAAAAAHEAAAAAAAAAUQAAAAAAAABRAAAAAAAAAHEAAAAAAAAAcQAAAAAAAABRAAAAAAAAAFEAAAAAAAAAUQAAAAAAAABRAAAAAAAAAFEAAAAAAAAAcQAAAAAAAABRAAAAAAAAAFEAAAAAAAAAUQAAAAAAAABRAAAAAAAAAFEAAAAAAAAAUQAAAAAAAAPh/AAAAAAAAFEAAAAAAAAAUQAAAAAAAABRAAAAAAAAAFEAAAAAAAAAUQAAAAAAAABRAAAAAAAAAFEAAAAAAAAAUQAAAAAAAABRAAAAAAAAAIEAAAAAAAAAUQAAAAAAAABRAAAAAAAAAEEAAAAAAAAAgQAAAAAAAABRAAAAAAAAAFEAAAAAAAAAgQAAAAAAAABRAAAAAAAAAFEAAAAAAAAAUQAAAAAAAABRAAAAAAAAAFEAAAAAAAAAUQAAAAAAAABRAAAAAAAAAFEAAAAAAAAAUQAAAAAAAABxAAAAAAAAAHEAAAAAAAAAUQAAAAAAAABRAAAAAAAAAFEAAAAAAAAAUQAAAAAAAABRAAAAAAAAAFEAAAAAAAAAUQAAAAAAAABRAAAAAAAAAFEAAAAAAAAAUQAAAAAAAABRAAAAAAAAAHEAAAAAAAAAUQAAAAAAAABRAAAAAAAAAHEAAAAAAAAAUQAAAAAAAABxAAAAAAAAAFEAAAAAAAAAUQAAAAAAAABRAAAAAAAAAFEAAAAAAAAAUQAAAAAAAABRAAAAAAAAAFEAAAAAAAAAUQAAAAAAAABRAAAAAAAAAFEAAAAAAAAAUQAAAAAAAABxAAAAAAAAAFEAAAAAAAAAUQAAAAAAAABRAAAAAAAAAFEAAAAAAAAAUQAAAAAAAAPh/AAAAAAAAFEAAAAAAAAAcQAAAAAAAABRAAAAAAAAAFEAAAAAAAAAUQAAAAAAAABRAAAAAAAAAFEAAAAAAAAAUQAAAAAAAABRAAAAAAAAAFEAAAAAAAAAUQAAAAAAAABRAAAAAAAAAFEAAAAAAAAAUQAAAAAAAABRAAAAAAAAAFEAAAAAAAAAUQAAAAAAAABRAAAAAAAAAFEAAAAAAAAAUQAAAAAAAABRAAAAAAAAAFEAAAAAAAAAcQAAAAAAAABRAAAAAAAAAIEAAAAAAAAAUQAAAAAAAABRAAAAAAAAAFEAAAAAAAAAcQAAAAAAAABxAAAAAAAAAFEAAAAAAAAAUQAAAAAAAABRAAAAAAAAAFEAAAAAAAAAQQAAAAAAAABRAAAAAAAAAFEAAAAAAAAAcQAAAAAAAABRAAAAAAAAAFEAAAAAAAAAUQAAAAAAAABRAAAAAAAAAFEAAAAAAAAAUQAAAAAAAABRAAAAAAAAAFEAAAAAAAAAUQAAAAAAAABRAAAAAAAAAFEAAAAAAAAAUQAAAAAAAABRAAAAAAAAAHEAAAAAAAAAcQAAAAAAAABRAAAAAAAAAFEAAAAAAAAAUQAAAAAAAABRAAAAAAAAAFEAAAAAAAAAUQAAAAAAAABRAAAAAAAAAFEAAAAAAAAAUQAAAAAAAABRAAAAAAAAAFEAAAAAAAAAcQAAAAAAAABRAAAAAAAAAFEAAAAAAAAAUQAAAAAAAABRAAAAAAAAAFEAAAAAAAAAUQAAAAAAAABRAAAAAAAAAEEAAAAAAAAAUQAAAAAAAABRAAAAAAAAAFEAAAAAAAAAUQAAAAAAAABRAAAAAAAAAFEAAAAAAAAAcQAAAAAAAABRAAAAAAAAAFEAAAAAAAAAUQAAAAAAAABRAAAAAAAAAFEAAAAAAAAAUQAAAAAAAABRAAAAAAAAAFEAAAAAAAAAUQAAAAAAAABxAAAAAAAAAFEAAAAAAAAAUQAAAAAAAABRAAAAAAAAAFEAAAAAAAAAUQAAAAAAAABRAAAAAAAAAFEAAAAAAAAAUQAAAAAAAABRAAAAAAAAAFEAAAAAAAAAUQAAAAAAAABRAAAAAAAAAFEAAAAAAAAAUQAAAAAAAABRAAAAAAAAAFEAAAAAAAAAcQAAAAAAAABRAAAAAAAAAFEAAAAAAAAAUQAAAAAAAABRAAAAAAAAAFEAAAAAAAAAUQAAAAAAAABRAAAAAAAAAFEAAAAAAAAAUQAAAAAAAABRAAAAAAAAAFEAAAAAAAAAUQAAAAAAAABRAAAAAAAAAFEAAAAAAAAAUQAAAAAAAABRAAAAAAAAAFEAAAAAAAAAUQAAAAAAAABxAAAAAAAAAFEAAAAAAAAAcQAAAAAAAABRAAAAAAAAAFEAAAAAAAAAcQAAAAAAAACBAAAAAAAAAFEAAAAAAAAAcQAAAAAAAABxAAAAAAAAAFEAAAAAAAAAUQAAAAAAAABRAAAAAAAAAFEAAAAAAAAAUQAAAAAAAABRAAAAAAAAAFEAAAAAAAAAUQAAAAAAAABRAAAAAAAAAFEAAAAAAAAAcQAAAAAAAABRAAAAAAAAAFEAAAAAAAAAUQAAAAAAAABRAAAAAAAAAFEAAAAAAAAAcQAAAAAAAABRAAAAAAAAAFEAAAAAAAAAUQAAAAAAAABRAAAAAAAAAFEAAAAAAAAAcQAAAAAAAABRAAAAAAAAAFEAAAAAAAAAUQAAAAAAAABRAAAAAAAAAFEAAAAAAAAAUQAAAAAAAABRAAAAAAAAAFEAAAAAAAAAcQAAAAAAAABRAAAAAAAAAFEAAAAAAAAD4fwAAAAAAABRAAAAAAAAAFEAAAAAAAAAUQAAAAAAAABRAAAAAAAAAFEAAAAAAAAAcQAAAAAAAABRAAAAAAAAAFEAAAAAAAAAUQAAAAAAAABRAAAAAAAAAFEAAAAAAAAAUQAAAAAAAABxAAAAAAAAAFEAAAAAAAAAUQAAAAAAAACBAAAAAAAAAHEAAAAAAAAAUQAAAAAAAABRAAAAAAAAAFEAAAAAAAAAcQAAAAAAAABRAAAAAAAAAFEAAAAAAAAAcQAAAAAAAABRAAAAAAAAAHEAAAAAAAAAUQAAAAAAAACBAAAAAAAAAHEAAAAAAAAAUQAAAAAAAABRAAAAAAAAAHEAAAAAAAAAQQAAAAAAAABRAAAAAAAAAFEAAAAAAAAAcQAAAAAAAABRAAAAAAAAAFEAAAAAAAAAUQAAAAAAAABRAAAAAAAAAHEAAAAAAAAAUQAAAAAAAABRAAAAAAAAAFEAAAAAAAAAUQAAAAAAAABRAAAAAAAAAFEAAAAAAAAAUQAAAAAAAABRAAAAAAAAAFEAAAAAAAAAUQAAAAAAAABRAAAAAAAAAFEAAAAAAAAAUQAAAAAAAABRAAAAAAAAAFEAAAAAAAAAcQAAAAAAAABRAAAAAAAAAFEAAAAAAAAAUQAAAAAAAABRAAAAAAAAAFEAAAAAAAAAUQAAAAAAAABRAAAAAAAAAFEAAAAAAAAAUQAAAAAAAACBAAAAAAAAAFEAAAAAAAAAUQAAAAAAAABRAAAAAAAAAFEAAAAAAAAAUQAAAAAAAABRAAAAAAAAAFEAAAAAAAAAUQAAAAAAAABRAAAAAAAAAFEAAAAAAAAAUQAAAAAAAABRAAAAAAAAAFEAAAAAAAAAUQAAAAAAAABxAAAAAAAAAFEAAAAAAAAAcQAAAAAAAAPh/AAAAAAAAFEAAAAAAAAAUQAAAAAAAABRAAAAAAAAAFEAAAAAAAAAUQAAAAAAAABRAAAAAAAAAFEAAAAAAAAAcQAAAAAAAABRAAAAAAAAAFEAAAAAAAAAcQAAAAAAAABRAAAAAAAAAFEAAAAAAAAAcQAAAAAAAABRAAAAAAAAAEEAAAAAAAAAUQAAAAAAAABRAAAAAAAAAFEAAAAAAAAAUQAAAAAAAABRAAAAAAAAAFEAAAAAAAAAUQAAAAAAAAABAAAAAAAAAFEAAAAAAAAAQQAAAAAAAABRAAAAAAAAAFEAAAAAAAAAUQAAAAAAAABRAAAAAAAAAFEAAAAAAAAAcQAAAAAAAABRAAAAAAAAAFEAAAAAAAAAUQAAAAAAAABRAAAAAAAAAFEAAAAAAAAAUQAAAAAAAABRAAAAAAAAAFEAAAAAAAAAUQAAAAAAAABRAAAAAAAAAFEAAAAAAAAAUQAAAAAAAACBAAAAAAAAAFEAAAAAAAAAUQAAAAAAAACBAAAAAAAAAFEAAAAAAAAAUQAAAAAAAABxAAAAAAAAAFEAAAAAAAAAcQAAAAAAAABRAAAAAAAAAFEAAAAAAAAAUQAAAAAAAABRAAAAAAAAAFEAAAAAAAAAUQAAAAAAAABRAAAAAAAAAFEAAAAAAAAAUQAAAAAAAABxAAAAAAAAAIEAAAAAAAAAUQAAAAAAAABRAAAAAAAAAFEAAAAAAAAAUQAAAAAAAABRAAAAAAAAAFEAAAAAAAAAUQAAAAAAAABRAAAAAAAAAFEAAAAAAAAAUQAAAAAAAABRAAAAAAAAAFEAAAAAAAAAUQAAAAAAAABRAAAAAAAAAFEAAAAAAAAAUQAAAAAAAABRAAAAAAAAAFEAAAAAAAAAUQAAAAAAAABRAAAAAAAAAFEAAAAAAAAAUQAAAAAAAABxAAAAAAAAAFEAAAAAAAAAUQAAAAAAAABRAAAAAAAAAFEAAAAAAAAAUQAAAAAAAABxAAAAAAAAAFEAAAAAAAAAUQAAAAAAAABxAAAAAAAAAFEAAAAAAAAAUQAAAAAAAABRAAAAAAAAAFEAAAAAAAAAUQAAAAAAAABRAAAAAAAAAFEAAAAAAAAAUQAAAAAAAABRAAAAAAAAAFEAAAAAAAAAQQAAAAAAAABRAAAAAAAAAFEAAAAAAAAAUQAAAAAAAABRAAAAAAAAAFEAAAAAAAAAUQAAAAAAAABRAAAAAAAAAHEAAAAAAAAAUQAAAAAAAABBAAAAAAAAAFEAAAAAAAAAUQAAAAAAAABRAAAAAAAAAHEAAAAAAAAAUQAAAAAAAABRAAAAAAAAAFEAAAAAAAAAUQAAAAAAAABxAAAAAAAAAEEAAAAAAAAAUQAAAAAAAABRAAAAAAAAAFEAAAAAAAAAUQAAAAAAAABRAAAAAAAAAFEAAAAAAAAAUQAAAAAAAABxAAAAAAAAAFEAAAAAAAAAUQAAAAAAAABRAAAAAAAAAFEAAAAAAAAAUQAAAAAAAABRAAAAAAAAAHEAAAAAAAAAUQAAAAAAAABxAAAAAAAAAFEAAAAAAAAAUQAAAAAAAABRAAAAAAAAAFEAAAAAAAAAUQAAAAAAAABRAAAAAAAAAFEAAAAAAAAAUQAAAAAAAABxAAAAAAAAAFEAAAAAAAAAUQAAAAAAAABRAAAAAAAAAFEAAAAAAAAAcQAAAAAAAABRAAAAAAAAAFEAAAAAAAAAUQAAAAAAAABRAAAAAAAAAFEAAAAAAAAAUQAAAAAAAABRAAAAAAAAAHEAAAAAAAAAcQAAAAAAAABxAAAAAAAAAFEAAAAAAAAAUQAAAAAAAABxAAAAAAAAAFEAAAAAAAAAUQAAAAAAAABRAAAAAAAAAFEAAAAAAAAAUQAAAAAAAABRAAAAAAAAAFEAAAAAAAAAUQAAAAAAAABRAAAAAAAAAFEAAAAAAAAAUQAAAAAAAABRAAAAAAAAAFEAAAAAAAAAUQAAAAAAAABRAAAAAAAAAFEAAAAAAAAAUQAAAAAAAABRAAAAAAAAAFEAAAAAAAAAUQAAAAAAAABRAAAAAAAAAFEAAAAAAAAAcQAAAAAAAABRAAAAAAAAAHEAAAAAAAAAUQAAAAAAAABBAAAAAAAAAFEAAAAAAAAAUQAAAAAAAABxAAAAAAAAAFEAAAAAAAAAUQAAAAAAAABBAAAAAAAAAFEAAAAAAAAAUQAAAAAAAABRAAAAAAAAAFEAAAAAAAAAUQAAAAAAAABRAAAAAAAAAEEAAAAAAAAAUQAAAAAAAABRAAAAAAAAAFEAAAAAAAAAUQAAAAAAAABRAAAAAAAAAFEAAAAAAAAAUQAAAAAAAABRAAAAAAAAAFEAAAAAAAAAUQAAAAAAAABRAAAAAAAAAFEAAAAAAAAAUQAAAAAAAABRAAAAAAAAAFEAAAAAAAAAUQAAAAAAAACBAAAAAAAAAFEAAAAAAAAAcQAAAAAAAABRAAAAAAAAAFEAAAAAAAAAUQAAAAAAAABxAAAAAAAAAFEAAAAAAAAAUQAAAAAAAABRAAAAAAAAAFEAAAAAAAAAUQAAAAAAAABRAAAAAAAAAFEAAAAAAAAAUQAAAAAAAABRAAAAAAAAAFEAAAAAAAAAgQAAAAAAAABRAAAAAAAAAFEAAAAAAAAAQQAAAAAAAABhAAAAAAAAAFEAAAAAAAAAQQAAAAAAAABxAAAAAAAAAHEAAAAAAAAAUQAAAAAAAABRAAAAAAAAAFEAAAAAAAAAUQAAAAAAAABRAAAAAAAAAFEAAAAAAAAAUQAAAAAAAACBAAAAAAAAAFEAAAAAAAAAUQAAAAAAAABRAAAAAAAAAFEAAAAAAAAAUQAAAAAAAABRAAAAAAAAAHEAAAAAAAAAUQAAAAAAAABRAAAAAAAAAFEAAAAAAAAAcQAAAAAAAABRAAAAAAAAAFEAAAAAAAAAUQAAAAAAAABRAAAAAAAAAFEAAAAAAAAAUQAAAAAAAABRAAAAAAAAAFEAAAAAAAAAUQAAAAAAAABRAAAAAAAAAGEAAAAAAAAAUQAAAAAAAABRAAAAAAAAAFEAAAAAAAAAUQAAAAAAAABRAAAAAAAAAFEAAAAAAAAAUQAAAAAAAABRAAAAAAAAAFEAAAAAAAAAUQAAAAAAAABRAAAAAAAAAFEAAAAAAAAAUQAAAAAAAABRAAAAAAAAAFEAAAAAAAAAUQAAAAAAAABRAAAAAAAAAFEAAAAAAAAAUQAAAAAAAABRAAAAAAAAAFEAAAAAAAAAUQAAAAAAAABRAAAAAAAAAFEAAAAAAAAAUQAAAAAAAABRAAAAAAAAAHEAAAAAAAAAUQAAAAAAAABxAAAAAAAAAFEAAAAAAAAAUQAAAAAAAABRAAAAAAAAAFEAAAAAAAAAUQAAAAAAAABRAAAAAAAAAFEAAAAAAAAAUQAAAAAAAABRAAAAAAAAAHEAAAAAAAAAUQAAAAAAAABRAAAAAAAAAFEAAAAAAAAAUQAAAAAAAABRAAAAAAAAAFEAAAAAAAAAUQAAAAAAAABRAAAAAAAAAFEAAAAAAAAAgQAAAAAAAABBAAAAAAAAAFEAAAAAAAAAUQAAAAAAAABRAAAAAAAAAFEAAAAAAAAAUQAAAAAAAABRAAAAAAAAAFEAAAAAAAAAUQAAAAAAAABRAAAAAAAAAFEAAAAAAAAAUQAAAAAAAABRAAAAAAAAAFEAAAAAAAAAUQAAAAAAAABRAAAAAAAAAFEAAAAAAAAAUQAAAAAAAABxAAAAAAAAAFEAAAAAAAAAUQAAAAAAAABRAAAAAAAAAFEAAAAAAAAAUQAAAAAAAABRAAAAAAAAAFEAAAAAAAAAgQAAAAAAAABRAAAAAAAAAFEAAAAAAAAAUQAAAAAAAABRAAAAAAAAAFEAAAAAAAAAUQAAAAAAAABRAAAAAAAAAFEAAAAAAAAAUQAAAAAAAABRAAAAAAAAAFEAAAAAAAAAcQAAAAAAAABRAAAAAAAAAFEAAAAAAAAAUQAAAAAAAABRAAAAAAAAAFEAAAAAAAAAgQAAAAAAAABRAAAAAAAAAFEAAAAAAAAAcQAAAAAAAABRAAAAAAAAAHEAAAAAAAAAUQAAAAAAAABRAAAAAAAAAFEAAAAAAAAAUQAAAAAAAABBAAAAAAAAAFEAAAAAAAAAUQAAAAAAAABRAAAAAAAAAFEAAAAAAAAAUQAAAAAAAABRAAAAAAAAAFEAAAAAAAAAUQAAAAAAAABRAAAAAAAAAFEAAAAAAAAAUQAAAAAAAABRAAAAAAAAAFEAAAAAAAAAUQAAAAAAAABRAAAAAAAAAFEAAAAAAAAAUQAAAAAAAABRAAAAAAAAAFEAAAAAAAAAUQAAAAAAAABRAAAAAAAAAFEAAAAAAAAAUQAAAAAAAABRAAAAAAAAAFEAAAAAAAAAUQAAAAAAAABRAAAAAAAAAFEAAAAAAAAAUQAAAAAAAABRAAAAAAAAAFEAAAAAAAAAUQAAAAAAAABRAAAAAAAAAHEAAAAAAAAAUQAAAAAAAABRAAAAAAAAAFEAAAAAAAAAUQAAAAAAAABRAAAAAAAAAFEAAAAAAAAAUQAAAAAAAABRAAAAAAAAAFEAAAAAAAAAUQAAAAAAAABRAAAAAAAAAFEAAAAAAAAAUQAAAAAAAABRAAAAAAAAAFEAAAAAAAAAUQAAAAAAAABxAAAAAAAAAFEAAAAAAAAAUQAAAAAAAABRAAAAAAAAAFEAAAAAAAAAcQAAAAAAAABRAAAAAAAAAFEAAAAAAAAAUQAAAAAAAABRAAAAAAAAAFEAAAAAAAAAUQAAAAAAAABRAAAAAAAAAFEAAAAAAAAAUQAAAAAAAABRAAAAAAAAAFEAAAAAAAAAUQAAAAAAAACBAAAAAAAAAFEAAAAAAAAAUQAAAAAAAABRAAAAAAAAAFEAAAAAAAAAUQAAAAAAAABRAAAAAAAAAFEAAAAAAAAAcQAAAAAAAABRAAAAAAAAAGEAAAAAAAAAUQAAAAAAAABxAAAAAAAAAFEAAAAAAAAAUQAAAAAAAABRAAAAAAAAAFEAAAAAAAAAcQAAAAAAAABRAAAAAAAAAFEAAAAAAAAAUQAAAAAAAABRAAAAAAAAAFEAAAAAAAAAUQAAAAAAAABRAAAAAAAAAFEAAAAAAAAAUQAAAAAAAABRAAAAAAAAAFEAAAAAAAAAUQAAAAAAAABxAAAAAAAAAHEAAAAAAAAAUQAAAAAAAABRAAAAAAAAAFEAAAAAAAAAcQAAAAAAAABRAAAAAAAAAFEAAAAAAAAAUQAAAAAAAABRAAAAAAAAAIEAAAAAAAAAUQAAAAAAAABRAAAAAAAAAFEAAAAAAAAAcQAAAAAAAABRAAAAAAAAAFEAAAAAAAAAUQAAAAAAAABRAAAAAAAAAEEAAAAAAAAAUQAAAAAAAABRAAAAAAAAAFEAAAAAAAAAUQAAAAAAAABRAAAAAAAAAAEAAAAAAAAAUQAAAAAAAABRAAAAAAAAAFEAAAAAAAAAUQAAAAAAAABRAAAAAAAAAHEAAAAAAAAAUQAAAAAAAABRAAAAAAAAAHEAAAAAAAAAUQAAAAAAAABRAAAAAAAAAFEAAAAAAAAAUQAAAAAAAABRAAAAAAAAAFEAAAAAAAAAUQAAAAAAAABRAAAAAAAAAFEAAAAAAAAAcQAAAAAAAABRAAAAAAAAAFEAAAAAAAAAcQAAAAAAAABRAAAAAAAAAFEAAAAAAAAAUQAAAAAAAABhAAAAAAAAAFEAAAAAAAAAUQAAAAAAAABRAAAAAAAAAFEAAAAAAAAAUQAAAAAAAABRAAAAAAAAAFEAAAAAAAAAUQAAAAAAAABRAAAAAAAAAFEAAAAAAAAAUQAAAAAAAABRAAAAAAAAAFEAAAAAAAAAUQAAAAAAAABRAAAAAAAAAFEAAAAAAAAAUQAAAAAAAABRAAAAAAAAAFEAAAAAAAAAUQAAAAAAAABRAAAAAAAAAFEAAAAAAAAAUQAAAAAAAACBAAAAAAAAAFEAAAAAAAAAUQAAAAAAAACBAAAAAAAAAFEAAAAAAAAAUQAAAAAAAABRAAAAAAAAAFEAAAAAAAAAUQAAAAAAAABxAAAAAAAAAFEAAAAAAAAAUQAAAAAAAABRAAAAAAAAAFEAAAAAAAAAUQAAAAAAAABRAAAAAAAAAFEAAAAAAAAAUQAAAAAAAABRAAAAAAAAAHEAAAAAAAAAUQAAAAAAAACBAAAAAAAAAFEAAAAAAAAAUQAAAAAAAABRAAAAAAAAAFEAAAAAAAAAUQAAAAAAAABRAAAAAAAAAHEAAAAAAAAAYQAAAAAAAABRAAAAAAAAAFEAAAAAAAAAcQAAAAAAAABRAAAAAAAAAFEAAAAAAAAAUQAAAAAAAABRAAAAAAAAAEEAAAAAAAAAUQAAAAAAAABRAAAAAAAAAHEAAAAAAAAAUQAAAAAAAABRAAAAAAAAAFEAAAAAAAAAUQAAAAAAAABxAAAAAAAAAFEAAAAAAAAAUQAAAAAAAABxAAAAAAAAAFEAAAAAAAAAUQAAAAAAAABRAAAAAAAAAFEAAAAAAAAAUQAAAAAAAABxAAAAAAAAAFEAAAAAAAAAUQAAAAAAAABRAAAAAAAAAHEAAAAAAAAAUQAAAAAAAABRAAAAAAAAAFEAAAAAAAAD4fwAAAAAAABRAAAAAAAAAFEAAAAAAAAAUQAAAAAAAABRAAAAAAAAAFEAAAAAAAAAUQAAAAAAAABRAAAAAAAAAFEAAAAAAAAAUQAAAAAAAABRAAAAAAAAAFEAAAAAAAAAUQAAAAAAAABxAAAAAAAAAFEAAAAAAAAAUQAAAAAAAABxAAAAAAAAAFEAAAAAAAAAUQAAAAAAAABxAAAAAAAAAFEAAAAAAAAAUQAAAAAAAABxAAAAAAAAAFEAAAAAAAAAUQAAAAAAAABRAAAAAAAAAAEAAAAAAAAAUQAAAAAAAABRAAAAAAAAAFEAAAAAAAAAUQAAAAAAAABxAAAAAAAAAFEAAAAAAAAAQQAAAAAAAABRAAAAAAAAAHEAAAAAAAAAUQAAAAAAAABRAAAAAAAAAHEAAAAAAAAAUQAAAAAAAABRAAAAAAAAAFEAAAAAAAAAQQAAAAAAAABRAAAAAAAAAIEAAAAAAAAAUQAAAAAAAACBAAAAAAAAAFEAAAAAAAAAUQAAAAAAAABxAAAAAAAAAGEAAAAAAAAAUQAAAAAAAABRAAAAAAAAAFEAAAAAAAAAcQAAAAAAAABRAAAAAAAAAFEAAAAAAAAAUQAAAAAAAABRAAAAAAAAAFEAAAAAAAAAUQAAAAAAAABxAAAAAAAAAFEAAAAAAAAAcQAAAAAAAABRAAAAAAAAAFEAAAAAAAAAUQAAAAAAAABRAAAAAAAAAHEAAAAAAAAAUQAAAAAAAABRAAAAAAAAAFEAAAAAAAAAUQAAAAAAAABRAAAAAAAAAHEAAAAAAAAAUQAAAAAAAACBAAAAAAAAAFEAAAAAAAAAUQAAAAAAAABRAAAAAAAAAFEAAAAAAAAAUQAAAAAAAABRAAAAAAAAAFEAAAAAAAAAUQAAAAAAAABxAAAAAAAAAFEAAAAAAAAAUQAAAAAAAABRAAAAAAAAAHEAAAAAAAAAUQAAAAAAAABRAAAAAAAAAFEAAAAAAAAAUQAAAAAAAABRAAAAAAAAAFEAAAAAAAAAUQAAAAAAAABxAAAAAAAAAFEAAAAAAAAAUQAAAAAAAABRAAAAAAAAAFEAAAAAAAAAUQAAAAAAAABRAAAAAAAAAFEAAAAAAAAAUQAAAAAAAABRAAAAAAAAAFEAAAAAAAAAUQAAAAAAAABRAAAAAAAAAFEAAAAAAAAAUQAAAAAAAABRAAAAAAAAAFEAAAAAAAAAUQAAAAAAAABBAAAAAAAAAFEAAAAAAAAAUQAAAAAAAABRAAAAAAAAAHEAAAAAAAAAUQAAAAAAAABRAAAAAAAAAFEAAAAAAAAAgQAAAAAAAABRAAAAAAAAAFEA=",
          "dtype": "f8"
         },
         "xaxis": "x",
         "yaxis": "y"
        }
       ],
       "layout": {
        "barmode": "relative",
        "legend": {
         "tracegroupgap": 0
        },
        "template": {
         "data": {
          "bar": [
           {
            "error_x": {
             "color": "#2a3f5f"
            },
            "error_y": {
             "color": "#2a3f5f"
            },
            "marker": {
             "line": {
              "color": "#E5ECF6",
              "width": 0.5
             },
             "pattern": {
              "fillmode": "overlay",
              "size": 10,
              "solidity": 0.2
             }
            },
            "type": "bar"
           }
          ],
          "barpolar": [
           {
            "marker": {
             "line": {
              "color": "#E5ECF6",
              "width": 0.5
             },
             "pattern": {
              "fillmode": "overlay",
              "size": 10,
              "solidity": 0.2
             }
            },
            "type": "barpolar"
           }
          ],
          "carpet": [
           {
            "aaxis": {
             "endlinecolor": "#2a3f5f",
             "gridcolor": "white",
             "linecolor": "white",
             "minorgridcolor": "white",
             "startlinecolor": "#2a3f5f"
            },
            "baxis": {
             "endlinecolor": "#2a3f5f",
             "gridcolor": "white",
             "linecolor": "white",
             "minorgridcolor": "white",
             "startlinecolor": "#2a3f5f"
            },
            "type": "carpet"
           }
          ],
          "choropleth": [
           {
            "colorbar": {
             "outlinewidth": 0,
             "ticks": ""
            },
            "type": "choropleth"
           }
          ],
          "contour": [
           {
            "colorbar": {
             "outlinewidth": 0,
             "ticks": ""
            },
            "colorscale": [
             [
              0,
              "#0d0887"
             ],
             [
              0.1111111111111111,
              "#46039f"
             ],
             [
              0.2222222222222222,
              "#7201a8"
             ],
             [
              0.3333333333333333,
              "#9c179e"
             ],
             [
              0.4444444444444444,
              "#bd3786"
             ],
             [
              0.5555555555555556,
              "#d8576b"
             ],
             [
              0.6666666666666666,
              "#ed7953"
             ],
             [
              0.7777777777777778,
              "#fb9f3a"
             ],
             [
              0.8888888888888888,
              "#fdca26"
             ],
             [
              1,
              "#f0f921"
             ]
            ],
            "type": "contour"
           }
          ],
          "contourcarpet": [
           {
            "colorbar": {
             "outlinewidth": 0,
             "ticks": ""
            },
            "type": "contourcarpet"
           }
          ],
          "heatmap": [
           {
            "colorbar": {
             "outlinewidth": 0,
             "ticks": ""
            },
            "colorscale": [
             [
              0,
              "#0d0887"
             ],
             [
              0.1111111111111111,
              "#46039f"
             ],
             [
              0.2222222222222222,
              "#7201a8"
             ],
             [
              0.3333333333333333,
              "#9c179e"
             ],
             [
              0.4444444444444444,
              "#bd3786"
             ],
             [
              0.5555555555555556,
              "#d8576b"
             ],
             [
              0.6666666666666666,
              "#ed7953"
             ],
             [
              0.7777777777777778,
              "#fb9f3a"
             ],
             [
              0.8888888888888888,
              "#fdca26"
             ],
             [
              1,
              "#f0f921"
             ]
            ],
            "type": "heatmap"
           }
          ],
          "histogram": [
           {
            "marker": {
             "pattern": {
              "fillmode": "overlay",
              "size": 10,
              "solidity": 0.2
             }
            },
            "type": "histogram"
           }
          ],
          "histogram2d": [
           {
            "colorbar": {
             "outlinewidth": 0,
             "ticks": ""
            },
            "colorscale": [
             [
              0,
              "#0d0887"
             ],
             [
              0.1111111111111111,
              "#46039f"
             ],
             [
              0.2222222222222222,
              "#7201a8"
             ],
             [
              0.3333333333333333,
              "#9c179e"
             ],
             [
              0.4444444444444444,
              "#bd3786"
             ],
             [
              0.5555555555555556,
              "#d8576b"
             ],
             [
              0.6666666666666666,
              "#ed7953"
             ],
             [
              0.7777777777777778,
              "#fb9f3a"
             ],
             [
              0.8888888888888888,
              "#fdca26"
             ],
             [
              1,
              "#f0f921"
             ]
            ],
            "type": "histogram2d"
           }
          ],
          "histogram2dcontour": [
           {
            "colorbar": {
             "outlinewidth": 0,
             "ticks": ""
            },
            "colorscale": [
             [
              0,
              "#0d0887"
             ],
             [
              0.1111111111111111,
              "#46039f"
             ],
             [
              0.2222222222222222,
              "#7201a8"
             ],
             [
              0.3333333333333333,
              "#9c179e"
             ],
             [
              0.4444444444444444,
              "#bd3786"
             ],
             [
              0.5555555555555556,
              "#d8576b"
             ],
             [
              0.6666666666666666,
              "#ed7953"
             ],
             [
              0.7777777777777778,
              "#fb9f3a"
             ],
             [
              0.8888888888888888,
              "#fdca26"
             ],
             [
              1,
              "#f0f921"
             ]
            ],
            "type": "histogram2dcontour"
           }
          ],
          "mesh3d": [
           {
            "colorbar": {
             "outlinewidth": 0,
             "ticks": ""
            },
            "type": "mesh3d"
           }
          ],
          "parcoords": [
           {
            "line": {
             "colorbar": {
              "outlinewidth": 0,
              "ticks": ""
             }
            },
            "type": "parcoords"
           }
          ],
          "pie": [
           {
            "automargin": true,
            "type": "pie"
           }
          ],
          "scatter": [
           {
            "fillpattern": {
             "fillmode": "overlay",
             "size": 10,
             "solidity": 0.2
            },
            "type": "scatter"
           }
          ],
          "scatter3d": [
           {
            "line": {
             "colorbar": {
              "outlinewidth": 0,
              "ticks": ""
             }
            },
            "marker": {
             "colorbar": {
              "outlinewidth": 0,
              "ticks": ""
             }
            },
            "type": "scatter3d"
           }
          ],
          "scattercarpet": [
           {
            "marker": {
             "colorbar": {
              "outlinewidth": 0,
              "ticks": ""
             }
            },
            "type": "scattercarpet"
           }
          ],
          "scattergeo": [
           {
            "marker": {
             "colorbar": {
              "outlinewidth": 0,
              "ticks": ""
             }
            },
            "type": "scattergeo"
           }
          ],
          "scattergl": [
           {
            "marker": {
             "colorbar": {
              "outlinewidth": 0,
              "ticks": ""
             }
            },
            "type": "scattergl"
           }
          ],
          "scattermap": [
           {
            "marker": {
             "colorbar": {
              "outlinewidth": 0,
              "ticks": ""
             }
            },
            "type": "scattermap"
           }
          ],
          "scattermapbox": [
           {
            "marker": {
             "colorbar": {
              "outlinewidth": 0,
              "ticks": ""
             }
            },
            "type": "scattermapbox"
           }
          ],
          "scatterpolar": [
           {
            "marker": {
             "colorbar": {
              "outlinewidth": 0,
              "ticks": ""
             }
            },
            "type": "scatterpolar"
           }
          ],
          "scatterpolargl": [
           {
            "marker": {
             "colorbar": {
              "outlinewidth": 0,
              "ticks": ""
             }
            },
            "type": "scatterpolargl"
           }
          ],
          "scatterternary": [
           {
            "marker": {
             "colorbar": {
              "outlinewidth": 0,
              "ticks": ""
             }
            },
            "type": "scatterternary"
           }
          ],
          "surface": [
           {
            "colorbar": {
             "outlinewidth": 0,
             "ticks": ""
            },
            "colorscale": [
             [
              0,
              "#0d0887"
             ],
             [
              0.1111111111111111,
              "#46039f"
             ],
             [
              0.2222222222222222,
              "#7201a8"
             ],
             [
              0.3333333333333333,
              "#9c179e"
             ],
             [
              0.4444444444444444,
              "#bd3786"
             ],
             [
              0.5555555555555556,
              "#d8576b"
             ],
             [
              0.6666666666666666,
              "#ed7953"
             ],
             [
              0.7777777777777778,
              "#fb9f3a"
             ],
             [
              0.8888888888888888,
              "#fdca26"
             ],
             [
              1,
              "#f0f921"
             ]
            ],
            "type": "surface"
           }
          ],
          "table": [
           {
            "cells": {
             "fill": {
              "color": "#EBF0F8"
             },
             "line": {
              "color": "white"
             }
            },
            "header": {
             "fill": {
              "color": "#C8D4E3"
             },
             "line": {
              "color": "white"
             }
            },
            "type": "table"
           }
          ]
         },
         "layout": {
          "annotationdefaults": {
           "arrowcolor": "#2a3f5f",
           "arrowhead": 0,
           "arrowwidth": 1
          },
          "autotypenumbers": "strict",
          "coloraxis": {
           "colorbar": {
            "outlinewidth": 0,
            "ticks": ""
           }
          },
          "colorscale": {
           "diverging": [
            [
             0,
             "#8e0152"
            ],
            [
             0.1,
             "#c51b7d"
            ],
            [
             0.2,
             "#de77ae"
            ],
            [
             0.3,
             "#f1b6da"
            ],
            [
             0.4,
             "#fde0ef"
            ],
            [
             0.5,
             "#f7f7f7"
            ],
            [
             0.6,
             "#e6f5d0"
            ],
            [
             0.7,
             "#b8e186"
            ],
            [
             0.8,
             "#7fbc41"
            ],
            [
             0.9,
             "#4d9221"
            ],
            [
             1,
             "#276419"
            ]
           ],
           "sequential": [
            [
             0,
             "#0d0887"
            ],
            [
             0.1111111111111111,
             "#46039f"
            ],
            [
             0.2222222222222222,
             "#7201a8"
            ],
            [
             0.3333333333333333,
             "#9c179e"
            ],
            [
             0.4444444444444444,
             "#bd3786"
            ],
            [
             0.5555555555555556,
             "#d8576b"
            ],
            [
             0.6666666666666666,
             "#ed7953"
            ],
            [
             0.7777777777777778,
             "#fb9f3a"
            ],
            [
             0.8888888888888888,
             "#fdca26"
            ],
            [
             1,
             "#f0f921"
            ]
           ],
           "sequentialminus": [
            [
             0,
             "#0d0887"
            ],
            [
             0.1111111111111111,
             "#46039f"
            ],
            [
             0.2222222222222222,
             "#7201a8"
            ],
            [
             0.3333333333333333,
             "#9c179e"
            ],
            [
             0.4444444444444444,
             "#bd3786"
            ],
            [
             0.5555555555555556,
             "#d8576b"
            ],
            [
             0.6666666666666666,
             "#ed7953"
            ],
            [
             0.7777777777777778,
             "#fb9f3a"
            ],
            [
             0.8888888888888888,
             "#fdca26"
            ],
            [
             1,
             "#f0f921"
            ]
           ]
          },
          "colorway": [
           "#636efa",
           "#EF553B",
           "#00cc96",
           "#ab63fa",
           "#FFA15A",
           "#19d3f3",
           "#FF6692",
           "#B6E880",
           "#FF97FF",
           "#FECB52"
          ],
          "font": {
           "color": "#2a3f5f"
          },
          "geo": {
           "bgcolor": "white",
           "lakecolor": "white",
           "landcolor": "#E5ECF6",
           "showlakes": true,
           "showland": true,
           "subunitcolor": "white"
          },
          "hoverlabel": {
           "align": "left"
          },
          "hovermode": "closest",
          "mapbox": {
           "style": "light"
          },
          "paper_bgcolor": "white",
          "plot_bgcolor": "#E5ECF6",
          "polar": {
           "angularaxis": {
            "gridcolor": "white",
            "linecolor": "white",
            "ticks": ""
           },
           "bgcolor": "#E5ECF6",
           "radialaxis": {
            "gridcolor": "white",
            "linecolor": "white",
            "ticks": ""
           }
          },
          "scene": {
           "xaxis": {
            "backgroundcolor": "#E5ECF6",
            "gridcolor": "white",
            "gridwidth": 2,
            "linecolor": "white",
            "showbackground": true,
            "ticks": "",
            "zerolinecolor": "white"
           },
           "yaxis": {
            "backgroundcolor": "#E5ECF6",
            "gridcolor": "white",
            "gridwidth": 2,
            "linecolor": "white",
            "showbackground": true,
            "ticks": "",
            "zerolinecolor": "white"
           },
           "zaxis": {
            "backgroundcolor": "#E5ECF6",
            "gridcolor": "white",
            "gridwidth": 2,
            "linecolor": "white",
            "showbackground": true,
            "ticks": "",
            "zerolinecolor": "white"
           }
          },
          "shapedefaults": {
           "line": {
            "color": "#2a3f5f"
           }
          },
          "ternary": {
           "aaxis": {
            "gridcolor": "white",
            "linecolor": "white",
            "ticks": ""
           },
           "baxis": {
            "gridcolor": "white",
            "linecolor": "white",
            "ticks": ""
           },
           "bgcolor": "#E5ECF6",
           "caxis": {
            "gridcolor": "white",
            "linecolor": "white",
            "ticks": ""
           }
          },
          "title": {
           "x": 0.05
          },
          "xaxis": {
           "automargin": true,
           "gridcolor": "white",
           "linecolor": "white",
           "ticks": "",
           "title": {
            "standoff": 15
           },
           "zerolinecolor": "white",
           "zerolinewidth": 2
          },
          "yaxis": {
           "automargin": true,
           "gridcolor": "white",
           "linecolor": "white",
           "ticks": "",
           "title": {
            "standoff": 15
           },
           "zerolinecolor": "white",
           "zerolinewidth": 2
          }
         }
        },
        "title": {
         "text": "Distribution of Seats"
        },
        "xaxis": {
         "anchor": "y",
         "domain": [
          0,
          1
         ],
         "title": {
          "text": "Seats"
         }
        },
        "yaxis": {
         "anchor": "x",
         "domain": [
          0,
          1
         ],
         "title": {
          "text": "count"
         }
        }
       }
      }
     },
     "metadata": {},
     "output_type": "display_data"
    },
    {
     "data": {
      "image/png": "[encoded data removed]",
      "text/plain": [
       "<Figure size 1000x400 with 1 Axes>"
      ]
     },
     "metadata": {},
     "output_type": "display_data"
    },
    {
     "data": {
      "application/vnd.plotly.v1+json": {
       "config": {
        "plotlyServerURL": "https://plot.ly"
       },
       "data": [
        {
         "bingroup": "x",
         "hovertemplate": "Price=%{x}<br>count=%{y}<extra></extra>",
         "legendgroup": "",
         "marker": {
          "color": "#636efa",
          "pattern": {
           "shape": ""
          }
         },
         "name": "",
         "orientation": "v",
         "showlegend": false,
         "type": "histogram",
         "x": {
          "bdata": "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",
          "dtype": "f8"
         },
         "xaxis": "x",
         "yaxis": "y"
        }
       ],
       "layout": {
        "barmode": "relative",
        "legend": {
         "tracegroupgap": 0
        },
        "template": {
         "data": {
          "bar": [
           {
            "error_x": {
             "color": "#2a3f5f"
            },
            "error_y": {
             "color": "#2a3f5f"
            },
            "marker": {
             "line": {
              "color": "#E5ECF6",
              "width": 0.5
             },
             "pattern": {
              "fillmode": "overlay",
              "size": 10,
              "solidity": 0.2
             }
            },
            "type": "bar"
           }
          ],
          "barpolar": [
           {
            "marker": {
             "line": {
              "color": "#E5ECF6",
              "width": 0.5
             },
             "pattern": {
              "fillmode": "overlay",
              "size": 10,
              "solidity": 0.2
             }
            },
            "type": "barpolar"
           }
          ],
          "carpet": [
           {
            "aaxis": {
             "endlinecolor": "#2a3f5f",
             "gridcolor": "white",
             "linecolor": "white",
             "minorgridcolor": "white",
             "startlinecolor": "#2a3f5f"
            },
            "baxis": {
             "endlinecolor": "#2a3f5f",
             "gridcolor": "white",
             "linecolor": "white",
             "minorgridcolor": "white",
             "startlinecolor": "#2a3f5f"
            },
            "type": "carpet"
           }
          ],
          "choropleth": [
           {
            "colorbar": {
             "outlinewidth": 0,
             "ticks": ""
            },
            "type": "choropleth"
           }
          ],
          "contour": [
           {
            "colorbar": {
             "outlinewidth": 0,
             "ticks": ""
            },
            "colorscale": [
             [
              0,
              "#0d0887"
             ],
             [
              0.1111111111111111,
              "#46039f"
             ],
             [
              0.2222222222222222,
              "#7201a8"
             ],
             [
              0.3333333333333333,
              "#9c179e"
             ],
             [
              0.4444444444444444,
              "#bd3786"
             ],
             [
              0.5555555555555556,
              "#d8576b"
             ],
             [
              0.6666666666666666,
              "#ed7953"
             ],
             [
              0.7777777777777778,
              "#fb9f3a"
             ],
             [
              0.8888888888888888,
              "#fdca26"
             ],
             [
              1,
              "#f0f921"
             ]
            ],
            "type": "contour"
           }
          ],
          "contourcarpet": [
           {
            "colorbar": {
             "outlinewidth": 0,
             "ticks": ""
            },
            "type": "contourcarpet"
           }
          ],
          "heatmap": [
           {
            "colorbar": {
             "outlinewidth": 0,
             "ticks": ""
            },
            "colorscale": [
             [
              0,
              "#0d0887"
             ],
             [
              0.1111111111111111,
              "#46039f"
             ],
             [
              0.2222222222222222,
              "#7201a8"
             ],
             [
              0.3333333333333333,
              "#9c179e"
             ],
             [
              0.4444444444444444,
              "#bd3786"
             ],
             [
              0.5555555555555556,
              "#d8576b"
             ],
             [
              0.6666666666666666,
              "#ed7953"
             ],
             [
              0.7777777777777778,
              "#fb9f3a"
             ],
             [
              0.8888888888888888,
              "#fdca26"
             ],
             [
              1,
              "#f0f921"
             ]
            ],
            "type": "heatmap"
           }
          ],
          "histogram": [
           {
            "marker": {
             "pattern": {
              "fillmode": "overlay",
              "size": 10,
              "solidity": 0.2
             }
            },
            "type": "histogram"
           }
          ],
          "histogram2d": [
           {
            "colorbar": {
             "outlinewidth": 0,
             "ticks": ""
            },
            "colorscale": [
             [
              0,
              "#0d0887"
             ],
             [
              0.1111111111111111,
              "#46039f"
             ],
             [
              0.2222222222222222,
              "#7201a8"
             ],
             [
              0.3333333333333333,
              "#9c179e"
             ],
             [
              0.4444444444444444,
              "#bd3786"
             ],
             [
              0.5555555555555556,
              "#d8576b"
             ],
             [
              0.6666666666666666,
              "#ed7953"
             ],
             [
              0.7777777777777778,
              "#fb9f3a"
             ],
             [
              0.8888888888888888,
              "#fdca26"
             ],
             [
              1,
              "#f0f921"
             ]
            ],
            "type": "histogram2d"
           }
          ],
          "histogram2dcontour": [
           {
            "colorbar": {
             "outlinewidth": 0,
             "ticks": ""
            },
            "colorscale": [
             [
              0,
              "#0d0887"
             ],
             [
              0.1111111111111111,
              "#46039f"
             ],
             [
              0.2222222222222222,
              "#7201a8"
             ],
             [
              0.3333333333333333,
              "#9c179e"
             ],
             [
              0.4444444444444444,
              "#bd3786"
             ],
             [
              0.5555555555555556,
              "#d8576b"
             ],
             [
              0.6666666666666666,
              "#ed7953"
             ],
             [
              0.7777777777777778,
              "#fb9f3a"
             ],
             [
              0.8888888888888888,
              "#fdca26"
             ],
             [
              1,
              "#f0f921"
             ]
            ],
            "type": "histogram2dcontour"
           }
          ],
          "mesh3d": [
           {
            "colorbar": {
             "outlinewidth": 0,
             "ticks": ""
            },
            "type": "mesh3d"
           }
          ],
          "parcoords": [
           {
            "line": {
             "colorbar": {
              "outlinewidth": 0,
              "ticks": ""
             }
            },
            "type": "parcoords"
           }
          ],
          "pie": [
           {
            "automargin": true,
            "type": "pie"
           }
          ],
          "scatter": [
           {
            "fillpattern": {
             "fillmode": "overlay",
             "size": 10,
             "solidity": 0.2
            },
            "type": "scatter"
           }
          ],
          "scatter3d": [
           {
            "line": {
             "colorbar": {
              "outlinewidth": 0,
              "ticks": ""
             }
            },
            "marker": {
             "colorbar": {
              "outlinewidth": 0,
              "ticks": ""
             }
            },
            "type": "scatter3d"
           }
          ],
          "scattercarpet": [
           {
            "marker": {
             "colorbar": {
              "outlinewidth": 0,
              "ticks": ""
             }
            },
            "type": "scattercarpet"
           }
          ],
          "scattergeo": [
           {
            "marker": {
             "colorbar": {
              "outlinewidth": 0,
              "ticks": ""
             }
            },
            "type": "scattergeo"
           }
          ],
          "scattergl": [
           {
            "marker": {
             "colorbar": {
              "outlinewidth": 0,
              "ticks": ""
             }
            },
            "type": "scattergl"
           }
          ],
          "scattermap": [
           {
            "marker": {
             "colorbar": {
              "outlinewidth": 0,
              "ticks": ""
             }
            },
            "type": "scattermap"
           }
          ],
          "scattermapbox": [
           {
            "marker": {
             "colorbar": {
              "outlinewidth": 0,
              "ticks": ""
             }
            },
            "type": "scattermapbox"
           }
          ],
          "scatterpolar": [
           {
            "marker": {
             "colorbar": {
              "outlinewidth": 0,
              "ticks": ""
             }
            },
            "type": "scatterpolar"
           }
          ],
          "scatterpolargl": [
           {
            "marker": {
             "colorbar": {
              "outlinewidth": 0,
              "ticks": ""
             }
            },
            "type": "scatterpolargl"
           }
          ],
          "scatterternary": [
           {
            "marker": {
             "colorbar": {
              "outlinewidth": 0,
              "ticks": ""
             }
            },
            "type": "scatterternary"
           }
          ],
          "surface": [
           {
            "colorbar": {
             "outlinewidth": 0,
             "ticks": ""
            },
            "colorscale": [
             [
              0,
              "#0d0887"
             ],
             [
              0.1111111111111111,
              "#46039f"
             ],
             [
              0.2222222222222222,
              "#7201a8"
             ],
             [
              0.3333333333333333,
              "#9c179e"
             ],
             [
              0.4444444444444444,
              "#bd3786"
             ],
             [
              0.5555555555555556,
              "#d8576b"
             ],
             [
              0.6666666666666666,
              "#ed7953"
             ],
             [
              0.7777777777777778,
              "#fb9f3a"
             ],
             [
              0.8888888888888888,
              "#fdca26"
             ],
             [
              1,
              "#f0f921"
             ]
            ],
            "type": "surface"
           }
          ],
          "table": [
           {
            "cells": {
             "fill": {
              "color": "#EBF0F8"
             },
             "line": {
              "color": "white"
             }
            },
            "header": {
             "fill": {
              "color": "#C8D4E3"
             },
             "line": {
              "color": "white"
             }
            },
            "type": "table"
           }
          ]
         },
         "layout": {
          "annotationdefaults": {
           "arrowcolor": "#2a3f5f",
           "arrowhead": 0,
           "arrowwidth": 1
          },
          "autotypenumbers": "strict",
          "coloraxis": {
           "colorbar": {
            "outlinewidth": 0,
            "ticks": ""
           }
          },
          "colorscale": {
           "diverging": [
            [
             0,
             "#8e0152"
            ],
            [
             0.1,
             "#c51b7d"
            ],
            [
             0.2,
             "#de77ae"
            ],
            [
             0.3,
             "#f1b6da"
            ],
            [
             0.4,
             "#fde0ef"
            ],
            [
             0.5,
             "#f7f7f7"
            ],
            [
             0.6,
             "#e6f5d0"
            ],
            [
             0.7,
             "#b8e186"
            ],
            [
             0.8,
             "#7fbc41"
            ],
            [
             0.9,
             "#4d9221"
            ],
            [
             1,
             "#276419"
            ]
           ],
           "sequential": [
            [
             0,
             "#0d0887"
            ],
            [
             0.1111111111111111,
             "#46039f"
            ],
            [
             0.2222222222222222,
             "#7201a8"
            ],
            [
             0.3333333333333333,
             "#9c179e"
            ],
            [
             0.4444444444444444,
             "#bd3786"
            ],
            [
             0.5555555555555556,
             "#d8576b"
            ],
            [
             0.6666666666666666,
             "#ed7953"
            ],
            [
             0.7777777777777778,
             "#fb9f3a"
            ],
            [
             0.8888888888888888,
             "#fdca26"
            ],
            [
             1,
             "#f0f921"
            ]
           ],
           "sequentialminus": [
            [
             0,
             "#0d0887"
            ],
            [
             0.1111111111111111,
             "#46039f"
            ],
            [
             0.2222222222222222,
             "#7201a8"
            ],
            [
             0.3333333333333333,
             "#9c179e"
            ],
            [
             0.4444444444444444,
             "#bd3786"
            ],
            [
             0.5555555555555556,
             "#d8576b"
            ],
            [
             0.6666666666666666,
             "#ed7953"
            ],
            [
             0.7777777777777778,
             "#fb9f3a"
            ],
            [
             0.8888888888888888,
             "#fdca26"
            ],
            [
             1,
             "#f0f921"
            ]
           ]
          },
          "colorway": [
           "#636efa",
           "#EF553B",
           "#00cc96",
           "#ab63fa",
           "#FFA15A",
           "#19d3f3",
           "#FF6692",
           "#B6E880",
           "#FF97FF",
           "#FECB52"
          ],
          "font": {
           "color": "#2a3f5f"
          },
          "geo": {
           "bgcolor": "white",
           "lakecolor": "white",
           "landcolor": "#E5ECF6",
           "showlakes": true,
           "showland": true,
           "subunitcolor": "white"
          },
          "hoverlabel": {
           "align": "left"
          },
          "hovermode": "closest",
          "mapbox": {
           "style": "light"
          },
          "paper_bgcolor": "white",
          "plot_bgcolor": "#E5ECF6",
          "polar": {
           "angularaxis": {
            "gridcolor": "white",
            "linecolor": "white",
            "ticks": ""
           },
           "bgcolor": "#E5ECF6",
           "radialaxis": {
            "gridcolor": "white",
            "linecolor": "white",
            "ticks": ""
           }
          },
          "scene": {
           "xaxis": {
            "backgroundcolor": "#E5ECF6",
            "gridcolor": "white",
            "gridwidth": 2,
            "linecolor": "white",
            "showbackground": true,
            "ticks": "",
            "zerolinecolor": "white"
           },
           "yaxis": {
            "backgroundcolor": "#E5ECF6",
            "gridcolor": "white",
            "gridwidth": 2,
            "linecolor": "white",
            "showbackground": true,
            "ticks": "",
            "zerolinecolor": "white"
           },
           "zaxis": {
            "backgroundcolor": "#E5ECF6",
            "gridcolor": "white",
            "gridwidth": 2,
            "linecolor": "white",
            "showbackground": true,
            "ticks": "",
            "zerolinecolor": "white"
           }
          },
          "shapedefaults": {
           "line": {
            "color": "#2a3f5f"
           }
          },
          "ternary": {
           "aaxis": {
            "gridcolor": "white",
            "linecolor": "white",
            "ticks": ""
           },
           "baxis": {
            "gridcolor": "white",
            "linecolor": "white",
            "ticks": ""
           },
           "bgcolor": "#E5ECF6",
           "caxis": {
            "gridcolor": "white",
            "linecolor": "white",
            "ticks": ""
           }
          },
          "title": {
           "x": 0.05
          },
          "xaxis": {
           "automargin": true,
           "gridcolor": "white",
           "linecolor": "white",
           "ticks": "",
           "title": {
            "standoff": 15
           },
           "zerolinecolor": "white",
           "zerolinewidth": 2
          },
          "yaxis": {
           "automargin": true,
           "gridcolor": "white",
           "linecolor": "white",
           "ticks": "",
           "title": {
            "standoff": 15
           },
           "zerolinecolor": "white",
           "zerolinewidth": 2
          }
         }
        },
        "title": {
         "text": "Distribution of Price"
        },
        "xaxis": {
         "anchor": "y",
         "domain": [
          0,
          1
         ],
         "title": {
          "text": "Price"
         }
        },
        "yaxis": {
         "anchor": "x",
         "domain": [
          0,
          1
         ],
         "title": {
          "text": "count"
         }
        }
       }
      }
     },
     "metadata": {},
     "output_type": "display_data"
    }
   ],
   "source": [
    "for col in numerical_cols:\n",
    "    plt.figure(figsize=(10, 4))\n",
    "    sns.histplot(df[col], kde=True)\n",
    "    plt.title(f'Distribution of {col}')\n",
    "    plt.xlabel(col)\n",
    "    plt.ylabel('Frequency')\n",
    "    plt.show()\n",
    "    fig=px.histogram(df, x=col, title=f'Distribution of {col}')\n",
    "    fig.show()\n"
   ]
  },
  {
   "cell_type": "code",
   "execution_count": 17,
   "id": "a707763a",
   "metadata": {},
   "outputs": [
    {
     "data": {
      "image/png": "[encoded data removed]",
      "text/plain": [
       "<Figure size 1000x400 with 1 Axes>"
      ]
     },
     "metadata": {},
     "output_type": "display_data"
    },
    {
     "data": {
      "application/vnd.plotly.v1+json": {
       "config": {
        "plotlyServerURL": "https://plot.ly"
       },
       "data": [
        {
         "alignmentgroup": "True",
         "hovertemplate": "Year=%{x}<extra></extra>",
         "legendgroup": "",
         "marker": {
          "color": "#636efa"
         },
         "name": "",
         "notched": false,
         "offsetgroup": "",
         "orientation": "h",
         "showlegend": false,
         "type": "box",
         "x": {
          "bdata": "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",
          "dtype": "i2"
         },
         "x0": " ",
         "xaxis": "x",
         "y0": " ",
         "yaxis": "y"
        }
       ],
       "layout": {
        "boxmode": "group",
        "legend": {
         "tracegroupgap": 0
        },
        "template": {
         "data": {
          "bar": [
           {
            "error_x": {
             "color": "#2a3f5f"
            },
            "error_y": {
             "color": "#2a3f5f"
            },
            "marker": {
             "line": {
              "color": "#E5ECF6",
              "width": 0.5
             },
             "pattern": {
              "fillmode": "overlay",
              "size": 10,
              "solidity": 0.2
             }
            },
            "type": "bar"
           }
          ],
          "barpolar": [
           {
            "marker": {
             "line": {
              "color": "#E5ECF6",
              "width": 0.5
             },
             "pattern": {
              "fillmode": "overlay",
              "size": 10,
              "solidity": 0.2
             }
            },
            "type": "barpolar"
           }
          ],
          "carpet": [
           {
            "aaxis": {
             "endlinecolor": "#2a3f5f",
             "gridcolor": "white",
             "linecolor": "white",
             "minorgridcolor": "white",
             "startlinecolor": "#2a3f5f"
            },
            "baxis": {
             "endlinecolor": "#2a3f5f",
             "gridcolor": "white",
             "linecolor": "white",
             "minorgridcolor": "white",
             "startlinecolor": "#2a3f5f"
            },
            "type": "carpet"
           }
          ],
          "choropleth": [
           {
            "colorbar": {
             "outlinewidth": 0,
             "ticks": ""
            },
            "type": "choropleth"
           }
          ],
          "contour": [
           {
            "colorbar": {
             "outlinewidth": 0,
             "ticks": ""
            },
            "colorscale": [
             [
              0,
              "#0d0887"
             ],
             [
              0.1111111111111111,
              "#46039f"
             ],
             [
              0.2222222222222222,
              "#7201a8"
             ],
             [
              0.3333333333333333,
              "#9c179e"
             ],
             [
              0.4444444444444444,
              "#bd3786"
             ],
             [
              0.5555555555555556,
              "#d8576b"
             ],
             [
              0.6666666666666666,
              "#ed7953"
             ],
             [
              0.7777777777777778,
              "#fb9f3a"
             ],
             [
              0.8888888888888888,
              "#fdca26"
             ],
             [
              1,
              "#f0f921"
             ]
            ],
            "type": "contour"
           }
          ],
          "contourcarpet": [
           {
            "colorbar": {
             "outlinewidth": 0,
             "ticks": ""
            },
            "type": "contourcarpet"
           }
          ],
          "heatmap": [
           {
            "colorbar": {
             "outlinewidth": 0,
             "ticks": ""
            },
            "colorscale": [
             [
              0,
              "#0d0887"
             ],
             [
              0.1111111111111111,
              "#46039f"
             ],
             [
              0.2222222222222222,
              "#7201a8"
             ],
             [
              0.3333333333333333,
              "#9c179e"
             ],
             [
              0.4444444444444444,
              "#bd3786"
             ],
             [
              0.5555555555555556,
              "#d8576b"
             ],
             [
              0.6666666666666666,
              "#ed7953"
             ],
             [
              0.7777777777777778,
              "#fb9f3a"
             ],
             [
              0.8888888888888888,
              "#fdca26"
             ],
             [
              1,
              "#f0f921"
             ]
            ],
            "type": "heatmap"
           }
          ],
          "histogram": [
           {
            "marker": {
             "pattern": {
              "fillmode": "overlay",
              "size": 10,
              "solidity": 0.2
             }
            },
            "type": "histogram"
           }
          ],
          "histogram2d": [
           {
            "colorbar": {
             "outlinewidth": 0,
             "ticks": ""
            },
            "colorscale": [
             [
              0,
              "#0d0887"
             ],
             [
              0.1111111111111111,
              "#46039f"
             ],
             [
              0.2222222222222222,
              "#7201a8"
             ],
             [
              0.3333333333333333,
              "#9c179e"
             ],
             [
              0.4444444444444444,
              "#bd3786"
             ],
             [
              0.5555555555555556,
              "#d8576b"
             ],
             [
              0.6666666666666666,
              "#ed7953"
             ],
             [
              0.7777777777777778,
              "#fb9f3a"
             ],
             [
              0.8888888888888888,
              "#fdca26"
             ],
             [
              1,
              "#f0f921"
             ]
            ],
            "type": "histogram2d"
           }
          ],
          "histogram2dcontour": [
           {
            "colorbar": {
             "outlinewidth": 0,
             "ticks": ""
            },
            "colorscale": [
             [
              0,
              "#0d0887"
             ],
             [
              0.1111111111111111,
              "#46039f"
             ],
             [
              0.2222222222222222,
              "#7201a8"
             ],
             [
              0.3333333333333333,
              "#9c179e"
             ],
             [
              0.4444444444444444,
              "#bd3786"
             ],
             [
              0.5555555555555556,
              "#d8576b"
             ],
             [
              0.6666666666666666,
              "#ed7953"
             ],
             [
              0.7777777777777778,
              "#fb9f3a"
             ],
             [
              0.8888888888888888,
              "#fdca26"
             ],
             [
              1,
              "#f0f921"
             ]
            ],
            "type": "histogram2dcontour"
           }
          ],
          "mesh3d": [
           {
            "colorbar": {
             "outlinewidth": 0,
             "ticks": ""
            },
            "type": "mesh3d"
           }
          ],
          "parcoords": [
           {
            "line": {
             "colorbar": {
              "outlinewidth": 0,
              "ticks": ""
             }
            },
            "type": "parcoords"
           }
          ],
          "pie": [
           {
            "automargin": true,
            "type": "pie"
           }
          ],
          "scatter": [
           {
            "fillpattern": {
             "fillmode": "overlay",
             "size": 10,
             "solidity": 0.2
            },
            "type": "scatter"
           }
          ],
          "scatter3d": [
           {
            "line": {
             "colorbar": {
              "outlinewidth": 0,
              "ticks": ""
             }
            },
            "marker": {
             "colorbar": {
              "outlinewidth": 0,
              "ticks": ""
             }
            },
            "type": "scatter3d"
           }
          ],
          "scattercarpet": [
           {
            "marker": {
             "colorbar": {
              "outlinewidth": 0,
              "ticks": ""
             }
            },
            "type": "scattercarpet"
           }
          ],
          "scattergeo": [
           {
            "marker": {
             "colorbar": {
              "outlinewidth": 0,
              "ticks": ""
             }
            },
            "type": "scattergeo"
           }
          ],
          "scattergl": [
           {
            "marker": {
             "colorbar": {
              "outlinewidth": 0,
              "ticks": ""
             }
            },
            "type": "scattergl"
           }
          ],
          "scattermap": [
           {
            "marker": {
             "colorbar": {
              "outlinewidth": 0,
              "ticks": ""
             }
            },
            "type": "scattermap"
           }
          ],
          "scattermapbox": [
           {
            "marker": {
             "colorbar": {
              "outlinewidth": 0,
              "ticks": ""
             }
            },
            "type": "scattermapbox"
           }
          ],
          "scatterpolar": [
           {
            "marker": {
             "colorbar": {
              "outlinewidth": 0,
              "ticks": ""
             }
            },
            "type": "scatterpolar"
           }
          ],
          "scatterpolargl": [
           {
            "marker": {
             "colorbar": {
              "outlinewidth": 0,
              "ticks": ""
             }
            },
            "type": "scatterpolargl"
           }
          ],
          "scatterternary": [
           {
            "marker": {
             "colorbar": {
              "outlinewidth": 0,
              "ticks": ""
             }
            },
            "type": "scatterternary"
           }
          ],
          "surface": [
           {
            "colorbar": {
             "outlinewidth": 0,
             "ticks": ""
            },
            "colorscale": [
             [
              0,
              "#0d0887"
             ],
             [
              0.1111111111111111,
              "#46039f"
             ],
             [
              0.2222222222222222,
              "#7201a8"
             ],
             [
              0.3333333333333333,
              "#9c179e"
             ],
             [
              0.4444444444444444,
              "#bd3786"
             ],
             [
              0.5555555555555556,
              "#d8576b"
             ],
             [
              0.6666666666666666,
              "#ed7953"
             ],
             [
              0.7777777777777778,
              "#fb9f3a"
             ],
             [
              0.8888888888888888,
              "#fdca26"
             ],
             [
              1,
              "#f0f921"
             ]
            ],
            "type": "surface"
           }
          ],
          "table": [
           {
            "cells": {
             "fill": {
              "color": "#EBF0F8"
             },
             "line": {
              "color": "white"
             }
            },
            "header": {
             "fill": {
              "color": "#C8D4E3"
             },
             "line": {
              "color": "white"
             }
            },
            "type": "table"
           }
          ]
         },
         "layout": {
          "annotationdefaults": {
           "arrowcolor": "#2a3f5f",
           "arrowhead": 0,
           "arrowwidth": 1
          },
          "autotypenumbers": "strict",
          "coloraxis": {
           "colorbar": {
            "outlinewidth": 0,
            "ticks": ""
           }
          },
          "colorscale": {
           "diverging": [
            [
             0,
             "#8e0152"
            ],
            [
             0.1,
             "#c51b7d"
            ],
            [
             0.2,
             "#de77ae"
            ],
            [
             0.3,
             "#f1b6da"
            ],
            [
             0.4,
             "#fde0ef"
            ],
            [
             0.5,
             "#f7f7f7"
            ],
            [
             0.6,
             "#e6f5d0"
            ],
            [
             0.7,
             "#b8e186"
            ],
            [
             0.8,
             "#7fbc41"
            ],
            [
             0.9,
             "#4d9221"
            ],
            [
             1,
             "#276419"
            ]
           ],
           "sequential": [
            [
             0,
             "#0d0887"
            ],
            [
             0.1111111111111111,
             "#46039f"
            ],
            [
             0.2222222222222222,
             "#7201a8"
            ],
            [
             0.3333333333333333,
             "#9c179e"
            ],
            [
             0.4444444444444444,
             "#bd3786"
            ],
            [
             0.5555555555555556,
             "#d8576b"
            ],
            [
             0.6666666666666666,
             "#ed7953"
            ],
            [
             0.7777777777777778,
             "#fb9f3a"
            ],
            [
             0.8888888888888888,
             "#fdca26"
            ],
            [
             1,
             "#f0f921"
            ]
           ],
           "sequentialminus": [
            [
             0,
             "#0d0887"
            ],
            [
             0.1111111111111111,
             "#46039f"
            ],
            [
             0.2222222222222222,
             "#7201a8"
            ],
            [
             0.3333333333333333,
             "#9c179e"
            ],
            [
             0.4444444444444444,
             "#bd3786"
            ],
            [
             0.5555555555555556,
             "#d8576b"
            ],
            [
             0.6666666666666666,
             "#ed7953"
            ],
            [
             0.7777777777777778,
             "#fb9f3a"
            ],
            [
             0.8888888888888888,
             "#fdca26"
            ],
            [
             1,
             "#f0f921"
            ]
           ]
          },
          "colorway": [
           "#636efa",
           "#EF553B",
           "#00cc96",
           "#ab63fa",
           "#FFA15A",
           "#19d3f3",
           "#FF6692",
           "#B6E880",
           "#FF97FF",
           "#FECB52"
          ],
          "font": {
           "color": "#2a3f5f"
          },
          "geo": {
           "bgcolor": "white",
           "lakecolor": "white",
           "landcolor": "#E5ECF6",
           "showlakes": true,
           "showland": true,
           "subunitcolor": "white"
          },
          "hoverlabel": {
           "align": "left"
          },
          "hovermode": "closest",
          "mapbox": {
           "style": "light"
          },
          "paper_bgcolor": "white",
          "plot_bgcolor": "#E5ECF6",
          "polar": {
           "angularaxis": {
            "gridcolor": "white",
            "linecolor": "white",
            "ticks": ""
           },
           "bgcolor": "#E5ECF6",
           "radialaxis": {
            "gridcolor": "white",
            "linecolor": "white",
            "ticks": ""
           }
          },
          "scene": {
           "xaxis": {
            "backgroundcolor": "#E5ECF6",
            "gridcolor": "white",
            "gridwidth": 2,
            "linecolor": "white",
            "showbackground": true,
            "ticks": "",
            "zerolinecolor": "white"
           },
           "yaxis": {
            "backgroundcolor": "#E5ECF6",
            "gridcolor": "white",
            "gridwidth": 2,
            "linecolor": "white",
            "showbackground": true,
            "ticks": "",
            "zerolinecolor": "white"
           },
           "zaxis": {
            "backgroundcolor": "#E5ECF6",
            "gridcolor": "white",
            "gridwidth": 2,
            "linecolor": "white",
            "showbackground": true,
            "ticks": "",
            "zerolinecolor": "white"
           }
          },
          "shapedefaults": {
           "line": {
            "color": "#2a3f5f"
           }
          },
          "ternary": {
           "aaxis": {
            "gridcolor": "white",
            "linecolor": "white",
            "ticks": ""
           },
           "baxis": {
            "gridcolor": "white",
            "linecolor": "white",
            "ticks": ""
           },
           "bgcolor": "#E5ECF6",
           "caxis": {
            "gridcolor": "white",
            "linecolor": "white",
            "ticks": ""
           }
          },
          "title": {
           "x": 0.05
          },
          "xaxis": {
           "automargin": true,
           "gridcolor": "white",
           "linecolor": "white",
           "ticks": "",
           "title": {
            "standoff": 15
           },
           "zerolinecolor": "white",
           "zerolinewidth": 2
          },
          "yaxis": {
           "automargin": true,
           "gridcolor": "white",
           "linecolor": "white",
           "ticks": "",
           "title": {
            "standoff": 15
           },
           "zerolinecolor": "white",
           "zerolinewidth": 2
          }
         }
        },
        "title": {
         "text": "Boxplot of Year"
        },
        "xaxis": {
         "anchor": "y",
         "domain": [
          0,
          1
         ],
         "title": {
          "text": "Year"
         }
        },
        "yaxis": {
         "anchor": "x",
         "domain": [
          0,
          1
         ]
        }
       }
      }
     },
     "metadata": {},
     "output_type": "display_data"
    },
    {
     "data": {
      "image/png": "[encoded data removed]",
      "text/plain": [
       "<Figure size 1000x400 with 1 Axes>"
      ]
     },
     "metadata": {},
     "output_type": "display_data"
    },
    {
     "data": {
      "application/vnd.plotly.v1+json": {
       "config": {
        "plotlyServerURL": "https://plot.ly"
       },
       "data": [
        {
         "alignmentgroup": "True",
         "hovertemplate": "Kilometers_Driven=%{x}<extra></extra>",
         "legendgroup": "",
         "marker": {
          "color": "#636efa"
         },
         "name": "",
         "notched": false,
         "offsetgroup": "",
         "orientation": "h",
         "showlegend": false,
         "type": "box",
         "x": {
          "bdata": "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",
          "dtype": "i4"
         },
         "x0": " ",
         "xaxis": "x",
         "y0": " ",
         "yaxis": "y"
        }
       ],
       "layout": {
        "boxmode": "group",
        "legend": {
         "tracegroupgap": 0
        },
        "template": {
         "data": {
          "bar": [
           {
            "error_x": {
             "color": "#2a3f5f"
            },
            "error_y": {
             "color": "#2a3f5f"
            },
            "marker": {
             "line": {
              "color": "#E5ECF6",
              "width": 0.5
             },
             "pattern": {
              "fillmode": "overlay",
              "size": 10,
              "solidity": 0.2
             }
            },
            "type": "bar"
           }
          ],
          "barpolar": [
           {
            "marker": {
             "line": {
              "color": "#E5ECF6",
              "width": 0.5
             },
             "pattern": {
              "fillmode": "overlay",
              "size": 10,
              "solidity": 0.2
             }
            },
            "type": "barpolar"
           }
          ],
          "carpet": [
           {
            "aaxis": {
             "endlinecolor": "#2a3f5f",
             "gridcolor": "white",
             "linecolor": "white",
             "minorgridcolor": "white",
             "startlinecolor": "#2a3f5f"
            },
            "baxis": {
             "endlinecolor": "#2a3f5f",
             "gridcolor": "white",
             "linecolor": "white",
             "minorgridcolor": "white",
             "startlinecolor": "#2a3f5f"
            },
            "type": "carpet"
           }
          ],
          "choropleth": [
           {
            "colorbar": {
             "outlinewidth": 0,
             "ticks": ""
            },
            "type": "choropleth"
           }
          ],
          "contour": [
           {
            "colorbar": {
             "outlinewidth": 0,
             "ticks": ""
            },
            "colorscale": [
             [
              0,
              "#0d0887"
             ],
             [
              0.1111111111111111,
              "#46039f"
             ],
             [
              0.2222222222222222,
              "#7201a8"
             ],
             [
              0.3333333333333333,
              "#9c179e"
             ],
             [
              0.4444444444444444,
              "#bd3786"
             ],
             [
              0.5555555555555556,
              "#d8576b"
             ],
             [
              0.6666666666666666,
              "#ed7953"
             ],
             [
              0.7777777777777778,
              "#fb9f3a"
             ],
             [
              0.8888888888888888,
              "#fdca26"
             ],
             [
              1,
              "#f0f921"
             ]
            ],
            "type": "contour"
           }
          ],
          "contourcarpet": [
           {
            "colorbar": {
             "outlinewidth": 0,
             "ticks": ""
            },
            "type": "contourcarpet"
           }
          ],
          "heatmap": [
           {
            "colorbar": {
             "outlinewidth": 0,
             "ticks": ""
            },
            "colorscale": [
             [
              0,
              "#0d0887"
             ],
             [
              0.1111111111111111,
              "#46039f"
             ],
             [
              0.2222222222222222,
              "#7201a8"
             ],
             [
              0.3333333333333333,
              "#9c179e"
             ],
             [
              0.4444444444444444,
              "#bd3786"
             ],
             [
              0.5555555555555556,
              "#d8576b"
             ],
             [
              0.6666666666666666,
              "#ed7953"
             ],
             [
              0.7777777777777778,
              "#fb9f3a"
             ],
             [
              0.8888888888888888,
              "#fdca26"
             ],
             [
              1,
              "#f0f921"
             ]
            ],
            "type": "heatmap"
           }
          ],
          "histogram": [
           {
            "marker": {
             "pattern": {
              "fillmode": "overlay",
              "size": 10,
              "solidity": 0.2
             }
            },
            "type": "histogram"
           }
          ],
          "histogram2d": [
           {
            "colorbar": {
             "outlinewidth": 0,
             "ticks": ""
            },
            "colorscale": [
             [
              0,
              "#0d0887"
             ],
             [
              0.1111111111111111,
              "#46039f"
             ],
             [
              0.2222222222222222,
              "#7201a8"
             ],
             [
              0.3333333333333333,
              "#9c179e"
             ],
             [
              0.4444444444444444,
              "#bd3786"
             ],
             [
              0.5555555555555556,
              "#d8576b"
             ],
             [
              0.6666666666666666,
              "#ed7953"
             ],
             [
              0.7777777777777778,
              "#fb9f3a"
             ],
             [
              0.8888888888888888,
              "#fdca26"
             ],
             [
              1,
              "#f0f921"
             ]
            ],
            "type": "histogram2d"
           }
          ],
          "histogram2dcontour": [
           {
            "colorbar": {
             "outlinewidth": 0,
             "ticks": ""
            },
            "colorscale": [
             [
              0,
              "#0d0887"
             ],
             [
              0.1111111111111111,
              "#46039f"
             ],
             [
              0.2222222222222222,
              "#7201a8"
             ],
             [
              0.3333333333333333,
              "#9c179e"
             ],
             [
              0.4444444444444444,
              "#bd3786"
             ],
             [
              0.5555555555555556,
              "#d8576b"
             ],
             [
              0.6666666666666666,
              "#ed7953"
             ],
             [
              0.7777777777777778,
              "#fb9f3a"
             ],
             [
              0.8888888888888888,
              "#fdca26"
             ],
             [
              1,
              "#f0f921"
             ]
            ],
            "type": "histogram2dcontour"
           }
          ],
          "mesh3d": [
           {
            "colorbar": {
             "outlinewidth": 0,
             "ticks": ""
            },
            "type": "mesh3d"
           }
          ],
          "parcoords": [
           {
            "line": {
             "colorbar": {
              "outlinewidth": 0,
              "ticks": ""
             }
            },
            "type": "parcoords"
           }
          ],
          "pie": [
           {
            "automargin": true,
            "type": "pie"
           }
          ],
          "scatter": [
           {
            "fillpattern": {
             "fillmode": "overlay",
             "size": 10,
             "solidity": 0.2
            },
            "type": "scatter"
           }
          ],
          "scatter3d": [
           {
            "line": {
             "colorbar": {
              "outlinewidth": 0,
              "ticks": ""
             }
            },
            "marker": {
             "colorbar": {
              "outlinewidth": 0,
              "ticks": ""
             }
            },
            "type": "scatter3d"
           }
          ],
          "scattercarpet": [
           {
            "marker": {
             "colorbar": {
              "outlinewidth": 0,
              "ticks": ""
             }
            },
            "type": "scattercarpet"
           }
          ],
          "scattergeo": [
           {
            "marker": {
             "colorbar": {
              "outlinewidth": 0,
              "ticks": ""
             }
            },
            "type": "scattergeo"
           }
          ],
          "scattergl": [
           {
            "marker": {
             "colorbar": {
              "outlinewidth": 0,
              "ticks": ""
             }
            },
            "type": "scattergl"
           }
          ],
          "scattermap": [
           {
            "marker": {
             "colorbar": {
              "outlinewidth": 0,
              "ticks": ""
             }
            },
            "type": "scattermap"
           }
          ],
          "scattermapbox": [
           {
            "marker": {
             "colorbar": {
              "outlinewidth": 0,
              "ticks": ""
             }
            },
            "type": "scattermapbox"
           }
          ],
          "scatterpolar": [
           {
            "marker": {
             "colorbar": {
              "outlinewidth": 0,
              "ticks": ""
             }
            },
            "type": "scatterpolar"
           }
          ],
          "scatterpolargl": [
           {
            "marker": {
             "colorbar": {
              "outlinewidth": 0,
              "ticks": ""
             }
            },
            "type": "scatterpolargl"
           }
          ],
          "scatterternary": [
           {
            "marker": {
             "colorbar": {
              "outlinewidth": 0,
              "ticks": ""
             }
            },
            "type": "scatterternary"
           }
          ],
          "surface": [
           {
            "colorbar": {
             "outlinewidth": 0,
             "ticks": ""
            },
            "colorscale": [
             [
              0,
              "#0d0887"
             ],
             [
              0.1111111111111111,
              "#46039f"
             ],
             [
              0.2222222222222222,
              "#7201a8"
             ],
             [
              0.3333333333333333,
              "#9c179e"
             ],
             [
              0.4444444444444444,
              "#bd3786"
             ],
             [
              0.5555555555555556,
              "#d8576b"
             ],
             [
              0.6666666666666666,
              "#ed7953"
             ],
             [
              0.7777777777777778,
              "#fb9f3a"
             ],
             [
              0.8888888888888888,
              "#fdca26"
             ],
             [
              1,
              "#f0f921"
             ]
            ],
            "type": "surface"
           }
          ],
          "table": [
           {
            "cells": {
             "fill": {
              "color": "#EBF0F8"
             },
             "line": {
              "color": "white"
             }
            },
            "header": {
             "fill": {
              "color": "#C8D4E3"
             },
             "line": {
              "color": "white"
             }
            },
            "type": "table"
           }
          ]
         },
         "layout": {
          "annotationdefaults": {
           "arrowcolor": "#2a3f5f",
           "arrowhead": 0,
           "arrowwidth": 1
          },
          "autotypenumbers": "strict",
          "coloraxis": {
           "colorbar": {
            "outlinewidth": 0,
            "ticks": ""
           }
          },
          "colorscale": {
           "diverging": [
            [
             0,
             "#8e0152"
            ],
            [
             0.1,
             "#c51b7d"
            ],
            [
             0.2,
             "#de77ae"
            ],
            [
             0.3,
             "#f1b6da"
            ],
            [
             0.4,
             "#fde0ef"
            ],
            [
             0.5,
             "#f7f7f7"
            ],
            [
             0.6,
             "#e6f5d0"
            ],
            [
             0.7,
             "#b8e186"
            ],
            [
             0.8,
             "#7fbc41"
            ],
            [
             0.9,
             "#4d9221"
            ],
            [
             1,
             "#276419"
            ]
           ],
           "sequential": [
            [
             0,
             "#0d0887"
            ],
            [
             0.1111111111111111,
             "#46039f"
            ],
            [
             0.2222222222222222,
             "#7201a8"
            ],
            [
             0.3333333333333333,
             "#9c179e"
            ],
            [
             0.4444444444444444,
             "#bd3786"
            ],
            [
             0.5555555555555556,
             "#d8576b"
            ],
            [
             0.6666666666666666,
             "#ed7953"
            ],
            [
             0.7777777777777778,
             "#fb9f3a"
            ],
            [
             0.8888888888888888,
             "#fdca26"
            ],
            [
             1,
             "#f0f921"
            ]
           ],
           "sequentialminus": [
            [
             0,
             "#0d0887"
            ],
            [
             0.1111111111111111,
             "#46039f"
            ],
            [
             0.2222222222222222,
             "#7201a8"
            ],
            [
             0.3333333333333333,
             "#9c179e"
            ],
            [
             0.4444444444444444,
             "#bd3786"
            ],
            [
             0.5555555555555556,
             "#d8576b"
            ],
            [
             0.6666666666666666,
             "#ed7953"
            ],
            [
             0.7777777777777778,
             "#fb9f3a"
            ],
            [
             0.8888888888888888,
             "#fdca26"
            ],
            [
             1,
             "#f0f921"
            ]
           ]
          },
          "colorway": [
           "#636efa",
           "#EF553B",
           "#00cc96",
           "#ab63fa",
           "#FFA15A",
           "#19d3f3",
           "#FF6692",
           "#B6E880",
           "#FF97FF",
           "#FECB52"
          ],
          "font": {
           "color": "#2a3f5f"
          },
          "geo": {
           "bgcolor": "white",
           "lakecolor": "white",
           "landcolor": "#E5ECF6",
           "showlakes": true,
           "showland": true,
           "subunitcolor": "white"
          },
          "hoverlabel": {
           "align": "left"
          },
          "hovermode": "closest",
          "mapbox": {
           "style": "light"
          },
          "paper_bgcolor": "white",
          "plot_bgcolor": "#E5ECF6",
          "polar": {
           "angularaxis": {
            "gridcolor": "white",
            "linecolor": "white",
            "ticks": ""
           },
           "bgcolor": "#E5ECF6",
           "radialaxis": {
            "gridcolor": "white",
            "linecolor": "white",
            "ticks": ""
           }
          },
          "scene": {
           "xaxis": {
            "backgroundcolor": "#E5ECF6",
            "gridcolor": "white",
            "gridwidth": 2,
            "linecolor": "white",
            "showbackground": true,
            "ticks": "",
            "zerolinecolor": "white"
           },
           "yaxis": {
            "backgroundcolor": "#E5ECF6",
            "gridcolor": "white",
            "gridwidth": 2,
            "linecolor": "white",
            "showbackground": true,
            "ticks": "",
            "zerolinecolor": "white"
           },
           "zaxis": {
            "backgroundcolor": "#E5ECF6",
            "gridcolor": "white",
            "gridwidth": 2,
            "linecolor": "white",
            "showbackground": true,
            "ticks": "",
            "zerolinecolor": "white"
           }
          },
          "shapedefaults": {
           "line": {
            "color": "#2a3f5f"
           }
          },
          "ternary": {
           "aaxis": {
            "gridcolor": "white",
            "linecolor": "white",
            "ticks": ""
           },
           "baxis": {
            "gridcolor": "white",
            "linecolor": "white",
            "ticks": ""
           },
           "bgcolor": "#E5ECF6",
           "caxis": {
            "gridcolor": "white",
            "linecolor": "white",
            "ticks": ""
           }
          },
          "title": {
           "x": 0.05
          },
          "xaxis": {
           "automargin": true,
           "gridcolor": "white",
           "linecolor": "white",
           "ticks": "",
           "title": {
            "standoff": 15
           },
           "zerolinecolor": "white",
           "zerolinewidth": 2
          },
          "yaxis": {
           "automargin": true,
           "gridcolor": "white",
           "linecolor": "white",
           "ticks": "",
           "title": {
            "standoff": 15
           },
           "zerolinecolor": "white",
           "zerolinewidth": 2
          }
         }
        },
        "title": {
         "text": "Boxplot of Kilometers_Driven"
        },
        "xaxis": {
         "anchor": "y",
         "domain": [
          0,
          1
         ],
         "title": {
          "text": "Kilometers_Driven"
         }
        },
        "yaxis": {
         "anchor": "x",
         "domain": [
          0,
          1
         ]
        }
       }
      }
     },
     "metadata": {},
     "output_type": "display_data"
    },
    {
     "data": {
      "image/png": "[encoded data removed]",
      "text/plain": [
       "<Figure size 1000x400 with 1 Axes>"
      ]
     },
     "metadata": {},
     "output_type": "display_data"
    },
    {
     "data": {
      "application/vnd.plotly.v1+json": {
       "config": {
        "plotlyServerURL": "https://plot.ly"
       },
       "data": [
        {
         "alignmentgroup": "True",
         "hovertemplate": "Seats=%{x}<extra></extra>",
         "legendgroup": "",
         "marker": {
          "color": "#636efa"
         },
         "name": "",
         "notched": false,
         "offsetgroup": "",
         "orientation": "h",
         "showlegend": false,
         "type": "box",
         "x": {
          "bdata": "AAAAAAAAFEAAAAAAAAAUQAAAAAAAABRAAAAAAAAAHEAAAAAAAAAUQAAAAAAAABRAAAAAAAAAFEAAAAAAAAAgQAAAAAAAABRAAAAAAAAAFEAAAAAAAAAUQAAAAAAAABRAAAAAAAAAFEAAAAAAAAAUQAAAAAAAABRAAAAAAAAAHEAAAAAAAAAUQAAAAAAAABRAAAAAAAAAFEAAAAAAAAAUQAAAAAAAABRAAAAAAAAAFEAAAAAAAAAUQAAAAAAAABRAAAAAAAAAFEAAAAAAAAAUQAAAAAAAABRAAAAAAAAAFEAAAAAAAAAUQAAAAAAAABxAAAAAAAAAFEAAAAAAAAAUQAAAAAAAABxAAAAAAAAAFEAAAAAAAAAUQAAAAAAAABRAAAAAAAAAFEAAAAAAAAAUQAAAAAAAABRAAAAAAAAAFEAAAAAAAAAUQAAAAAAAABBAAAAAAAAAGEAAAAAAAAAUQAAAAAAAABRAAAAAAAAAFEAAAAAAAAAUQAAAAAAAABxAAAAAAAAAFEAAAAAAAAAYQAAAAAAAABRAAAAAAAAAFEAAAAAAAAAUQAAAAAAAABRAAAAAAAAAFEAAAAAAAAAUQAAAAAAAABRAAAAAAAAAFEAAAAAAAAAUQAAAAAAAABRAAAAAAAAAIEAAAAAAAAAUQAAAAAAAABRAAAAAAAAAFEAAAAAAAAAUQAAAAAAAABRAAAAAAAAAFEAAAAAAAAAUQAAAAAAAABxAAAAAAAAAFEAAAAAAAAAUQAAAAAAAABxAAAAAAAAAFEAAAAAAAAAUQAAAAAAAABRAAAAAAAAAFEAAAAAAAAAUQAAAAAAAACBAAAAAAAAAHEAAAAAAAAAUQAAAAAAAABRAAAAAAAAAFEAAAAAAAAAUQAAAAAAAABRAAAAAAAAAFEAAAAAAAAAUQAAAAAAAABRAAAAAAAAAFEAAAAAAAAAUQAAAAAAAABRAAAAAAAAAFEAAAAAAAAAcQAAAAAAAABRAAAAAAAAAFEAAAAAAAAAcQAAAAAAAABRAAAAAAAAAFEAAAAAAAAAUQAAAAAAAABRAAAAAAAAAFEAAAAAAAAAUQAAAAAAAABRAAAAAAAAAHEAAAAAAAAAUQAAAAAAAABRAAAAAAAAAFEAAAAAAAAAUQAAAAAAAABRAAAAAAAAAHEAAAAAAAAAUQAAAAAAAABxAAAAAAAAAFEAAAAAAAAAQQAAAAAAAABRAAAAAAAAAFEAAAAAAAAAcQAAAAAAAABRAAAAAAAAAFEAAAAAAAAAUQAAAAAAAABRAAAAAAAAAFEAAAAAAAAAUQAAAAAAAABRAAAAAAAAAFEAAAAAAAAAQQAAAAAAAACBAAAAAAAAAFEAAAAAAAAAUQAAAAAAAABRAAAAAAAAAFEAAAAAAAAAUQAAAAAAAABxAAAAAAAAAFEAAAAAAAAAUQAAAAAAAAABAAAAAAAAAFEAAAAAAAAAUQAAAAAAAABRAAAAAAAAAFEAAAAAAAAAUQAAAAAAAABRAAAAAAAAAFEAAAAAAAAAUQAAAAAAAABRAAAAAAAAAHEAAAAAAAAAUQAAAAAAAABRAAAAAAAAAFEAAAAAAAAAQQAAAAAAAABRAAAAAAAAAFEAAAAAAAAAUQAAAAAAAABRAAAAAAAAAFEAAAAAAAAAUQAAAAAAAABRAAAAAAAAAFEAAAAAAAAAUQAAAAAAAABRAAAAAAAAAFEAAAAAAAAAUQAAAAAAAABxAAAAAAAAAFEAAAAAAAAAcQAAAAAAAABRAAAAAAAAAHEAAAAAAAAAUQAAAAAAAABRAAAAAAAAAFEAAAAAAAAAUQAAAAAAAABRAAAAAAAAAFEAAAAAAAAAUQAAAAAAAABRAAAAAAAAAFEAAAAAAAAAUQAAAAAAAABRAAAAAAAAAFEAAAAAAAAAUQAAAAAAAABRAAAAAAAAAFEAAAAAAAAAUQAAAAAAAABRAAAAAAAAAFEAAAAAAAAAUQAAAAAAAACBAAAAAAAAAFEAAAAAAAAAUQAAAAAAAABRAAAAAAAAAFEAAAAAAAAAcQAAAAAAAABRAAAAAAAAAFEAAAAAAAAAcQAAAAAAAAPh/AAAAAAAAFEAAAAAAAAAUQAAAAAAAABRAAAAAAAAAFEAAAAAAAAAUQAAAAAAAABxAAAAAAAAAFEAAAAAAAAAUQAAAAAAAABRAAAAAAAAAFEAAAAAAAAAUQAAAAAAAABRAAAAAAAAAFEAAAAAAAAD4fwAAAAAAABRAAAAAAAAAFEAAAAAAAAAUQAAAAAAAABRAAAAAAAAAFEAAAAAAAAAUQAAAAAAAABRAAAAAAAAAFEAAAAAAAAAUQAAAAAAAABRAAAAAAAAAFEAAAAAAAAAUQAAAAAAAABRAAAAAAAAAFEAAAAAAAAAUQAAAAAAAABRAAAAAAAAAFEAAAAAAAAAUQAAAAAAAABRAAAAAAAAAEEAAAAAAAAD4fwAAAAAAABRAAAAAAAAAFEAAAAAAAAAUQAAAAAAAABRAAAAAAAAAFEAAAAAAAAAcQAAAAAAAABxAAAAAAAAAFEAAAAAAAAAUQAAAAAAAABRAAAAAAAAAFEAAAAAAAAAUQAAAAAAAABxAAAAAAAAAHEAAAAAAAAAcQAAAAAAAABRAAAAAAAAAFEAAAAAAAAAUQAAAAAAAABRAAAAAAAAAFEAAAAAAAAAUQAAAAAAAABRAAAAAAAAAFEAAAAAAAAAUQAAAAAAAABRAAAAAAAAAFEAAAAAAAAAcQAAAAAAAABRAAAAAAAAAFEAAAAAAAAAUQAAAAAAAABRAAAAAAAAAFEAAAAAAAAAUQAAAAAAAABRAAAAAAAAAFEAAAAAAAAAUQAAAAAAAABRAAAAAAAAAFEAAAAAAAAAUQAAAAAAAABRAAAAAAAAAFEAAAAAAAAAUQAAAAAAAABRAAAAAAAAAHEAAAAAAAAAUQAAAAAAAABRAAAAAAAAAIEAAAAAAAAAUQAAAAAAAABRAAAAAAAAAFEAAAAAAAAAUQAAAAAAAABRAAAAAAAAAHEAAAAAAAAAUQAAAAAAAABRAAAAAAAAAFEAAAAAAAAAUQAAAAAAAABRAAAAAAAAAFEAAAAAAAAAUQAAAAAAAABRAAAAAAAAAFEAAAAAAAAAUQAAAAAAAABRAAAAAAAAAFEAAAAAAAAAUQAAAAAAAABRAAAAAAAAAFEAAAAAAAAAcQAAAAAAAABRAAAAAAAAAHEAAAAAAAAAUQAAAAAAAABRAAAAAAAAAFEAAAAAAAAAUQAAAAAAAABRAAAAAAAAAFEAAAAAAAAAUQAAAAAAAABRAAAAAAAAAFEAAAAAAAAAUQAAAAAAAABRAAAAAAAAAFEAAAAAAAAAUQAAAAAAAABRAAAAAAAAAHEAAAAAAAAAUQAAAAAAAABRAAAAAAAAAHEAAAAAAAAAUQAAAAAAAABxAAAAAAAAAFEAAAAAAAAAUQAAAAAAAABRAAAAAAAAAFEAAAAAAAAAUQAAAAAAAABBAAAAAAAAAHEAAAAAAAAAUQAAAAAAAABRAAAAAAAAAFEAAAAAAAAAUQAAAAAAAABRAAAAAAAAAFEAAAAAAAAAUQAAAAAAAABRAAAAAAAAAFEAAAAAAAAAUQAAAAAAAABRAAAAAAAAAFEAAAAAAAAAUQAAAAAAAABRAAAAAAAAAFEAAAAAAAAAUQAAAAAAAABRAAAAAAAAAFEAAAAAAAAAUQAAAAAAAABRAAAAAAAAAFEAAAAAAAAAUQAAAAAAAABRAAAAAAAAAFEAAAAAAAAAUQAAAAAAAABRAAAAAAAAAFEAAAAAAAAAUQAAAAAAAABRAAAAAAAAAFEAAAAAAAAAUQAAAAAAAABRAAAAAAAAAFEAAAAAAAAAUQAAAAAAAABRAAAAAAAAAFEAAAAAAAAAUQAAAAAAAABRAAAAAAAAAFEAAAAAAAAAUQAAAAAAAABRAAAAAAAAAFEAAAAAAAAAUQAAAAAAAABRAAAAAAAAAFEAAAAAAAAAcQAAAAAAAABRAAAAAAAAAEEAAAAAAAAAUQAAAAAAAABRAAAAAAAAAFEAAAAAAAAAUQAAAAAAAABxAAAAAAAAAFEAAAAAAAAAUQAAAAAAAABRAAAAAAAAAFEAAAAAAAAAUQAAAAAAAABRAAAAAAAAAFEAAAAAAAAAUQAAAAAAAABRAAAAAAAAAFEAAAAAAAAAQQAAAAAAAABRAAAAAAAAAFEAAAAAAAAAUQAAAAAAAABRAAAAAAAAAFEAAAAAAAAAUQAAAAAAAABRAAAAAAAAAFEAAAAAAAAAcQAAAAAAAABxAAAAAAAAAFEAAAAAAAAAUQAAAAAAAABRAAAAAAAAAFEAAAAAAAAAUQAAAAAAAABRAAAAAAAAAFEAAAAAAAAAUQAAAAAAAABRAAAAAAAAAFEAAAAAAAAAcQAAAAAAAABRAAAAAAAAAHEAAAAAAAAAUQAAAAAAAABRAAAAAAAAAFEAAAAAAAAAUQAAAAAAAABRAAAAAAAAAFEAAAAAAAAAUQAAAAAAAABRAAAAAAAAAFEAAAAAAAAAUQAAAAAAAABRAAAAAAAAAFEAAAAAAAAAQQAAAAAAAABRAAAAAAAAAFEAAAAAAAAAUQAAAAAAAABRAAAAAAAAAFEAAAAAAAAAUQAAAAAAAABRAAAAAAAAAFEAAAAAAAAAUQAAAAAAAABRAAAAAAAAAFEAAAAAAAAAUQAAAAAAAABRAAAAAAAAAIEAAAAAAAAAcQAAAAAAAABRAAAAAAAAAFEAAAAAAAAAUQAAAAAAAABRAAAAAAAAAFEAAAAAAAAAUQAAAAAAAABxAAAAAAAAAFEAAAAAAAAAUQAAAAAAAABRAAAAAAAAAFEAAAAAAAAAcQAAAAAAAABRAAAAAAAAAFEAAAAAAAAAUQAAAAAAAABRAAAAAAAAAHEAAAAAAAAAUQAAAAAAAABRAAAAAAAAAFEAAAAAAAAAUQAAAAAAAABRAAAAAAAAAFEAAAAAAAAAUQAAAAAAAABRAAAAAAAAAFEAAAAAAAAAcQAAAAAAAABRAAAAAAAAAHEAAAAAAAAAUQAAAAAAAABRAAAAAAAAAFEAAAAAAAAAUQAAAAAAAABRAAAAAAAAAFEAAAAAAAAAUQAAAAAAAABRAAAAAAAAAFEAAAAAAAAAUQAAAAAAAABxAAAAAAAAAHEAAAAAAAAAUQAAAAAAAABRAAAAAAAAAFEAAAAAAAAAUQAAAAAAAABRAAAAAAAAAHEAAAAAAAAAUQAAAAAAAABRAAAAAAAAAFEAAAAAAAAAUQAAAAAAAABxAAAAAAAAAFEAAAAAAAAAUQAAAAAAAABRAAAAAAAAAFEAAAAAAAAAUQAAAAAAAABRAAAAAAAAAFEAAAAAAAAAUQAAAAAAAABxAAAAAAAAAFEAAAAAAAAAUQAAAAAAAABRAAAAAAAAAHEAAAAAAAAAUQAAAAAAAABxAAAAAAAAAFEAAAAAAAAAUQAAAAAAAABRAAAAAAAAAHEAAAAAAAAAUQAAAAAAAABRAAAAAAAAAFEAAAAAAAAAUQAAAAAAAABRAAAAAAAAAFEAAAAAAAAAUQAAAAAAAABRAAAAAAAAAFEAAAAAAAAAQQAAAAAAAABRAAAAAAAAAFEAAAAAAAAAUQAAAAAAAABRAAAAAAAAAFEAAAAAAAAAcQAAAAAAAABxAAAAAAAAAFEAAAAAAAAAcQAAAAAAAABRAAAAAAAAAHEAAAAAAAAAUQAAAAAAAABRAAAAAAAAAFEAAAAAAAAAUQAAAAAAAABRAAAAAAAAAHEAAAAAAAAAUQAAAAAAAABRAAAAAAAAAHEAAAAAAAAAUQAAAAAAAABRAAAAAAAAAHEAAAAAAAAAUQAAAAAAAABRAAAAAAAAAFEAAAAAAAAAUQAAAAAAAABRAAAAAAAAAFEAAAAAAAAAcQAAAAAAAABRAAAAAAAAAHEAAAAAAAAAUQAAAAAAAAABAAAAAAAAAFEAAAAAAAAAUQAAAAAAAABRAAAAAAAAAFEAAAAAAAAAcQAAAAAAAABRAAAAAAAAAFEAAAAAAAAAUQAAAAAAAABRAAAAAAAAAFEAAAAAAAAAUQAAAAAAAABRAAAAAAAAAFEAAAAAAAAAUQAAAAAAAABRAAAAAAAAAHEAAAAAAAAAUQAAAAAAAABRAAAAAAAAAFEAAAAAAAAAUQAAAAAAAABRAAAAAAAAAHEAAAAAAAAAUQAAAAAAAABRAAAAAAAAAFEAAAAAAAAAUQAAAAAAAABRAAAAAAAAAHEAAAAAAAAAcQAAAAAAAABxAAAAAAAAAFEAAAAAAAAAUQAAAAAAAABRAAAAAAAAAHEAAAAAAAAAcQAAAAAAAABxAAAAAAAAAFEAAAAAAAAAUQAAAAAAAABRAAAAAAAAAGEAAAAAAAAAUQAAAAAAAABxAAAAAAAAAFEAAAAAAAAAUQAAAAAAAACBAAAAAAAAAFEAAAAAAAAAUQAAAAAAAABxAAAAAAAAAFEAAAAAAAAAUQAAAAAAAABRAAAAAAAAAHEAAAAAAAAAUQAAAAAAAABxAAAAAAAAAFEAAAAAAAAAcQAAAAAAAABRAAAAAAAAAIEAAAAAAAAAUQAAAAAAAABRAAAAAAAAAFEAAAAAAAAAUQAAAAAAAABRAAAAAAAAAFEAAAAAAAAAUQAAAAAAAACBAAAAAAAAAFEAAAAAAAAAUQAAAAAAAABxAAAAAAAAAFEAAAAAAAAAcQAAAAAAAACBAAAAAAAAAFEAAAAAAAAAUQAAAAAAAABRAAAAAAAAAFEAAAAAAAAAUQAAAAAAAABxAAAAAAAAAHEAAAAAAAAAUQAAAAAAAABRAAAAAAAAAFEAAAAAAAAAUQAAAAAAAABRAAAAAAAAAFEAAAAAAAAAUQAAAAAAAABRAAAAAAAAAFEAAAAAAAAAUQAAAAAAAABRAAAAAAAAAFEAAAAAAAAAcQAAAAAAAABRAAAAAAAAAFEAAAAAAAAAUQAAAAAAAABxAAAAAAAAAFEAAAAAAAAAUQAAAAAAAABRAAAAAAAAAHEAAAAAAAAAUQAAAAAAAABRAAAAAAAAAHEAAAAAAAAAUQAAAAAAAABRAAAAAAAAAHEAAAAAAAAAUQAAAAAAAABRAAAAAAAAAHEAAAAAAAAAUQAAAAAAAABRAAAAAAAAAFEAAAAAAAAAUQAAAAAAAABRAAAAAAAAAFEAAAAAAAAAcQAAAAAAAABRAAAAAAAAAFEAAAAAAAAAUQAAAAAAAABRAAAAAAAAAFEAAAAAAAAAUQAAAAAAAABRAAAAAAAAAFEAAAAAAAAAUQAAAAAAAABRAAAAAAAAAFEAAAAAAAAAUQAAAAAAAABRAAAAAAAAAFEAAAAAAAAAUQAAAAAAAABRAAAAAAAAAFEAAAAAAAAAUQAAAAAAAABRAAAAAAAAAAEAAAAAAAAAUQAAAAAAAABRAAAAAAAAAFEAAAAAAAAAcQAAAAAAAABRAAAAAAAAAFEAAAAAAAAAUQAAAAAAAABRAAAAAAAAAFEAAAAAAAAAcQAAAAAAAABRAAAAAAAAAFEAAAAAAAAAUQAAAAAAAABRAAAAAAAAAFEAAAAAAAAAUQAAAAAAAABRAAAAAAAAAFEAAAAAAAAAUQAAAAAAAABRAAAAAAAAAFEAAAAAAAAAQQAAAAAAAABRAAAAAAAAAFEAAAAAAAAAQQAAAAAAAABxAAAAAAAAAFEAAAAAAAAAUQAAAAAAAABRAAAAAAAAAFEAAAAAAAAAUQAAAAAAAABRAAAAAAAAAFEAAAAAAAAAUQAAAAAAAABRAAAAAAAAAFEAAAAAAAAAUQAAAAAAAABRAAAAAAAAAFEAAAAAAAAD4fwAAAAAAABRAAAAAAAAAFEAAAAAAAAAcQAAAAAAAABRAAAAAAAAAFEAAAAAAAAAUQAAAAAAAABBAAAAAAAAAHEAAAAAAAAAUQAAAAAAAABRAAAAAAAAAFEAAAAAAAAAUQAAAAAAAABRAAAAAAAAAFEAAAAAAAAAUQAAAAAAAAPh/AAAAAAAAFEAAAAAAAAAUQAAAAAAAABRAAAAAAAAAFEAAAAAAAAAcQAAAAAAAABRAAAAAAAAAFEAAAAAAAAAUQAAAAAAAABRAAAAAAAAAFEAAAAAAAAAUQAAAAAAAABBAAAAAAAAAFEAAAAAAAAAUQAAAAAAAABRAAAAAAAAAFEAAAAAAAAAUQAAAAAAAABRAAAAAAAAAIEAAAAAAAAAUQAAAAAAAABBAAAAAAAAAIEAAAAAAAAAUQAAAAAAAABRAAAAAAAAAIEAAAAAAAAAcQAAAAAAAABRAAAAAAAAAFEAAAAAAAAAUQAAAAAAAABRAAAAAAAAAFEAAAAAAAAAUQAAAAAAAABRAAAAAAAAAFEAAAAAAAAAUQAAAAAAAABRAAAAAAAAAFEAAAAAAAAAUQAAAAAAAABRAAAAAAAAAHEAAAAAAAAAgQAAAAAAAABRAAAAAAAAAHEAAAAAAAAAUQAAAAAAAABRAAAAAAAAAHEAAAAAAAAAcQAAAAAAAABRAAAAAAAAAAEAAAAAAAAAUQAAAAAAAABxAAAAAAAAAHEAAAAAAAAAUQAAAAAAAABRAAAAAAAAAFEAAAAAAAAAUQAAAAAAAABxAAAAAAAAAFEAAAAAAAAAUQAAAAAAAABRAAAAAAAAAFEAAAAAAAAAcQAAAAAAAABxAAAAAAAAAFEAAAAAAAAAkQAAAAAAAABRAAAAAAAAAFEAAAAAAAAAUQAAAAAAAABRAAAAAAAAAFEAAAAAAAAAUQAAAAAAAABRAAAAAAAAAFEAAAAAAAAAUQAAAAAAAABRAAAAAAAAAFEAAAAAAAAAUQAAAAAAAABRAAAAAAAAAFEAAAAAAAAAUQAAAAAAAABRAAAAAAAAAFEAAAAAAAAAUQAAAAAAAABRAAAAAAAAAFEAAAAAAAAAUQAAAAAAAABRAAAAAAAAAFEAAAAAAAAAcQAAAAAAAABRAAAAAAAAAFEAAAAAAAAAUQAAAAAAAABxAAAAAAAAAFEAAAAAAAAAUQAAAAAAAABRAAAAAAAAAHEAAAAAAAAAUQAAAAAAAABRAAAAAAAAAFEAAAAAAAAAcQAAAAAAAABRAAAAAAAAAFEAAAAAAAAAUQAAAAAAAABRAAAAAAAAAFEAAAAAAAAAUQAAAAAAAABRAAAAAAAAAHEAAAAAAAAAUQAAAAAAAACBAAAAAAAAAFEAAAAAAAAAcQAAAAAAAABRAAAAAAAAAFEAAAAAAAAAUQAAAAAAAABRAAAAAAAAAHEAAAAAAAAAUQAAAAAAAABRAAAAAAAAAFEAAAAAAAAAUQAAAAAAAABRAAAAAAAAAHEAAAAAAAAAUQAAAAAAAABxAAAAAAAAAFEAAAAAAAAAUQAAAAAAAABRAAAAAAAAAFEAAAAAAAAAUQAAAAAAAABxAAAAAAAAAFEAAAAAAAAAUQAAAAAAAABRAAAAAAAAAFEAAAAAAAAAQQAAAAAAAABRAAAAAAAAAFEAAAAAAAAAUQAAAAAAAABRAAAAAAAAAFEAAAAAAAAAUQAAAAAAAABRAAAAAAAAAHEAAAAAAAAAUQAAAAAAAABxAAAAAAAAAFEAAAAAAAAAUQAAAAAAAABRAAAAAAAAAFEAAAAAAAAAUQAAAAAAAABRAAAAAAAAAHEAAAAAAAAAUQAAAAAAAABRAAAAAAAAAFEAAAAAAAAAUQAAAAAAAABRAAAAAAAAAFEAAAAAAAAAUQAAAAAAAABRAAAAAAAAAHEAAAAAAAAAUQAAAAAAAABRAAAAAAAAAAEAAAAAAAAAUQAAAAAAAACRAAAAAAAAAHEAAAAAAAAAUQAAAAAAAABRAAAAAAAAAFEAAAAAAAAAUQAAAAAAAABxAAAAAAAAAFEAAAAAAAAAUQAAAAAAAAABAAAAAAAAAFEAAAAAAAAAUQAAAAAAAABRAAAAAAAAAFEAAAAAAAAAUQAAAAAAAABRAAAAAAAAAFEAAAAAAAAAUQAAAAAAAABRAAAAAAAAAFEAAAAAAAAAUQAAAAAAAABRAAAAAAAAAFEAAAAAAAAAUQAAAAAAAABRAAAAAAAAAFEAAAAAAAAAUQAAAAAAAABRAAAAAAAAAFEAAAAAAAAAcQAAAAAAAABRAAAAAAAAAFEAAAAAAAAAUQAAAAAAAABRAAAAAAAAAGEAAAAAAAAAcQAAAAAAAABRAAAAAAAAAFEAAAAAAAAAUQAAAAAAAABRAAAAAAAAAFEAAAAAAAAAUQAAAAAAAABRAAAAAAAAAFEAAAAAAAAAUQAAAAAAAABRAAAAAAAAAFEAAAAAAAAAUQAAAAAAAACBAAAAAAAAAFEAAAAAAAAAUQAAAAAAAABRAAAAAAAAAFEAAAAAAAAAUQAAAAAAAABRAAAAAAAAAFEAAAAAAAAAUQAAAAAAAABRAAAAAAAAAHEAAAAAAAAAUQAAAAAAAABRAAAAAAAAAFEAAAAAAAAAUQAAAAAAAABRAAAAAAAAAFEAAAAAAAAAUQAAAAAAAABRAAAAAAAAAFEAAAAAAAAAUQAAAAAAAABRAAAAAAAAAFEAAAAAAAAAUQAAAAAAAABRAAAAAAAAAFEAAAAAAAAAUQAAAAAAAABRAAAAAAAAAFEAAAAAAAAAUQAAAAAAAABRAAAAAAAAAFEAAAAAAAAAUQAAAAAAAABRAAAAAAAAAFEAAAAAAAAAUQAAAAAAAABRAAAAAAAAAFEAAAAAAAAAUQAAAAAAAABRAAAAAAAAAFEAAAAAAAAAUQAAAAAAAABRAAAAAAAAAIEAAAAAAAAAUQAAAAAAAABRAAAAAAAAAFEAAAAAAAAAcQAAAAAAAACBAAAAAAAAAFEAAAAAAAAAUQAAAAAAAABxAAAAAAAAAFEAAAAAAAAAUQAAAAAAAABRAAAAAAAAAFEAAAAAAAAAUQAAAAAAAABRAAAAAAAAAFEAAAAAAAAAUQAAAAAAAABRAAAAAAAAAFEAAAAAAAAAcQAAAAAAAABxAAAAAAAAAFEAAAAAAAAAcQAAAAAAAABRAAAAAAAAAFEAAAAAAAAAUQAAAAAAAABRAAAAAAAAAFEAAAAAAAAAUQAAAAAAAABRAAAAAAAAAHEAAAAAAAAAUQAAAAAAAABRAAAAAAAAAFEAAAAAAAAAUQAAAAAAAABRAAAAAAAAAFEAAAAAAAAAUQAAAAAAAACBAAAAAAAAAFEAAAAAAAAAUQAAAAAAAABRAAAAAAAAAFEAAAAAAAAAUQAAAAAAAABRAAAAAAAAAFEAAAAAAAAAUQAAAAAAAABRAAAAAAAAAFEAAAAAAAAAUQAAAAAAAABRAAAAAAAAAFEAAAAAAAAAUQAAAAAAAABxAAAAAAAAAFEAAAAAAAAAcQAAAAAAAABRAAAAAAAAAHEAAAAAAAAAUQAAAAAAAABRAAAAAAAAAFEAAAAAAAAAUQAAAAAAAABRAAAAAAAAAFEAAAAAAAAAcQAAAAAAAABxAAAAAAAAAFEAAAAAAAAAUQAAAAAAAABxAAAAAAAAAFEAAAAAAAAAAQAAAAAAAABRAAAAAAAAAFEAAAAAAAAAUQAAAAAAAABRAAAAAAAAAFEAAAAAAAAAUQAAAAAAAABRAAAAAAAAAFEAAAAAAAAAUQAAAAAAAABRAAAAAAAAAFEAAAAAAAAAUQAAAAAAAABRAAAAAAAAAFEAAAAAAAAAcQAAAAAAAABRAAAAAAAAAFEAAAAAAAAAUQAAAAAAAABRAAAAAAAAAFEAAAAAAAAAUQAAAAAAAABRAAAAAAAAAHEAAAAAAAAAUQAAAAAAAABxAAAAAAAAAHEAAAAAAAAAUQAAAAAAAABRAAAAAAAAAFEAAAAAAAAAUQAAAAAAAABRAAAAAAAAAFEAAAAAAAAAUQAAAAAAAABRAAAAAAAAAFEAAAAAAAAAUQAAAAAAAABRAAAAAAAAAFEAAAAAAAAAUQAAAAAAAABRAAAAAAAAAFEAAAAAAAAAUQAAAAAAAABRAAAAAAAAAFEAAAAAAAAAUQAAAAAAAABRAAAAAAAAAFEAAAAAAAAAUQAAAAAAAABRAAAAAAAAAFEAAAAAAAAAcQAAAAAAAABRAAAAAAAAAFEAAAAAAAAAUQAAAAAAAABRAAAAAAAAAFEAAAAAAAAAUQAAAAAAAABRAAAAAAAAAFEAAAAAAAAAUQAAAAAAAABRAAAAAAAAAHEAAAAAAAAAUQAAAAAAAABRAAAAAAAAAFEAAAAAAAAAUQAAAAAAAABxAAAAAAAAAHEAAAAAAAAAUQAAAAAAAABRAAAAAAAAAFEAAAAAAAAAUQAAAAAAAABRAAAAAAAAAFEAAAAAAAAAUQAAAAAAAABRAAAAAAAAAFEAAAAAAAAAUQAAAAAAAABRAAAAAAAAAFEAAAAAAAAAUQAAAAAAAABRAAAAAAAAAFEAAAAAAAAAUQAAAAAAAABRAAAAAAAAAFEAAAAAAAAAUQAAAAAAAABRAAAAAAAAAFEAAAAAAAAAUQAAAAAAAABRAAAAAAAAAFEAAAAAAAAAUQAAAAAAAABRAAAAAAAAAFEAAAAAAAAAUQAAAAAAAABRAAAAAAAAAFEAAAAAAAAAUQAAAAAAAABRAAAAAAAAAFEAAAAAAAAAUQAAAAAAAACBAAAAAAAAAFEAAAAAAAAAUQAAAAAAAABRAAAAAAAAAFEAAAAAAAAAUQAAAAAAAABRAAAAAAAAAFEAAAAAAAAAUQAAAAAAAABRAAAAAAAAAFEAAAAAAAAAUQAAAAAAAABRAAAAAAAAAFEAAAAAAAAAUQAAAAAAAABRAAAAAAAAAHEAAAAAAAAAUQAAAAAAAABRAAAAAAAAAHEAAAAAAAAAUQAAAAAAAABRAAAAAAAAAFEAAAAAAAAAUQAAAAAAAABRAAAAAAAAAHEAAAAAAAAAcQAAAAAAAABRAAAAAAAAAHEAAAAAAAAAUQAAAAAAAABRAAAAAAAAAFEAAAAAAAAAUQAAAAAAAABRAAAAAAAAAFEAAAAAAAAAUQAAAAAAAABRAAAAAAAAAFEAAAAAAAAAUQAAAAAAAABRAAAAAAAAAFEAAAAAAAAAgQAAAAAAAABRAAAAAAAAAFEAAAAAAAAAQQAAAAAAAABRAAAAAAAAAFEAAAAAAAAAUQAAAAAAAABRAAAAAAAAAFEAAAAAAAAAcQAAAAAAAABRAAAAAAAAAFEAAAAAAAAAUQAAAAAAAABRAAAAAAAAAFEAAAAAAAAAUQAAAAAAAABRAAAAAAAAAFEAAAAAAAAAUQAAAAAAAABRAAAAAAAAAFEAAAAAAAAAcQAAAAAAAABxAAAAAAAAAFEAAAAAAAAAUQAAAAAAAABRAAAAAAAAAHEAAAAAAAAAUQAAAAAAAABRAAAAAAAAAFEAAAAAAAAAUQAAAAAAAABRAAAAAAAAAFEAAAAAAAAAUQAAAAAAAABRAAAAAAAAAHEAAAAAAAAAUQAAAAAAAABRAAAAAAAAAFEAAAAAAAAAUQAAAAAAAABRAAAAAAAAAFEAAAAAAAAAcQAAAAAAAABRAAAAAAAAAFEAAAAAAAAAUQAAAAAAAABRAAAAAAAAAEEAAAAAAAAAUQAAAAAAAABRAAAAAAAAAHEAAAAAAAAAUQAAAAAAAABxAAAAAAAAAFEAAAAAAAAAUQAAAAAAAABRAAAAAAAAAFEAAAAAAAAAUQAAAAAAAABRAAAAAAAAAFEAAAAAAAAAUQAAAAAAAABRAAAAAAAAAFEAAAAAAAAAUQAAAAAAAABRAAAAAAAAAFEAAAAAAAAAAQAAAAAAAABRAAAAAAAAAFEAAAAAAAAAcQAAAAAAAABRAAAAAAAAAFEAAAAAAAAD4fwAAAAAAABRAAAAAAAAAFEAAAAAAAAAUQAAAAAAAABRAAAAAAAAAHEAAAAAAAAAcQAAAAAAAABRAAAAAAAAAFEAAAAAAAAAUQAAAAAAAABRAAAAAAAAAFEAAAAAAAAAUQAAAAAAAABRAAAAAAAAAFEAAAAAAAAAQQAAAAAAAABRAAAAAAAAAFEAAAAAAAAAUQAAAAAAAABRAAAAAAAAAFEAAAAAAAAAUQAAAAAAAABRAAAAAAAAAFEAAAAAAAAAUQAAAAAAAABRAAAAAAAAAFEAAAAAAAAAUQAAAAAAAABBAAAAAAAAAFEAAAAAAAAAUQAAAAAAAABRAAAAAAAAAFEAAAAAAAAD4fwAAAAAAABRAAAAAAAAAFEAAAAAAAAAcQAAAAAAAABRAAAAAAAAAFEAAAAAAAAAUQAAAAAAAABRAAAAAAAAAFEAAAAAAAAAcQAAAAAAAABRAAAAAAAAAFEAAAAAAAAAUQAAAAAAAABRAAAAAAAAAFEAAAAAAAAAUQAAAAAAAABRAAAAAAAAAFEAAAAAAAAAUQAAAAAAAABRAAAAAAAAAIkAAAAAAAAAUQAAAAAAAABRAAAAAAAAAFEAAAAAAAAAUQAAAAAAAABxAAAAAAAAAHEAAAAAAAAAUQAAAAAAAABxAAAAAAAAAFEAAAAAAAAAUQAAAAAAAABRAAAAAAAAAFEAAAAAAAAAUQAAAAAAAABRAAAAAAAAAFEAAAAAAAAAUQAAAAAAAABxAAAAAAAAAFEAAAAAAAAAUQAAAAAAAABRAAAAAAAAAFEAAAAAAAAAUQAAAAAAAABRAAAAAAAAAFEAAAAAAAAAUQAAAAAAAABRAAAAAAAAAFEAAAAAAAAAUQAAAAAAAABRAAAAAAAAAFEAAAAAAAAAUQAAAAAAAABRAAAAAAAAAFEAAAAAAAAAUQAAAAAAAABRAAAAAAAAAFEAAAAAAAAAUQAAAAAAAAPh/AAAAAAAAFEAAAAAAAAAUQAAAAAAAABRAAAAAAAAAFEAAAAAAAAAUQAAAAAAAABRAAAAAAAAAFEAAAAAAAAAUQAAAAAAAABRAAAAAAAAAFEAAAAAAAAAUQAAAAAAAABxAAAAAAAAAFEAAAAAAAAAcQAAAAAAAABRAAAAAAAAAFEAAAAAAAAAUQAAAAAAAABRAAAAAAAAAFEAAAAAAAAAcQAAAAAAAABRAAAAAAAAAHEAAAAAAAAAUQAAAAAAAABRAAAAAAAAAFEAAAAAAAAAUQAAAAAAAABRAAAAAAAAAFEAAAAAAAAAUQAAAAAAAABRAAAAAAAAAFEAAAAAAAAAUQAAAAAAAABRAAAAAAAAAFEAAAAAAAAAUQAAAAAAAABRAAAAAAAAAFEAAAAAAAAAUQAAAAAAAABRAAAAAAAAAFEAAAAAAAAAUQAAAAAAAABxAAAAAAAAAFEAAAAAAAAAQQAAAAAAAABxAAAAAAAAAFEAAAAAAAAAUQAAAAAAAABBAAAAAAAAAFEAAAAAAAAAcQAAAAAAAABRAAAAAAAAAFEAAAAAAAAAUQAAAAAAAABxAAAAAAAAAFEAAAAAAAAAgQAAAAAAAABRAAAAAAAAAFEAAAAAAAAAUQAAAAAAAABRAAAAAAAAAFEAAAAAAAAAUQAAAAAAAABRAAAAAAAAAFEAAAAAAAAAUQAAAAAAAABRAAAAAAAAAFEAAAAAAAAAUQAAAAAAAABRAAAAAAAAAFEAAAAAAAAAUQAAAAAAAABRAAAAAAAAAEEAAAAAAAAAUQAAAAAAAAPh/AAAAAAAAFEAAAAAAAAAUQAAAAAAAABRAAAAAAAAAFEAAAAAAAAAUQAAAAAAAABxAAAAAAAAAFEAAAAAAAAAUQAAAAAAAABRAAAAAAAAAEEAAAAAAAAAUQAAAAAAAABRAAAAAAAAAHEAAAAAAAAAUQAAAAAAAABRAAAAAAAAAFEAAAAAAAAAUQAAAAAAAABRAAAAAAAAAFEAAAAAAAAAUQAAAAAAAACBAAAAAAAAAHEAAAAAAAAAUQAAAAAAAABRAAAAAAAAAHEAAAAAAAAAUQAAAAAAAABRAAAAAAAAAFEAAAAAAAAAUQAAAAAAAABRAAAAAAAAAFEAAAAAAAAAUQAAAAAAAABxAAAAAAAAAFEAAAAAAAAAUQAAAAAAAABRAAAAAAAAAFEAAAAAAAAAUQAAAAAAAABRAAAAAAAAAFEAAAAAAAAAcQAAAAAAAABRAAAAAAAAAFEAAAAAAAAAcQAAAAAAAABRAAAAAAAAAFEAAAAAAAAAUQAAAAAAAABRAAAAAAAAAFEAAAAAAAAAUQAAAAAAAABRAAAAAAAAAFEAAAAAAAAAUQAAAAAAAABRAAAAAAAAAIEAAAAAAAAAcQAAAAAAAABRAAAAAAAAAFEAAAAAAAAAUQAAAAAAAABRAAAAAAAAAIEAAAAAAAAAUQAAAAAAAABRAAAAAAAAAHEAAAAAAAAAUQAAAAAAAABRAAAAAAAAAFEAAAAAAAAAgQAAAAAAAABRAAAAAAAAAFEAAAAAAAAAUQAAAAAAAACBAAAAAAAAAFEAAAAAAAAAUQAAAAAAAABRAAAAAAAAAFEAAAAAAAAAUQAAAAAAAABRAAAAAAAAAFEAAAAAAAAAUQAAAAAAAABxAAAAAAAAAGEAAAAAAAAAUQAAAAAAAABRAAAAAAAAAEEAAAAAAAAAUQAAAAAAAABRAAAAAAAAAFEAAAAAAAAAUQAAAAAAAABRAAAAAAAAAFEAAAAAAAAAcQAAAAAAAABRAAAAAAAAAFEAAAAAAAAAUQAAAAAAAABxAAAAAAAAAFEAAAAAAAAAUQAAAAAAAABRAAAAAAAAAFEAAAAAAAAAUQAAAAAAAABxAAAAAAAAAFEAAAAAAAAAUQAAAAAAAABRAAAAAAAAAFEAAAAAAAAAUQAAAAAAAABxAAAAAAAAAFEAAAAAAAAAUQAAAAAAAABRAAAAAAAAAFEAAAAAAAAAcQAAAAAAAABRAAAAAAAAAFEAAAAAAAAAUQAAAAAAAABRAAAAAAAAAHEAAAAAAAAAUQAAAAAAAABRAAAAAAAAAFEAAAAAAAAAUQAAAAAAAABxAAAAAAAAAHEAAAAAAAAAUQAAAAAAAABRAAAAAAAAAFEAAAAAAAAAUQAAAAAAAABxAAAAAAAAAFEAAAAAAAAAUQAAAAAAAABRAAAAAAAAAFEAAAAAAAAAUQAAAAAAAABRAAAAAAAAAHEAAAAAAAAAUQAAAAAAAABRAAAAAAAAAFEAAAAAAAAAUQAAAAAAAABRAAAAAAAAAEEAAAAAAAAAUQAAAAAAAABxAAAAAAAAAHEAAAAAAAAAUQAAAAAAAABRAAAAAAAAAFEAAAAAAAAAUQAAAAAAAABRAAAAAAAAAHEAAAAAAAAAUQAAAAAAAABRAAAAAAAAAFEAAAAAAAAAUQAAAAAAAABxAAAAAAAAAFEAAAAAAAAAUQAAAAAAAABRAAAAAAAAAFEAAAAAAAAAUQAAAAAAAABRAAAAAAAAAFEAAAAAAAAAUQAAAAAAAABRAAAAAAAAAFEAAAAAAAAAUQAAAAAAAABBAAAAAAAAAFEAAAAAAAAAUQAAAAAAAABRAAAAAAAAAFEAAAAAAAAAUQAAAAAAAABRAAAAAAAAAFEAAAAAAAAAUQAAAAAAAABRAAAAAAAAAFEAAAAAAAAAcQAAAAAAAABxAAAAAAAAAFEAAAAAAAAAUQAAAAAAAABRAAAAAAAAAHEAAAAAAAAAUQAAAAAAAABRAAAAAAAAAFEAAAAAAAAAUQAAAAAAAABRAAAAAAAAAFEAAAAAAAAAUQAAAAAAAABRAAAAAAAAAIEAAAAAAAAAUQAAAAAAAABRAAAAAAAAAEEAAAAAAAAAgQAAAAAAAABRAAAAAAAAAFEAAAAAAAAAUQAAAAAAAABRAAAAAAAAAFEAAAAAAAAAUQAAAAAAAABRAAAAAAAAAFEAAAAAAAAAUQAAAAAAAABRAAAAAAAAAFEAAAAAAAAAUQAAAAAAAABRAAAAAAAAAFEAAAAAAAAAUQAAAAAAAABRAAAAAAAAAFEAAAAAAAAAUQAAAAAAAABRAAAAAAAAAFEAAAAAAAAAgQAAAAAAAABBAAAAAAAAAFEAAAAAAAAAUQAAAAAAAABRAAAAAAAAAFEAAAAAAAAAUQAAAAAAAABRAAAAAAAAAIEAAAAAAAAAcQAAAAAAAABRAAAAAAAAAFEAAAAAAAAAUQAAAAAAAABRAAAAAAAAAFEAAAAAAAAAUQAAAAAAAABRAAAAAAAAAFEAAAAAAAAAgQAAAAAAAABRAAAAAAAAAFEAAAAAAAAAcQAAAAAAAABRAAAAAAAAAHEAAAAAAAAAUQAAAAAAAABxAAAAAAAAAFEAAAAAAAAAUQAAAAAAAABRAAAAAAAAAFEAAAAAAAAAUQAAAAAAAABRAAAAAAAAAFEAAAAAAAAAUQAAAAAAAABRAAAAAAAAAEEAAAAAAAAAUQAAAAAAAABRAAAAAAAAAFEAAAAAAAAAcQAAAAAAAABRAAAAAAAAAFEAAAAAAAAAUQAAAAAAAACBAAAAAAAAAFEAAAAAAAAAUQAAAAAAAABxAAAAAAAAAFEAAAAAAAAAUQAAAAAAAABRAAAAAAAAAFEAAAAAAAAAUQAAAAAAAABRAAAAAAAAAFEAAAAAAAAAUQAAAAAAAABRAAAAAAAAAFEAAAAAAAAAUQAAAAAAAABRAAAAAAAAAFEAAAAAAAAAcQAAAAAAAABRAAAAAAAAAHEAAAAAAAAAQQAAAAAAAABRAAAAAAAAAFEAAAAAAAAAcQAAAAAAAABRAAAAAAAAAFEAAAAAAAAAcQAAAAAAAABRAAAAAAAAAFEAAAAAAAAAUQAAAAAAAABRAAAAAAAAAHEAAAAAAAAAUQAAAAAAAABRAAAAAAAAAFEAAAAAAAAAUQAAAAAAAABRAAAAAAAAAFEAAAAAAAAAUQAAAAAAAABxAAAAAAAAAFEAAAAAAAAAUQAAAAAAAABRAAAAAAAAAFEAAAAAAAAAUQAAAAAAAABRAAAAAAAAAFEAAAAAAAAAUQAAAAAAAABRAAAAAAAAAFEAAAAAAAAAUQAAAAAAAABRAAAAAAAAAFEAAAAAAAAAUQAAAAAAAABRAAAAAAAAAFEAAAAAAAAAUQAAAAAAAABRAAAAAAAAAHEAAAAAAAAAUQAAAAAAAABxAAAAAAAAAFEAAAAAAAAAUQAAAAAAAABRAAAAAAAAAFEAAAAAAAAAUQAAAAAAAABRAAAAAAAAAFEAAAAAAAAAUQAAAAAAAABRAAAAAAAAAHEAAAAAAAAAcQAAAAAAAABRAAAAAAAAAFEAAAAAAAAAUQAAAAAAAABRAAAAAAAAAFEAAAAAAAAAUQAAAAAAAABRAAAAAAAAAFEAAAAAAAAAQQAAAAAAAABRAAAAAAAAAFEAAAAAAAAAUQAAAAAAAABRAAAAAAAAAFEAAAAAAAAAUQAAAAAAAABxAAAAAAAAAFEAAAAAAAAAUQAAAAAAAABRAAAAAAAAAFEAAAAAAAAAUQAAAAAAAABRAAAAAAAAAFEAAAAAAAAAUQAAAAAAAABRAAAAAAAAAFEAAAAAAAAAUQAAAAAAAABRAAAAAAAAAFEAAAAAAAAAUQAAAAAAAABRAAAAAAAAAFEAAAAAAAAAUQAAAAAAAABRAAAAAAAAAHEAAAAAAAAAUQAAAAAAAABRAAAAAAAAAFEAAAAAAAAAUQAAAAAAAABRAAAAAAAAAFEAAAAAAAAAcQAAAAAAAABRAAAAAAAAAFEAAAAAAAAAQQAAAAAAAABRAAAAAAAAAHEAAAAAAAAAUQAAAAAAAABRAAAAAAAAAFEAAAAAAAAAUQAAAAAAAABRAAAAAAAAAFEAAAAAAAAAcQAAAAAAAABRAAAAAAAAAFEAAAAAAAAAUQAAAAAAAABRAAAAAAAAAFEAAAAAAAAAUQAAAAAAAABRAAAAAAAAAFEAAAAAAAAAUQAAAAAAAABRAAAAAAAAAFEAAAAAAAAAUQAAAAAAAABRAAAAAAAAAFEAAAAAAAAAcQAAAAAAAABRAAAAAAAAAFEAAAAAAAAAUQAAAAAAAABRAAAAAAAAAFEAAAAAAAAAUQAAAAAAAABRAAAAAAAAAFEAAAAAAAAAcQAAAAAAAABRAAAAAAAAAHEAAAAAAAAAUQAAAAAAAABRAAAAAAAAAHEAAAAAAAAAUQAAAAAAAABxAAAAAAAAAFEAAAAAAAAAUQAAAAAAAABRAAAAAAAAAIEAAAAAAAAAUQAAAAAAAABRAAAAAAAAAFEAAAAAAAAAcQAAAAAAAABRAAAAAAAAAFEAAAAAAAAAUQAAAAAAAABRAAAAAAAAAFEAAAAAAAAAUQAAAAAAAABRAAAAAAAAAFEAAAAAAAAAUQAAAAAAAABRAAAAAAAAAFEAAAAAAAAAUQAAAAAAAABRAAAAAAAAAFEAAAAAAAAAUQAAAAAAAABxAAAAAAAAAHEAAAAAAAAAUQAAAAAAAABRAAAAAAAAAFEAAAAAAAAAUQAAAAAAAACRAAAAAAAAAFEAAAAAAAAAYQAAAAAAAABRAAAAAAAAAFEAAAAAAAAAgQAAAAAAAABRAAAAAAAAAFEAAAAAAAAAUQAAAAAAAABRAAAAAAAAA+H8AAAAAAAAUQAAAAAAAABRAAAAAAAAAFEAAAAAAAAAcQAAAAAAAABRAAAAAAAAAFEAAAAAAAAAUQAAAAAAAABRAAAAAAAAAFEAAAAAAAAAUQAAAAAAAABRAAAAAAAAAFEAAAAAAAAAUQAAAAAAAABRAAAAAAAAAFEAAAAAAAAAUQAAAAAAAABRAAAAAAAAAHEAAAAAAAAAUQAAAAAAAABRAAAAAAAAAFEAAAAAAAAAcQAAAAAAAABRAAAAAAAAAFEAAAAAAAAAUQAAAAAAAABRAAAAAAAAAHEAAAAAAAAAUQAAAAAAAABRAAAAAAAAAFEAAAAAAAAAUQAAAAAAAABxAAAAAAAAAFEAAAAAAAAAUQAAAAAAAABRAAAAAAAAAFEAAAAAAAAAUQAAAAAAAABRAAAAAAAAAFEAAAAAAAAAcQAAAAAAAABRAAAAAAAAAFEAAAAAAAAAUQAAAAAAAABRAAAAAAAAAHEAAAAAAAAAUQAAAAAAAABRAAAAAAAAAFEAAAAAAAAAUQAAAAAAAABRAAAAAAAAAHEAAAAAAAAAgQAAAAAAAABRAAAAAAAAAFEAAAAAAAAAcQAAAAAAAABRAAAAAAAAAFEAAAAAAAAAUQAAAAAAAABRAAAAAAAAAFEAAAAAAAAAUQAAAAAAAABRAAAAAAAAAFEAAAAAAAAAUQAAAAAAAABRAAAAAAAAAFEAAAAAAAAAUQAAAAAAAABRAAAAAAAAAFEAAAAAAAAAUQAAAAAAAABRAAAAAAAAAFEAAAAAAAAAUQAAAAAAAABRAAAAAAAAAHEAAAAAAAAAUQAAAAAAAABRAAAAAAAAAFEAAAAAAAAAUQAAAAAAAABxAAAAAAAAAFEAAAAAAAAAUQAAAAAAAABRAAAAAAAAAFEAAAAAAAAAcQAAAAAAAABRAAAAAAAAAFEAAAAAAAAAUQAAAAAAAABRAAAAAAAAAFEAAAAAAAAAcQAAAAAAAABRAAAAAAAAAFEAAAAAAAAAUQAAAAAAAABRAAAAAAAAAFEAAAAAAAAAUQAAAAAAAABRAAAAAAAAAFEAAAAAAAAAUQAAAAAAAABRAAAAAAAAAFEAAAAAAAAAUQAAAAAAAABxAAAAAAAAAIEAAAAAAAAAUQAAAAAAAABRAAAAAAAAAHEAAAAAAAAAcQAAAAAAAABRAAAAAAAAAFEAAAAAAAAAUQAAAAAAAABxAAAAAAAAAHEAAAAAAAAAUQAAAAAAAABRAAAAAAAAAFEAAAAAAAAAUQAAAAAAAABRAAAAAAAAAIEAAAAAAAAAUQAAAAAAAABRAAAAAAAAAFEAAAAAAAAAcQAAAAAAAABRAAAAAAAAAFEAAAAAAAAAUQAAAAAAAABRAAAAAAAAAFEAAAAAAAAAUQAAAAAAAABRAAAAAAAAAIEAAAAAAAAAcQAAAAAAAABRAAAAAAAAAFEAAAAAAAAAYQAAAAAAAABRAAAAAAAAAHEAAAAAAAAAUQAAAAAAAABRAAAAAAAAAFEAAAAAAAAAUQAAAAAAAABRAAAAAAAAAFEAAAAAAAAAUQAAAAAAAABRAAAAAAAAAFEAAAAAAAAAUQAAAAAAAABxAAAAAAAAAFEAAAAAAAAAUQAAAAAAAABxAAAAAAAAAFEAAAAAAAAAUQAAAAAAAABRAAAAAAAAAFEAAAAAAAAD4fwAAAAAAABRAAAAAAAAAFEAAAAAAAAAUQAAAAAAAABRAAAAAAAAAFEAAAAAAAAAUQAAAAAAAABRAAAAAAAAAFEAAAAAAAAAUQAAAAAAAABRAAAAAAAAAFEAAAAAAAAAUQAAAAAAAABRAAAAAAAAAFEAAAAAAAAAQQAAAAAAAABRAAAAAAAAAFEAAAAAAAAAUQAAAAAAAABxAAAAAAAAAFEAAAAAAAAAAQAAAAAAAAPh/AAAAAAAAFEAAAAAAAAAUQAAAAAAAABxAAAAAAAAAFEAAAAAAAAAcQAAAAAAAABRAAAAAAAAAGEAAAAAAAAAUQAAAAAAAABRAAAAAAAAAFEAAAAAAAAAUQAAAAAAAABxAAAAAAAAAHEAAAAAAAAAUQAAAAAAAABRAAAAAAAAAFEAAAAAAAAAUQAAAAAAAABRAAAAAAAAAFEAAAAAAAAAUQAAAAAAAABRAAAAAAAAAHEAAAAAAAAAUQAAAAAAAABRAAAAAAAAAFEAAAAAAAAAUQAAAAAAAABRAAAAAAAAAFEAAAAAAAAAUQAAAAAAAACBAAAAAAAAAFEAAAAAAAAAcQAAAAAAAABxAAAAAAAAAFEAAAAAAAAAUQAAAAAAAABRAAAAAAAAAHEAAAAAAAAAcQAAAAAAAABRAAAAAAAAAFEAAAAAAAAAUQAAAAAAAABxAAAAAAAAAFEAAAAAAAAAcQAAAAAAAABRAAAAAAAAAFEAAAAAAAAAUQAAAAAAAABxAAAAAAAAAHEAAAAAAAAAUQAAAAAAAABRAAAAAAAAAFEAAAAAAAAAUQAAAAAAAABxAAAAAAAAAFEAAAAAAAAAUQAAAAAAAABRAAAAAAAAAFEAAAAAAAAAUQAAAAAAAABxAAAAAAAAAFEAAAAAAAAAUQAAAAAAAABxAAAAAAAAAFEAAAAAAAAAUQAAAAAAAABRAAAAAAAAAFEAAAAAAAAAUQAAAAAAAABRAAAAAAAAAFEAAAAAAAAAUQAAAAAAAABRAAAAAAAAAIEAAAAAAAAAUQAAAAAAAABRAAAAAAAAAHEAAAAAAAAAUQAAAAAAAABRAAAAAAAAAFEAAAAAAAAAUQAAAAAAAABRAAAAAAAAAHEAAAAAAAAAUQAAAAAAAABRAAAAAAAAAFEAAAAAAAAAcQAAAAAAAABRAAAAAAAAAFEAAAAAAAAAUQAAAAAAAABRAAAAAAAAAFEAAAAAAAAAUQAAAAAAAABRAAAAAAAAAFEAAAAAAAAAUQAAAAAAAABRAAAAAAAAAFEAAAAAAAAAUQAAAAAAAABRAAAAAAAAAFEAAAAAAAAAUQAAAAAAAABRAAAAAAAAAFEAAAAAAAAAUQAAAAAAAABRAAAAAAAAAFEAAAAAAAAAUQAAAAAAAABxAAAAAAAAAFEAAAAAAAAAUQAAAAAAAABRAAAAAAAAAFEAAAAAAAAAUQAAAAAAAABRAAAAAAAAAFEAAAAAAAAAUQAAAAAAAABRAAAAAAAAAFEAAAAAAAAAUQAAAAAAAABRAAAAAAAAAFEAAAAAAAAAcQAAAAAAAABRAAAAAAAAAFEAAAAAAAAAUQAAAAAAAABRAAAAAAAAAFEAAAAAAAAAUQAAAAAAAABxAAAAAAAAAFEAAAAAAAAAUQAAAAAAAABxAAAAAAAAAFEAAAAAAAAAUQAAAAAAAABRAAAAAAAAAFEAAAAAAAAAcQAAAAAAAABRAAAAAAAAAFEAAAAAAAAAUQAAAAAAAABRAAAAAAAAAFEAAAAAAAAAUQAAAAAAAABRAAAAAAAAAFEAAAAAAAAAcQAAAAAAAABRAAAAAAAAAFEAAAAAAAAAUQAAAAAAAABRAAAAAAAAAFEAAAAAAAAAUQAAAAAAAABRAAAAAAAAAFEAAAAAAAAAUQAAAAAAAABRAAAAAAAAAFEAAAAAAAAAUQAAAAAAAABRAAAAAAAAAFEAAAAAAAAAcQAAAAAAAABRAAAAAAAAAHEAAAAAAAAAUQAAAAAAAABRAAAAAAAAAFEAAAAAAAAAUQAAAAAAAAPh/AAAAAAAAFEAAAAAAAAAcQAAAAAAAACRAAAAAAAAAFEAAAAAAAAAUQAAAAAAAABRAAAAAAAAAFEAAAAAAAAAUQAAAAAAAABRAAAAAAAAAFEAAAAAAAAAUQAAAAAAAABBAAAAAAAAAHEAAAAAAAAAUQAAAAAAAABxAAAAAAAAAFEAAAAAAAAAUQAAAAAAAABRAAAAAAAAAFEAAAAAAAAAUQAAAAAAAABRAAAAAAAAAFEAAAAAAAAAUQAAAAAAAABRAAAAAAAAAFEAAAAAAAAAUQAAAAAAAABRAAAAAAAAAFEAAAAAAAAAQQAAAAAAAABRAAAAAAAAAFEAAAAAAAAAUQAAAAAAAABRAAAAAAAAAFEAAAAAAAAAUQAAAAAAAABxAAAAAAAAAIEAAAAAAAAAUQAAAAAAAABRAAAAAAAAAFEAAAAAAAAAAQAAAAAAAABhAAAAAAAAAFEAAAAAAAAAUQAAAAAAAABRAAAAAAAAAFEAAAAAAAAAUQAAAAAAAACJAAAAAAAAAFEAAAAAAAAAUQAAAAAAAABRAAAAAAAAAFEAAAAAAAAAUQAAAAAAAABxAAAAAAAAAFEAAAAAAAAAUQAAAAAAAABRAAAAAAAAAEEAAAAAAAAAUQAAAAAAAABRAAAAAAAAA+H8AAAAAAAAUQAAAAAAAACBAAAAAAAAAFEAAAAAAAAAUQAAAAAAAABRAAAAAAAAAFEAAAAAAAAAcQAAAAAAAABRAAAAAAAAAHEAAAAAAAAD4fwAAAAAAABRAAAAAAAAAFEAAAAAAAAAUQAAAAAAAABRAAAAAAAAAFEAAAAAAAAAUQAAAAAAAABRAAAAAAAAAFEAAAAAAAAAUQAAAAAAAABRAAAAAAAAAIEAAAAAAAAAUQAAAAAAAABxAAAAAAAAAFEAAAAAAAAAUQAAAAAAAABRAAAAAAAAAFEAAAAAAAAAUQAAAAAAAABRAAAAAAAAAFEAAAAAAAAAUQAAAAAAAABRAAAAAAAAAFEAAAAAAAAAiQAAAAAAAABRAAAAAAAAAFEAAAAAAAAAcQAAAAAAAABRAAAAAAAAAEEAAAAAAAAAUQAAAAAAAABRAAAAAAAAAFEAAAAAAAAAcQAAAAAAAAPh/AAAAAAAAEEAAAAAAAAAUQAAAAAAAABRAAAAAAAAAFEAAAAAAAAAUQAAAAAAAABRAAAAAAAAAFEAAAAAAAAAUQAAAAAAAABxAAAAAAAAAFEAAAAAAAAAUQAAAAAAAABRAAAAAAAAAFEAAAAAAAAAUQAAAAAAAABRAAAAAAAAAFEAAAAAAAAAUQAAAAAAAABxAAAAAAAAAFEAAAAAAAAAcQAAAAAAAABRAAAAAAAAAFEAAAAAAAAAUQAAAAAAAABRAAAAAAAAAFEAAAAAAAAAcQAAAAAAAABRAAAAAAAAAFEAAAAAAAAAUQAAAAAAAABRAAAAAAAAAFEAAAAAAAAAcQAAAAAAAABRAAAAAAAAAFEAAAAAAAAAUQAAAAAAAABRAAAAAAAAAHEAAAAAAAAAUQAAAAAAAABxAAAAAAAAAFEAAAAAAAAAUQAAAAAAAABRAAAAAAAAAFEAAAAAAAAAUQAAAAAAAABRAAAAAAAAAFEAAAAAAAAAUQAAAAAAAABRAAAAAAAAAFEAAAAAAAAAUQAAAAAAAABxAAAAAAAAAFEAAAAAAAAAQQAAAAAAAABRAAAAAAAAAFEAAAAAAAAAUQAAAAAAAABRAAAAAAAAAFEAAAAAAAAAcQAAAAAAAABRAAAAAAAAAFEAAAAAAAAAcQAAAAAAAABRAAAAAAAAAFEAAAAAAAAAUQAAAAAAAABRAAAAAAAAAFEAAAAAAAAAUQAAAAAAAABRAAAAAAAAAFEAAAAAAAAAUQAAAAAAAABRAAAAAAAAAFEAAAAAAAAAUQAAAAAAAABRAAAAAAAAAFEAAAAAAAAAUQAAAAAAAABRAAAAAAAAAFEAAAAAAAAAUQAAAAAAAABRAAAAAAAAAFEAAAAAAAAAUQAAAAAAAABRAAAAAAAAAFEAAAAAAAAAcQAAAAAAAABRAAAAAAAAAFEAAAAAAAAAUQAAAAAAAABRAAAAAAAAAFEAAAAAAAAAUQAAAAAAAABRAAAAAAAAAHEAAAAAAAAAUQAAAAAAAABxAAAAAAAAAFEAAAAAAAAAUQAAAAAAAABRAAAAAAAAAFEAAAAAAAAAUQAAAAAAAABRAAAAAAAAAFEAAAAAAAAAUQAAAAAAAABRAAAAAAAAAHEAAAAAAAAAgQAAAAAAAABRAAAAAAAAAFEAAAAAAAAAUQAAAAAAAABRAAAAAAAAAFEAAAAAAAAAUQAAAAAAAABxAAAAAAAAAFEAAAAAAAAAUQAAAAAAAABRAAAAAAAAAFEAAAAAAAAAcQAAAAAAAABRAAAAAAAAAFEAAAAAAAAAUQAAAAAAAABRAAAAAAAAAFEAAAAAAAAAUQAAAAAAAABRAAAAAAAAAFEAAAAAAAAAUQAAAAAAAABRAAAAAAAAAFEAAAAAAAAAUQAAAAAAAABRAAAAAAAAAFEAAAAAAAAAcQAAAAAAAABRAAAAAAAAAHEAAAAAAAAAUQAAAAAAAABRAAAAAAAAAFEAAAAAAAAAUQAAAAAAAABRAAAAAAAAAFEAAAAAAAAAUQAAAAAAAABRAAAAAAAAAFEAAAAAAAAAQQAAAAAAAABRAAAAAAAAAFEAAAAAAAAAUQAAAAAAAABRAAAAAAAAAFEAAAAAAAAAUQAAAAAAAACBAAAAAAAAAFEAAAAAAAAAUQAAAAAAAABRAAAAAAAAAFEAAAAAAAAAUQAAAAAAAABxAAAAAAAAAFEAAAAAAAAD4fwAAAAAAABRAAAAAAAAAHEAAAAAAAAAUQAAAAAAAABRAAAAAAAAAFEAAAAAAAAAUQAAAAAAAABxAAAAAAAAAFEAAAAAAAAAUQAAAAAAAABRAAAAAAAAAFEAAAAAAAAD4fwAAAAAAABRAAAAAAAAAFEAAAAAAAAAcQAAAAAAAABRAAAAAAAAAFEAAAAAAAAAUQAAAAAAAABRAAAAAAAAAHEAAAAAAAAAUQAAAAAAAABRAAAAAAAAAFEAAAAAAAAAUQAAAAAAAABRAAAAAAAAAIEAAAAAAAAAUQAAAAAAAABRAAAAAAAAAFEAAAAAAAAAYQAAAAAAAABRAAAAAAAAAHEAAAAAAAAAUQAAAAAAAABRAAAAAAAAAFEAAAAAAAAAgQAAAAAAAABRAAAAAAAAAIEAAAAAAAAAcQAAAAAAAACBAAAAAAAAAFEAAAAAAAAAUQAAAAAAAACBAAAAAAAAAFEAAAAAAAAAkQAAAAAAAABxAAAAAAAAAFEAAAAAAAAAUQAAAAAAAABRAAAAAAAAAFEAAAAAAAAAUQAAAAAAAABRAAAAAAAAAFEAAAAAAAAAUQAAAAAAAABRAAAAAAAAAFEAAAAAAAAAUQAAAAAAAABxAAAAAAAAAFEAAAAAAAAAUQAAAAAAAABRAAAAAAAAAFEAAAAAAAAAcQAAAAAAAABRAAAAAAAAAFEAAAAAAAAAUQAAAAAAAABRAAAAAAAAAFEAAAAAAAAAUQAAAAAAAABRAAAAAAAAAFEAAAAAAAAAUQAAAAAAAABRAAAAAAAAAEEAAAAAAAAAQQAAAAAAAABRAAAAAAAAAFEAAAAAAAAAUQAAAAAAAABRAAAAAAAAAFEAAAAAAAAAUQAAAAAAAABRAAAAAAAAAFEAAAAAAAAAUQAAAAAAAABRAAAAAAAAAFEAAAAAAAAAUQAAAAAAAABRAAAAAAAAAFEAAAAAAAAAUQAAAAAAAABRAAAAAAAAAFEAAAAAAAAD4fwAAAAAAABRAAAAAAAAAFEAAAAAAAAAUQAAAAAAAABRAAAAAAAAAFEAAAAAAAAAcQAAAAAAAABRAAAAAAAAAFEAAAAAAAAAUQAAAAAAAABRAAAAAAAAAFEAAAAAAAAAUQAAAAAAAABRAAAAAAAAAFEAAAAAAAAAUQAAAAAAAABRAAAAAAAAAFEAAAAAAAAAUQAAAAAAAABRAAAAAAAAAFEAAAAAAAAAgQAAAAAAAABBAAAAAAAAAFEAAAAAAAAAUQAAAAAAAABxAAAAAAAAAFEAAAAAAAAAUQAAAAAAAABRAAAAAAAAAFEAAAAAAAAAUQAAAAAAAABRAAAAAAAAAFEAAAAAAAAAUQAAAAAAAABRAAAAAAAAAFEAAAAAAAAAQQAAAAAAAABRAAAAAAAAAFEAAAAAAAAAUQAAAAAAAABRAAAAAAAAAHEAAAAAAAAAUQAAAAAAAABRAAAAAAAAAFEAAAAAAAAD4fwAAAAAAABxAAAAAAAAAFEAAAAAAAAAUQAAAAAAAABRAAAAAAAAAFEAAAAAAAAAUQAAAAAAAABRAAAAAAAAAFEAAAAAAAAAUQAAAAAAAABRAAAAAAAAAHEAAAAAAAAAUQAAAAAAAABRAAAAAAAAAFEAAAAAAAAAUQAAAAAAAABRAAAAAAAAAFEAAAAAAAAAUQAAAAAAAABRAAAAAAAAAFEAAAAAAAAAUQAAAAAAAABRAAAAAAAAAFEAAAAAAAAAUQAAAAAAAABRAAAAAAAAAFEAAAAAAAAAUQAAAAAAAABhAAAAAAAAAFEAAAAAAAAAcQAAAAAAAABRAAAAAAAAAFEAAAAAAAAAUQAAAAAAAABRAAAAAAAAAIEAAAAAAAAAcQAAAAAAAABRAAAAAAAAAEEAAAAAAAAAUQAAAAAAAABRAAAAAAAAAFEAAAAAAAAAUQAAAAAAAABBAAAAAAAAAFEAAAAAAAAAUQAAAAAAAABRAAAAAAAAAFEAAAAAAAAAUQAAAAAAAABRAAAAAAAAAFEAAAAAAAAAUQAAAAAAAABRAAAAAAAAAFEAAAAAAAAAUQAAAAAAAABRAAAAAAAAAFEAAAAAAAAAUQAAAAAAAABRAAAAAAAAAFEAAAAAAAAAUQAAAAAAAABRAAAAAAAAAFEAAAAAAAAAUQAAAAAAAABRAAAAAAAAAFEAAAAAAAAAUQAAAAAAAABRAAAAAAAAAFEAAAAAAAAD4fwAAAAAAABRAAAAAAAAAFEAAAAAAAAAUQAAAAAAAABRAAAAAAAAAFEAAAAAAAAAcQAAAAAAAABRAAAAAAAAAFEAAAAAAAAAcQAAAAAAAABRAAAAAAAAAFEAAAAAAAAAUQAAAAAAAABRAAAAAAAAAHEAAAAAAAAAUQAAAAAAAABRAAAAAAAAAFEAAAAAAAAAUQAAAAAAAABRAAAAAAAAAFEAAAAAAAAAUQAAAAAAAABRAAAAAAAAAFEAAAAAAAAAUQAAAAAAAABRAAAAAAAAAIEAAAAAAAAAUQAAAAAAAABRAAAAAAAAAFEAAAAAAAAAUQAAAAAAAABxAAAAAAAAAFEAAAAAAAAAUQAAAAAAAABRAAAAAAAAAFEAAAAAAAAAUQAAAAAAAABRAAAAAAAAAFEAAAAAAAAAUQAAAAAAAABRAAAAAAAAAHEAAAAAAAAAUQAAAAAAAAPh/AAAAAAAAFEAAAAAAAAAUQAAAAAAAABRAAAAAAAAAFEAAAAAAAAAUQAAAAAAAABxAAAAAAAAAFEAAAAAAAAAUQAAAAAAAABRAAAAAAAAAIEAAAAAAAAAUQAAAAAAAABRAAAAAAAAAGEAAAAAAAAAUQAAAAAAAABRAAAAAAAAAFEAAAAAAAAAUQAAAAAAAABxAAAAAAAAAIEAAAAAAAAAUQAAAAAAAABRAAAAAAAAAFEAAAAAAAAAUQAAAAAAAABRAAAAAAAAAFEAAAAAAAAAUQAAAAAAAABRAAAAAAAAAFEAAAAAAAAAUQAAAAAAAABRAAAAAAAAAFEAAAAAAAAAUQAAAAAAAABRAAAAAAAAAFEAAAAAAAAAUQAAAAAAAABxAAAAAAAAAFEAAAAAAAAAUQAAAAAAAABRAAAAAAAAAFEAAAAAAAAAUQAAAAAAAABRAAAAAAAAAFEAAAAAAAAAUQAAAAAAAABRAAAAAAAAAFEAAAAAAAAAUQAAAAAAAABRAAAAAAAAAFEAAAAAAAAAUQAAAAAAAABxAAAAAAAAAFEAAAAAAAAAUQAAAAAAAABRAAAAAAAAAFEAAAAAAAAAUQAAAAAAAABxAAAAAAAAAHEAAAAAAAAAUQAAAAAAAABRAAAAAAAAAHEAAAAAAAAD4fwAAAAAAABRAAAAAAAAAFEAAAAAAAAAUQAAAAAAAABRAAAAAAAAAFEAAAAAAAAAUQAAAAAAAABRAAAAAAAAAFEAAAAAAAAAUQAAAAAAAABRAAAAAAAAAFEAAAAAAAAAgQAAAAAAAABxAAAAAAAAAFEAAAAAAAAAgQAAAAAAAABRAAAAAAAAAFEAAAAAAAAAUQAAAAAAAABRAAAAAAAAAFEAAAAAAAAAUQAAAAAAAABRAAAAAAAAAFEAAAAAAAAAUQAAAAAAAABRAAAAAAAAAFEAAAAAAAAAUQAAAAAAAABRAAAAAAAAAFEAAAAAAAAAUQAAAAAAAABRAAAAAAAAAFEAAAAAAAAAUQAAAAAAAABRAAAAAAAAAFEAAAAAAAAAUQAAAAAAAABRAAAAAAAAAFEAAAAAAAAAUQAAAAAAAABRAAAAAAAAAIEAAAAAAAAAUQAAAAAAAABxAAAAAAAAAFEAAAAAAAAAUQAAAAAAAABRAAAAAAAAAHEAAAAAAAAAUQAAAAAAAABRAAAAAAAAAFEAAAAAAAAAgQAAAAAAAABRAAAAAAAAAFEAAAAAAAAAQQAAAAAAAABRAAAAAAAAAFEAAAAAAAAAcQAAAAAAAABxAAAAAAAAAFEAAAAAAAAAUQAAAAAAAABRAAAAAAAAAFEAAAAAAAAAUQAAAAAAAABRAAAAAAAAAFEAAAAAAAAAUQAAAAAAAABRAAAAAAAAAIEAAAAAAAAAUQAAAAAAAABRAAAAAAAAAFEAAAAAAAAAUQAAAAAAAABRAAAAAAAAAFEAAAAAAAAAUQAAAAAAAABxAAAAAAAAAFEAAAAAAAAAcQAAAAAAAABRAAAAAAAAAFEAAAAAAAAAcQAAAAAAAABRAAAAAAAAAFEAAAAAAAAAUQAAAAAAAABRAAAAAAAAAFEAAAAAAAAAUQAAAAAAAABRAAAAAAAAAFEAAAAAAAAAUQAAAAAAAACBAAAAAAAAAFEAAAAAAAAAUQAAAAAAAABRAAAAAAAAAIEAAAAAAAAAUQAAAAAAAABRAAAAAAAAAFEAAAAAAAAAUQAAAAAAAABRAAAAAAAAAFEAAAAAAAAAUQAAAAAAAABRAAAAAAAAAHEAAAAAAAAAUQAAAAAAAABRAAAAAAAAAFEAAAAAAAAAUQAAAAAAAABRAAAAAAAAAFEAAAAAAAAAUQAAAAAAAABRAAAAAAAAAHEAAAAAAAAAUQAAAAAAAABRAAAAAAAAAFEAAAAAAAAAUQAAAAAAAABRAAAAAAAAAFEAAAAAAAAAUQAAAAAAAABRAAAAAAAAAFEAAAAAAAAAcQAAAAAAAABRAAAAAAAAAFEAAAAAAAAAUQAAAAAAAABRAAAAAAAAAFEAAAAAAAAAUQAAAAAAAABRAAAAAAAAAFEAAAAAAAAAUQAAAAAAAABRAAAAAAAAAFEAAAAAAAAAUQAAAAAAAABBAAAAAAAAAFEAAAAAAAAAUQAAAAAAAABRAAAAAAAAAFEAAAAAAAAAUQAAAAAAAABRAAAAAAAAAFEAAAAAAAAAUQAAAAAAAABRAAAAAAAAAIEAAAAAAAAAUQAAAAAAAABxAAAAAAAAAFEAAAAAAAAAUQAAAAAAAABRAAAAAAAAAFEAAAAAAAAAUQAAAAAAAABRAAAAAAAAAFEAAAAAAAAAUQAAAAAAAABRAAAAAAAAAFEAAAAAAAAAUQAAAAAAAABRAAAAAAAAAFEAAAAAAAAAUQAAAAAAAABxAAAAAAAAAFEAAAAAAAAAUQAAAAAAAABRAAAAAAAAAHEAAAAAAAAAUQAAAAAAAABRAAAAAAAAAFEAAAAAAAAAUQAAAAAAAABRAAAAAAAAAFEAAAAAAAAAcQAAAAAAAABBAAAAAAAAAFEAAAAAAAAAUQAAAAAAAABxAAAAAAAAAFEAAAAAAAAAcQAAAAAAAABRAAAAAAAAAHEAAAAAAAAAUQAAAAAAAABRAAAAAAAAAFEAAAAAAAAAcQAAAAAAAABRAAAAAAAAAFEAAAAAAAAAcQAAAAAAAABRAAAAAAAAAFEAAAAAAAAAcQAAAAAAAABRAAAAAAAAAFEAAAAAAAAAUQAAAAAAAABRAAAAAAAAAFEAAAAAAAAAUQAAAAAAAABxAAAAAAAAAFEAAAAAAAAAUQAAAAAAAABRAAAAAAAAAFEAAAAAAAAAUQAAAAAAAABRAAAAAAAAAFEAAAAAAAAAUQAAAAAAAABRAAAAAAAAAHEAAAAAAAAAUQAAAAAAAABRAAAAAAAAAFEAAAAAAAAAUQAAAAAAAABRAAAAAAAAAFEAAAAAAAAAUQAAAAAAAABRAAAAAAAAAFEAAAAAAAAAUQAAAAAAAABxAAAAAAAAAFEAAAAAAAAAUQAAAAAAAABRAAAAAAAAAFEAAAAAAAAAcQAAAAAAAABRAAAAAAAAAFEAAAAAAAAAUQAAAAAAAABRAAAAAAAAAFEAAAAAAAAAUQAAAAAAAABRAAAAAAAAAFEAAAAAAAAAgQAAAAAAAABRAAAAAAAAAFEAAAAAAAAAcQAAAAAAAABRAAAAAAAAAFEAAAAAAAAAUQAAAAAAAABRAAAAAAAAAIEAAAAAAAAAUQAAAAAAAACBAAAAAAAAAFEAAAAAAAAAUQAAAAAAAABRAAAAAAAAAFEAAAAAAAAAgQAAAAAAAABRAAAAAAAAAFEAAAAAAAAAUQAAAAAAAABRAAAAAAAAAFEAAAAAAAAAUQAAAAAAAABRAAAAAAAAAFEAAAAAAAAAUQAAAAAAAABRAAAAAAAAAFEAAAAAAAAAUQAAAAAAAABRAAAAAAAAAFEAAAAAAAAAUQAAAAAAAABRAAAAAAAAAFEAAAAAAAAAUQAAAAAAAABRAAAAAAAAAFEAAAAAAAAAgQAAAAAAAABRAAAAAAAAAHEAAAAAAAAAcQAAAAAAAABRAAAAAAAAAFEAAAAAAAAAUQAAAAAAAABBAAAAAAAAAFEAAAAAAAAAUQAAAAAAAABRAAAAAAAAAFEAAAAAAAAAcQAAAAAAAABRAAAAAAAAAFEAAAAAAAAAUQAAAAAAAABRAAAAAAAAAFEAAAAAAAAAUQAAAAAAAABxAAAAAAAAAFEAAAAAAAAAUQAAAAAAAABRAAAAAAAAAFEAAAAAAAAAUQAAAAAAAABRAAAAAAAAAFEAAAAAAAAAUQAAAAAAAABRAAAAAAAAAHEAAAAAAAAAUQAAAAAAAABRAAAAAAAAAFEAAAAAAAAAUQAAAAAAAABRAAAAAAAAAFEAAAAAAAAAUQAAAAAAAABxAAAAAAAAAFEAAAAAAAAAUQAAAAAAAABRAAAAAAAAAFEAAAAAAAAAUQAAAAAAAACBAAAAAAAAAFEAAAAAAAAAQQAAAAAAAABRAAAAAAAAAFEAAAAAAAAAUQAAAAAAAABRAAAAAAAAAFEAAAAAAAAAcQAAAAAAAABRAAAAAAAAAFEAAAAAAAAAUQAAAAAAAABRAAAAAAAAAFEAAAAAAAAAUQAAAAAAAABRAAAAAAAAAFEAAAAAAAAAUQAAAAAAAABRAAAAAAAAAFEAAAAAAAAAUQAAAAAAAABRAAAAAAAAAFEAAAAAAAAAUQAAAAAAAABRAAAAAAAAAFEAAAAAAAAAUQAAAAAAAABRAAAAAAAAAFEAAAAAAAAAUQAAAAAAAABRAAAAAAAAAFEAAAAAAAAAUQAAAAAAAABxAAAAAAAAAFEAAAAAAAAAcQAAAAAAAABRAAAAAAAAAFEAAAAAAAAAUQAAAAAAAABBAAAAAAAAAFEAAAAAAAAAcQAAAAAAAABRAAAAAAAAAHEAAAAAAAAAUQAAAAAAAABRAAAAAAAAAFEAAAAAAAAAUQAAAAAAAABRAAAAAAAAAHEAAAAAAAAAUQAAAAAAAABRAAAAAAAAAFEAAAAAAAAAcQAAAAAAAABRAAAAAAAAAFEAAAAAAAAAUQAAAAAAAABxAAAAAAAAAFEAAAAAAAAAUQAAAAAAAABxAAAAAAAAAFEAAAAAAAAAUQAAAAAAAABRAAAAAAAAAFEAAAAAAAAAUQAAAAAAAABRAAAAAAAAAHEAAAAAAAAAUQAAAAAAAABxAAAAAAAAAFEAAAAAAAAAUQAAAAAAAABRAAAAAAAAAEEAAAAAAAAAcQAAAAAAAABRAAAAAAAAAFEAAAAAAAAAUQAAAAAAAABRAAAAAAAAAHEAAAAAAAAAUQAAAAAAAABRAAAAAAAAAFEAAAAAAAAAUQAAAAAAAABRAAAAAAAAAFEAAAAAAAAAUQAAAAAAAABRAAAAAAAAAFEAAAAAAAAAUQAAAAAAAABRAAAAAAAAAFEAAAAAAAAAUQAAAAAAAABRAAAAAAAAAFEAAAAAAAAAUQAAAAAAAABRAAAAAAAAAIEAAAAAAAAAUQAAAAAAAABRAAAAAAAAAFEAAAAAAAAAUQAAAAAAAABRAAAAAAAAAFEAAAAAAAAAUQAAAAAAAABRAAAAAAAAAFEAAAAAAAAAUQAAAAAAAABRAAAAAAAAAIEAAAAAAAAAUQAAAAAAAABBAAAAAAAAAFEAAAAAAAAAUQAAAAAAAABRAAAAAAAAAFEAAAAAAAAAUQAAAAAAAAPh/AAAAAAAAFEAAAAAAAAAUQAAAAAAAABxAAAAAAAAAFEAAAAAAAAAQQAAAAAAAABxAAAAAAAAAFEAAAAAAAAAUQAAAAAAAABRAAAAAAAAAFEAAAAAAAAAUQAAAAAAAABRAAAAAAAAAFEAAAAAAAAAUQAAAAAAAABxAAAAAAAAAFEAAAAAAAAAUQAAAAAAAABRAAAAAAAAAFEAAAAAAAAAUQAAAAAAAABxAAAAAAAAAFEAAAAAAAAAUQAAAAAAAABRAAAAAAAAAFEAAAAAAAAAUQAAAAAAAABxAAAAAAAAAFEAAAAAAAAAcQAAAAAAAABRAAAAAAAAAFEAAAAAAAAAUQAAAAAAAABRAAAAAAAAAFEAAAAAAAAAUQAAAAAAAABRAAAAAAAAAFEAAAAAAAAAUQAAAAAAAABRAAAAAAAAAHEAAAAAAAAAcQAAAAAAAABRAAAAAAAAAHEAAAAAAAAAcQAAAAAAAABxAAAAAAAAAHEAAAAAAAAAUQAAAAAAAABRAAAAAAAAAFEAAAAAAAAAUQAAAAAAAABRAAAAAAAAAFEAAAAAAAAAUQAAAAAAAABRAAAAAAAAAFEAAAAAAAAAUQAAAAAAAABRAAAAAAAAAFEAAAAAAAAAUQAAAAAAAABxAAAAAAAAAFEAAAAAAAAAUQAAAAAAAABRAAAAAAAAAFEAAAAAAAAAUQAAAAAAAABRAAAAAAAAAFEAAAAAAAAAUQAAAAAAAABRAAAAAAAAAFEAAAAAAAAAcQAAAAAAAABRAAAAAAAAAFEAAAAAAAAAUQAAAAAAAABRAAAAAAAAAFEAAAAAAAAAUQAAAAAAAABRAAAAAAAAAFEAAAAAAAAAUQAAAAAAAABRAAAAAAAAAFEAAAAAAAAAUQAAAAAAAABRAAAAAAAAAFEAAAAAAAAAUQAAAAAAAABRAAAAAAAAAFEAAAAAAAAAUQAAAAAAAABRAAAAAAAAAFEAAAAAAAAAUQAAAAAAAABhAAAAAAAAAFEAAAAAAAAAUQAAAAAAAABRAAAAAAAAAFEAAAAAAAAAUQAAAAAAAABRAAAAAAAAAFEAAAAAAAAAUQAAAAAAAABRAAAAAAAAAFEAAAAAAAAAcQAAAAAAAABRAAAAAAAAAFEAAAAAAAAAUQAAAAAAAABRAAAAAAAAAFEAAAAAAAAAcQAAAAAAAABRAAAAAAAAAFEAAAAAAAAAUQAAAAAAAABRAAAAAAAAAFEAAAAAAAAAUQAAAAAAAABRAAAAAAAAAHEAAAAAAAAAUQAAAAAAAABRAAAAAAAAAFEAAAAAAAAAUQAAAAAAAABRAAAAAAAAAFEAAAAAAAAAUQAAAAAAAABRAAAAAAAAAFEAAAAAAAAAUQAAAAAAAABRAAAAAAAAAFEAAAAAAAAAUQAAAAAAAAPh/AAAAAAAAFEAAAAAAAAAUQAAAAAAAABxAAAAAAAAAHEAAAAAAAAAUQAAAAAAAABRAAAAAAAAAFEAAAAAAAAAUQAAAAAAAABRAAAAAAAAAFEAAAAAAAAAUQAAAAAAAABRAAAAAAAAAFEAAAAAAAAAUQAAAAAAAABRAAAAAAAAAFEAAAAAAAAAUQAAAAAAAABRAAAAAAAAAFEAAAAAAAAAUQAAAAAAAABRAAAAAAAAAFEAAAAAAAAAUQAAAAAAAABRAAAAAAAAAFEAAAAAAAAAUQAAAAAAAABRAAAAAAAAAFEAAAAAAAAAYQAAAAAAAABRAAAAAAAAAIEAAAAAAAAAUQAAAAAAAABRAAAAAAAAAFEAAAAAAAAAUQAAAAAAAABRAAAAAAAAAFEAAAAAAAAAUQAAAAAAAACBAAAAAAAAAFEAAAAAAAAAUQAAAAAAAABxAAAAAAAAAFEAAAAAAAAAUQAAAAAAAABRAAAAAAAAAFEAAAAAAAAAUQAAAAAAAABRAAAAAAAAAFEAAAAAAAAAUQAAAAAAAABRAAAAAAAAAFEAAAAAAAAAUQAAAAAAAABRAAAAAAAAAFEAAAAAAAAAUQAAAAAAAABRAAAAAAAAAFEAAAAAAAAAUQAAAAAAAABRAAAAAAAAAFEAAAAAAAAAUQAAAAAAAABRAAAAAAAAAFEAAAAAAAAAUQAAAAAAAABRAAAAAAAAAFEAAAAAAAAAUQAAAAAAAABRAAAAAAAAAFEAAAAAAAAAcQAAAAAAAABRAAAAAAAAAHEAAAAAAAAAUQAAAAAAAABRAAAAAAAAAFEAAAAAAAAAUQAAAAAAAACBAAAAAAAAAFEAAAAAAAAAUQAAAAAAAABRAAAAAAAAAHEAAAAAAAAAUQAAAAAAAABxAAAAAAAAAEEAAAAAAAAAUQAAAAAAAABxAAAAAAAAAFEAAAAAAAAAUQAAAAAAAABRAAAAAAAAAFEAAAAAAAAAcQAAAAAAAABRAAAAAAAAAFEAAAAAAAAAcQAAAAAAAABRAAAAAAAAAFEAAAAAAAAAUQAAAAAAAABhAAAAAAAAAFEAAAAAAAAAUQAAAAAAAABRAAAAAAAAAGEAAAAAAAAAUQAAAAAAAABRAAAAAAAAAFEAAAAAAAAAUQAAAAAAAABRAAAAAAAAAGEAAAAAAAAAUQAAAAAAAABxAAAAAAAAAFEAAAAAAAAAUQAAAAAAAABRAAAAAAAAAFEAAAAAAAAD4fwAAAAAAABRAAAAAAAAA+H8AAAAAAAAQQAAAAAAAABRAAAAAAAAAFEAAAAAAAAAUQAAAAAAAABRAAAAAAAAAHEAAAAAAAAAUQAAAAAAAABRAAAAAAAAAFEAAAAAAAAAUQAAAAAAAABRAAAAAAAAAFEAAAAAAAAAUQAAAAAAAABRAAAAAAAAAFEAAAAAAAAAUQAAAAAAAABRAAAAAAAAAHEAAAAAAAAAUQAAAAAAAABRAAAAAAAAAHEAAAAAAAAAUQAAAAAAAABxAAAAAAAAAIEAAAAAAAAAcQAAAAAAAABxAAAAAAAAAFEAAAAAAAAAUQAAAAAAAABRAAAAAAAAAFEAAAAAAAAAQQAAAAAAAABRAAAAAAAAAHEAAAAAAAAAUQAAAAAAAABRAAAAAAAAAFEAAAAAAAAAcQAAAAAAAABRAAAAAAAAAFEAAAAAAAAAUQAAAAAAAABRAAAAAAAAAFEAAAAAAAAAcQAAAAAAAABRAAAAAAAAAFEAAAAAAAAAUQAAAAAAAABhAAAAAAAAAHEAAAAAAAAAUQAAAAAAAABRAAAAAAAAAFEAAAAAAAAAUQAAAAAAAABRAAAAAAAAAFEAAAAAAAAAUQAAAAAAAABRAAAAAAAAAFEAAAAAAAAAQQAAAAAAAABRAAAAAAAAAFEAAAAAAAAAUQAAAAAAAABRAAAAAAAAAFEAAAAAAAAAUQAAAAAAAABRAAAAAAAAAFEAAAAAAAAAUQAAAAAAAABRAAAAAAAAAHEAAAAAAAAAUQAAAAAAAABRAAAAAAAAAFEAAAAAAAAAUQAAAAAAAABxAAAAAAAAAFEAAAAAAAAAUQAAAAAAAABRAAAAAAAAAFEAAAAAAAAAUQAAAAAAAABRAAAAAAAAAFEAAAAAAAAAUQAAAAAAAABRAAAAAAAAAFEAAAAAAAAAUQAAAAAAAABRAAAAAAAAAFEAAAAAAAAAUQAAAAAAAABRAAAAAAAAAFEAAAAAAAAAUQAAAAAAAABRAAAAAAAAAFEAAAAAAAAAcQAAAAAAAABRAAAAAAAAAFEAAAAAAAAAUQAAAAAAAABRAAAAAAAAAFEAAAAAAAAAcQAAAAAAAABRAAAAAAAAAFEAAAAAAAAAUQAAAAAAAABRAAAAAAAAAFEAAAAAAAAAUQAAAAAAAABRAAAAAAAAAFEAAAAAAAAAUQAAAAAAAABBAAAAAAAAAFEAAAAAAAAAUQAAAAAAAABRAAAAAAAAAFEAAAAAAAAAUQAAAAAAAABRAAAAAAAAAFEAAAAAAAAAcQAAAAAAAABRAAAAAAAAAFEAAAAAAAAAUQAAAAAAAABRAAAAAAAAAFEAAAAAAAAAUQAAAAAAAABRAAAAAAAAAFEAAAAAAAAAUQAAAAAAAABRAAAAAAAAAFEAAAAAAAAAUQAAAAAAAABRAAAAAAAAAFEAAAAAAAAAUQAAAAAAAABRAAAAAAAAAFEAAAAAAAAAUQAAAAAAAABRAAAAAAAAAFEAAAAAAAAAUQAAAAAAAABxAAAAAAAAAFEAAAAAAAAAUQAAAAAAAABBAAAAAAAAAFEAAAAAAAAAcQAAAAAAAABRAAAAAAAAAFEAAAAAAAAAcQAAAAAAAABRAAAAAAAAAHEAAAAAAAAAUQAAAAAAAABxAAAAAAAAAFEAAAAAAAAAUQAAAAAAAABxAAAAAAAAAFEAAAAAAAAAUQAAAAAAAABRAAAAAAAAAFEAAAAAAAAAUQAAAAAAAABRAAAAAAAAAFEAAAAAAAAAUQAAAAAAAABRAAAAAAAAAFEAAAAAAAAAUQAAAAAAAABRAAAAAAAAAFEAAAAAAAAAUQAAAAAAAABRAAAAAAAAAFEAAAAAAAAAUQAAAAAAAABRAAAAAAAAAFEAAAAAAAAAUQAAAAAAAABRAAAAAAAAAFEAAAAAAAAAUQAAAAAAAABRAAAAAAAAAFEAAAAAAAAAUQAAAAAAAABRAAAAAAAAAFEAAAAAAAAAUQAAAAAAAABxAAAAAAAAAFEAAAAAAAAAUQAAAAAAAABRAAAAAAAAAFEAAAAAAAAAUQAAAAAAAABxAAAAAAAAAHEAAAAAAAAAcQAAAAAAAABRAAAAAAAAAFEAAAAAAAAAUQAAAAAAAABRAAAAAAAAAHEAAAAAAAAAUQAAAAAAAABRAAAAAAAAAFEAAAAAAAAAUQAAAAAAAABRAAAAAAAAAFEAAAAAAAAAUQAAAAAAAABxAAAAAAAAAFEAAAAAAAAAUQAAAAAAAABRAAAAAAAAAFEAAAAAAAAAUQAAAAAAAABRAAAAAAAAAFEAAAAAAAAAUQAAAAAAAABRAAAAAAAAAFEAAAAAAAAAUQAAAAAAAABRAAAAAAAAAFEAAAAAAAAAUQAAAAAAAABRAAAAAAAAAFEAAAAAAAAAUQAAAAAAAABxAAAAAAAAAFEAAAAAAAAAUQAAAAAAAABRAAAAAAAAAFEAAAAAAAAAUQAAAAAAAABRAAAAAAAAAFEAAAAAAAAAUQAAAAAAAABRAAAAAAAAAEEAAAAAAAAAUQAAAAAAAABRAAAAAAAAAFEAAAAAAAAAUQAAAAAAAABRAAAAAAAAAFEAAAAAAAAAcQAAAAAAAABxAAAAAAAAAFEAAAAAAAAAUQAAAAAAAABRAAAAAAAAAFEAAAAAAAAAUQAAAAAAAABRAAAAAAAAAFEAAAAAAAAAUQAAAAAAAABRAAAAAAAAAFEAAAAAAAAAUQAAAAAAAABRAAAAAAAAAFEAAAAAAAAAUQAAAAAAAABRAAAAAAAAAHEAAAAAAAAAUQAAAAAAAABxAAAAAAAAAFEAAAAAAAAAcQAAAAAAAABRAAAAAAAAAFEAAAAAAAAAUQAAAAAAAABRAAAAAAAAAFEAAAAAAAAAUQAAAAAAAABRAAAAAAAAAFEAAAAAAAAAUQAAAAAAAABRAAAAAAAAAFEAAAAAAAAAUQAAAAAAAABRAAAAAAAAAFEAAAAAAAAAUQAAAAAAAAPh/AAAAAAAAFEAAAAAAAAAUQAAAAAAAABRAAAAAAAAAFEAAAAAAAAAUQAAAAAAAABRAAAAAAAAAFEAAAAAAAAAcQAAAAAAAABRAAAAAAAAA+H8AAAAAAAAcQAAAAAAAABxAAAAAAAAAFEAAAAAAAAAUQAAAAAAAABRAAAAAAAAAFEAAAAAAAAAUQAAAAAAAABRAAAAAAAAAFEAAAAAAAAAUQAAAAAAAABRAAAAAAAAAFEAAAAAAAAAUQAAAAAAAABRAAAAAAAAAFEAAAAAAAAAUQAAAAAAAABRAAAAAAAAAFEAAAAAAAAAcQAAAAAAAABxAAAAAAAAAFEAAAAAAAAAUQAAAAAAAABRAAAAAAAAAFEAAAAAAAAAUQAAAAAAAABRAAAAAAAAAFEAAAAAAAAAUQAAAAAAAABxAAAAAAAAAFEAAAAAAAAAUQAAAAAAAABxAAAAAAAAAFEAAAAAAAAAUQAAAAAAAABRAAAAAAAAAFEAAAAAAAAAgQAAAAAAAABRAAAAAAAAAFEAAAAAAAAAUQAAAAAAAABRAAAAAAAAAFEAAAAAAAAAUQAAAAAAAABRAAAAAAAAAFEAAAAAAAAAcQAAAAAAAABRAAAAAAAAAFEAAAAAAAAAgQAAAAAAAABRAAAAAAAAAFEAAAAAAAAAcQAAAAAAAABxAAAAAAAAAFEAAAAAAAAAUQAAAAAAAABRAAAAAAAAAFEAAAAAAAAAUQAAAAAAAABBAAAAAAAAAFEAAAAAAAAAUQAAAAAAAABRAAAAAAAAAFEAAAAAAAAAUQAAAAAAAABRAAAAAAAAAFEAAAAAAAAAUQAAAAAAAABxAAAAAAAAAFEAAAAAAAAAUQAAAAAAAABRAAAAAAAAA+H8AAAAAAAAcQAAAAAAAABRAAAAAAAAAFEAAAAAAAAAUQAAAAAAAABRAAAAAAAAAFEAAAAAAAAAUQAAAAAAAABRAAAAAAAAAHEAAAAAAAAAUQAAAAAAAABRAAAAAAAAAHEAAAAAAAAAcQAAAAAAAABRAAAAAAAAAFEAAAAAAAAAUQAAAAAAAABRAAAAAAAAAHEAAAAAAAAAUQAAAAAAAABBAAAAAAAAAFEAAAAAAAAAUQAAAAAAAABRAAAAAAAAAFEAAAAAAAAAgQAAAAAAAABRAAAAAAAAAFEAAAAAAAAAUQAAAAAAAABRAAAAAAAAAFEAAAAAAAAAUQAAAAAAAABRAAAAAAAAAFEAAAAAAAAAcQAAAAAAAABRAAAAAAAAAHEAAAAAAAAAUQAAAAAAAABRAAAAAAAAAFEAAAAAAAAAUQAAAAAAAABRAAAAAAAAAFEAAAAAAAAAcQAAAAAAAABRAAAAAAAAAFEAAAAAAAAAUQAAAAAAAABRAAAAAAAAAFEAAAAAAAAAUQAAAAAAAABRAAAAAAAAAFEAAAAAAAAAUQAAAAAAAABxAAAAAAAAAFEAAAAAAAAAUQAAAAAAAABRAAAAAAAAAFEAAAAAAAAAUQAAAAAAAABRAAAAAAAAAEEAAAAAAAAAUQAAAAAAAABRAAAAAAAAAFEAAAAAAAAAUQAAAAAAAABRAAAAAAAAAFEAAAAAAAAAUQAAAAAAAABRAAAAAAAAAFEAAAAAAAAAUQAAAAAAAABRAAAAAAAAAFEAAAAAAAAAcQAAAAAAAABRAAAAAAAAAFEAAAAAAAAAUQAAAAAAAABRAAAAAAAAAFEAAAAAAAAAUQAAAAAAAABRAAAAAAAAAFEAAAAAAAAAUQAAAAAAAABRAAAAAAAAAHEAAAAAAAAAUQAAAAAAAABRAAAAAAAAAFEAAAAAAAAAUQAAAAAAAABRAAAAAAAAAFEAAAAAAAAAUQAAAAAAAABRAAAAAAAAAFEAAAAAAAAAcQAAAAAAAABRAAAAAAAAAFEAAAAAAAAAUQAAAAAAAABRAAAAAAAAAFEAAAAAAAAAUQAAAAAAAABRAAAAAAAAAFEAAAAAAAAAUQAAAAAAAABRAAAAAAAAAHEAAAAAAAAAUQAAAAAAAABRAAAAAAAAAFEAAAAAAAAAUQAAAAAAAABRAAAAAAAAAFEAAAAAAAAAcQAAAAAAAABRAAAAAAAAAEEAAAAAAAAAUQAAAAAAAACBAAAAAAAAAAAAAAAAAAAAUQAAAAAAAABRAAAAAAAAAFEAAAAAAAAAUQAAAAAAAABRAAAAAAAAAFEAAAAAAAAAUQAAAAAAAABRAAAAAAAAAFEAAAAAAAAAUQAAAAAAAABRAAAAAAAAA+H8AAAAAAAAUQAAAAAAAABxAAAAAAAAAFEAAAAAAAAAUQAAAAAAAABRAAAAAAAAAFEAAAAAAAAAUQAAAAAAAABRAAAAAAAAAFEAAAAAAAAAUQAAAAAAAABRAAAAAAAAAFEAAAAAAAAAUQAAAAAAAABRAAAAAAAAAFEAAAAAAAAAUQAAAAAAAABRAAAAAAAAAFEAAAAAAAAAUQAAAAAAAABRAAAAAAAAAFEAAAAAAAAAUQAAAAAAAABRAAAAAAAAAFEAAAAAAAAAUQAAAAAAAABRAAAAAAAAAHEAAAAAAAAAcQAAAAAAAABRAAAAAAAAAFEAAAAAAAAAUQAAAAAAAABRAAAAAAAAAFEAAAAAAAAAUQAAAAAAAABRAAAAAAAAAFEAAAAAAAAAUQAAAAAAAABRAAAAAAAAAFEAAAAAAAAAUQAAAAAAAABRAAAAAAAAAFEAAAAAAAAAUQAAAAAAAABRAAAAAAAAAFEAAAAAAAAAUQAAAAAAAABRAAAAAAAAAFEAAAAAAAAAUQAAAAAAAABBAAAAAAAAAFEAAAAAAAAAUQAAAAAAAABRAAAAAAAAAFEAAAAAAAAAUQAAAAAAAABRAAAAAAAAAFEAAAAAAAAAUQAAAAAAAABRAAAAAAAAAFEAAAAAAAAAUQAAAAAAAABRAAAAAAAAAHEAAAAAAAAAUQAAAAAAAABRAAAAAAAAAFEAAAAAAAAAUQAAAAAAAABRAAAAAAAAAFEAAAAAAAAAUQAAAAAAAABRAAAAAAAAAFEAAAAAAAAAUQAAAAAAAABRAAAAAAAAAHEAAAAAAAAAUQAAAAAAAABRAAAAAAAAAHEAAAAAAAAAUQAAAAAAAABRAAAAAAAAAFEAAAAAAAAAUQAAAAAAAABRAAAAAAAAAFEAAAAAAAAAUQAAAAAAAABRAAAAAAAAAFEAAAAAAAAAUQAAAAAAAABRAAAAAAAAAFEAAAAAAAAAUQAAAAAAAABRAAAAAAAAAFEAAAAAAAAAUQAAAAAAAABRAAAAAAAAAFEAAAAAAAAAYQAAAAAAAABRAAAAAAAAAFEAAAAAAAAAUQAAAAAAAABRAAAAAAAAAFEAAAAAAAAAUQAAAAAAAABRAAAAAAAAAFEAAAAAAAAAUQAAAAAAAABRAAAAAAAAAFEAAAAAAAAAYQAAAAAAAABRAAAAAAAAAFEAAAAAAAAAUQAAAAAAAABRAAAAAAAAAFEAAAAAAAAAUQAAAAAAAABRAAAAAAAAAFEAAAAAAAAAUQAAAAAAAABRAAAAAAAAAHEAAAAAAAAAUQAAAAAAAABRAAAAAAAAAHEAAAAAAAAAUQAAAAAAAABRAAAAAAAAAFEAAAAAAAAAUQAAAAAAAABRAAAAAAAAAFEAAAAAAAAAUQAAAAAAAABRAAAAAAAAAFEAAAAAAAAAUQAAAAAAAABRAAAAAAAAAFEAAAAAAAAAUQAAAAAAAABRAAAAAAAAAFEAAAAAAAAAUQAAAAAAAACBAAAAAAAAA+H8AAAAAAAAUQAAAAAAAABRAAAAAAAAAHEAAAAAAAAAUQAAAAAAAABxAAAAAAAAAFEAAAAAAAAAUQAAAAAAAABRAAAAAAAAAFEAAAAAAAAAUQAAAAAAAABxAAAAAAAAAFEAAAAAAAAAUQAAAAAAAABxAAAAAAAAAFEAAAAAAAAAgQAAAAAAAABRAAAAAAAAAFEAAAAAAAAAUQAAAAAAAABRAAAAAAAAAFEAAAAAAAAAUQAAAAAAAABRAAAAAAAAAFEAAAAAAAAAUQAAAAAAAABRAAAAAAAAAFEAAAAAAAAAUQAAAAAAAABRAAAAAAAAAFEAAAAAAAAAUQAAAAAAAABRAAAAAAAAAEEAAAAAAAAAUQAAAAAAAABRAAAAAAAAAHEAAAAAAAAAUQAAAAAAAABRAAAAAAAAAFEAAAAAAAAAUQAAAAAAAABRAAAAAAAAAFEAAAAAAAAAUQAAAAAAAACBAAAAAAAAAFEAAAAAAAAAgQAAAAAAAABRAAAAAAAAAGEAAAAAAAAAUQAAAAAAAACBAAAAAAAAAIEAAAAAAAAAUQAAAAAAAABRAAAAAAAAAFEAAAAAAAAAcQAAAAAAAABRAAAAAAAAAFEAAAAAAAAAUQAAAAAAAABRAAAAAAAAAFEAAAAAAAAAUQAAAAAAAABRAAAAAAAAAFEAAAAAAAAAUQAAAAAAAABRAAAAAAAAAFEAAAAAAAAAUQAAAAAAAABRAAAAAAAAAFEAAAAAAAAAUQAAAAAAAABBAAAAAAAAAFEAAAAAAAAAUQAAAAAAAACBAAAAAAAAAHEAAAAAAAAAUQAAAAAAAAPh/AAAAAAAAFEAAAAAAAAAUQAAAAAAAABRAAAAAAAAAFEAAAAAAAAAUQAAAAAAAABRAAAAAAAAAFEAAAAAAAAAUQAAAAAAAABRAAAAAAAAAIEAAAAAAAAAUQAAAAAAAABRAAAAAAAAAFEAAAAAAAAAUQAAAAAAAABxAAAAAAAAAFEAAAAAAAAAgQAAAAAAAABRAAAAAAAAAFEAAAAAAAAAUQAAAAAAAABRAAAAAAAAAFEAAAAAAAAAUQAAAAAAAABRAAAAAAAAAFEAAAAAAAAAUQAAAAAAAABRAAAAAAAAAFEAAAAAAAAAUQAAAAAAAABRAAAAAAAAAFEAAAAAAAAAUQAAAAAAAABRAAAAAAAAAFEAAAAAAAAAUQAAAAAAAABRAAAAAAAAAFEAAAAAAAAAUQAAAAAAAABRAAAAAAAAAFEAAAAAAAAAUQAAAAAAAABRAAAAAAAAAFEAAAAAAAAAUQAAAAAAAACBAAAAAAAAAFEAAAAAAAAAcQAAAAAAAABRAAAAAAAAAIEAAAAAAAAAUQAAAAAAAABRAAAAAAAAAFEAAAAAAAAAcQAAAAAAAABRAAAAAAAAAHEAAAAAAAAAUQAAAAAAAABRAAAAAAAAAFEAAAAAAAAAUQAAAAAAAABRAAAAAAAAAFEAAAAAAAAAUQAAAAAAAABRAAAAAAAAAFEAAAAAAAAAUQAAAAAAAABRAAAAAAAAAFEAAAAAAAAAUQAAAAAAAABxAAAAAAAAAFEAAAAAAAAAUQAAAAAAAABRAAAAAAAAAFEAAAAAAAAAUQAAAAAAAABRAAAAAAAAAFEAAAAAAAAAUQAAAAAAAABxAAAAAAAAAHEAAAAAAAAAcQAAAAAAAABRAAAAAAAAAFEAAAAAAAAAUQAAAAAAAABRAAAAAAAAAFEAAAAAAAAAUQAAAAAAAABRAAAAAAAAAFEAAAAAAAAAcQAAAAAAAABRAAAAAAAAAFEAAAAAAAAAUQAAAAAAAABxAAAAAAAAAFEAAAAAAAAAUQAAAAAAAABRAAAAAAAAAFEAAAAAAAAAUQAAAAAAAABRAAAAAAAAAGEAAAAAAAAAUQAAAAAAAABRAAAAAAAAAFEAAAAAAAAAUQAAAAAAAABRAAAAAAAAAFEAAAAAAAAAUQAAAAAAAABRAAAAAAAAAFEAAAAAAAAAUQAAAAAAAABRAAAAAAAAAEEAAAAAAAAAUQAAAAAAAABRAAAAAAAAAFEAAAAAAAAAcQAAAAAAAABRAAAAAAAAAHEAAAAAAAAAUQAAAAAAAABRAAAAAAAAAIEAAAAAAAAAUQAAAAAAAABRAAAAAAAAAHEAAAAAAAAAUQAAAAAAAABRAAAAAAAAAFEAAAAAAAAAUQAAAAAAAABRAAAAAAAAAHEAAAAAAAAAQQAAAAAAAABRAAAAAAAAAFEAAAAAAAAAUQAAAAAAAABRAAAAAAAAAFEAAAAAAAAAUQAAAAAAAABxAAAAAAAAAFEAAAAAAAAAUQAAAAAAAABRAAAAAAAAAFEAAAAAAAAAUQAAAAAAAABxAAAAAAAAAFEAAAAAAAAAUQAAAAAAAABRAAAAAAAAAFEAAAAAAAAAUQAAAAAAAABRAAAAAAAAAFEAAAAAAAAAgQAAAAAAAABRAAAAAAAAAFEAAAAAAAAAUQAAAAAAAABRAAAAAAAAAFEAAAAAAAAAUQAAAAAAAABxAAAAAAAAAFEAAAAAAAAAUQAAAAAAAABRAAAAAAAAAFEAAAAAAAAAUQAAAAAAAABRAAAAAAAAAFEAAAAAAAAAcQAAAAAAAABRAAAAAAAAAFEAAAAAAAAAUQAAAAAAAABRAAAAAAAAAFEAAAAAAAAAUQAAAAAAAABRAAAAAAAAAFEAAAAAAAAAUQAAAAAAAABRAAAAAAAAAFEAAAAAAAAAUQAAAAAAAABRAAAAAAAAAFEAAAAAAAAAUQAAAAAAAABRAAAAAAAAAFEAAAAAAAAAUQAAAAAAAABRAAAAAAAAAFEAAAAAAAAAUQAAAAAAAABRAAAAAAAAAFEAAAAAAAAAUQAAAAAAAABRAAAAAAAAAFEAAAAAAAAAUQAAAAAAAABRAAAAAAAAAHEAAAAAAAAAUQAAAAAAAABRAAAAAAAAAFEAAAAAAAAAUQAAAAAAAABRAAAAAAAAAFEAAAAAAAAAUQAAAAAAAABRAAAAAAAAAFEAAAAAAAAAUQAAAAAAAABRAAAAAAAAAFEAAAAAAAAAUQAAAAAAAABRAAAAAAAAAFEAAAAAAAAAcQAAAAAAAABRAAAAAAAAAFEAAAAAAAAAUQAAAAAAAABxAAAAAAAAAFEAAAAAAAAAUQAAAAAAAABRAAAAAAAAAFEAAAAAAAAAgQAAAAAAAABBAAAAAAAAAHEAAAAAAAAAUQAAAAAAAABRAAAAAAAAAFEAAAAAAAAAUQAAAAAAAABRAAAAAAAAAGEAAAAAAAAAUQAAAAAAAABRAAAAAAAAAFEAAAAAAAAAUQAAAAAAAABRAAAAAAAAAFEAAAAAAAAAUQAAAAAAAABRAAAAAAAAAFEAAAAAAAAAUQAAAAAAAABRAAAAAAAAAFEAAAAAAAAAUQAAAAAAAABRAAAAAAAAAHEAAAAAAAAAUQAAAAAAAABRAAAAAAAAAHEAAAAAAAAAUQAAAAAAAABRAAAAAAAAAFEAAAAAAAAAUQAAAAAAAABRAAAAAAAAAFEAAAAAAAAAUQAAAAAAAABRAAAAAAAAAFEAAAAAAAAAcQAAAAAAAABRAAAAAAAAAFEAAAAAAAAAUQAAAAAAAABRAAAAAAAAAFEAAAAAAAAAUQAAAAAAAABRAAAAAAAAAFEAAAAAAAAAUQAAAAAAAABxAAAAAAAAAHEAAAAAAAAAUQAAAAAAAABxAAAAAAAAAEEAAAAAAAAAgQAAAAAAAABxAAAAAAAAAFEAAAAAAAAAUQAAAAAAAABRAAAAAAAAAFEAAAAAAAAAUQAAAAAAAABRAAAAAAAAAFEAAAAAAAAAUQAAAAAAAABRAAAAAAAAAFEAAAAAAAAAUQAAAAAAAABRAAAAAAAAAIEAAAAAAAAAcQAAAAAAAABRAAAAAAAAAIEAAAAAAAAAUQAAAAAAAABRAAAAAAAAAFEAAAAAAAAAUQAAAAAAAABxAAAAAAAAAHEAAAAAAAAAcQAAAAAAAACBAAAAAAAAAFEAAAAAAAAAcQAAAAAAAABRAAAAAAAAAHEAAAAAAAAAUQAAAAAAAABRAAAAAAAAAFEAAAAAAAAAUQAAAAAAAABRAAAAAAAAAFEAAAAAAAAAUQAAAAAAAABRAAAAAAAAAFEAAAAAAAAAUQAAAAAAAABRAAAAAAAAAFEAAAAAAAAAUQAAAAAAAABRAAAAAAAAAFEAAAAAAAAAUQAAAAAAAABRAAAAAAAAAFEAAAAAAAAAcQAAAAAAAABRAAAAAAAAAFEAAAAAAAAAUQAAAAAAAABRAAAAAAAAAFEAAAAAAAAAUQAAAAAAAABRAAAAAAAAAFEAAAAAAAAAUQAAAAAAAABxAAAAAAAAAFEAAAAAAAAAQQAAAAAAAABRAAAAAAAAAFEAAAAAAAAAUQAAAAAAAABRAAAAAAAAAFEAAAAAAAAAUQAAAAAAAABRAAAAAAAAAGEAAAAAAAAAUQAAAAAAAABRAAAAAAAAAFEAAAAAAAAAUQAAAAAAAABRAAAAAAAAAFEAAAAAAAAAUQAAAAAAAAPh/AAAAAAAAHEAAAAAAAAAUQAAAAAAAABRAAAAAAAAAFEAAAAAAAAAUQAAAAAAAABRAAAAAAAAAFEAAAAAAAAAUQAAAAAAAABRAAAAAAAAAFEAAAAAAAAAgQAAAAAAAABRAAAAAAAAAFEAAAAAAAAAUQAAAAAAAABRAAAAAAAAAFEAAAAAAAAAUQAAAAAAAABRAAAAAAAAAFEAAAAAAAAAUQAAAAAAAABRAAAAAAAAAHEAAAAAAAAAUQAAAAAAAABRAAAAAAAAAFEAAAAAAAAAUQAAAAAAAAPh/AAAAAAAAFEAAAAAAAAAUQAAAAAAAABRAAAAAAAAAFEAAAAAAAAAUQAAAAAAAABRAAAAAAAAAFEAAAAAAAAAUQAAAAAAAABRAAAAAAAAAFEAAAAAAAAAUQAAAAAAAABRAAAAAAAAAFEAAAAAAAAAUQAAAAAAAABRAAAAAAAAAFEAAAAAAAAAUQAAAAAAAABRAAAAAAAAAFEAAAAAAAAAUQAAAAAAAABRAAAAAAAAAFEAAAAAAAAAQQAAAAAAAABRAAAAAAAAAFEAAAAAAAAAUQAAAAAAAABRAAAAAAAAAFEAAAAAAAAAUQAAAAAAAABRAAAAAAAAAFEAAAAAAAAAUQAAAAAAAABRAAAAAAAAAHEAAAAAAAAAUQAAAAAAAABRAAAAAAAAAFEAAAAAAAAAUQAAAAAAAABxAAAAAAAAAFEAAAAAAAAAUQAAAAAAAABRAAAAAAAAAIEAAAAAAAAAUQAAAAAAAABRAAAAAAAAAFEAAAAAAAAAUQAAAAAAAABRAAAAAAAAAFEAAAAAAAAAcQAAAAAAAABRAAAAAAAAAFEAAAAAAAAAcQAAAAAAAABRAAAAAAAAAFEAAAAAAAAAcQAAAAAAAABRAAAAAAAAAIEAAAAAAAAAUQAAAAAAAABRAAAAAAAAAFEAAAAAAAAAcQAAAAAAAABRAAAAAAAAAFEAAAAAAAAAUQAAAAAAAABxAAAAAAAAAFEAAAAAAAAAUQAAAAAAAABRAAAAAAAAAFEAAAAAAAAAUQAAAAAAAABRAAAAAAAAAFEAAAAAAAAAUQAAAAAAAABRAAAAAAAAAHEAAAAAAAAAUQAAAAAAAABRAAAAAAAAAFEAAAAAAAAAUQAAAAAAAABRAAAAAAAAAFEAAAAAAAAAUQAAAAAAAABRAAAAAAAAAHEAAAAAAAAAUQAAAAAAAAABAAAAAAAAAFEAAAAAAAAAUQAAAAAAAABRAAAAAAAAAFEAAAAAAAAAUQAAAAAAAAPh/AAAAAAAAFEAAAAAAAAAUQAAAAAAAABRAAAAAAAAAFEAAAAAAAAAUQAAAAAAAABRAAAAAAAAAFEAAAAAAAAAUQAAAAAAAABxAAAAAAAAAFEAAAAAAAAAUQAAAAAAAABRAAAAAAAAAFEAAAAAAAAAUQAAAAAAAAPh/AAAAAAAAFEAAAAAAAAAUQAAAAAAAABRAAAAAAAAAFEAAAAAAAAAUQAAAAAAAABRAAAAAAAAAIEAAAAAAAAAUQAAAAAAAABRAAAAAAAAAAEAAAAAAAAAUQAAAAAAAABRAAAAAAAAAFEAAAAAAAAAUQAAAAAAAABxAAAAAAAAAFEAAAAAAAAAUQAAAAAAAABRAAAAAAAAAFEAAAAAAAAAUQAAAAAAAABxAAAAAAAAAFEAAAAAAAAAcQAAAAAAAABRAAAAAAAAAHEAAAAAAAAAUQAAAAAAAABxAAAAAAAAAFEAAAAAAAAAUQAAAAAAAABRAAAAAAAAAFEAAAAAAAAAUQAAAAAAAABRAAAAAAAAAFEAAAAAAAAAUQAAAAAAAABRAAAAAAAAAFEAAAAAAAAAUQAAAAAAAABRAAAAAAAAAFEAAAAAAAAAUQAAAAAAAABRAAAAAAAAAFEAAAAAAAAAUQAAAAAAAABRAAAAAAAAAFEAAAAAAAAAUQAAAAAAAABRAAAAAAAAAFEAAAAAAAAAUQAAAAAAAABRAAAAAAAAAFEAAAAAAAAAcQAAAAAAAABRAAAAAAAAAFEAAAAAAAAAUQAAAAAAAABBAAAAAAAAAFEAAAAAAAAAcQAAAAAAAABRAAAAAAAAAFEAAAAAAAAAgQAAAAAAAABRAAAAAAAAAFEAAAAAAAAAUQAAAAAAAABRAAAAAAAAAFEAAAAAAAAAUQAAAAAAAABRAAAAAAAAAFEAAAAAAAAAUQAAAAAAAABRAAAAAAAAAFEAAAAAAAAAUQAAAAAAAABRAAAAAAAAAFEAAAAAAAAAUQAAAAAAAABRAAAAAAAAAFEAAAAAAAAAcQAAAAAAAABRAAAAAAAAAFEAAAAAAAAAUQAAAAAAAABRAAAAAAAAAFEAAAAAAAAAUQAAAAAAAABRAAAAAAAAAFEAAAAAAAAAUQAAAAAAAABRAAAAAAAAAFEAAAAAAAAAUQAAAAAAAABxAAAAAAAAAIEAAAAAAAAAUQAAAAAAAABRAAAAAAAAAIEAAAAAAAAAUQAAAAAAAABhAAAAAAAAAFEAAAAAAAAAUQAAAAAAAABRAAAAAAAAAFEAAAAAAAAAUQAAAAAAAABRAAAAAAAAAHEAAAAAAAAAUQAAAAAAAABRAAAAAAAAAEEAAAAAAAAAUQAAAAAAAABRAAAAAAAAAHEAAAAAAAAAUQAAAAAAAABRAAAAAAAAAHEAAAAAAAAAUQAAAAAAAABRAAAAAAAAAFEAAAAAAAAAUQAAAAAAAABRAAAAAAAAAFEAAAAAAAAAgQAAAAAAAABRAAAAAAAAAFEAAAAAAAAAUQAAAAAAAABRAAAAAAAAAFEAAAAAAAAAUQAAAAAAAABRAAAAAAAAAFEAAAAAAAAAUQAAAAAAAABRAAAAAAAAAFEAAAAAAAAAUQAAAAAAAABRAAAAAAAAAIEAAAAAAAAAUQAAAAAAAABRAAAAAAAAAFEAAAAAAAAAUQAAAAAAAABRAAAAAAAAAFEAAAAAAAAAUQAAAAAAAABRAAAAAAAAAFEAAAAAAAAAUQAAAAAAAABRAAAAAAAAAFEAAAAAAAAAUQAAAAAAAABRAAAAAAAAAFEAAAAAAAAAUQAAAAAAAABRAAAAAAAAAFEAAAAAAAAAUQAAAAAAAABRAAAAAAAAAHEAAAAAAAAAcQAAAAAAAABxAAAAAAAAAFEAAAAAAAAAUQAAAAAAAABRAAAAAAAAAFEAAAAAAAAAUQAAAAAAAABRAAAAAAAAAFEAAAAAAAAAUQAAAAAAAABRAAAAAAAAAFEAAAAAAAAAcQAAAAAAAABRAAAAAAAAAFEAAAAAAAAAUQAAAAAAAABRAAAAAAAAAFEAAAAAAAAAUQAAAAAAAABRAAAAAAAAAFEAAAAAAAAAUQAAAAAAAABRAAAAAAAAAAEAAAAAAAAAUQAAAAAAAABRAAAAAAAAAFEAAAAAAAAAUQAAAAAAAABRAAAAAAAAAFEAAAAAAAAAUQAAAAAAAABRAAAAAAAAAFEAAAAAAAAAUQAAAAAAAABRAAAAAAAAAFEAAAAAAAAAcQAAAAAAAABRAAAAAAAAAFEAAAAAAAAAUQAAAAAAAABRAAAAAAAAAFEAAAAAAAAAUQAAAAAAAABRAAAAAAAAAFEAAAAAAAAAUQAAAAAAAABRAAAAAAAAAHEAAAAAAAAAUQAAAAAAAABRAAAAAAAAAFEAAAAAAAAAUQAAAAAAAABRAAAAAAAAAFEAAAAAAAAAUQAAAAAAAABRAAAAAAAAAFEAAAAAAAAAUQAAAAAAAABRAAAAAAAAAFEAAAAAAAAAUQAAAAAAAABxAAAAAAAAAFEAAAAAAAAAUQAAAAAAAABRAAAAAAAAAHEAAAAAAAAAUQAAAAAAAABRAAAAAAAAAHEAAAAAAAAAcQAAAAAAAABRAAAAAAAAAFEAAAAAAAAAUQAAAAAAAABRAAAAAAAAAFEAAAAAAAAAcQAAAAAAAABRAAAAAAAAAFEAAAAAAAAAUQAAAAAAAABRAAAAAAAAAFEAAAAAAAAAUQAAAAAAAAPh/AAAAAAAAFEAAAAAAAAAUQAAAAAAAABRAAAAAAAAAFEAAAAAAAAAUQAAAAAAAABRAAAAAAAAAFEAAAAAAAAAUQAAAAAAAABRAAAAAAAAAIEAAAAAAAAAUQAAAAAAAABRAAAAAAAAAEEAAAAAAAAAgQAAAAAAAABRAAAAAAAAAFEAAAAAAAAAgQAAAAAAAABRAAAAAAAAAFEAAAAAAAAAUQAAAAAAAABRAAAAAAAAAFEAAAAAAAAAUQAAAAAAAABRAAAAAAAAAFEAAAAAAAAAUQAAAAAAAABxAAAAAAAAAHEAAAAAAAAAUQAAAAAAAABRAAAAAAAAAFEAAAAAAAAAUQAAAAAAAABRAAAAAAAAAFEAAAAAAAAAUQAAAAAAAABRAAAAAAAAAFEAAAAAAAAAUQAAAAAAAABRAAAAAAAAAHEAAAAAAAAAUQAAAAAAAABRAAAAAAAAAHEAAAAAAAAAUQAAAAAAAABxAAAAAAAAAFEAAAAAAAAAUQAAAAAAAABRAAAAAAAAAFEAAAAAAAAAUQAAAAAAAABRAAAAAAAAAFEAAAAAAAAAUQAAAAAAAABRAAAAAAAAAFEAAAAAAAAAUQAAAAAAAABxAAAAAAAAAFEAAAAAAAAAUQAAAAAAAABRAAAAAAAAAFEAAAAAAAAAUQAAAAAAAAPh/AAAAAAAAFEAAAAAAAAAcQAAAAAAAABRAAAAAAAAAFEAAAAAAAAAUQAAAAAAAABRAAAAAAAAAFEAAAAAAAAAUQAAAAAAAABRAAAAAAAAAFEAAAAAAAAAUQAAAAAAAABRAAAAAAAAAFEAAAAAAAAAUQAAAAAAAABRAAAAAAAAAFEAAAAAAAAAUQAAAAAAAABRAAAAAAAAAFEAAAAAAAAAUQAAAAAAAABRAAAAAAAAAFEAAAAAAAAAcQAAAAAAAABRAAAAAAAAAIEAAAAAAAAAUQAAAAAAAABRAAAAAAAAAFEAAAAAAAAAcQAAAAAAAABxAAAAAAAAAFEAAAAAAAAAUQAAAAAAAABRAAAAAAAAAFEAAAAAAAAAQQAAAAAAAABRAAAAAAAAAFEAAAAAAAAAcQAAAAAAAABRAAAAAAAAAFEAAAAAAAAAUQAAAAAAAABRAAAAAAAAAFEAAAAAAAAAUQAAAAAAAABRAAAAAAAAAFEAAAAAAAAAUQAAAAAAAABRAAAAAAAAAFEAAAAAAAAAUQAAAAAAAABRAAAAAAAAAHEAAAAAAAAAcQAAAAAAAABRAAAAAAAAAFEAAAAAAAAAUQAAAAAAAABRAAAAAAAAAFEAAAAAAAAAUQAAAAAAAABRAAAAAAAAAFEAAAAAAAAAUQAAAAAAAABRAAAAAAAAAFEAAAAAAAAAcQAAAAAAAABRAAAAAAAAAFEAAAAAAAAAUQAAAAAAAABRAAAAAAAAAFEAAAAAAAAAUQAAAAAAAABRAAAAAAAAAEEAAAAAAAAAUQAAAAAAAABRAAAAAAAAAFEAAAAAAAAAUQAAAAAAAABRAAAAAAAAAFEAAAAAAAAAcQAAAAAAAABRAAAAAAAAAFEAAAAAAAAAUQAAAAAAAABRAAAAAAAAAFEAAAAAAAAAUQAAAAAAAABRAAAAAAAAAFEAAAAAAAAAUQAAAAAAAABxAAAAAAAAAFEAAAAAAAAAUQAAAAAAAABRAAAAAAAAAFEAAAAAAAAAUQAAAAAAAABRAAAAAAAAAFEAAAAAAAAAUQAAAAAAAABRAAAAAAAAAFEAAAAAAAAAUQAAAAAAAABRAAAAAAAAAFEAAAAAAAAAUQAAAAAAAABRAAAAAAAAAFEAAAAAAAAAcQAAAAAAAABRAAAAAAAAAFEAAAAAAAAAUQAAAAAAAABRAAAAAAAAAFEAAAAAAAAAUQAAAAAAAABRAAAAAAAAAFEAAAAAAAAAUQAAAAAAAABRAAAAAAAAAFEAAAAAAAAAUQAAAAAAAABRAAAAAAAAAFEAAAAAAAAAUQAAAAAAAABRAAAAAAAAAFEAAAAAAAAAUQAAAAAAAABxAAAAAAAAAFEAAAAAAAAAcQAAAAAAAABRAAAAAAAAAFEAAAAAAAAAcQAAAAAAAACBAAAAAAAAAFEAAAAAAAAAcQAAAAAAAABxAAAAAAAAAFEAAAAAAAAAUQAAAAAAAABRAAAAAAAAAFEAAAAAAAAAUQAAAAAAAABRAAAAAAAAAFEAAAAAAAAAUQAAAAAAAABRAAAAAAAAAFEAAAAAAAAAcQAAAAAAAABRAAAAAAAAAFEAAAAAAAAAUQAAAAAAAABRAAAAAAAAAFEAAAAAAAAAcQAAAAAAAABRAAAAAAAAAFEAAAAAAAAAUQAAAAAAAABRAAAAAAAAAFEAAAAAAAAAcQAAAAAAAABRAAAAAAAAAFEAAAAAAAAAUQAAAAAAAABRAAAAAAAAAFEAAAAAAAAAUQAAAAAAAABRAAAAAAAAAFEAAAAAAAAAcQAAAAAAAABRAAAAAAAAAFEAAAAAAAAD4fwAAAAAAABRAAAAAAAAAFEAAAAAAAAAUQAAAAAAAABRAAAAAAAAAFEAAAAAAAAAcQAAAAAAAABRAAAAAAAAAFEAAAAAAAAAUQAAAAAAAABRAAAAAAAAAFEAAAAAAAAAUQAAAAAAAABxAAAAAAAAAFEAAAAAAAAAUQAAAAAAAACBAAAAAAAAAHEAAAAAAAAAUQAAAAAAAABRAAAAAAAAAFEAAAAAAAAAcQAAAAAAAABRAAAAAAAAAFEAAAAAAAAAcQAAAAAAAABRAAAAAAAAAHEAAAAAAAAAUQAAAAAAAACBAAAAAAAAAHEAAAAAAAAAUQAAAAAAAABRAAAAAAAAAHEAAAAAAAAAQQAAAAAAAABRAAAAAAAAAFEAAAAAAAAAcQAAAAAAAABRAAAAAAAAAFEAAAAAAAAAUQAAAAAAAABRAAAAAAAAAHEAAAAAAAAAUQAAAAAAAABRAAAAAAAAAFEAAAAAAAAAUQAAAAAAAABRAAAAAAAAAFEAAAAAAAAAUQAAAAAAAABRAAAAAAAAAFEAAAAAAAAAUQAAAAAAAABRAAAAAAAAAFEAAAAAAAAAUQAAAAAAAABRAAAAAAAAAFEAAAAAAAAAcQAAAAAAAABRAAAAAAAAAFEAAAAAAAAAUQAAAAAAAABRAAAAAAAAAFEAAAAAAAAAUQAAAAAAAABRAAAAAAAAAFEAAAAAAAAAUQAAAAAAAACBAAAAAAAAAFEAAAAAAAAAUQAAAAAAAABRAAAAAAAAAFEAAAAAAAAAUQAAAAAAAABRAAAAAAAAAFEAAAAAAAAAUQAAAAAAAABRAAAAAAAAAFEAAAAAAAAAUQAAAAAAAABRAAAAAAAAAFEAAAAAAAAAUQAAAAAAAABxAAAAAAAAAFEAAAAAAAAAcQAAAAAAAAPh/AAAAAAAAFEAAAAAAAAAUQAAAAAAAABRAAAAAAAAAFEAAAAAAAAAUQAAAAAAAABRAAAAAAAAAFEAAAAAAAAAcQAAAAAAAABRAAAAAAAAAFEAAAAAAAAAcQAAAAAAAABRAAAAAAAAAFEAAAAAAAAAcQAAAAAAAABRAAAAAAAAAEEAAAAAAAAAUQAAAAAAAABRAAAAAAAAAFEAAAAAAAAAUQAAAAAAAABRAAAAAAAAAFEAAAAAAAAAUQAAAAAAAAABAAAAAAAAAFEAAAAAAAAAQQAAAAAAAABRAAAAAAAAAFEAAAAAAAAAUQAAAAAAAABRAAAAAAAAAFEAAAAAAAAAcQAAAAAAAABRAAAAAAAAAFEAAAAAAAAAUQAAAAAAAABRAAAAAAAAAFEAAAAAAAAAUQAAAAAAAABRAAAAAAAAAFEAAAAAAAAAUQAAAAAAAABRAAAAAAAAAFEAAAAAAAAAUQAAAAAAAACBAAAAAAAAAFEAAAAAAAAAUQAAAAAAAACBAAAAAAAAAFEAAAAAAAAAUQAAAAAAAABxAAAAAAAAAFEAAAAAAAAAcQAAAAAAAABRAAAAAAAAAFEAAAAAAAAAUQAAAAAAAABRAAAAAAAAAFEAAAAAAAAAUQAAAAAAAABRAAAAAAAAAFEAAAAAAAAAUQAAAAAAAABxAAAAAAAAAIEAAAAAAAAAUQAAAAAAAABRAAAAAAAAAFEAAAAAAAAAUQAAAAAAAABRAAAAAAAAAFEAAAAAAAAAUQAAAAAAAABRAAAAAAAAAFEAAAAAAAAAUQAAAAAAAABRAAAAAAAAAFEAAAAAAAAAUQAAAAAAAABRAAAAAAAAAFEAAAAAAAAAUQAAAAAAAABRAAAAAAAAAFEAAAAAAAAAUQAAAAAAAABRAAAAAAAAAFEAAAAAAAAAUQAAAAAAAABxAAAAAAAAAFEAAAAAAAAAUQAAAAAAAABRAAAAAAAAAFEAAAAAAAAAUQAAAAAAAABxAAAAAAAAAFEAAAAAAAAAUQAAAAAAAABxAAAAAAAAAFEAAAAAAAAAUQAAAAAAAABRAAAAAAAAAFEAAAAAAAAAUQAAAAAAAABRAAAAAAAAAFEAAAAAAAAAUQAAAAAAAABRAAAAAAAAAFEAAAAAAAAAQQAAAAAAAABRAAAAAAAAAFEAAAAAAAAAUQAAAAAAAABRAAAAAAAAAFEAAAAAAAAAUQAAAAAAAABRAAAAAAAAAHEAAAAAAAAAUQAAAAAAAABBAAAAAAAAAFEAAAAAAAAAUQAAAAAAAABRAAAAAAAAAHEAAAAAAAAAUQAAAAAAAABRAAAAAAAAAFEAAAAAAAAAUQAAAAAAAABxAAAAAAAAAEEAAAAAAAAAUQAAAAAAAABRAAAAAAAAAFEAAAAAAAAAUQAAAAAAAABRAAAAAAAAAFEAAAAAAAAAUQAAAAAAAABxAAAAAAAAAFEAAAAAAAAAUQAAAAAAAABRAAAAAAAAAFEAAAAAAAAAUQAAAAAAAABRAAAAAAAAAHEAAAAAAAAAUQAAAAAAAABxAAAAAAAAAFEAAAAAAAAAUQAAAAAAAABRAAAAAAAAAFEAAAAAAAAAUQAAAAAAAABRAAAAAAAAAFEAAAAAAAAAUQAAAAAAAABxAAAAAAAAAFEAAAAAAAAAUQAAAAAAAABRAAAAAAAAAFEAAAAAAAAAcQAAAAAAAABRAAAAAAAAAFEAAAAAAAAAUQAAAAAAAABRAAAAAAAAAFEAAAAAAAAAUQAAAAAAAABRAAAAAAAAAHEAAAAAAAAAcQAAAAAAAABxAAAAAAAAAFEAAAAAAAAAUQAAAAAAAABxAAAAAAAAAFEAAAAAAAAAUQAAAAAAAABRAAAAAAAAAFEAAAAAAAAAUQAAAAAAAABRAAAAAAAAAFEAAAAAAAAAUQAAAAAAAABRAAAAAAAAAFEAAAAAAAAAUQAAAAAAAABRAAAAAAAAAFEAAAAAAAAAUQAAAAAAAABRAAAAAAAAAFEAAAAAAAAAUQAAAAAAAABRAAAAAAAAAFEAAAAAAAAAUQAAAAAAAABRAAAAAAAAAFEAAAAAAAAAcQAAAAAAAABRAAAAAAAAAHEAAAAAAAAAUQAAAAAAAABBAAAAAAAAAFEAAAAAAAAAUQAAAAAAAABxAAAAAAAAAFEAAAAAAAAAUQAAAAAAAABBAAAAAAAAAFEAAAAAAAAAUQAAAAAAAABRAAAAAAAAAFEAAAAAAAAAUQAAAAAAAABRAAAAAAAAAEEAAAAAAAAAUQAAAAAAAABRAAAAAAAAAFEAAAAAAAAAUQAAAAAAAABRAAAAAAAAAFEAAAAAAAAAUQAAAAAAAABRAAAAAAAAAFEAAAAAAAAAUQAAAAAAAABRAAAAAAAAAFEAAAAAAAAAUQAAAAAAAABRAAAAAAAAAFEAAAAAAAAAUQAAAAAAAACBAAAAAAAAAFEAAAAAAAAAcQAAAAAAAABRAAAAAAAAAFEAAAAAAAAAUQAAAAAAAABxAAAAAAAAAFEAAAAAAAAAUQAAAAAAAABRAAAAAAAAAFEAAAAAAAAAUQAAAAAAAABRAAAAAAAAAFEAAAAAAAAAUQAAAAAAAABRAAAAAAAAAFEAAAAAAAAAgQAAAAAAAABRAAAAAAAAAFEAAAAAAAAAQQAAAAAAAABhAAAAAAAAAFEAAAAAAAAAQQAAAAAAAABxAAAAAAAAAHEAAAAAAAAAUQAAAAAAAABRAAAAAAAAAFEAAAAAAAAAUQAAAAAAAABRAAAAAAAAAFEAAAAAAAAAUQAAAAAAAACBAAAAAAAAAFEAAAAAAAAAUQAAAAAAAABRAAAAAAAAAFEAAAAAAAAAUQAAAAAAAABRAAAAAAAAAHEAAAAAAAAAUQAAAAAAAABRAAAAAAAAAFEAAAAAAAAAcQAAAAAAAABRAAAAAAAAAFEAAAAAAAAAUQAAAAAAAABRAAAAAAAAAFEAAAAAAAAAUQAAAAAAAABRAAAAAAAAAFEAAAAAAAAAUQAAAAAAAABRAAAAAAAAAGEAAAAAAAAAUQAAAAAAAABRAAAAAAAAAFEAAAAAAAAAUQAAAAAAAABRAAAAAAAAAFEAAAAAAAAAUQAAAAAAAABRAAAAAAAAAFEAAAAAAAAAUQAAAAAAAABRAAAAAAAAAFEAAAAAAAAAUQAAAAAAAABRAAAAAAAAAFEAAAAAAAAAUQAAAAAAAABRAAAAAAAAAFEAAAAAAAAAUQAAAAAAAABRAAAAAAAAAFEAAAAAAAAAUQAAAAAAAABRAAAAAAAAAFEAAAAAAAAAUQAAAAAAAABRAAAAAAAAAHEAAAAAAAAAUQAAAAAAAABxAAAAAAAAAFEAAAAAAAAAUQAAAAAAAABRAAAAAAAAAFEAAAAAAAAAUQAAAAAAAABRAAAAAAAAAFEAAAAAAAAAUQAAAAAAAABRAAAAAAAAAHEAAAAAAAAAUQAAAAAAAABRAAAAAAAAAFEAAAAAAAAAUQAAAAAAAABRAAAAAAAAAFEAAAAAAAAAUQAAAAAAAABRAAAAAAAAAFEAAAAAAAAAgQAAAAAAAABBAAAAAAAAAFEAAAAAAAAAUQAAAAAAAABRAAAAAAAAAFEAAAAAAAAAUQAAAAAAAABRAAAAAAAAAFEAAAAAAAAAUQAAAAAAAABRAAAAAAAAAFEAAAAAAAAAUQAAAAAAAABRAAAAAAAAAFEAAAAAAAAAUQAAAAAAAABRAAAAAAAAAFEAAAAAAAAAUQAAAAAAAABxAAAAAAAAAFEAAAAAAAAAUQAAAAAAAABRAAAAAAAAAFEAAAAAAAAAUQAAAAAAAABRAAAAAAAAAFEAAAAAAAAAgQAAAAAAAABRAAAAAAAAAFEAAAAAAAAAUQAAAAAAAABRAAAAAAAAAFEAAAAAAAAAUQAAAAAAAABRAAAAAAAAAFEAAAAAAAAAUQAAAAAAAABRAAAAAAAAAFEAAAAAAAAAcQAAAAAAAABRAAAAAAAAAFEAAAAAAAAAUQAAAAAAAABRAAAAAAAAAFEAAAAAAAAAgQAAAAAAAABRAAAAAAAAAFEAAAAAAAAAcQAAAAAAAABRAAAAAAAAAHEAAAAAAAAAUQAAAAAAAABRAAAAAAAAAFEAAAAAAAAAUQAAAAAAAABBAAAAAAAAAFEAAAAAAAAAUQAAAAAAAABRAAAAAAAAAFEAAAAAAAAAUQAAAAAAAABRAAAAAAAAAFEAAAAAAAAAUQAAAAAAAABRAAAAAAAAAFEAAAAAAAAAUQAAAAAAAABRAAAAAAAAAFEAAAAAAAAAUQAAAAAAAABRAAAAAAAAAFEAAAAAAAAAUQAAAAAAAABRAAAAAAAAAFEAAAAAAAAAUQAAAAAAAABRAAAAAAAAAFEAAAAAAAAAUQAAAAAAAABRAAAAAAAAAFEAAAAAAAAAUQAAAAAAAABRAAAAAAAAAFEAAAAAAAAAUQAAAAAAAABRAAAAAAAAAFEAAAAAAAAAUQAAAAAAAABRAAAAAAAAAHEAAAAAAAAAUQAAAAAAAABRAAAAAAAAAFEAAAAAAAAAUQAAAAAAAABRAAAAAAAAAFEAAAAAAAAAUQAAAAAAAABRAAAAAAAAAFEAAAAAAAAAUQAAAAAAAABRAAAAAAAAAFEAAAAAAAAAUQAAAAAAAABRAAAAAAAAAFEAAAAAAAAAUQAAAAAAAABxAAAAAAAAAFEAAAAAAAAAUQAAAAAAAABRAAAAAAAAAFEAAAAAAAAAcQAAAAAAAABRAAAAAAAAAFEAAAAAAAAAUQAAAAAAAABRAAAAAAAAAFEAAAAAAAAAUQAAAAAAAABRAAAAAAAAAFEAAAAAAAAAUQAAAAAAAABRAAAAAAAAAFEAAAAAAAAAUQAAAAAAAACBAAAAAAAAAFEAAAAAAAAAUQAAAAAAAABRAAAAAAAAAFEAAAAAAAAAUQAAAAAAAABRAAAAAAAAAFEAAAAAAAAAcQAAAAAAAABRAAAAAAAAAGEAAAAAAAAAUQAAAAAAAABxAAAAAAAAAFEAAAAAAAAAUQAAAAAAAABRAAAAAAAAAFEAAAAAAAAAcQAAAAAAAABRAAAAAAAAAFEAAAAAAAAAUQAAAAAAAABRAAAAAAAAAFEAAAAAAAAAUQAAAAAAAABRAAAAAAAAAFEAAAAAAAAAUQAAAAAAAABRAAAAAAAAAFEAAAAAAAAAUQAAAAAAAABxAAAAAAAAAHEAAAAAAAAAUQAAAAAAAABRAAAAAAAAAFEAAAAAAAAAcQAAAAAAAABRAAAAAAAAAFEAAAAAAAAAUQAAAAAAAABRAAAAAAAAAIEAAAAAAAAAUQAAAAAAAABRAAAAAAAAAFEAAAAAAAAAcQAAAAAAAABRAAAAAAAAAFEAAAAAAAAAUQAAAAAAAABRAAAAAAAAAEEAAAAAAAAAUQAAAAAAAABRAAAAAAAAAFEAAAAAAAAAUQAAAAAAAABRAAAAAAAAAAEAAAAAAAAAUQAAAAAAAABRAAAAAAAAAFEAAAAAAAAAUQAAAAAAAABRAAAAAAAAAHEAAAAAAAAAUQAAAAAAAABRAAAAAAAAAHEAAAAAAAAAUQAAAAAAAABRAAAAAAAAAFEAAAAAAAAAUQAAAAAAAABRAAAAAAAAAFEAAAAAAAAAUQAAAAAAAABRAAAAAAAAAFEAAAAAAAAAcQAAAAAAAABRAAAAAAAAAFEAAAAAAAAAcQAAAAAAAABRAAAAAAAAAFEAAAAAAAAAUQAAAAAAAABhAAAAAAAAAFEAAAAAAAAAUQAAAAAAAABRAAAAAAAAAFEAAAAAAAAAUQAAAAAAAABRAAAAAAAAAFEAAAAAAAAAUQAAAAAAAABRAAAAAAAAAFEAAAAAAAAAUQAAAAAAAABRAAAAAAAAAFEAAAAAAAAAUQAAAAAAAABRAAAAAAAAAFEAAAAAAAAAUQAAAAAAAABRAAAAAAAAAFEAAAAAAAAAUQAAAAAAAABRAAAAAAAAAFEAAAAAAAAAUQAAAAAAAACBAAAAAAAAAFEAAAAAAAAAUQAAAAAAAACBAAAAAAAAAFEAAAAAAAAAUQAAAAAAAABRAAAAAAAAAFEAAAAAAAAAUQAAAAAAAABxAAAAAAAAAFEAAAAAAAAAUQAAAAAAAABRAAAAAAAAAFEAAAAAAAAAUQAAAAAAAABRAAAAAAAAAFEAAAAAAAAAUQAAAAAAAABRAAAAAAAAAHEAAAAAAAAAUQAAAAAAAACBAAAAAAAAAFEAAAAAAAAAUQAAAAAAAABRAAAAAAAAAFEAAAAAAAAAUQAAAAAAAABRAAAAAAAAAHEAAAAAAAAAYQAAAAAAAABRAAAAAAAAAFEAAAAAAAAAcQAAAAAAAABRAAAAAAAAAFEAAAAAAAAAUQAAAAAAAABRAAAAAAAAAEEAAAAAAAAAUQAAAAAAAABRAAAAAAAAAHEAAAAAAAAAUQAAAAAAAABRAAAAAAAAAFEAAAAAAAAAUQAAAAAAAABxAAAAAAAAAFEAAAAAAAAAUQAAAAAAAABxAAAAAAAAAFEAAAAAAAAAUQAAAAAAAABRAAAAAAAAAFEAAAAAAAAAUQAAAAAAAABxAAAAAAAAAFEAAAAAAAAAUQAAAAAAAABRAAAAAAAAAHEAAAAAAAAAUQAAAAAAAABRAAAAAAAAAFEAAAAAAAAD4fwAAAAAAABRAAAAAAAAAFEAAAAAAAAAUQAAAAAAAABRAAAAAAAAAFEAAAAAAAAAUQAAAAAAAABRAAAAAAAAAFEAAAAAAAAAUQAAAAAAAABRAAAAAAAAAFEAAAAAAAAAUQAAAAAAAABxAAAAAAAAAFEAAAAAAAAAUQAAAAAAAABxAAAAAAAAAFEAAAAAAAAAUQAAAAAAAABxAAAAAAAAAFEAAAAAAAAAUQAAAAAAAABxAAAAAAAAAFEAAAAAAAAAUQAAAAAAAABRAAAAAAAAAAEAAAAAAAAAUQAAAAAAAABRAAAAAAAAAFEAAAAAAAAAUQAAAAAAAABxAAAAAAAAAFEAAAAAAAAAQQAAAAAAAABRAAAAAAAAAHEAAAAAAAAAUQAAAAAAAABRAAAAAAAAAHEAAAAAAAAAUQAAAAAAAABRAAAAAAAAAFEAAAAAAAAAQQAAAAAAAABRAAAAAAAAAIEAAAAAAAAAUQAAAAAAAACBAAAAAAAAAFEAAAAAAAAAUQAAAAAAAABxAAAAAAAAAGEAAAAAAAAAUQAAAAAAAABRAAAAAAAAAFEAAAAAAAAAcQAAAAAAAABRAAAAAAAAAFEAAAAAAAAAUQAAAAAAAABRAAAAAAAAAFEAAAAAAAAAUQAAAAAAAABxAAAAAAAAAFEAAAAAAAAAcQAAAAAAAABRAAAAAAAAAFEAAAAAAAAAUQAAAAAAAABRAAAAAAAAAHEAAAAAAAAAUQAAAAAAAABRAAAAAAAAAFEAAAAAAAAAUQAAAAAAAABRAAAAAAAAAHEAAAAAAAAAUQAAAAAAAACBAAAAAAAAAFEAAAAAAAAAUQAAAAAAAABRAAAAAAAAAFEAAAAAAAAAUQAAAAAAAABRAAAAAAAAAFEAAAAAAAAAUQAAAAAAAABxAAAAAAAAAFEAAAAAAAAAUQAAAAAAAABRAAAAAAAAAHEAAAAAAAAAUQAAAAAAAABRAAAAAAAAAFEAAAAAAAAAUQAAAAAAAABRAAAAAAAAAFEAAAAAAAAAUQAAAAAAAABxAAAAAAAAAFEAAAAAAAAAUQAAAAAAAABRAAAAAAAAAFEAAAAAAAAAUQAAAAAAAABRAAAAAAAAAFEAAAAAAAAAUQAAAAAAAABRAAAAAAAAAFEAAAAAAAAAUQAAAAAAAABRAAAAAAAAAFEAAAAAAAAAUQAAAAAAAABRAAAAAAAAAFEAAAAAAAAAUQAAAAAAAABBAAAAAAAAAFEAAAAAAAAAUQAAAAAAAABRAAAAAAAAAHEAAAAAAAAAUQAAAAAAAABRAAAAAAAAAFEAAAAAAAAAgQAAAAAAAABRAAAAAAAAAFEA=",
          "dtype": "f8"
         },
         "x0": " ",
         "xaxis": "x",
         "y0": " ",
         "yaxis": "y"
        }
       ],
       "layout": {
        "boxmode": "group",
        "legend": {
         "tracegroupgap": 0
        },
        "template": {
         "data": {
          "bar": [
           {
            "error_x": {
             "color": "#2a3f5f"
            },
            "error_y": {
             "color": "#2a3f5f"
            },
            "marker": {
             "line": {
              "color": "#E5ECF6",
              "width": 0.5
             },
             "pattern": {
              "fillmode": "overlay",
              "size": 10,
              "solidity": 0.2
             }
            },
            "type": "bar"
           }
          ],
          "barpolar": [
           {
            "marker": {
             "line": {
              "color": "#E5ECF6",
              "width": 0.5
             },
             "pattern": {
              "fillmode": "overlay",
              "size": 10,
              "solidity": 0.2
             }
            },
            "type": "barpolar"
           }
          ],
          "carpet": [
           {
            "aaxis": {
             "endlinecolor": "#2a3f5f",
             "gridcolor": "white",
             "linecolor": "white",
             "minorgridcolor": "white",
             "startlinecolor": "#2a3f5f"
            },
            "baxis": {
             "endlinecolor": "#2a3f5f",
             "gridcolor": "white",
             "linecolor": "white",
             "minorgridcolor": "white",
             "startlinecolor": "#2a3f5f"
            },
            "type": "carpet"
           }
          ],
          "choropleth": [
           {
            "colorbar": {
             "outlinewidth": 0,
             "ticks": ""
            },
            "type": "choropleth"
           }
          ],
          "contour": [
           {
            "colorbar": {
             "outlinewidth": 0,
             "ticks": ""
            },
            "colorscale": [
             [
              0,
              "#0d0887"
             ],
             [
              0.1111111111111111,
              "#46039f"
             ],
             [
              0.2222222222222222,
              "#7201a8"
             ],
             [
              0.3333333333333333,
              "#9c179e"
             ],
             [
              0.4444444444444444,
              "#bd3786"
             ],
             [
              0.5555555555555556,
              "#d8576b"
             ],
             [
              0.6666666666666666,
              "#ed7953"
             ],
             [
              0.7777777777777778,
              "#fb9f3a"
             ],
             [
              0.8888888888888888,
              "#fdca26"
             ],
             [
              1,
              "#f0f921"
             ]
            ],
            "type": "contour"
           }
          ],
          "contourcarpet": [
           {
            "colorbar": {
             "outlinewidth": 0,
             "ticks": ""
            },
            "type": "contourcarpet"
           }
          ],
          "heatmap": [
           {
            "colorbar": {
             "outlinewidth": 0,
             "ticks": ""
            },
            "colorscale": [
             [
              0,
              "#0d0887"
             ],
             [
              0.1111111111111111,
              "#46039f"
             ],
             [
              0.2222222222222222,
              "#7201a8"
             ],
             [
              0.3333333333333333,
              "#9c179e"
             ],
             [
              0.4444444444444444,
              "#bd3786"
             ],
             [
              0.5555555555555556,
              "#d8576b"
             ],
             [
              0.6666666666666666,
              "#ed7953"
             ],
             [
              0.7777777777777778,
              "#fb9f3a"
             ],
             [
              0.8888888888888888,
              "#fdca26"
             ],
             [
              1,
              "#f0f921"
             ]
            ],
            "type": "heatmap"
           }
          ],
          "histogram": [
           {
            "marker": {
             "pattern": {
              "fillmode": "overlay",
              "size": 10,
              "solidity": 0.2
             }
            },
            "type": "histogram"
           }
          ],
          "histogram2d": [
           {
            "colorbar": {
             "outlinewidth": 0,
             "ticks": ""
            },
            "colorscale": [
             [
              0,
              "#0d0887"
             ],
             [
              0.1111111111111111,
              "#46039f"
             ],
             [
              0.2222222222222222,
              "#7201a8"
             ],
             [
              0.3333333333333333,
              "#9c179e"
             ],
             [
              0.4444444444444444,
              "#bd3786"
             ],
             [
              0.5555555555555556,
              "#d8576b"
             ],
             [
              0.6666666666666666,
              "#ed7953"
             ],
             [
              0.7777777777777778,
              "#fb9f3a"
             ],
             [
              0.8888888888888888,
              "#fdca26"
             ],
             [
              1,
              "#f0f921"
             ]
            ],
            "type": "histogram2d"
           }
          ],
          "histogram2dcontour": [
           {
            "colorbar": {
             "outlinewidth": 0,
             "ticks": ""
            },
            "colorscale": [
             [
              0,
              "#0d0887"
             ],
             [
              0.1111111111111111,
              "#46039f"
             ],
             [
              0.2222222222222222,
              "#7201a8"
             ],
             [
              0.3333333333333333,
              "#9c179e"
             ],
             [
              0.4444444444444444,
              "#bd3786"
             ],
             [
              0.5555555555555556,
              "#d8576b"
             ],
             [
              0.6666666666666666,
              "#ed7953"
             ],
             [
              0.7777777777777778,
              "#fb9f3a"
             ],
             [
              0.8888888888888888,
              "#fdca26"
             ],
             [
              1,
              "#f0f921"
             ]
            ],
            "type": "histogram2dcontour"
           }
          ],
          "mesh3d": [
           {
            "colorbar": {
             "outlinewidth": 0,
             "ticks": ""
            },
            "type": "mesh3d"
           }
          ],
          "parcoords": [
           {
            "line": {
             "colorbar": {
              "outlinewidth": 0,
              "ticks": ""
             }
            },
            "type": "parcoords"
           }
          ],
          "pie": [
           {
            "automargin": true,
            "type": "pie"
           }
          ],
          "scatter": [
           {
            "fillpattern": {
             "fillmode": "overlay",
             "size": 10,
             "solidity": 0.2
            },
            "type": "scatter"
           }
          ],
          "scatter3d": [
           {
            "line": {
             "colorbar": {
              "outlinewidth": 0,
              "ticks": ""
             }
            },
            "marker": {
             "colorbar": {
              "outlinewidth": 0,
              "ticks": ""
             }
            },
            "type": "scatter3d"
           }
          ],
          "scattercarpet": [
           {
            "marker": {
             "colorbar": {
              "outlinewidth": 0,
              "ticks": ""
             }
            },
            "type": "scattercarpet"
           }
          ],
          "scattergeo": [
           {
            "marker": {
             "colorbar": {
              "outlinewidth": 0,
              "ticks": ""
             }
            },
            "type": "scattergeo"
           }
          ],
          "scattergl": [
           {
            "marker": {
             "colorbar": {
              "outlinewidth": 0,
              "ticks": ""
             }
            },
            "type": "scattergl"
           }
          ],
          "scattermap": [
           {
            "marker": {
             "colorbar": {
              "outlinewidth": 0,
              "ticks": ""
             }
            },
            "type": "scattermap"
           }
          ],
          "scattermapbox": [
           {
            "marker": {
             "colorbar": {
              "outlinewidth": 0,
              "ticks": ""
             }
            },
            "type": "scattermapbox"
           }
          ],
          "scatterpolar": [
           {
            "marker": {
             "colorbar": {
              "outlinewidth": 0,
              "ticks": ""
             }
            },
            "type": "scatterpolar"
           }
          ],
          "scatterpolargl": [
           {
            "marker": {
             "colorbar": {
              "outlinewidth": 0,
              "ticks": ""
             }
            },
            "type": "scatterpolargl"
           }
          ],
          "scatterternary": [
           {
            "marker": {
             "colorbar": {
              "outlinewidth": 0,
              "ticks": ""
             }
            },
            "type": "scatterternary"
           }
          ],
          "surface": [
           {
            "colorbar": {
             "outlinewidth": 0,
             "ticks": ""
            },
            "colorscale": [
             [
              0,
              "#0d0887"
             ],
             [
              0.1111111111111111,
              "#46039f"
             ],
             [
              0.2222222222222222,
              "#7201a8"
             ],
             [
              0.3333333333333333,
              "#9c179e"
             ],
             [
              0.4444444444444444,
              "#bd3786"
             ],
             [
              0.5555555555555556,
              "#d8576b"
             ],
             [
              0.6666666666666666,
              "#ed7953"
             ],
             [
              0.7777777777777778,
              "#fb9f3a"
             ],
             [
              0.8888888888888888,
              "#fdca26"
             ],
             [
              1,
              "#f0f921"
             ]
            ],
            "type": "surface"
           }
          ],
          "table": [
           {
            "cells": {
             "fill": {
              "color": "#EBF0F8"
             },
             "line": {
              "color": "white"
             }
            },
            "header": {
             "fill": {
              "color": "#C8D4E3"
             },
             "line": {
              "color": "white"
             }
            },
            "type": "table"
           }
          ]
         },
         "layout": {
          "annotationdefaults": {
           "arrowcolor": "#2a3f5f",
           "arrowhead": 0,
           "arrowwidth": 1
          },
          "autotypenumbers": "strict",
          "coloraxis": {
           "colorbar": {
            "outlinewidth": 0,
            "ticks": ""
           }
          },
          "colorscale": {
           "diverging": [
            [
             0,
             "#8e0152"
            ],
            [
             0.1,
             "#c51b7d"
            ],
            [
             0.2,
             "#de77ae"
            ],
            [
             0.3,
             "#f1b6da"
            ],
            [
             0.4,
             "#fde0ef"
            ],
            [
             0.5,
             "#f7f7f7"
            ],
            [
             0.6,
             "#e6f5d0"
            ],
            [
             0.7,
             "#b8e186"
            ],
            [
             0.8,
             "#7fbc41"
            ],
            [
             0.9,
             "#4d9221"
            ],
            [
             1,
             "#276419"
            ]
           ],
           "sequential": [
            [
             0,
             "#0d0887"
            ],
            [
             0.1111111111111111,
             "#46039f"
            ],
            [
             0.2222222222222222,
             "#7201a8"
            ],
            [
             0.3333333333333333,
             "#9c179e"
            ],
            [
             0.4444444444444444,
             "#bd3786"
            ],
            [
             0.5555555555555556,
             "#d8576b"
            ],
            [
             0.6666666666666666,
             "#ed7953"
            ],
            [
             0.7777777777777778,
             "#fb9f3a"
            ],
            [
             0.8888888888888888,
             "#fdca26"
            ],
            [
             1,
             "#f0f921"
            ]
           ],
           "sequentialminus": [
            [
             0,
             "#0d0887"
            ],
            [
             0.1111111111111111,
             "#46039f"
            ],
            [
             0.2222222222222222,
             "#7201a8"
            ],
            [
             0.3333333333333333,
             "#9c179e"
            ],
            [
             0.4444444444444444,
             "#bd3786"
            ],
            [
             0.5555555555555556,
             "#d8576b"
            ],
            [
             0.6666666666666666,
             "#ed7953"
            ],
            [
             0.7777777777777778,
             "#fb9f3a"
            ],
            [
             0.8888888888888888,
             "#fdca26"
            ],
            [
             1,
             "#f0f921"
            ]
           ]
          },
          "colorway": [
           "#636efa",
           "#EF553B",
           "#00cc96",
           "#ab63fa",
           "#FFA15A",
           "#19d3f3",
           "#FF6692",
           "#B6E880",
           "#FF97FF",
           "#FECB52"
          ],
          "font": {
           "color": "#2a3f5f"
          },
          "geo": {
           "bgcolor": "white",
           "lakecolor": "white",
           "landcolor": "#E5ECF6",
           "showlakes": true,
           "showland": true,
           "subunitcolor": "white"
          },
          "hoverlabel": {
           "align": "left"
          },
          "hovermode": "closest",
          "mapbox": {
           "style": "light"
          },
          "paper_bgcolor": "white",
          "plot_bgcolor": "#E5ECF6",
          "polar": {
           "angularaxis": {
            "gridcolor": "white",
            "linecolor": "white",
            "ticks": ""
           },
           "bgcolor": "#E5ECF6",
           "radialaxis": {
            "gridcolor": "white",
            "linecolor": "white",
            "ticks": ""
           }
          },
          "scene": {
           "xaxis": {
            "backgroundcolor": "#E5ECF6",
            "gridcolor": "white",
            "gridwidth": 2,
            "linecolor": "white",
            "showbackground": true,
            "ticks": "",
            "zerolinecolor": "white"
           },
           "yaxis": {
            "backgroundcolor": "#E5ECF6",
            "gridcolor": "white",
            "gridwidth": 2,
            "linecolor": "white",
            "showbackground": true,
            "ticks": "",
            "zerolinecolor": "white"
           },
           "zaxis": {
            "backgroundcolor": "#E5ECF6",
            "gridcolor": "white",
            "gridwidth": 2,
            "linecolor": "white",
            "showbackground": true,
            "ticks": "",
            "zerolinecolor": "white"
           }
          },
          "shapedefaults": {
           "line": {
            "color": "#2a3f5f"
           }
          },
          "ternary": {
           "aaxis": {
            "gridcolor": "white",
            "linecolor": "white",
            "ticks": ""
           },
           "baxis": {
            "gridcolor": "white",
            "linecolor": "white",
            "ticks": ""
           },
           "bgcolor": "#E5ECF6",
           "caxis": {
            "gridcolor": "white",
            "linecolor": "white",
            "ticks": ""
           }
          },
          "title": {
           "x": 0.05
          },
          "xaxis": {
           "automargin": true,
           "gridcolor": "white",
           "linecolor": "white",
           "ticks": "",
           "title": {
            "standoff": 15
           },
           "zerolinecolor": "white",
           "zerolinewidth": 2
          },
          "yaxis": {
           "automargin": true,
           "gridcolor": "white",
           "linecolor": "white",
           "ticks": "",
           "title": {
            "standoff": 15
           },
           "zerolinecolor": "white",
           "zerolinewidth": 2
          }
         }
        },
        "title": {
         "text": "Boxplot of Seats"
        },
        "xaxis": {
         "anchor": "y",
         "domain": [
          0,
          1
         ],
         "title": {
          "text": "Seats"
         }
        },
        "yaxis": {
         "anchor": "x",
         "domain": [
          0,
          1
         ]
        }
       }
      }
     },
     "metadata": {},
     "output_type": "display_data"
    },
    {
     "data": {
      "image/png": "[encoded data removed]",
      "text/plain": [
       "<Figure size 1000x400 with 1 Axes>"
      ]
     },
     "metadata": {},
     "output_type": "display_data"
    },
    {
     "data": {
      "application/vnd.plotly.v1+json": {
       "config": {
        "plotlyServerURL": "https://plot.ly"
       },
       "data": [
        {
         "alignmentgroup": "True",
         "hovertemplate": "Price=%{x}<extra></extra>",
         "legendgroup": "",
         "marker": {
          "color": "#636efa"
         },
         "name": "",
         "notched": false,
         "offsetgroup": "",
         "orientation": "h",
         "showlegend": false,
         "type": "box",
         "x": {
          "bdata": "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",
          "dtype": "f8"
         },
         "x0": " ",
         "xaxis": "x",
         "y0": " ",
         "yaxis": "y"
        }
       ],
       "layout": {
        "boxmode": "group",
        "legend": {
         "tracegroupgap": 0
        },
        "template": {
         "data": {
          "bar": [
           {
            "error_x": {
             "color": "#2a3f5f"
            },
            "error_y": {
             "color": "#2a3f5f"
            },
            "marker": {
             "line": {
              "color": "#E5ECF6",
              "width": 0.5
             },
             "pattern": {
              "fillmode": "overlay",
              "size": 10,
              "solidity": 0.2
             }
            },
            "type": "bar"
           }
          ],
          "barpolar": [
           {
            "marker": {
             "line": {
              "color": "#E5ECF6",
              "width": 0.5
             },
             "pattern": {
              "fillmode": "overlay",
              "size": 10,
              "solidity": 0.2
             }
            },
            "type": "barpolar"
           }
          ],
          "carpet": [
           {
            "aaxis": {
             "endlinecolor": "#2a3f5f",
             "gridcolor": "white",
             "linecolor": "white",
             "minorgridcolor": "white",
             "startlinecolor": "#2a3f5f"
            },
            "baxis": {
             "endlinecolor": "#2a3f5f",
             "gridcolor": "white",
             "linecolor": "white",
             "minorgridcolor": "white",
             "startlinecolor": "#2a3f5f"
            },
            "type": "carpet"
           }
          ],
          "choropleth": [
           {
            "colorbar": {
             "outlinewidth": 0,
             "ticks": ""
            },
            "type": "choropleth"
           }
          ],
          "contour": [
           {
            "colorbar": {
             "outlinewidth": 0,
             "ticks": ""
            },
            "colorscale": [
             [
              0,
              "#0d0887"
             ],
             [
              0.1111111111111111,
              "#46039f"
             ],
             [
              0.2222222222222222,
              "#7201a8"
             ],
             [
              0.3333333333333333,
              "#9c179e"
             ],
             [
              0.4444444444444444,
              "#bd3786"
             ],
             [
              0.5555555555555556,
              "#d8576b"
             ],
             [
              0.6666666666666666,
              "#ed7953"
             ],
             [
              0.7777777777777778,
              "#fb9f3a"
             ],
             [
              0.8888888888888888,
              "#fdca26"
             ],
             [
              1,
              "#f0f921"
             ]
            ],
            "type": "contour"
           }
          ],
          "contourcarpet": [
           {
            "colorbar": {
             "outlinewidth": 0,
             "ticks": ""
            },
            "type": "contourcarpet"
           }
          ],
          "heatmap": [
           {
            "colorbar": {
             "outlinewidth": 0,
             "ticks": ""
            },
            "colorscale": [
             [
              0,
              "#0d0887"
             ],
             [
              0.1111111111111111,
              "#46039f"
             ],
             [
              0.2222222222222222,
              "#7201a8"
             ],
             [
              0.3333333333333333,
              "#9c179e"
             ],
             [
              0.4444444444444444,
              "#bd3786"
             ],
             [
              0.5555555555555556,
              "#d8576b"
             ],
             [
              0.6666666666666666,
              "#ed7953"
             ],
             [
              0.7777777777777778,
              "#fb9f3a"
             ],
             [
              0.8888888888888888,
              "#fdca26"
             ],
             [
              1,
              "#f0f921"
             ]
            ],
            "type": "heatmap"
           }
          ],
          "histogram": [
           {
            "marker": {
             "pattern": {
              "fillmode": "overlay",
              "size": 10,
              "solidity": 0.2
             }
            },
            "type": "histogram"
           }
          ],
          "histogram2d": [
           {
            "colorbar": {
             "outlinewidth": 0,
             "ticks": ""
            },
            "colorscale": [
             [
              0,
              "#0d0887"
             ],
             [
              0.1111111111111111,
              "#46039f"
             ],
             [
              0.2222222222222222,
              "#7201a8"
             ],
             [
              0.3333333333333333,
              "#9c179e"
             ],
             [
              0.4444444444444444,
              "#bd3786"
             ],
             [
              0.5555555555555556,
              "#d8576b"
             ],
             [
              0.6666666666666666,
              "#ed7953"
             ],
             [
              0.7777777777777778,
              "#fb9f3a"
             ],
             [
              0.8888888888888888,
              "#fdca26"
             ],
             [
              1,
              "#f0f921"
             ]
            ],
            "type": "histogram2d"
           }
          ],
          "histogram2dcontour": [
           {
            "colorbar": {
             "outlinewidth": 0,
             "ticks": ""
            },
            "colorscale": [
             [
              0,
              "#0d0887"
             ],
             [
              0.1111111111111111,
              "#46039f"
             ],
             [
              0.2222222222222222,
              "#7201a8"
             ],
             [
              0.3333333333333333,
              "#9c179e"
             ],
             [
              0.4444444444444444,
              "#bd3786"
             ],
             [
              0.5555555555555556,
              "#d8576b"
             ],
             [
              0.6666666666666666,
              "#ed7953"
             ],
             [
              0.7777777777777778,
              "#fb9f3a"
             ],
             [
              0.8888888888888888,
              "#fdca26"
             ],
             [
              1,
              "#f0f921"
             ]
            ],
            "type": "histogram2dcontour"
           }
          ],
          "mesh3d": [
           {
            "colorbar": {
             "outlinewidth": 0,
             "ticks": ""
            },
            "type": "mesh3d"
           }
          ],
          "parcoords": [
           {
            "line": {
             "colorbar": {
              "outlinewidth": 0,
              "ticks": ""
             }
            },
            "type": "parcoords"
           }
          ],
          "pie": [
           {
            "automargin": true,
            "type": "pie"
           }
          ],
          "scatter": [
           {
            "fillpattern": {
             "fillmode": "overlay",
             "size": 10,
             "solidity": 0.2
            },
            "type": "scatter"
           }
          ],
          "scatter3d": [
           {
            "line": {
             "colorbar": {
              "outlinewidth": 0,
              "ticks": ""
             }
            },
            "marker": {
             "colorbar": {
              "outlinewidth": 0,
              "ticks": ""
             }
            },
            "type": "scatter3d"
           }
          ],
          "scattercarpet": [
           {
            "marker": {
             "colorbar": {
              "outlinewidth": 0,
              "ticks": ""
             }
            },
            "type": "scattercarpet"
           }
          ],
          "scattergeo": [
           {
            "marker": {
             "colorbar": {
              "outlinewidth": 0,
              "ticks": ""
             }
            },
            "type": "scattergeo"
           }
          ],
          "scattergl": [
           {
            "marker": {
             "colorbar": {
              "outlinewidth": 0,
              "ticks": ""
             }
            },
            "type": "scattergl"
           }
          ],
          "scattermap": [
           {
            "marker": {
             "colorbar": {
              "outlinewidth": 0,
              "ticks": ""
             }
            },
            "type": "scattermap"
           }
          ],
          "scattermapbox": [
           {
            "marker": {
             "colorbar": {
              "outlinewidth": 0,
              "ticks": ""
             }
            },
            "type": "scattermapbox"
           }
          ],
          "scatterpolar": [
           {
            "marker": {
             "colorbar": {
              "outlinewidth": 0,
              "ticks": ""
             }
            },
            "type": "scatterpolar"
           }
          ],
          "scatterpolargl": [
           {
            "marker": {
             "colorbar": {
              "outlinewidth": 0,
              "ticks": ""
             }
            },
            "type": "scatterpolargl"
           }
          ],
          "scatterternary": [
           {
            "marker": {
             "colorbar": {
              "outlinewidth": 0,
              "ticks": ""
             }
            },
            "type": "scatterternary"
           }
          ],
          "surface": [
           {
            "colorbar": {
             "outlinewidth": 0,
             "ticks": ""
            },
            "colorscale": [
             [
              0,
              "#0d0887"
             ],
             [
              0.1111111111111111,
              "#46039f"
             ],
             [
              0.2222222222222222,
              "#7201a8"
             ],
             [
              0.3333333333333333,
              "#9c179e"
             ],
             [
              0.4444444444444444,
              "#bd3786"
             ],
             [
              0.5555555555555556,
              "#d8576b"
             ],
             [
              0.6666666666666666,
              "#ed7953"
             ],
             [
              0.7777777777777778,
              "#fb9f3a"
             ],
             [
              0.8888888888888888,
              "#fdca26"
             ],
             [
              1,
              "#f0f921"
             ]
            ],
            "type": "surface"
           }
          ],
          "table": [
           {
            "cells": {
             "fill": {
              "color": "#EBF0F8"
             },
             "line": {
              "color": "white"
             }
            },
            "header": {
             "fill": {
              "color": "#C8D4E3"
             },
             "line": {
              "color": "white"
             }
            },
            "type": "table"
           }
          ]
         },
         "layout": {
          "annotationdefaults": {
           "arrowcolor": "#2a3f5f",
           "arrowhead": 0,
           "arrowwidth": 1
          },
          "autotypenumbers": "strict",
          "coloraxis": {
           "colorbar": {
            "outlinewidth": 0,
            "ticks": ""
           }
          },
          "colorscale": {
           "diverging": [
            [
             0,
             "#8e0152"
            ],
            [
             0.1,
             "#c51b7d"
            ],
            [
             0.2,
             "#de77ae"
            ],
            [
             0.3,
             "#f1b6da"
            ],
            [
             0.4,
             "#fde0ef"
            ],
            [
             0.5,
             "#f7f7f7"
            ],
            [
             0.6,
             "#e6f5d0"
            ],
            [
             0.7,
             "#b8e186"
            ],
            [
             0.8,
             "#7fbc41"
            ],
            [
             0.9,
             "#4d9221"
            ],
            [
             1,
             "#276419"
            ]
           ],
           "sequential": [
            [
             0,
             "#0d0887"
            ],
            [
             0.1111111111111111,
             "#46039f"
            ],
            [
             0.2222222222222222,
             "#7201a8"
            ],
            [
             0.3333333333333333,
             "#9c179e"
            ],
            [
             0.4444444444444444,
             "#bd3786"
            ],
            [
             0.5555555555555556,
             "#d8576b"
            ],
            [
             0.6666666666666666,
             "#ed7953"
            ],
            [
             0.7777777777777778,
             "#fb9f3a"
            ],
            [
             0.8888888888888888,
             "#fdca26"
            ],
            [
             1,
             "#f0f921"
            ]
           ],
           "sequentialminus": [
            [
             0,
             "#0d0887"
            ],
            [
             0.1111111111111111,
             "#46039f"
            ],
            [
             0.2222222222222222,
             "#7201a8"
            ],
            [
             0.3333333333333333,
             "#9c179e"
            ],
            [
             0.4444444444444444,
             "#bd3786"
            ],
            [
             0.5555555555555556,
             "#d8576b"
            ],
            [
             0.6666666666666666,
             "#ed7953"
            ],
            [
             0.7777777777777778,
             "#fb9f3a"
            ],
            [
             0.8888888888888888,
             "#fdca26"
            ],
            [
             1,
             "#f0f921"
            ]
           ]
          },
          "colorway": [
           "#636efa",
           "#EF553B",
           "#00cc96",
           "#ab63fa",
           "#FFA15A",
           "#19d3f3",
           "#FF6692",
           "#B6E880",
           "#FF97FF",
           "#FECB52"
          ],
          "font": {
           "color": "#2a3f5f"
          },
          "geo": {
           "bgcolor": "white",
           "lakecolor": "white",
           "landcolor": "#E5ECF6",
           "showlakes": true,
           "showland": true,
           "subunitcolor": "white"
          },
          "hoverlabel": {
           "align": "left"
          },
          "hovermode": "closest",
          "mapbox": {
           "style": "light"
          },
          "paper_bgcolor": "white",
          "plot_bgcolor": "#E5ECF6",
          "polar": {
           "angularaxis": {
            "gridcolor": "white",
            "linecolor": "white",
            "ticks": ""
           },
           "bgcolor": "#E5ECF6",
           "radialaxis": {
            "gridcolor": "white",
            "linecolor": "white",
            "ticks": ""
           }
          },
          "scene": {
           "xaxis": {
            "backgroundcolor": "#E5ECF6",
            "gridcolor": "white",
            "gridwidth": 2,
            "linecolor": "white",
            "showbackground": true,
            "ticks": "",
            "zerolinecolor": "white"
           },
           "yaxis": {
            "backgroundcolor": "#E5ECF6",
            "gridcolor": "white",
            "gridwidth": 2,
            "linecolor": "white",
            "showbackground": true,
            "ticks": "",
            "zerolinecolor": "white"
           },
           "zaxis": {
            "backgroundcolor": "#E5ECF6",
            "gridcolor": "white",
            "gridwidth": 2,
            "linecolor": "white",
            "showbackground": true,
            "ticks": "",
            "zerolinecolor": "white"
           }
          },
          "shapedefaults": {
           "line": {
            "color": "#2a3f5f"
           }
          },
          "ternary": {
           "aaxis": {
            "gridcolor": "white",
            "linecolor": "white",
            "ticks": ""
           },
           "baxis": {
            "gridcolor": "white",
            "linecolor": "white",
            "ticks": ""
           },
           "bgcolor": "#E5ECF6",
           "caxis": {
            "gridcolor": "white",
            "linecolor": "white",
            "ticks": ""
           }
          },
          "title": {
           "x": 0.05
          },
          "xaxis": {
           "automargin": true,
           "gridcolor": "white",
           "linecolor": "white",
           "ticks": "",
           "title": {
            "standoff": 15
           },
           "zerolinecolor": "white",
           "zerolinewidth": 2
          },
          "yaxis": {
           "automargin": true,
           "gridcolor": "white",
           "linecolor": "white",
           "ticks": "",
           "title": {
            "standoff": 15
           },
           "zerolinecolor": "white",
           "zerolinewidth": 2
          }
         }
        },
        "title": {
         "text": "Boxplot of Price"
        },
        "xaxis": {
         "anchor": "y",
         "domain": [
          0,
          1
         ],
         "title": {
          "text": "Price"
         }
        },
        "yaxis": {
         "anchor": "x",
         "domain": [
          0,
          1
         ]
        }
       }
      }
     },
     "metadata": {},
     "output_type": "display_data"
    }
   ],
   "source": [
    "# find Outliers using boxplot\n",
    "for col in numerical_cols:\n",
    "    plt.figure(figsize=(10, 4))\n",
    "    sns.boxplot(x=df[col])\n",
    "    plt.title(f'Boxplot of {col}')\n",
    "    plt.xlabel(col)\n",
    "    plt.show()\n",
    "    fig=px.box(df, x=col, title=f'Boxplot of {col}')\n",
    "    fig.show()"
   ]
  },
  {
   "cell_type": "markdown",
   "id": "905efd9e",
   "metadata": {},
   "source": [
    "In this exploratory data analysis (EDA) process, we performed a comprehensive examination of the used cars dataset to understand its structure, quality, and key characteristics:\n",
    "\n",
    "1. **Data Loading & Initial Inspection:**  \n",
    "    - Loaded the dataset and displayed the first few rows to get an overview of the data.\n",
    "    - Checked the data types, column names, and the number of entries using `df.info()`.\n",
    "\n",
    "2. **Descriptive Statistics:**  \n",
    "    - Generated summary statistics for numerical columns (`df.describe()`) and categorical columns (`df.describe(include='O')`).\n",
    "    - Adjusted the display format for better readability.\n",
    "\n",
    "3. **Data Profiling:**  \n",
    "    - Created an automated profiling report using `ydata_profiling` to summarize distributions, correlations, and potential data quality issues.\n",
    "\n",
    "4. **Missing Values & Duplicates:**  \n",
    "    - Identified and quantified missing values both as counts and percentages.\n",
    "    - Visualized missing data patterns using `missingno` matrix and heatmap.\n",
    "    - Checked for duplicate rows.\n",
    "\n",
    "5. **Data Cleaning:**  \n",
    "    - Dropped unnecessary columns (e.g., 'Unnamed: 0').\n",
    "    - Removed columns with excessive missing values (e.g., 'New_Price').\n",
    "\n",
    "6. **Feature Categorization:**  \n",
    "    - Identified numerical and categorical columns for further analysis.\n",
    "\n",
    "7. **Univariate Analysis:**  \n",
    "    - Visualized distributions of numerical features using histograms and KDE plots (with both seaborn and plotly for interactivity).\n",
    "    - Examined outliers using boxplots.\n",
    "\n",
    "8. **Dataset Overview:**  \n",
    "    - The cleaned dataset contains 6019 rows and 12 columns, with features such as car name, location, year, kilometers driven, fuel type, transmission, owner type, mileage, engine, power, seats, and price.\n",
    "\n",
    "This EDA phase provided valuable insights into the dataset's structure, highlighted data quality issues, and set the foundation for further analysis and modeling.\n"
   ]
  }
 ],
 "metadata": {
  "kernelspec": {
   "display_name": "car_prediction_project (3.11.13)",
   "language": "python",
   "name": "python3"
  },
  "language_info": {
   "codemirror_mode": {
    "name": "ipython",
    "version": 3
   },
   "file_extension": ".py",
   "mimetype": "text/x-python",
   "name": "python",
   "nbconvert_exporter": "python",
   "pygments_lexer": "ipython3",
   "version": "3.11.13"
  }
 },
 "nbformat": 4,
 "nbformat_minor": 5
}
